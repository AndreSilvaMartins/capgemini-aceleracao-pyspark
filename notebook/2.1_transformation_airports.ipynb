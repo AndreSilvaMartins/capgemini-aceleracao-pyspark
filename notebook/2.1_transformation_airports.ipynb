{
 "cells": [
  {
   "cell_type": "code",
   "execution_count": 1,
   "metadata": {},
   "outputs": [
    {
     "name": "stdout",
     "output_type": "stream",
     "text": [
      "Requirement already satisfied: pyspark in c:\\users\\amarti40\\anaconda3\\lib\\site-packages (3.2.1)\n",
      "Requirement already satisfied: py4j==0.10.9.3 in c:\\users\\amarti40\\anaconda3\\lib\\site-packages (from pyspark) (0.10.9.3)\n",
      "Requirement already satisfied: findspark in c:\\users\\amarti40\\anaconda3\\lib\\site-packages (2.0.1)\n"
     ]
    }
   ],
   "source": [
    "# Installing required packages\n",
    "!pip install pyspark\n",
    "!pip install findspark\n",
    "\n",
    "import findspark\n",
    "findspark.init()"
   ]
  },
  {
   "cell_type": "code",
   "execution_count": 3,
   "metadata": {},
   "outputs": [],
   "source": [
    "from pyspark import SparkContext, SparkConf\n",
    "from pyspark.sql import SparkSession\n",
    "from pyspark.sql import functions as F\n",
    "from pyspark.sql.types import StructType, StructField, StringType, IntegerType, FloatType, BooleanType"
   ]
  },
  {
   "cell_type": "code",
   "execution_count": 4,
   "metadata": {},
   "outputs": [],
   "source": [
    "def CriaVw(df):\n",
    "    return df.createOrReplaceTempView(\"Data\")\n",
    "\n",
    "def Consolida_SQL(_col):\n",
    "    return spark.getOrCreate().sql(f\"Select {_col}, count(*) from Data Group By {_col} order by 1\").show()\n",
    "    \n",
    "def Consolida(_col, df):\n",
    "    CriaVw(df)\n",
    "    return Consolida_SQL(_col)"
   ]
  },
  {
   "cell_type": "code",
   "execution_count": 5,
   "metadata": {},
   "outputs": [],
   "source": [
    "# Criar o contexto do spark\n",
    "sc = SparkContext()\n",
    "\n",
    "# Instancia o criador de sessao do spark\n",
    "spark = (SparkSession.builder\n",
    "                     .master(\"local[7]\")\n",
    "                     .appName(\"Semana 3 - Desafio Transformação\"))"
   ]
  },
  {
   "cell_type": "code",
   "execution_count": 6,
   "metadata": {},
   "outputs": [],
   "source": [
    "schema_airports = StructType([\n",
    "    StructField(\"faa\",  StringType(),  True),\n",
    "    StructField(\"name\", StringType(),  True),\n",
    "    StructField(\"lat\",  FloatType(),   True),\n",
    "    StructField(\"lon\",  FloatType(),   True),\n",
    "    StructField(\"alt\",  IntegerType(), True),\n",
    "    StructField(\"tz\",   IntegerType(), True),\n",
    "    StructField(\"dst\",  StringType(),  True)\n",
    "])\n",
    "\n",
    "schema_planes = StructType([\n",
    "    StructField(\"tailnum\",      StringType(),  True),\n",
    "    StructField(\"year\",         IntegerType(), True),\n",
    "    StructField(\"type\",         StringType(),  True),\n",
    "    StructField(\"manufacturer\", StringType(),  True),\n",
    "    StructField(\"model\",        StringType(),  True),\n",
    "    StructField(\"engines\",      IntegerType(), True),\n",
    "    StructField(\"seats\",        IntegerType(), True),\n",
    "    StructField(\"speed\",        IntegerType(), True),\n",
    "    StructField(\"engine\",       StringType(),  True)\n",
    "])\n",
    "\n",
    "schema_flights = StructType([\n",
    "    StructField(\"year\",      IntegerType(), True),\n",
    "    StructField(\"month\",     IntegerType(), True),\n",
    "    StructField(\"day\",       IntegerType(), True),\n",
    "    StructField(\"dep_time\",  StringType(),  True),\n",
    "    StructField(\"dep_delay\", IntegerType(), True),\n",
    "    StructField(\"arr_time\",  StringType(),  True),\n",
    "    StructField(\"arr_delay\", IntegerType(), True),\n",
    "    StructField(\"carrier\",   StringType(),  True),\n",
    "    StructField(\"tailnum\",   StringType(),  True),\n",
    "    StructField(\"flight\",    StringType(),  True),\n",
    "    StructField(\"origin\",    StringType(),  True),\n",
    "    StructField(\"dest\",      StringType(),  True),\n",
    "    StructField(\"air_time\",  IntegerType(), True),\n",
    "    StructField(\"distance\",  IntegerType(), True),\n",
    "    StructField(\"hour\",      IntegerType(), True),\n",
    "    StructField(\"minute\",    IntegerType(), True),\n",
    "])"
   ]
  },
  {
   "cell_type": "code",
   "execution_count": 7,
   "metadata": {},
   "outputs": [
    {
     "name": "stdout",
     "output_type": "stream",
     "text": [
      "+---+--------------------+---------+---------+----+---+---+\n",
      "|faa|                name|      lat|      lon| alt| tz|dst|\n",
      "+---+--------------------+---------+---------+----+---+---+\n",
      "|04G|   Lansdowne Airport|41.130474|-80.61958|1044| -5|  A|\n",
      "|06A|Moton Field Munic...| 32.46057|-85.68003| 264| -5|  A|\n",
      "|06C| Schaumburg Regional| 41.98934|-88.10124| 801| -6|  A|\n",
      "|06N|     Randall Airport| 41.43191|-74.39156| 523| -5|  A|\n",
      "|09J|Jekyll Island Air...|31.074472|-81.42778|  11| -4|  A|\n",
      "+---+--------------------+---------+---------+----+---+---+\n",
      "only showing top 5 rows\n",
      "\n",
      "+-------+----+--------------------+----------------+--------+-------+-----+-----+---------+\n",
      "|tailnum|year|                type|    manufacturer|   model|engines|seats|speed|   engine|\n",
      "+-------+----+--------------------+----------------+--------+-------+-----+-----+---------+\n",
      "| N102UW|1998|Fixed wing multi ...|AIRBUS INDUSTRIE|A320-214|      2|  182| null|Turbo-fan|\n",
      "| N103US|1999|Fixed wing multi ...|AIRBUS INDUSTRIE|A320-214|      2|  182| null|Turbo-fan|\n",
      "| N104UW|1999|Fixed wing multi ...|AIRBUS INDUSTRIE|A320-214|      2|  182| null|Turbo-fan|\n",
      "| N105UW|1999|Fixed wing multi ...|AIRBUS INDUSTRIE|A320-214|      2|  182| null|Turbo-fan|\n",
      "| N107US|1999|Fixed wing multi ...|AIRBUS INDUSTRIE|A320-214|      2|  182| null|Turbo-fan|\n",
      "+-------+----+--------------------+----------------+--------+-------+-----+-----+---------+\n",
      "only showing top 5 rows\n",
      "\n",
      "+----+-----+---+--------+---------+--------+---------+-------+-------+------+------+----+--------+--------+----+------+\n",
      "|year|month|day|dep_time|dep_delay|arr_time|arr_delay|carrier|tailnum|flight|origin|dest|air_time|distance|hour|minute|\n",
      "+----+-----+---+--------+---------+--------+---------+-------+-------+------+------+----+--------+--------+----+------+\n",
      "|2014|   12|  8|     658|       -7|     935|       -5|     VX| N846VA|  1780|   SEA| LAX|     132|     954|   6|    58|\n",
      "|2014|    1| 22|    1040|        5|    1505|        5|     AS| N559AS|   851|   SEA| HNL|     360|    2677|  10|    40|\n",
      "|2014|    3|  9|    1443|       -2|    1652|        2|     VX| N847VA|   755|   SEA| SFO|     111|     679|  14|    43|\n",
      "|2014|    4|  9|    1705|       45|    1839|       34|     WN| N360SW|   344|   PDX| SJC|      83|     569|  17|     5|\n",
      "|2014|    3|  9|     754|       -1|    1015|        1|     AS| N612AS|   522|   SEA| BUR|     127|     937|   7|    54|\n",
      "+----+-----+---+--------+---------+--------+---------+-------+-------+------+------+----+--------+--------+----+------+\n",
      "only showing top 5 rows\n",
      "\n"
     ]
    }
   ],
   "source": [
    "df_airports = (spark.getOrCreate().read\n",
    "                  .format(\"csv\")\n",
    "                  .option(\"header\", \"true\")\n",
    "                  .schema(schema_airports)\n",
    "                  .load(\"C:/Users/amarti40/OneDrive - Capgemini/Desktop/ACELERAÇÃO PYSPARK/Data/airports.csv\"))\n",
    "\n",
    "df_planes = (spark.getOrCreate().read\n",
    "                  .format(\"csv\")\n",
    "                  .option(\"header\", \"true\")\n",
    "                  .schema(schema_planes)\n",
    "                  .load(\"C:/Users/amarti40/OneDrive - Capgemini/Desktop/ACELERAÇÃO PYSPARK/Data/planes.csv\"))\n",
    "\n",
    "df_flights = (spark.getOrCreate().read\n",
    "                  .format(\"csv\")\n",
    "                  .option(\"header\", \"true\")\n",
    "                  .schema(schema_flights)\n",
    "                  .load(\"C:/Users/amarti40/OneDrive - Capgemini/Desktop/ACELERAÇÃO PYSPARK/Data/flights.csv\"))\n",
    "\n",
    "df_airports.show(5)\n",
    "df_planes.show(5)\n",
    "df_flights.show(5)"
   ]
  },
  {
   "cell_type": "code",
   "execution_count": 8,
   "metadata": {},
   "outputs": [],
   "source": [
    "# Criacao das visões temporarias\n",
    "df_airports.createOrReplaceTempView('airports')\n",
    "df_planes.createOrReplaceTempView('planes')\n",
    "df_flights.createOrReplaceTempView('flights')"
   ]
  },
  {
   "cell_type": "markdown",
   "metadata": {},
   "source": [
    "# Airport\n"
   ]
  },
  {
   "cell_type": "markdown",
   "metadata": {},
   "source": [
    "## Pergunta 1"
   ]
  },
  {
   "cell_type": "code",
   "execution_count": 9,
   "metadata": {
    "scrolled": false
   },
   "outputs": [
    {
     "name": "stdout",
     "output_type": "stream",
     "text": [
      "+---+-----+\n",
      "|alt|count|\n",
      "+---+-----+\n",
      "|-54|    1|\n",
      "|-42|    1|\n",
      "|  0|   49|\n",
      "|  1|    2|\n",
      "|  2|    1|\n",
      "|  3|    2|\n",
      "|  4|    3|\n",
      "|  5|    3|\n",
      "|  6|    3|\n",
      "|  7|    7|\n",
      "|  8|    8|\n",
      "|  9|    7|\n",
      "| 10|   11|\n",
      "| 11|    6|\n",
      "| 12|    8|\n",
      "| 13|   12|\n",
      "| 14|   11|\n",
      "| 15|   11|\n",
      "| 16|    3|\n",
      "| 17|    7|\n",
      "+---+-----+\n",
      "only showing top 20 rows\n",
      "\n",
      "+---+-----+\n",
      "|alt|count|\n",
      "+---+-----+\n",
      "|  0|   51|\n",
      "|  1|    2|\n",
      "|  2|    1|\n",
      "|  3|    2|\n",
      "|  4|    3|\n",
      "|  5|    3|\n",
      "|  6|    3|\n",
      "|  7|    7|\n",
      "|  8|    8|\n",
      "|  9|    7|\n",
      "| 10|   11|\n",
      "| 11|    6|\n",
      "| 12|    8|\n",
      "| 13|   12|\n",
      "| 14|   11|\n",
      "| 15|   11|\n",
      "| 16|    3|\n",
      "| 17|    7|\n",
      "| 18|   10|\n",
      "| 19|    6|\n",
      "+---+-----+\n",
      "only showing top 20 rows\n",
      "\n"
     ]
    }
   ],
   "source": [
    "df_airports_Final = df_airports.withColumn('alt',  (\n",
    "                                                    F.when(F.col('alt') < 0, 0)\n",
    "                                                    .otherwise(F.col('alt'))\n",
    "                                                    )\n",
    "                                          )\n",
    "df_airports.groupBy(\"alt\").count().distinct().orderBy(\"alt\").show()\n",
    "df_airports_Final.groupBy(\"alt\").count().distinct().orderBy(\"alt\").show()"
   ]
  },
  {
   "cell_type": "markdown",
   "metadata": {},
   "source": [
    "## Pergunta 2"
   ]
  },
  {
   "cell_type": "code",
   "execution_count": 10,
   "metadata": {},
   "outputs": [
    {
     "name": "stdout",
     "output_type": "stream",
     "text": [
      "+---+---+-----+\n",
      "| tz|dst|count|\n",
      "+---+---+-----+\n",
      "|-11|  A|    2|\n",
      "|-10|  A|   16|\n",
      "|-10|  N|    9|\n",
      "|-10|  U|    1|\n",
      "| -9|  A|  221|\n",
      "| -9|  U|    1|\n",
      "| -8|  A|  147|\n",
      "| -8|  U|    5|\n",
      "| -7|  A|  142|\n",
      "| -7|  N|   13|\n",
      "| -7|  U|    6|\n",
      "| -6|  A|  299|\n",
      "| -6|  U|   13|\n",
      "| -5|  A|  431|\n",
      "| -5|  N|    1|\n",
      "| -5|  U|   18|\n",
      "| -4|  A|   65|\n",
      "| -4|  U|    1|\n",
      "|  5|  A|    2|\n",
      "|  6|  A|    1|\n",
      "+---+---+-----+\n",
      "only showing top 20 rows\n",
      "\n",
      "+---+---+-----+\n",
      "| tz|dst|count|\n",
      "+---+---+-----+\n",
      "|-11|  A|    2|\n",
      "|-10|  A|   16|\n",
      "|-10|  N|    9|\n",
      "|-10|  U|    1|\n",
      "| -9|  A|  221|\n",
      "| -9|  U|    1|\n",
      "| -8|  A|  147|\n",
      "| -8|  U|    5|\n",
      "| -7|  A|  161|\n",
      "| -6|  A|  312|\n",
      "| -5|  A|  450|\n",
      "| -4|  A|   65|\n",
      "| -4|  U|    1|\n",
      "|  5|  A|    2|\n",
      "|  6|  A|    1|\n",
      "|  7|  A|    1|\n",
      "|  8|  A|    2|\n",
      "+---+---+-----+\n",
      "\n",
      "+---+-----+\n",
      "|dst|count|\n",
      "+---+-----+\n",
      "|  A| 1380|\n",
      "|  N|    9|\n",
      "|  U|    8|\n",
      "+---+-----+\n",
      "\n"
     ]
    }
   ],
   "source": [
    "df_airports_Final = df_airports_Final.withColumn('dst',  (\n",
    "                                                            F.when(F.col('tz').between(-7,-5), 'A')\n",
    "                                                            .otherwise(F.col('dst'))\n",
    "                                                         )\n",
    "                                                )\n",
    "\n",
    "df_airports.groupBy(\"tz\",\"dst\").count().distinct().orderBy(\"tz\", \"dst\").show()\n",
    "df_airports_Final.groupBy(\"tz\",\"dst\").count().distinct().orderBy(\"tz\", \"dst\").show()\n",
    "df_airports_Final.groupBy(\"dst\").count().distinct().orderBy(\"dst\").show()"
   ]
  },
  {
   "cell_type": "markdown",
   "metadata": {},
   "source": [
    "## Pergunta 3"
   ]
  },
  {
   "cell_type": "code",
   "execution_count": 11,
   "metadata": {},
   "outputs": [
    {
     "name": "stdout",
     "output_type": "stream",
     "text": [
      "+---+-----+\n",
      "|dst|count|\n",
      "+---+-----+\n",
      "|  A| 1329|\n",
      "|  N|   23|\n",
      "|  U|   45|\n",
      "+---+-----+\n",
      "\n",
      "+---+-----+\n",
      "|dst|count|\n",
      "+---+-----+\n",
      "|  A| 1388|\n",
      "|  N|    9|\n",
      "+---+-----+\n",
      "\n"
     ]
    }
   ],
   "source": [
    "df_airports_Final = df_airports_Final.withColumn('dst',  (\n",
    "                                                            F.when(F.col('dst') == 'U', 'A')\n",
    "                                                            .otherwise(F.col('dst'))\n",
    "                                                         )\n",
    "                                                )\n",
    "\n",
    "df_airports.groupBy(\"dst\").count().distinct().orderBy(\"dst\").show()\n",
    "df_airports_Final.groupBy(\"dst\").count().distinct().orderBy(\"dst\").show()"
   ]
  },
  {
   "cell_type": "markdown",
   "metadata": {},
   "source": [
    "## Pergunta 4"
   ]
  },
  {
   "cell_type": "code",
   "execution_count": 12,
   "metadata": {},
   "outputs": [
    {
     "name": "stdout",
     "output_type": "stream",
     "text": [
      "+-------------+-----------+-----------+---------+---------+----------+\n",
      "|       region|    Max_lon|    Min_lon|  Max_lat|  Min_lat|Quantidade|\n",
      "+-------------+-----------+-----------+---------+---------+----------+\n",
      "|        Total|  174.11362|   -176.646|72.270836|19.721375|      1397|\n",
      "|       ALASKA|-124.057915|   -176.646|71.285446| 40.97811|       243|\n",
      "|     OFFSHORE|  174.11362|   -159.785|72.270836|19.721375|        22|\n",
      "|MAINLAND-EAST| -67.012695|  -94.93472|48.728443| 24.55611|       696|\n",
      "|MAINLAND-WEST| -95.109406|-123.936554| 48.97972|25.906834|       436|\n",
      "+-------------+-----------+-----------+---------+---------+----------+\n",
      "\n"
     ]
    }
   ],
   "source": [
    "#[−124, −50] EUA\n",
    "\n",
    "df_airports_Final = df_airports_Final.withColumn('region',  (\n",
    "                                                             F.when((F.col('lon') > -50) | (F.col('lat') < 24), 'OFFSHORE')\n",
    "                                                             .when((F.col('lon') >= -124) & (F.col('lon') <= -95), 'MAINLAND-WEST')\n",
    "                                                             .when((F.col('lon') > -95) & (F.col('lon') <= -50), 'MAINLAND-EAST')\n",
    "                                                             .when((F.col('lon') < -124), 'ALASKA')\n",
    "                                                             .otherwise('NaN')\n",
    "                                                         )\n",
    "                                                )\n",
    "\n",
    "df_airports_Final.createOrReplaceTempView('airports_transformada')\n",
    "\n",
    "spark.getOrCreate().sql(f\"\"\"\n",
    "SELECT  'Total' as region,\n",
    "        max(a.lon) as Max_lon,\n",
    "        min(a.lon) as Min_lon,\n",
    "        max(a.lat) as Max_lat,\n",
    "        min(a.lat) as Min_lat,\n",
    "        Count(*) as Quantidade\n",
    "FROM airports_transformada a\n",
    "UNION ALL\n",
    "SELECT  a.region,\n",
    "        max(a.lon) as Max_lon,\n",
    "        min(a.lon) as Min_lon,\n",
    "        max(a.lat) as Max_lat,\n",
    "        min(a.lat) as Min_lat,\n",
    "        Count(*) as Quantidade\n",
    "FROM airports_transformada a\n",
    "Group By a.region\n",
    "\"\"\").show()\n",
    "\n"
   ]
  },
  {
   "cell_type": "markdown",
   "metadata": {},
   "source": [
    "## Pergunta 5"
   ]
  },
  {
   "cell_type": "code",
   "execution_count": 13,
   "metadata": {},
   "outputs": [
    {
     "name": "stdout",
     "output_type": "stream",
     "text": [
      "+----+--------+\n",
      "|type|count(1)|\n",
      "+----+--------+\n",
      "|  AD|       1|\n",
      "|  AK|      12|\n",
      "|  AP|     624|\n",
      "|  AS|      19|\n",
      "|  FL|      78|\n",
      "| NaN|     663|\n",
      "+----+--------+\n",
      "\n"
     ]
    }
   ],
   "source": [
    "df_airports_Final = df_airports_Final.withColumn('type',  (                                                    \n",
    "                                                             F.when((F.col('name').contains(' Arpt'))\n",
    "                                                                    | (F.col('name').contains(' Airpor'))\n",
    "                                                                    | (F.col('name').contains(' Airport'))\n",
    "                                                                    | (F.col('name').contains(' Tradeport'))\n",
    "                                                                    | (F.col('name').contains(' Heliport'))\n",
    "                                                             , 'AP')\n",
    "                                                             .when((F.col('name').contains(' Aerodrome'))\n",
    "                                                             , 'AD')\n",
    "                                                             .when((F.col('name').contains(' Airpark'))\n",
    "                                                                    | (F.col('name').contains(' Aero Park'))\n",
    "                                                             , 'AK')\n",
    "                                                             .when((F.col('name').contains(' Air Station'))\n",
    "                                                                    | (F.col('name').contains(' Station'))\n",
    "                                                             , 'AS')\n",
    "                                                             .when((F.col('name').contains(' Fld'))\n",
    "                                                                    | (F.col('name').contains(' Field'))\n",
    "                                                             , 'FL')\n",
    "                                                             .otherwise('NaN')\n",
    "                                                         )\n",
    "                                                )\n",
    "\n",
    "F.col('name')\n",
    "df_airports_Final.name\n",
    "\n",
    "Consolida(\"type\", df_airports_Final)"
   ]
  },
  {
   "cell_type": "code",
   "execution_count": 14,
   "metadata": {},
   "outputs": [
    {
     "name": "stdout",
     "output_type": "stream",
     "text": [
      "+----+-----+\n",
      "|type|count|\n",
      "+----+-----+\n",
      "|  AD|    1|\n",
      "|  AK|   12|\n",
      "|  AP|  624|\n",
      "|  AS|   19|\n",
      "|  FL|   88|\n",
      "| NaN|  653|\n",
      "+----+-----+\n",
      "\n"
     ]
    }
   ],
   "source": [
    "df_airports_Final2 = df_airports_Final.withColumn('type',  (\n",
    "                                                             F.when((F.upper(F.col('name')).like(\"%AIRPORT%\"))\n",
    "                                                                    | (F.upper(F.col('name')).like(\"%TRADEPORT%\"))\n",
    "                                                                    | (F.upper(F.col('name')).like(\"%HELIPORT%\"))\n",
    "                                                                    | (F.upper(F.col('name')).like(\"%AIRPOR%\"))\n",
    "                                                                    | (F.upper(F.col('name')).like(\"%ARPT%\"))\n",
    "                                                             , 'AP')\n",
    "                                                             .when((F.upper(F.col('name')).like(\"%AERODROME%\"))\n",
    "                                                             , 'AD')\n",
    "                                                             .when((F.upper(F.col('name')).like(\"%AIRPARK%\"))\n",
    "                                                                    | (F.upper(F.col('name')).like(\"%AERO PARK%\"))\n",
    "                                                             , 'AK')\n",
    "                                                             .when((F.upper(F.col('name')).like(\"%STATION%\"))\n",
    "                                                                    | (F.upper(F.col('name')).like(\"%AIR STATION%\"))\n",
    "                                                             , 'AS')\n",
    "                                                             .when((F.upper(F.col('name')).like(\"%FIELD%\"))\n",
    "                                                                    | (F.upper(F.col('name')).like(\"%FLD%\"))\n",
    "                                                             , 'FL')\n",
    "                                                             .otherwise('NaN')\n",
    "                                                         )\n",
    "                                                )\n",
    "\n",
    "df_airports_Final2.groupBy(\"type\").count().distinct().orderBy(\"type\").show()"
   ]
  },
  {
   "cell_type": "markdown",
   "metadata": {},
   "source": [
    "## Pergunta 6"
   ]
  },
  {
   "cell_type": "code",
   "execution_count": 15,
   "metadata": {},
   "outputs": [
    {
     "name": "stdout",
     "output_type": "stream",
     "text": [
      "+--------+-----+\n",
      "|military|count|\n",
      "+--------+-----+\n",
      "|   false| 1237|\n",
      "|    true|  160|\n",
      "+--------+-----+\n",
      "\n"
     ]
    }
   ],
   "source": [
    "df_airports_Final = df_airports_Final.withColumn('military',  (\n",
    "                                                                 F.when((F.col('name').contains(\" Base\"))\n",
    "                                                                    | (F.col('name').contains(\" Aaf\"))\n",
    "                                                                    | (F.col('name').contains(\" AFs\"))\n",
    "                                                                    | (F.col('name').contains(\" Ahp\"))\n",
    "                                                                    | (F.col('name').contains(\" Afb\"))\n",
    "                                                                    | (F.col('name').contains(\" LRRS\"))\n",
    "                                                                    | (F.col('name').contains(\" Lrrs\"))\n",
    "                                                                    | (F.col('name').contains(\" Arb\"))\n",
    "                                                                    | (F.col('name').contains(\" Naf\"))\n",
    "                                                                    | (F.col('name').contains(\" NAS\"))\n",
    "                                                                    | (F.col('name').contains(\" Nas\"))\n",
    "                                                                    | (F.col('name').contains(\" Jrb\"))\n",
    "                                                                    | (F.col('name').contains(\" Ns\"))\n",
    "                                                                    | (F.col('name').contains(\" As\"))\n",
    "                                                                    | (F.col('name').contains(\" Cgas\"))\n",
    "                                                                    | (F.col('name').contains(\" Angb\"))\n",
    "                                                                 , True)\n",
    "                                                                 .otherwise(False)\n",
    "                                                             )\n",
    "                                                )\n",
    "\n",
    "\n",
    "df_airports_Final.groupBy(\"military\").count().distinct().orderBy(\"military\").show()"
   ]
  },
  {
   "cell_type": "markdown",
   "metadata": {},
   "source": [
    "## Pergunta 7"
   ]
  },
  {
   "cell_type": "code",
   "execution_count": 16,
   "metadata": {
    "scrolled": false
   },
   "outputs": [
    {
     "name": "stdout",
     "output_type": "stream",
     "text": [
      "+--------------+-----+\n",
      "|administration|count|\n",
      "+--------------+-----+\n",
      "|             I|  164|\n",
      "|             M|  180|\n",
      "|             N|    5|\n",
      "|           NaN|  761|\n",
      "|             R|  287|\n",
      "+--------------+-----+\n",
      "\n"
     ]
    }
   ],
   "source": [
    "df_airports_Final = df_airports_Final.withColumn('administration',  (\n",
    "                                                                         F.when((F.col('name').contains(\"International\"))\n",
    "                                                                            | (F.col('name').contains(\" Intl\"))\n",
    "                                                                            | (F.col('name').contains(\"Intercontinental\"))    \n",
    "                                                                         , \"I\")\n",
    "                                                                         .when((F.col('name').contains(\"National\"))\n",
    "                                                                            | (F.col('name').contains(\" Natl\"))\n",
    "                                                                         , \"N\")\n",
    "                                                                         .when((F.col('name').contains(\"Regional\"))\n",
    "                                                                            | (F.col('name').contains(\"Reigonal\"))\n",
    "                                                                            | (F.col('name').contains(\" Rgnl\"))\n",
    "                                                                            | (F.col('name').contains(\"County\"))\n",
    "                                                                            | (F.col('name').contains(\" Metro\"))\n",
    "                                                                            | (F.col('name').contains(\"Metropolitan\"))\n",
    "                                                                         , \"R\")\n",
    "                                                                         .when((F.col('name').contains(\"Municipal\"))\n",
    "                                                                            | (F.col('name').contains(\" Muni\"))\n",
    "                                                                            | (F.col('name').contains(\"City\"))\n",
    "                                                                         , \"M\")\n",
    "                                                                        .otherwise(\"NaN\")\n",
    "                                                                     )\n",
    "                                                )\n",
    "\n",
    "\n",
    "df_airports_Final.groupBy(\"administration\").count().distinct().orderBy(\"administration\").show()"
   ]
  },
  {
   "cell_type": "code",
   "execution_count": 17,
   "metadata": {},
   "outputs": [],
   "source": [
    "df_airports_Final.write.parquet(\"C:/Users/amarti40/OneDrive - Capgemini/Desktop/ACELERAÇÃO PYSPARK/Semana 3 - Desafio Transformação/Outputs_Airports_Transformacao.parquet\")"
   ]
  },
  {
   "cell_type": "code",
   "execution_count": null,
   "metadata": {},
   "outputs": [],
   "source": []
  },
  {
   "cell_type": "code",
   "execution_count": null,
   "metadata": {},
   "outputs": [],
   "source": []
  }
 ],
 "metadata": {
  "kernelspec": {
   "display_name": "Python 3 (ipykernel)",
   "language": "python",
   "name": "python3"
  },
  "language_info": {
   "codemirror_mode": {
    "name": "ipython",
    "version": 3
   },
   "file_extension": ".py",
   "mimetype": "text/x-python",
   "name": "python",
   "nbconvert_exporter": "python",
   "pygments_lexer": "ipython3",
   "version": "3.9.7"
  }
 },
 "nbformat": 4,
 "nbformat_minor": 4
}
