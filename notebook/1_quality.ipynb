{
 "cells": [
  {
   "cell_type": "markdown",
   "id": "cb29f947",
   "metadata": {},
   "source": [
    "# PROJETO ACELERAÇÃO PySpark\n",
    "Autor: Andre Da Silva Martins\n",
    "Data: 10/03/2022\n"
   ]
  },
  {
   "cell_type": "markdown",
   "id": "6575080c",
   "metadata": {},
   "source": [
    "# SEMANA 2 - DESAFIO QUALIDADE\n"
   ]
  },
  {
   "cell_type": "markdown",
   "id": "75a2fc4c",
   "metadata": {},
   "source": [
    "## Dia 1 - Pergutas 1 [Airports] - 5 [Airports]"
   ]
  },
  {
   "cell_type": "markdown",
   "id": "0758e1e5",
   "metadata": {},
   "source": [
    "### Instalando Bibliotecas PySpark\n"
   ]
  },
  {
   "cell_type": "code",
   "execution_count": 2,
   "id": "34572e2c",
   "metadata": {},
   "outputs": [
    {
     "name": "stdout",
     "output_type": "stream",
     "text": [
      "Requirement already satisfied: pyspark in c:\\users\\amarti40\\anaconda3\\lib\\site-packages (3.2.1)\n",
      "Requirement already satisfied: py4j==0.10.9.3 in c:\\users\\amarti40\\anaconda3\\lib\\site-packages (from pyspark) (0.10.9.3)\n",
      "Requirement already satisfied: findspark in c:\\users\\amarti40\\anaconda3\\lib\\site-packages (2.0.1)\n"
     ]
    }
   ],
   "source": [
    "!pip install pyspark\n",
    "!pip install findspark"
   ]
  },
  {
   "cell_type": "markdown",
   "id": "2687e316",
   "metadata": {},
   "source": [
    "### Importando Bibliotecas"
   ]
  },
  {
   "cell_type": "code",
   "execution_count": 3,
   "id": "aa4cf0f5",
   "metadata": {},
   "outputs": [],
   "source": [
    "import findspark\n",
    "findspark.init()\n",
    "\n",
    "from pyspark import SparkContext, SparkConf\n",
    "from pyspark.sql import SparkSession\n",
    "from pyspark.sql.functions import when, lit, length, col, substring, trim, instr, concat_ws, concat, lpad\n",
    "from pyspark.sql.types import StructType,StructField, StringType, IntegerType, FloatType"
   ]
  },
  {
   "cell_type": "markdown",
   "id": "c29c987d",
   "metadata": {},
   "source": [
    "### Criando Sessão Spark"
   ]
  },
  {
   "cell_type": "code",
   "execution_count": 4,
   "id": "85e48b43",
   "metadata": {},
   "outputs": [
    {
     "data": {
      "text/html": [
       "\n",
       "            <div>\n",
       "                <p><b>SparkSession - in-memory</b></p>\n",
       "                \n",
       "        <div>\n",
       "            <p><b>SparkContext</b></p>\n",
       "\n",
       "            <p><a href=\"http://NTB177765.corp.capgemini.com:4041\">Spark UI</a></p>\n",
       "\n",
       "            <dl>\n",
       "              <dt>Version</dt>\n",
       "                <dd><code>v3.2.1</code></dd>\n",
       "              <dt>Master</dt>\n",
       "                <dd><code>local[*]</code></dd>\n",
       "              <dt>AppName</dt>\n",
       "                <dd><code>pyspark-shell</code></dd>\n",
       "            </dl>\n",
       "        </div>\n",
       "        \n",
       "            </div>\n",
       "        "
      ],
      "text/plain": [
       "<pyspark.sql.session.SparkSession at 0x2722ce15520>"
      ]
     },
     "execution_count": 4,
     "metadata": {},
     "output_type": "execute_result"
    }
   ],
   "source": [
    "sc = SparkContext()\n",
    "\n",
    "spark = (SparkSession\n",
    "            .builder\n",
    "            .appName(\"Semana 2 - Desafio Qualidade (DataFrame)\")\n",
    "            .config(\"spark.some.config.option\", \"some-value\")\n",
    "            .getOrCreate())\n",
    "\n",
    "#Inicializando Sessão\n",
    "spark"
   ]
  },
  {
   "cell_type": "markdown",
   "id": "bf34f27c",
   "metadata": {},
   "source": [
    "### Importando Dataset Airports"
   ]
  },
  {
   "cell_type": "code",
   "execution_count": 8,
   "id": "e41f1175",
   "metadata": {},
   "outputs": [],
   "source": [
    "schema_airports = StructType([\n",
    "    StructField(\"faa\",  StringType(),  True),\n",
    "    StructField(\"name\", StringType(),  True),\n",
    "    StructField(\"lat\",  FloatType(),   True),\n",
    "    StructField(\"lon\",  FloatType(),   True),\n",
    "    StructField(\"alt\",  IntegerType(), True),\n",
    "    StructField(\"tz\",   IntegerType(), True),\n",
    "    StructField(\"dst\",  StringType(),  True)\n",
    "])\n",
    "\n",
    "df = (spark.read.format(\"csv\") \n",
    "                  .option(\"header\", True) \n",
    "                  .schema(schema_airports) \n",
    "                  .load(\"C:/Users/amarti40/OneDrive - Capgemini/Desktop/ACELERAÇÃO PYSPARK/Data/Airports.csv\")\n",
    "                 )"
   ]
  },
  {
   "cell_type": "code",
   "execution_count": 9,
   "id": "37a9b6ec",
   "metadata": {},
   "outputs": [
    {
     "name": "stdout",
     "output_type": "stream",
     "text": [
      "+---+--------------------+---------+-----------+----+---+---+\n",
      "|faa|                name|      lat|        lon| alt| tz|dst|\n",
      "+---+--------------------+---------+-----------+----+---+---+\n",
      "|04G|   Lansdowne Airport|41.130474|  -80.61958|1044| -5|  A|\n",
      "|06A|Moton Field Munic...| 32.46057|  -85.68003| 264| -5|  A|\n",
      "|06C| Schaumburg Regional| 41.98934|  -88.10124| 801| -6|  A|\n",
      "|06N|     Randall Airport| 41.43191|  -74.39156| 523| -5|  A|\n",
      "|09J|Jekyll Island Air...|31.074472|  -81.42778|  11| -4|  A|\n",
      "|0A9|Elizabethton Muni...|36.371223| -82.173416|1593| -4|  A|\n",
      "|0G6|Williams County A...|41.467304| -84.506775| 730| -5|  A|\n",
      "|0G7|Finger Lakes Regi...|42.883564| -76.781235| 492| -5|  A|\n",
      "|0P2|Shoestring Aviati...|39.794823| -76.647194|1000| -5|  U|\n",
      "|0S9|Jefferson County ...| 48.05381|-122.810646| 108| -8|  A|\n",
      "|0W3|Harford County Ai...|39.566837|   -76.2024| 409| -5|  A|\n",
      "|10C|  Galt Field Airport| 42.40289| -88.375114| 875| -6|  U|\n",
      "|17G|Port Bucyrus-Craw...|40.781555|  -82.97481|1003| -5|  A|\n",
      "|19A|Jackson County Ai...|34.175865|   -83.5616| 951| -4|  U|\n",
      "|1A3|Martin Campbell F...|35.015804|  -84.34683|1789| -4|  A|\n",
      "|1B9| Mansfield Municipal|42.000134|  -71.19677| 122| -5|  A|\n",
      "|1C9|Frazier Lake Airpark|54.013332| -124.76833| 152| -8|  A|\n",
      "|1CS|Clow Internationa...|41.695976| -88.129234| 670| -6|  U|\n",
      "|1G3|  Kent State Airport| 41.15139|  -81.41511|1134| -4|  A|\n",
      "|1OH|     Fortman Airport|40.555325|  -84.38662| 885| -5|  U|\n",
      "+---+--------------------+---------+-----------+----+---+---+\n",
      "only showing top 20 rows\n",
      "\n",
      "root\n",
      " |-- faa: string (nullable = true)\n",
      " |-- name: string (nullable = true)\n",
      " |-- lat: float (nullable = true)\n",
      " |-- lon: float (nullable = true)\n",
      " |-- alt: integer (nullable = true)\n",
      " |-- tz: integer (nullable = true)\n",
      " |-- dst: string (nullable = true)\n",
      "\n"
     ]
    }
   ],
   "source": [
    "df.show()\n",
    "df.printSchema()"
   ]
  },
  {
   "cell_type": "markdown",
   "id": "5a0e0ca9",
   "metadata": {},
   "source": [
    "### Inseriondo Linhas com erros "
   ]
  },
  {
   "cell_type": "code",
   "execution_count": 6,
   "id": "9a86c4bb",
   "metadata": {},
   "outputs": [],
   "source": [
    "columns = ['faa', 'name', 'lat', 'lon', 'alt', 'tz', 'dst' ]\n",
    "Vals = [(\"TESTES\",\"TESTE\",123.45,-0123.45,12345,-12,\"J\"), (\"TE\",\"TESTE\",123.45,-0123.45,12345,-12,\"K\"), (None,\"TESTE\",123.45,-0123.45,12345,-12,\"K\"), (\"TESTE\",None,123.45,-0123.45,12345,-12,\"K\"), (\"TESTE\",\"TESTE\",None,-0123.45,12345,-12,\"K\"), (\"TESTE\",\"TESTE\",-181.00,-0123.45,12345,-12,\"K\"), (\"TESTE\",\"TESTE\",181.00,-0123.45,12345,-12,\"K\"), (\"TESTE\",\"TESTE\",181.00,None,12345,-12,\"K\"), (\"TESTE\",\"TESTE\",181.00,181.00,12345,-12,\"K\"), (\"TESTE\",\"TESTE\",181.00,-181.00,12345,-12,\"K\"), (\"TESTE\",\"TESTE\",181.00,-181.00,None,-12,\"K\")]\n",
    "newRow = spark.createDataFrame(Vals, columns)\n",
    "\n",
    "df_teste = df.union(newRow)"
   ]
  },
  {
   "cell_type": "markdown",
   "id": "f9d1f6ff",
   "metadata": {},
   "source": [
    "### Pergunta 1 - Airports"
   ]
  },
  {
   "cell_type": "markdown",
   "id": "043e0cf9",
   "metadata": {},
   "source": [
    "#### Tabela Teste"
   ]
  },
  {
   "cell_type": "code",
   "execution_count": 7,
   "id": "fb85a362",
   "metadata": {},
   "outputs": [
    {
     "name": "stdout",
     "output_type": "stream",
     "text": [
      "+------+-----+------+-------+-----+---+---+------+\n",
      "|   faa| name|   lat|    lon|  alt| tz|dst|qa_faa|\n",
      "+------+-----+------+-------+-----+---+---+------+\n",
      "|TESTES|TESTE|123.45|-123.45|12345|-12|  J|     F|\n",
      "|    TE|TESTE|123.45|-123.45|12345|-12|  K|     F|\n",
      "|  null|TESTE|123.45|-123.45|12345|-12|  K|     M|\n",
      "+------+-----+------+-------+-----+---+---+------+\n",
      "\n"
     ]
    }
   ],
   "source": [
    "df2 = (df_teste.withColumn(\"qa_faa\",\n",
    "            when((df_teste.faa.isNull()), lit(\"M\"))\n",
    "            .when((length(df_teste.faa) < 3) | (length(df_teste.faa) > 5), lit(\"F\")) \\\n",
    "        .otherwise(lit(None)))\n",
    "      )\n",
    "\n",
    "df2.filter(df2.qa_faa.isNotNull()).show()"
   ]
  },
  {
   "cell_type": "markdown",
   "id": "7c0b0a35",
   "metadata": {},
   "source": [
    "#### Sumarizando Casos"
   ]
  },
  {
   "cell_type": "code",
   "execution_count": 8,
   "id": "85b04010",
   "metadata": {},
   "outputs": [
    {
     "name": "stdout",
     "output_type": "stream",
     "text": [
      "+------+--------+\n",
      "|qa_faa|count(1)|\n",
      "+------+--------+\n",
      "|  null|    1405|\n",
      "|     F|       2|\n",
      "|     M|       1|\n",
      "+------+--------+\n",
      "\n"
     ]
    }
   ],
   "source": [
    "df2.createOrReplaceTempView(\"Teste\")\n",
    "\n",
    "spark.sql(\"select qa_faa, Count(*) from Teste Group By qa_faa\").show()"
   ]
  },
  {
   "cell_type": "markdown",
   "id": "39e30d6b",
   "metadata": {},
   "source": [
    "#### Tabela Oficial"
   ]
  },
  {
   "cell_type": "code",
   "execution_count": 10,
   "id": "a0f071e1",
   "metadata": {},
   "outputs": [
    {
     "name": "stdout",
     "output_type": "stream",
     "text": [
      "+---+----+---+---+---+---+---+------+\n",
      "|faa|name|lat|lon|alt| tz|dst|qa_faa|\n",
      "+---+----+---+---+---+---+---+------+\n",
      "+---+----+---+---+---+---+---+------+\n",
      "\n"
     ]
    }
   ],
   "source": [
    "dfo2 = (df.withColumn(\"qa_faa\",\n",
    "            when((df.faa.isNull()), lit(\"M\"))\n",
    "            .when((length(df.faa) < 3) | (length(df.faa) > 5), lit(\"F\")) \\\n",
    "        .otherwise(lit(None)))\n",
    "      )\n",
    "\n",
    "dfo2.filter(dfo2.qa_faa.isNotNull()).show()"
   ]
  },
  {
   "cell_type": "markdown",
   "id": "bb4635b4",
   "metadata": {},
   "source": [
    "### Perguntas 2 - Airports"
   ]
  },
  {
   "cell_type": "markdown",
   "id": "68bfb9d4",
   "metadata": {},
   "source": [
    "#### Tabela Teste"
   ]
  },
  {
   "cell_type": "code",
   "execution_count": 10,
   "id": "4bef4cd1",
   "metadata": {},
   "outputs": [
    {
     "name": "stdout",
     "output_type": "stream",
     "text": [
      "+-----+----+------+-------+-----+---+---+-------+\n",
      "|  faa|name|   lat|    lon|  alt| tz|dst|qa_name|\n",
      "+-----+----+------+-------+-----+---+---+-------+\n",
      "|TESTE|null|123.45|-123.45|12345|-12|  K|      M|\n",
      "+-----+----+------+-------+-----+---+---+-------+\n",
      "\n"
     ]
    }
   ],
   "source": [
    "df3 = (df_teste.withColumn(\"qa_name\",\n",
    "            when((df_teste.name.isNull()), lit(\"M\"))\n",
    "        .otherwise(lit(None)))\n",
    "      )\n",
    "\n",
    "df3.filter(df3.qa_name.isNotNull()).show()"
   ]
  },
  {
   "cell_type": "markdown",
   "id": "9aee3042",
   "metadata": {},
   "source": [
    "#### Sumarizando Casos"
   ]
  },
  {
   "cell_type": "code",
   "execution_count": 11,
   "id": "8bb1e093",
   "metadata": {},
   "outputs": [
    {
     "name": "stdout",
     "output_type": "stream",
     "text": [
      "+-------+--------+\n",
      "|qa_name|count(1)|\n",
      "+-------+--------+\n",
      "|   null|    1407|\n",
      "|      M|       1|\n",
      "+-------+--------+\n",
      "\n"
     ]
    }
   ],
   "source": [
    "df3.createOrReplaceTempView(\"Teste\")\n",
    "\n",
    "spark.sql(\"select qa_name, Count(*) from Teste Group By qa_name\").show()"
   ]
  },
  {
   "cell_type": "markdown",
   "id": "2a1f523f",
   "metadata": {},
   "source": [
    "#### Tabela Oficial"
   ]
  },
  {
   "cell_type": "code",
   "execution_count": 11,
   "id": "357c5530",
   "metadata": {},
   "outputs": [
    {
     "name": "stdout",
     "output_type": "stream",
     "text": [
      "+---+----+---+---+---+---+---+------+-------+\n",
      "|faa|name|lat|lon|alt| tz|dst|qa_faa|qa_name|\n",
      "+---+----+---+---+---+---+---+------+-------+\n",
      "+---+----+---+---+---+---+---+------+-------+\n",
      "\n"
     ]
    }
   ],
   "source": [
    "dfo3 = (dfo2.withColumn(\"qa_name\",\n",
    "            when((dfo2.name.isNull()), lit(\"M\"))\n",
    "        .otherwise(lit(None)))\n",
    "      )\n",
    "\n",
    "dfo3.filter(dfo3.qa_name.isNotNull()).show()"
   ]
  },
  {
   "cell_type": "markdown",
   "id": "63cca329",
   "metadata": {},
   "source": [
    "### Perguntas 3 - Airports"
   ]
  },
  {
   "cell_type": "markdown",
   "id": "6a83ccda",
   "metadata": {},
   "source": [
    "#### Tabela Teste"
   ]
  },
  {
   "cell_type": "code",
   "execution_count": 13,
   "id": "bf6ec567",
   "metadata": {},
   "outputs": [
    {
     "name": "stdout",
     "output_type": "stream",
     "text": [
      "+-----+-----+------+-------+-----+---+---+------+\n",
      "|  faa| name|   lat|    lon|  alt| tz|dst|qa_lat|\n",
      "+-----+-----+------+-------+-----+---+---+------+\n",
      "|TESTE|TESTE|  null|-123.45|12345|-12|  K|     M|\n",
      "|TESTE|TESTE|-181.0|-123.45|12345|-12|  K|     I|\n",
      "|TESTE|TESTE| 181.0|-123.45|12345|-12|  K|     I|\n",
      "|TESTE|TESTE| 181.0|   null|12345|-12|  K|     I|\n",
      "|TESTE|TESTE| 181.0|  181.0|12345|-12|  K|     I|\n",
      "|TESTE|TESTE| 181.0| -181.0|12345|-12|  K|     I|\n",
      "|TESTE|TESTE| 181.0| -181.0| null|-12|  K|     I|\n",
      "+-----+-----+------+-------+-----+---+---+------+\n",
      "\n"
     ]
    }
   ],
   "source": [
    "df4 = (df_teste.withColumn(\"qa_lat\",\n",
    "            when((df_teste.lat.isNull()), lit(\"M\"))\n",
    "            .when((df_teste.lat < -180) | (df_teste.lat > 180), lit(\"I\"))\n",
    "            .when((df_teste.lat.cast(\"int\").isNull()), lit(\"A\"))\n",
    "        .otherwise(lit(None)))\n",
    "      )\n",
    "\n",
    "df4.filter(df4.qa_lat.isNotNull()).show()\n",
    "\n"
   ]
  },
  {
   "cell_type": "markdown",
   "id": "8c4263cc",
   "metadata": {},
   "source": [
    "#### Sumarizando Casos"
   ]
  },
  {
   "cell_type": "code",
   "execution_count": 14,
   "id": "6526f39b",
   "metadata": {},
   "outputs": [
    {
     "name": "stdout",
     "output_type": "stream",
     "text": [
      "+------+--------+\n",
      "|qa_lat|count(1)|\n",
      "+------+--------+\n",
      "|  null|    1401|\n",
      "|     M|       1|\n",
      "|     I|       6|\n",
      "+------+--------+\n",
      "\n"
     ]
    }
   ],
   "source": [
    "df4.createOrReplaceTempView(\"Teste\")\n",
    "\n",
    "spark.sql(\"select qa_lat, Count(*) from Teste Group By qa_lat\").show()"
   ]
  },
  {
   "cell_type": "markdown",
   "id": "7b812cda",
   "metadata": {},
   "source": [
    "#### Tabela Oficial"
   ]
  },
  {
   "cell_type": "code",
   "execution_count": 12,
   "id": "a75aff68",
   "metadata": {},
   "outputs": [
    {
     "name": "stdout",
     "output_type": "stream",
     "text": [
      "+---+----+---+---+---+---+---+------+-------+------+\n",
      "|faa|name|lat|lon|alt| tz|dst|qa_faa|qa_name|qa_lat|\n",
      "+---+----+---+---+---+---+---+------+-------+------+\n",
      "+---+----+---+---+---+---+---+------+-------+------+\n",
      "\n"
     ]
    }
   ],
   "source": [
    "dfo4 = (dfo3.withColumn(\"qa_lat\",\n",
    "            when((dfo3.lat.isNull()), lit(\"M\"))\n",
    "            .when((dfo3.lat < -180) | (dfo3.lat > 180), lit(\"I\"))\n",
    "            .when((dfo3.lat.cast(\"int\").isNull()), lit(\"A\"))\n",
    "        .otherwise(lit(None)))\n",
    "      )\n",
    "\n",
    "dfo4.filter(dfo4.qa_lat.isNotNull()).show()"
   ]
  },
  {
   "cell_type": "markdown",
   "id": "8ccdc249",
   "metadata": {},
   "source": [
    "### Perguntas 4 - Airports"
   ]
  },
  {
   "cell_type": "markdown",
   "id": "2c71a666",
   "metadata": {},
   "source": [
    "#### Tabela Teste"
   ]
  },
  {
   "cell_type": "code",
   "execution_count": 16,
   "id": "12a87948",
   "metadata": {},
   "outputs": [
    {
     "name": "stdout",
     "output_type": "stream",
     "text": [
      "+-----+-----+-----+------+-----+---+---+------+\n",
      "|  faa| name|  lat|   lon|  alt| tz|dst|qa_lon|\n",
      "+-----+-----+-----+------+-----+---+---+------+\n",
      "|TESTE|TESTE|181.0|  null|12345|-12|  K|     M|\n",
      "|TESTE|TESTE|181.0| 181.0|12345|-12|  K|     I|\n",
      "|TESTE|TESTE|181.0|-181.0|12345|-12|  K|     I|\n",
      "|TESTE|TESTE|181.0|-181.0| null|-12|  K|     I|\n",
      "+-----+-----+-----+------+-----+---+---+------+\n",
      "\n"
     ]
    }
   ],
   "source": [
    "df5 = (df_teste.withColumn(\"qa_lon\",\n",
    "            when((df_teste.lon.isNull()), lit(\"M\"))\n",
    "            .when((df_teste.lon < -180) | (df_teste.lon > 180), lit(\"I\"))\n",
    "            .when((df_teste.lon.cast(\"int\").isNull()), lit(\"A\"))\n",
    "        .otherwise(lit(None)))\n",
    "      )\n",
    "\n",
    "df5.filter(df5.qa_lon.isNotNull()).show()"
   ]
  },
  {
   "cell_type": "markdown",
   "id": "559fb409",
   "metadata": {},
   "source": [
    "#### Sumarizando Casos"
   ]
  },
  {
   "cell_type": "code",
   "execution_count": 17,
   "id": "03542bf5",
   "metadata": {},
   "outputs": [
    {
     "name": "stdout",
     "output_type": "stream",
     "text": [
      "+------+--------+\n",
      "|qa_lon|count(1)|\n",
      "+------+--------+\n",
      "|  null|    1404|\n",
      "|     M|       1|\n",
      "|     I|       3|\n",
      "+------+--------+\n",
      "\n"
     ]
    }
   ],
   "source": [
    "df5.createOrReplaceTempView(\"Teste\")\n",
    "\n",
    "spark.sql(\"select qa_lon, Count(*) from Teste Group By qa_lon\").show()"
   ]
  },
  {
   "cell_type": "markdown",
   "id": "7d59f14f",
   "metadata": {},
   "source": [
    "#### Tabela Oficial"
   ]
  },
  {
   "cell_type": "code",
   "execution_count": 13,
   "id": "2c0b43db",
   "metadata": {},
   "outputs": [
    {
     "name": "stdout",
     "output_type": "stream",
     "text": [
      "+---+----+---+---+---+---+---+------+-------+------+------+\n",
      "|faa|name|lat|lon|alt| tz|dst|qa_faa|qa_name|qa_lat|qa_lon|\n",
      "+---+----+---+---+---+---+---+------+-------+------+------+\n",
      "+---+----+---+---+---+---+---+------+-------+------+------+\n",
      "\n"
     ]
    }
   ],
   "source": [
    "dfo5 = (dfo4.withColumn(\"qa_lon\",\n",
    "            when((dfo4.lon.isNull()), lit(\"M\"))\n",
    "            .when((dfo4.lon < -180) | (dfo4.lon > 180), lit(\"I\"))\n",
    "            .when((dfo4.lon.cast(\"int\").isNull()), lit(\"A\"))\n",
    "        .otherwise(lit(None)))\n",
    "      )\n",
    "\n",
    "dfo5.filter(dfo5.qa_lon.isNotNull()).show()"
   ]
  },
  {
   "cell_type": "markdown",
   "id": "6d3afc47",
   "metadata": {},
   "source": [
    "### Perguntas 5 - Airports"
   ]
  },
  {
   "cell_type": "markdown",
   "id": "9f82b109",
   "metadata": {},
   "source": [
    "#### Tabela Teste"
   ]
  },
  {
   "cell_type": "code",
   "execution_count": 19,
   "id": "f5ec7f03",
   "metadata": {},
   "outputs": [
    {
     "name": "stdout",
     "output_type": "stream",
     "text": [
      "+-----+-------------+---------+-----------+----+---+---+------+\n",
      "|  faa|         name|      lat|        lon| alt| tz|dst|qa_alt|\n",
      "+-----+-------------+---------+-----------+----+---+---+------+\n",
      "|  IPL|  Imperial Co|32.834219|-115.578744| -54| -8|  A|     I|\n",
      "|  NJK|El Centro Naf|32.829222|-115.671667| -42| -8|  A|     I|\n",
      "|TESTE|        TESTE|    181.0|     -181.0|null|-12|  K|     M|\n",
      "+-----+-------------+---------+-----------+----+---+---+------+\n",
      "\n"
     ]
    }
   ],
   "source": [
    "df6 = (df_teste.withColumn(\"qa_alt\",\n",
    "            when((df_teste.alt.isNull()), lit(\"M\"))\n",
    "            .when((df_teste.alt < 0), lit(\"I\"))\n",
    "            .when((df_teste.alt.cast(\"int\").isNull()), lit(\"A\"))\n",
    "        .otherwise(lit(None)))\n",
    "      )\n",
    "\n",
    "df6.filter(df6.qa_alt.isNotNull()).show()"
   ]
  },
  {
   "cell_type": "markdown",
   "id": "3ada428d",
   "metadata": {},
   "source": [
    "#### Sumarizando Casos"
   ]
  },
  {
   "cell_type": "code",
   "execution_count": 20,
   "id": "c53f80f5",
   "metadata": {},
   "outputs": [
    {
     "name": "stdout",
     "output_type": "stream",
     "text": [
      "+------+--------+\n",
      "|qa_alt|count(1)|\n",
      "+------+--------+\n",
      "|  null|    1405|\n",
      "|     I|       2|\n",
      "|     M|       1|\n",
      "+------+--------+\n",
      "\n"
     ]
    }
   ],
   "source": [
    "df6.createOrReplaceTempView(\"Teste\")\n",
    "\n",
    "spark.sql(\"select qa_alt, Count(*) from Teste Group By qa_alt\").show()"
   ]
  },
  {
   "cell_type": "markdown",
   "id": "81337512",
   "metadata": {},
   "source": [
    "#### Tabela Oficial"
   ]
  },
  {
   "cell_type": "code",
   "execution_count": 14,
   "id": "d24bc35e",
   "metadata": {},
   "outputs": [
    {
     "name": "stdout",
     "output_type": "stream",
     "text": [
      "+---+-------------+---------+----------+---+---+---+------+-------+------+------+------+\n",
      "|faa|         name|      lat|       lon|alt| tz|dst|qa_faa|qa_name|qa_lat|qa_lon|qa_alt|\n",
      "+---+-------------+---------+----------+---+---+---+------+-------+------+------+------+\n",
      "|IPL|  Imperial Co| 32.83422|-115.57874|-54| -8|  A|  null|   null|  null|  null|     I|\n",
      "|NJK|El Centro Naf|32.829224|-115.67167|-42| -8|  A|  null|   null|  null|  null|     I|\n",
      "+---+-------------+---------+----------+---+---+---+------+-------+------+------+------+\n",
      "\n"
     ]
    }
   ],
   "source": [
    "dfo6 = (dfo5.withColumn(\"qa_alt\",\n",
    "            when((dfo5.alt.isNull()), lit(\"M\"))\n",
    "            .when((dfo5.alt < 0), lit(\"I\"))\n",
    "            .when((dfo5.alt.cast(\"int\").isNull()), lit(\"A\"))\n",
    "        .otherwise(lit(None)))\n",
    "      )\n",
    "\n",
    "dfo6.filter(dfo6.qa_alt.isNotNull()).show()"
   ]
  },
  {
   "cell_type": "markdown",
   "id": "5fac06f4",
   "metadata": {},
   "source": [
    "## Dia 2 - Pergutas 6 [Airports] - 3 [Planes]"
   ]
  },
  {
   "cell_type": "markdown",
   "id": "75c03e6a",
   "metadata": {},
   "source": [
    "### Pergunta 6 - Airports"
   ]
  },
  {
   "cell_type": "markdown",
   "id": "15c57c38",
   "metadata": {},
   "source": [
    "#### Tabela Teste"
   ]
  },
  {
   "cell_type": "code",
   "execution_count": 22,
   "id": "6a3a4c1f",
   "metadata": {},
   "outputs": [
    {
     "name": "stdout",
     "output_type": "stream",
     "text": [
      "+------+-----+------+-------+-----+---+---+-----+\n",
      "|   faa| name|   lat|    lon|  alt| tz|dst|qa_tz|\n",
      "+------+-----+------+-------+-----+---+---+-----+\n",
      "|TESTES|TESTE|123.45|-123.45|12345|-12|  J|    I|\n",
      "|    TE|TESTE|123.45|-123.45|12345|-12|  K|    I|\n",
      "|  null|TESTE|123.45|-123.45|12345|-12|  K|    I|\n",
      "| TESTE| null|123.45|-123.45|12345|-12|  K|    I|\n",
      "| TESTE|TESTE|  null|-123.45|12345|-12|  K|    I|\n",
      "| TESTE|TESTE|-181.0|-123.45|12345|-12|  K|    I|\n",
      "| TESTE|TESTE| 181.0|-123.45|12345|-12|  K|    I|\n",
      "| TESTE|TESTE| 181.0|   null|12345|-12|  K|    I|\n",
      "| TESTE|TESTE| 181.0|  181.0|12345|-12|  K|    I|\n",
      "| TESTE|TESTE| 181.0| -181.0|12345|-12|  K|    I|\n",
      "| TESTE|TESTE| 181.0| -181.0| null|-12|  K|    I|\n",
      "+------+-----+------+-------+-----+---+---+-----+\n",
      "\n"
     ]
    }
   ],
   "source": [
    "df7 = (df_teste.withColumn(\"qa_tz\",\n",
    "            when((df_teste.tz.isNull()), lit(\"M\"))\n",
    "            .when((~df_teste.tz.between(-11, 14)), lit(\"I\"))\n",
    "            .when((df_teste.tz.rlike(\"([A-Z])\") ==True), lit(\"A\"))\n",
    "        .otherwise(lit(None)))\n",
    "      )\n",
    "\n",
    "df7.filter(df7.qa_tz.isNotNull()).show()"
   ]
  },
  {
   "cell_type": "markdown",
   "id": "3736d992",
   "metadata": {},
   "source": [
    "#### Sumarizando Casos"
   ]
  },
  {
   "cell_type": "code",
   "execution_count": 23,
   "id": "1d687c71",
   "metadata": {},
   "outputs": [
    {
     "name": "stdout",
     "output_type": "stream",
     "text": [
      "+-----+--------+\n",
      "|qa_tz|count(1)|\n",
      "+-----+--------+\n",
      "| null|    1397|\n",
      "|    I|      11|\n",
      "+-----+--------+\n",
      "\n"
     ]
    }
   ],
   "source": [
    "df7.createOrReplaceTempView(\"Teste\")\n",
    "\n",
    "spark.sql(\"select qa_tz, Count(*) from Teste Group By qa_tz\").show()"
   ]
  },
  {
   "cell_type": "markdown",
   "id": "d52d9276",
   "metadata": {},
   "source": [
    "#### Tabela Oficial"
   ]
  },
  {
   "cell_type": "code",
   "execution_count": 15,
   "id": "0a74721a",
   "metadata": {},
   "outputs": [
    {
     "name": "stdout",
     "output_type": "stream",
     "text": [
      "+---+----+---+---+---+---+---+------+-------+------+------+------+-----+\n",
      "|faa|name|lat|lon|alt| tz|dst|qa_faa|qa_name|qa_lat|qa_lon|qa_alt|qa_tz|\n",
      "+---+----+---+---+---+---+---+------+-------+------+------+------+-----+\n",
      "+---+----+---+---+---+---+---+------+-------+------+------+------+-----+\n",
      "\n"
     ]
    }
   ],
   "source": [
    "dfo7 = (dfo6.withColumn(\"qa_tz\",\n",
    "            when((dfo6.tz.isNull()), lit(\"M\"))\n",
    "            .when((~dfo6.tz.between(-11, 14)), lit(\"I\"))\n",
    "            .when((dfo6.tz.rlike(\"([A-Z])\") ==True), lit(\"A\"))\n",
    "        .otherwise(lit(None)))\n",
    "      )\n",
    "\n",
    "dfo7.filter(dfo7.qa_tz.isNotNull()).show()"
   ]
  },
  {
   "cell_type": "markdown",
   "id": "4c6a90e0",
   "metadata": {},
   "source": [
    "### Pergunta 7 - Airports"
   ]
  },
  {
   "cell_type": "markdown",
   "id": "d9b77eec",
   "metadata": {},
   "source": [
    "#### Tabela Teste"
   ]
  },
  {
   "cell_type": "code",
   "execution_count": 25,
   "id": "1de8c195",
   "metadata": {},
   "outputs": [
    {
     "name": "stdout",
     "output_type": "stream",
     "text": [
      "+------+-----+------+-------+-----+---+---+------+\n",
      "|   faa| name|   lat|    lon|  alt| tz|dst|qa_dst|\n",
      "+------+-----+------+-------+-----+---+---+------+\n",
      "|TESTES|TESTE|123.45|-123.45|12345|-12|  J|     C|\n",
      "|    TE|TESTE|123.45|-123.45|12345|-12|  K|     C|\n",
      "|  null|TESTE|123.45|-123.45|12345|-12|  K|     C|\n",
      "| TESTE| null|123.45|-123.45|12345|-12|  K|     C|\n",
      "| TESTE|TESTE|  null|-123.45|12345|-12|  K|     C|\n",
      "| TESTE|TESTE|-181.0|-123.45|12345|-12|  K|     C|\n",
      "| TESTE|TESTE| 181.0|-123.45|12345|-12|  K|     C|\n",
      "| TESTE|TESTE| 181.0|   null|12345|-12|  K|     C|\n",
      "| TESTE|TESTE| 181.0|  181.0|12345|-12|  K|     C|\n",
      "| TESTE|TESTE| 181.0| -181.0|12345|-12|  K|     C|\n",
      "| TESTE|TESTE| 181.0| -181.0| null|-12|  K|     C|\n",
      "+------+-----+------+-------+-----+---+---+------+\n",
      "\n"
     ]
    }
   ],
   "source": [
    "df8 = (df_teste.withColumn(\"qa_dst\",\n",
    "            when((df_teste.dst.isNull()), lit(\"M\"))\n",
    "            .when((~df_teste.dst.isin(\"E\",\"A\",\"S\",\"O\",\"Z\",\"N\",\"U\")), lit(\"C\"))\n",
    "            .when((df_teste.dst.rlike(\"([/d])\") ==True), lit(\"N\"))\n",
    "        .otherwise(lit(None)))\n",
    "      )\n",
    "\n",
    "df8.filter(df8.qa_dst.isNotNull()).show()"
   ]
  },
  {
   "cell_type": "markdown",
   "id": "beff128f",
   "metadata": {},
   "source": [
    "#### Sumarizando Casos"
   ]
  },
  {
   "cell_type": "code",
   "execution_count": 26,
   "id": "e70db4e7",
   "metadata": {},
   "outputs": [
    {
     "name": "stdout",
     "output_type": "stream",
     "text": [
      "+------+--------+\n",
      "|qa_dst|count(1)|\n",
      "+------+--------+\n",
      "|  null|    1397|\n",
      "|     C|      11|\n",
      "+------+--------+\n",
      "\n"
     ]
    }
   ],
   "source": [
    "df8.createOrReplaceTempView(\"Teste\")\n",
    "\n",
    "spark.sql(\"select qa_dst, Count(*) from Teste Group By qa_dst\").show()"
   ]
  },
  {
   "cell_type": "markdown",
   "id": "ae3f4adb",
   "metadata": {},
   "source": [
    "#### Tabela Oficial"
   ]
  },
  {
   "cell_type": "code",
   "execution_count": 16,
   "id": "fed72e1a",
   "metadata": {},
   "outputs": [
    {
     "name": "stdout",
     "output_type": "stream",
     "text": [
      "+---+----+---+---+---+---+---+------+-------+------+------+------+-----+------+\n",
      "|faa|name|lat|lon|alt| tz|dst|qa_faa|qa_name|qa_lat|qa_lon|qa_alt|qa_tz|qa_dst|\n",
      "+---+----+---+---+---+---+---+------+-------+------+------+------+-----+------+\n",
      "+---+----+---+---+---+---+---+------+-------+------+------+------+-----+------+\n",
      "\n"
     ]
    }
   ],
   "source": [
    "dfo8 = (dfo7.withColumn(\"qa_dst\",\n",
    "            when((dfo7.dst.isNull()), lit(\"M\"))\n",
    "            .when((~dfo7.dst.isin(\"E\",\"A\",\"S\",\"O\",\"Z\",\"N\",\"U\")), lit(\"C\"))\n",
    "            .when((dfo7.dst.rlike(\"([/d])\") ==True), lit(\"N\"))\n",
    "        .otherwise(lit(None)))\n",
    "      )\n",
    "\n",
    "dfo8.filter(dfo8.qa_dst.isNotNull()).show()"
   ]
  },
  {
   "cell_type": "markdown",
   "id": "7b1cb7c8",
   "metadata": {},
   "source": [
    "#### FINALIZANDO DATASET AIRPORTS TO PARQUET FILE"
   ]
  },
  {
   "cell_type": "code",
   "execution_count": 17,
   "id": "ad71d7ea",
   "metadata": {},
   "outputs": [],
   "source": [
    "dfo8.write.options(header='True', delimiter=',').csv(\"C:/Users/amarti40/OneDrive - Capgemini/Desktop/ACELERAÇÃO PYSPARK/Semana 2 - Desafio Qualidade/Outputs_airports.csv\")"
   ]
  },
  {
   "cell_type": "code",
   "execution_count": 18,
   "id": "c99fab47",
   "metadata": {},
   "outputs": [],
   "source": [
    "dfo8.write.parquet(\"C:/Users/amarti40/OneDrive - Capgemini/Desktop/ACELERAÇÃO PYSPARK/Semana 2 - Desafio Qualidade/Outputs_airports.parquet\")"
   ]
  },
  {
   "cell_type": "markdown",
   "id": "d28b3d76",
   "metadata": {},
   "source": [
    "### Importando Dataset Airports"
   ]
  },
  {
   "cell_type": "code",
   "execution_count": 14,
   "id": "2ab2e4ac",
   "metadata": {},
   "outputs": [],
   "source": [
    "schema = (StructType()\n",
    "              .add(\"tailnum\",StringType(),True) \n",
    "              .add(\"year\",IntegerType(),True) \n",
    "              .add(\"type\",StringType(),True) \n",
    "              .add(\"manufacturer\",StringType(),True) \n",
    "              .add(\"model\",StringType(),True) \n",
    "              .add(\"engines\",IntegerType(),True) \n",
    "              .add(\"seats\",IntegerType(),True) \n",
    "              .add(\"speed\",IntegerType(),True) \n",
    "              .add(\"engine\",StringType(),True) \n",
    "         )\n",
    "\n",
    "df_planes = (spark.read.format(\"csv\") \n",
    "                  .option(\"header\", True) \n",
    "                  .schema(schema) \n",
    "                  .load(\"C:/Users/amarti40/OneDrive - Capgemini/Desktop/ACELERAÇÃO PYSPARK/Data/planes.csv\")\n",
    "                 )"
   ]
  },
  {
   "cell_type": "code",
   "execution_count": 20,
   "id": "7edf4655",
   "metadata": {},
   "outputs": [
    {
     "name": "stdout",
     "output_type": "stream",
     "text": [
      "+-------+----+--------------------+----------------+--------+-------+-----+-----+---------+\n",
      "|tailnum|year|                type|    manufacturer|   model|engines|seats|speed|   engine|\n",
      "+-------+----+--------------------+----------------+--------+-------+-----+-----+---------+\n",
      "| N102UW|1998|Fixed wing multi ...|AIRBUS INDUSTRIE|A320-214|      2|  182| null|Turbo-fan|\n",
      "| N103US|1999|Fixed wing multi ...|AIRBUS INDUSTRIE|A320-214|      2|  182| null|Turbo-fan|\n",
      "| N104UW|1999|Fixed wing multi ...|AIRBUS INDUSTRIE|A320-214|      2|  182| null|Turbo-fan|\n",
      "| N105UW|1999|Fixed wing multi ...|AIRBUS INDUSTRIE|A320-214|      2|  182| null|Turbo-fan|\n",
      "| N107US|1999|Fixed wing multi ...|AIRBUS INDUSTRIE|A320-214|      2|  182| null|Turbo-fan|\n",
      "| N108UW|1999|Fixed wing multi ...|AIRBUS INDUSTRIE|A320-214|      2|  182| null|Turbo-fan|\n",
      "| N109UW|1999|Fixed wing multi ...|AIRBUS INDUSTRIE|A320-214|      2|  182| null|Turbo-fan|\n",
      "| N110UW|1999|Fixed wing multi ...|AIRBUS INDUSTRIE|A320-214|      2|  182| null|Turbo-fan|\n",
      "| N111US|1999|Fixed wing multi ...|AIRBUS INDUSTRIE|A320-214|      2|  182| null|Turbo-fan|\n",
      "| N11206|2000|Fixed wing multi ...|          BOEING| 737-824|      2|  149| null|Turbo-fan|\n",
      "| N112US|1999|Fixed wing multi ...|AIRBUS INDUSTRIE|A320-214|      2|  182| null|Turbo-fan|\n",
      "| N113UW|1999|Fixed wing multi ...|AIRBUS INDUSTRIE|A320-214|      2|  182| null|Turbo-fan|\n",
      "| N114UW|1999|Fixed wing multi ...|AIRBUS INDUSTRIE|A320-214|      2|  182| null|Turbo-fan|\n",
      "| N117UW|2000|Fixed wing multi ...|AIRBUS INDUSTRIE|A320-214|      2|  182| null|Turbo-fan|\n",
      "| N118US|2000|Fixed wing multi ...|AIRBUS INDUSTRIE|A320-214|      2|  182| null|Turbo-fan|\n",
      "| N119US|2000|Fixed wing multi ...|AIRBUS INDUSTRIE|A320-214|      2|  182| null|Turbo-fan|\n",
      "| N1200K|1998|Fixed wing multi ...|          BOEING| 767-332|      2|  330| null|Turbo-fan|\n",
      "| N1201P|1998|Fixed wing multi ...|          BOEING| 767-332|      2|  330| null|Turbo-fan|\n",
      "| N12114|1995|Fixed wing multi ...|          BOEING| 757-224|      2|  178| null|Turbo-jet|\n",
      "| N121DE|1987|Fixed wing multi ...|          BOEING| 767-332|      2|  330| null|Turbo-fan|\n",
      "+-------+----+--------------------+----------------+--------+-------+-----+-----+---------+\n",
      "only showing top 20 rows\n",
      "\n",
      "root\n",
      " |-- tailnum: string (nullable = true)\n",
      " |-- year: integer (nullable = true)\n",
      " |-- type: string (nullable = true)\n",
      " |-- manufacturer: string (nullable = true)\n",
      " |-- model: string (nullable = true)\n",
      " |-- engines: integer (nullable = true)\n",
      " |-- seats: integer (nullable = true)\n",
      " |-- speed: integer (nullable = true)\n",
      " |-- engine: string (nullable = true)\n",
      "\n"
     ]
    }
   ],
   "source": [
    "df_planes.show()\n",
    "df_planes.printSchema()"
   ]
  },
  {
   "cell_type": "markdown",
   "id": "a517b756",
   "metadata": {},
   "source": [
    "### Inseriondo Linhas com erros "
   ]
  },
  {
   "cell_type": "code",
   "execution_count": 32,
   "id": "3415752f",
   "metadata": {},
   "outputs": [],
   "source": [
    "Vals = [(None, None, None, None, None, None, None, None, None), (\"T12345AZ\", 1949, \"Teste\", \"Teste\", \"Teste\", 5, 1, 151, \"Teste\")]\n",
    "\n",
    "newRow = spark.createDataFrame(Vals, ['tailnum', 'year', 'type', 'manufacturer', 'model', 'engines', 'seats', 'speed', 'engine'])\n",
    "\n",
    "df_planes_teste = df_planes.union(newRow)"
   ]
  },
  {
   "cell_type": "markdown",
   "id": "1710c543",
   "metadata": {},
   "source": [
    "### Pergunta 1 - Planes"
   ]
  },
  {
   "cell_type": "markdown",
   "id": "1d77f145",
   "metadata": {},
   "source": [
    "#### Tabela Teste"
   ]
  },
  {
   "cell_type": "code",
   "execution_count": 33,
   "id": "50c18b09",
   "metadata": {},
   "outputs": [
    {
     "name": "stdout",
     "output_type": "stream",
     "text": [
      "+-------+----+--------------------+------------+-------+-------+-----+-----+---------+----------+\n",
      "|tailnum|year|                type|manufacturer|  model|engines|seats|speed|   engine|qa_tailnum|\n",
      "+-------+----+--------------------+------------+-------+-------+-----+-----+---------+----------+\n",
      "| N11206|2000|Fixed wing multi ...|      BOEING|737-824|      2|  149| null|Turbo-fan|         F|\n",
      "| N12114|1995|Fixed wing multi ...|      BOEING|757-224|      2|  178| null|Turbo-jet|         F|\n",
      "| N12216|1998|Fixed wing multi ...|      BOEING|737-824|      2|  149| null|Turbo-fan|         F|\n",
      "| N12218|1998|Fixed wing multi ...|      BOEING|737-824|      2|  149| null|Turbo-fan|         F|\n",
      "| N12221|1998|Fixed wing multi ...|      BOEING|737-824|      2|  149| null|Turbo-fan|         F|\n",
      "| N12225|1998|Fixed wing multi ...|      BOEING|737-824|      2|  149| null|Turbo-fan|         F|\n",
      "| N12238|1999|Fixed wing multi ...|      BOEING|737-824|      2|  149| null|Turbo-fan|         F|\n",
      "| N13248|1999|Fixed wing multi ...|      BOEING|737-824|      2|  149| null|Turbo-fan|         F|\n",
      "| N13716|1998|Fixed wing multi ...|      BOEING|737-724|      2|  149| null|Turbo-jet|         F|\n",
      "| N13718|1999|Fixed wing multi ...|      BOEING|737-724|      2|  149| null|Turbo-jet|         F|\n",
      "| N14214|1998|Fixed wing multi ...|      BOEING|737-824|      2|  149| null|Turbo-fan|         F|\n",
      "| N14219|1998|Fixed wing multi ...|      BOEING|737-824|      2|  149| null|Turbo-fan|         F|\n",
      "| N14228|1999|Fixed wing multi ...|      BOEING|737-824|      2|  149| null|Turbo-fan|         F|\n",
      "| N14230|1999|Fixed wing multi ...|      BOEING|737-824|      2|  149| null|Turbo-fan|         F|\n",
      "| N14231|1999|Fixed wing multi ...|      BOEING|737-824|      2|  149| null|Turbo-fan|         F|\n",
      "| N14237|1999|Fixed wing multi ...|      BOEING|737-824|      2|  149| null|Turbo-fan|         F|\n",
      "| N14242|1999|Fixed wing multi ...|      BOEING|737-824|      2|  149| null|Turbo-fan|         F|\n",
      "| N14250|1999|Fixed wing multi ...|      BOEING|737-824|      2|  149| null|Turbo-fan|         F|\n",
      "| N14704|1998|Fixed wing multi ...|      BOEING|737-724|      2|  149| null|Turbo-jet|         F|\n",
      "| N14731|1999|Fixed wing multi ...|      BOEING|737-724|      2|  149| null|Turbo-jet|         F|\n",
      "+-------+----+--------------------+------------+-------+-------+-----+-----+---------+----------+\n",
      "only showing top 20 rows\n",
      "\n"
     ]
    }
   ],
   "source": [
    "df_plane2 = (df_planes_teste.withColumn(\"qa_tailnum\",\n",
    "            when((df_planes_teste.tailnum.isNull()), lit(\"M\"))\n",
    "            .when(~(length(df_planes_teste.tailnum).isin(5,6)), lit(\"S\"))\n",
    "            .when((df_planes_teste.tailnum.rlike(\"^N([0-9]{1,4})([A-Z]{1,2}$)\")) == False, lit(\"F\"))\n",
    "            .when((substring(df_planes_teste.tailnum,1,1) != \"N\"), lit(\"FN\"))\n",
    "            .when((instr(df_planes_teste.tailnum,\"O\")>0) | (instr(df_planes.tailnum,\"I\")>0) , lit(\"FE\"))\n",
    "            .when((substring(df_planes_teste.tailnum,2,1)==0) , lit(\"FE\"))\n",
    "        .otherwise(lit(None)))\n",
    "      )\n",
    "\n",
    "df_plane2.filter(df_plane2.qa_tailnum.isNotNull()).show()\n"
   ]
  },
  {
   "cell_type": "markdown",
   "id": "594cb803",
   "metadata": {},
   "source": [
    "#### Sumarizando Casos"
   ]
  },
  {
   "cell_type": "code",
   "execution_count": 34,
   "id": "c5227307",
   "metadata": {},
   "outputs": [
    {
     "name": "stdout",
     "output_type": "stream",
     "text": [
      "+----------+--------+\n",
      "|qa_tailnum|count(1)|\n",
      "+----------+--------+\n",
      "|         F|     298|\n",
      "|      null|    2330|\n",
      "|         M|       1|\n",
      "|         S|       1|\n",
      "+----------+--------+\n",
      "\n"
     ]
    }
   ],
   "source": [
    "df_plane2.createOrReplaceTempView(\"Teste\")\n",
    "\n",
    "spark.sql(\"select qa_tailnum, Count(*) from Teste Group By qa_tailnum\").show()"
   ]
  },
  {
   "cell_type": "markdown",
   "id": "aaf2db7c",
   "metadata": {},
   "source": [
    "#### Tabela Oficial"
   ]
  },
  {
   "cell_type": "code",
   "execution_count": 15,
   "id": "eab29188",
   "metadata": {},
   "outputs": [
    {
     "name": "stdout",
     "output_type": "stream",
     "text": [
      "+----------+-----+\n",
      "|qa_tailnum|count|\n",
      "+----------+-----+\n",
      "|      null| 2330|\n",
      "|         F|  298|\n",
      "+----------+-----+\n",
      "\n"
     ]
    }
   ],
   "source": [
    "dfo_plane2 = (df_planes.withColumn(\"qa_tailnum\",\n",
    "            when((df_planes.tailnum.isNull()), lit(\"M\"))\n",
    "            .when(~(length(df_planes.tailnum).isin(5,6)), lit(\"S\"))\n",
    "            .when((df_planes.tailnum.rlike(\"^N([0-9]{1,4})([A-Z]{1,2}$)\")) == False, lit(\"F\"))\n",
    "            .when((substring(df_planes.tailnum,1,1) != \"N\"), lit(\"FN\"))\n",
    "            .when((instr(df_planes.tailnum,\"O\")>0) | (instr(df_planes.tailnum,\"I\")>0) , lit(\"FE\"))\n",
    "            .when((substring(df_planes.tailnum,2,1)==0) , lit(\"FE\"))\n",
    "        .otherwise(lit(None)))\n",
    "      )\n",
    "\n",
    "dfo_plane2.groupBy(col(\"qa_tailnum\")).count().distinct().orderBy(col(\"qa_tailnum\")).show(100)"
   ]
  },
  {
   "cell_type": "markdown",
   "id": "1142ea48",
   "metadata": {},
   "source": [
    "### Pergunta 2 - Planes"
   ]
  },
  {
   "cell_type": "markdown",
   "id": "a6a537cc",
   "metadata": {},
   "source": [
    "#### Tabela Teste"
   ]
  },
  {
   "cell_type": "code",
   "execution_count": 36,
   "id": "55c3c2c3",
   "metadata": {},
   "outputs": [
    {
     "name": "stdout",
     "output_type": "stream",
     "text": [
      "+-------+----+--------------------+----------------+-------------+-------+-----+-----+-------------+-------+\n",
      "|tailnum|year|                type|    manufacturer|        model|engines|seats|speed|       engine|qa_year|\n",
      "+-------+----+--------------------+----------------+-------------+-------+-----+-----+-------------+-------+\n",
      "| N174US|null|Fixed wing multi ...|AIRBUS INDUSTRIE|     A321-211|      2|  199| null|    Turbo-jet|      M|\n",
      "| N177US|null|Fixed wing multi ...|AIRBUS INDUSTRIE|     A321-211|      2|  199| null|    Turbo-jet|      M|\n",
      "| N181UW|null|Fixed wing multi ...|AIRBUS INDUSTRIE|     A321-211|      2|  199| null|    Turbo-jet|      M|\n",
      "| N194UW|null|Fixed wing multi ...|          AIRBUS|     A321-211|      2|  199| null|    Turbo-fan|      M|\n",
      "| N235SW|   0|Fixed wing multi ...|         EMBRAER|    EMB-120ER|      2|   32| null|   Turbo-prop|      I|\n",
      "| N271LV|null|Fixed wing multi ...|          BOEING|      737-705|      2|  149| null|    Turbo-fan|      M|\n",
      "| N298WN|null|Fixed wing multi ...|          BOEING|      737-7H4|      2|  140| null|    Turbo-fan|      M|\n",
      "| N299WN|null|Fixed wing multi ...|          BOEING|      737-7H4|      2|  140| null|    Turbo-fan|      M|\n",
      "| N331NB|null|Fixed wing multi ...|AIRBUS INDUSTRIE|     A319-114|      2|  145| null|    Turbo-fan|      M|\n",
      "| N33292|null|Fixed wing multi ...|          BOEING|      737-824|      2|  149| null|    Turbo-fan|      M|\n",
      "| N345NB|null|Fixed wing multi ...|          AIRBUS|     A319-114|      2|  145| null|    Turbo-fan|      M|\n",
      "| N389HA|null|Fixed wing multi ...|          AIRBUS|     A330-243|      2|  377| null|    Turbo-fan|      M|\n",
      "| N466UA|null|Fixed wing multi ...|AIRBUS INDUSTRIE|     A320-232|      2|  200| null|    Turbo-fan|      M|\n",
      "| N527AS|null|Fixed wing multi ...|          BOEING|      737-890|      2|  149| null|    Turbo-fan|      M|\n",
      "| N528AA|null|Fixed wing single...| LAMBERT RICHARD|    FALCON XP|      1|    2| null|Reciprocating|      M|\n",
      "| N531JB|null|Fixed wing single...|   BARKER JACK L|ZODIAC 601HDS|      1|    2| null|Reciprocating|      M|\n",
      "| N53441|null|Fixed wing multi ...|          BOEING|    737-924ER|      2|  191| null|    Turbo-fan|      M|\n",
      "| N583HA|null|Fixed wing multi ...|          BOEING|      767-33A|      2|  330| null|    Turbo-fan|      M|\n",
      "| N613QX|null|Fixed wing multi ...|  BOMBARDIER INC|  CL-600-2C10|      2|   80| null|    Turbo-fan|      M|\n",
      "| N673AW|null|Fixed wing multi ...|          AIRBUS|     A320-232|      2|  200| null|    Turbo-fan|      M|\n",
      "+-------+----+--------------------+----------------+-------------+-------+-----+-----+-------------+-------+\n",
      "only showing top 20 rows\n",
      "\n"
     ]
    }
   ],
   "source": [
    "df_plane3 = (df_planes_teste.withColumn(\"qa_year\",\n",
    "            when((df_planes_teste.year.isNull()), lit(\"M\"))\n",
    "            .when((df_planes_teste.year <= 1950), lit(\"I\"))\n",
    "        .otherwise(lit(None)))\n",
    "      )\n",
    "\n",
    "df_plane3.filter(df_plane3.qa_year.isNotNull()).show()"
   ]
  },
  {
   "cell_type": "markdown",
   "id": "6df619bd",
   "metadata": {},
   "source": [
    "#### Sumarizando Casos"
   ]
  },
  {
   "cell_type": "code",
   "execution_count": 37,
   "id": "6d8b2dfc",
   "metadata": {},
   "outputs": [
    {
     "name": "stdout",
     "output_type": "stream",
     "text": [
      "+-------+--------+\n",
      "|qa_year|count(1)|\n",
      "+-------+--------+\n",
      "|   null|    2567|\n",
      "|      M|      61|\n",
      "|      I|       2|\n",
      "+-------+--------+\n",
      "\n"
     ]
    }
   ],
   "source": [
    "df_plane3.createOrReplaceTempView(\"Teste\")\n",
    "\n",
    "spark.sql(\"select qa_year, Count(*) from Teste Group By qa_year\").show()"
   ]
  },
  {
   "cell_type": "markdown",
   "id": "111a788d",
   "metadata": {},
   "source": [
    "#### Tabela Oficial"
   ]
  },
  {
   "cell_type": "code",
   "execution_count": 18,
   "id": "08c2971a",
   "metadata": {},
   "outputs": [
    {
     "name": "stdout",
     "output_type": "stream",
     "text": [
      "+-------+----+--------------------+----------------+-------------+-------+-----+-----+-------------+----------+-------+\n",
      "|tailnum|year|                type|    manufacturer|        model|engines|seats|speed|       engine|qa_tailnum|qa_year|\n",
      "+-------+----+--------------------+----------------+-------------+-------+-----+-----+-------------+----------+-------+\n",
      "| N174US|null|Fixed wing multi ...|AIRBUS INDUSTRIE|     A321-211|      2|  199| null|    Turbo-jet|      null|      M|\n",
      "| N177US|null|Fixed wing multi ...|AIRBUS INDUSTRIE|     A321-211|      2|  199| null|    Turbo-jet|      null|      M|\n",
      "| N181UW|null|Fixed wing multi ...|AIRBUS INDUSTRIE|     A321-211|      2|  199| null|    Turbo-jet|      null|      M|\n",
      "| N194UW|null|Fixed wing multi ...|          AIRBUS|     A321-211|      2|  199| null|    Turbo-fan|      null|      M|\n",
      "| N235SW|   0|Fixed wing multi ...|         EMBRAER|    EMB-120ER|      2|   32| null|   Turbo-prop|      null|      I|\n",
      "| N271LV|null|Fixed wing multi ...|          BOEING|      737-705|      2|  149| null|    Turbo-fan|      null|      M|\n",
      "| N298WN|null|Fixed wing multi ...|          BOEING|      737-7H4|      2|  140| null|    Turbo-fan|      null|      M|\n",
      "| N299WN|null|Fixed wing multi ...|          BOEING|      737-7H4|      2|  140| null|    Turbo-fan|      null|      M|\n",
      "| N331NB|null|Fixed wing multi ...|AIRBUS INDUSTRIE|     A319-114|      2|  145| null|    Turbo-fan|      null|      M|\n",
      "| N33292|null|Fixed wing multi ...|          BOEING|      737-824|      2|  149| null|    Turbo-fan|         F|      M|\n",
      "| N345NB|null|Fixed wing multi ...|          AIRBUS|     A319-114|      2|  145| null|    Turbo-fan|      null|      M|\n",
      "| N389HA|null|Fixed wing multi ...|          AIRBUS|     A330-243|      2|  377| null|    Turbo-fan|      null|      M|\n",
      "| N466UA|null|Fixed wing multi ...|AIRBUS INDUSTRIE|     A320-232|      2|  200| null|    Turbo-fan|      null|      M|\n",
      "| N527AS|null|Fixed wing multi ...|          BOEING|      737-890|      2|  149| null|    Turbo-fan|      null|      M|\n",
      "| N528AA|null|Fixed wing single...| LAMBERT RICHARD|    FALCON XP|      1|    2| null|Reciprocating|      null|      M|\n",
      "| N531JB|null|Fixed wing single...|   BARKER JACK L|ZODIAC 601HDS|      1|    2| null|Reciprocating|      null|      M|\n",
      "| N53441|null|Fixed wing multi ...|          BOEING|    737-924ER|      2|  191| null|    Turbo-fan|         F|      M|\n",
      "| N583HA|null|Fixed wing multi ...|          BOEING|      767-33A|      2|  330| null|    Turbo-fan|      null|      M|\n",
      "| N613QX|null|Fixed wing multi ...|  BOMBARDIER INC|  CL-600-2C10|      2|   80| null|    Turbo-fan|      null|      M|\n",
      "| N673AW|null|Fixed wing multi ...|          AIRBUS|     A320-232|      2|  200| null|    Turbo-fan|      null|      M|\n",
      "+-------+----+--------------------+----------------+-------------+-------+-----+-----+-------------+----------+-------+\n",
      "only showing top 20 rows\n",
      "\n"
     ]
    }
   ],
   "source": [
    "dfo_plane3 = (dfo_plane2.withColumn(\"qa_year\",\n",
    "            when((dfo_plane2.year.isNull()), lit(\"M\"))\n",
    "            .when((dfo_plane2.year <= 1950), lit(\"I\"))\n",
    "        .otherwise(lit(None)))\n",
    "      )\n",
    "\n",
    "dfo_plane3.filter(dfo_plane3.qa_year.isNotNull()).show()"
   ]
  },
  {
   "cell_type": "markdown",
   "id": "3b8d3ffe",
   "metadata": {},
   "source": [
    "### Pergunta 3 - Planes"
   ]
  },
  {
   "cell_type": "markdown",
   "id": "56301951",
   "metadata": {},
   "source": [
    "#### Tabela Teste"
   ]
  },
  {
   "cell_type": "code",
   "execution_count": 39,
   "id": "116da2f8",
   "metadata": {},
   "outputs": [
    {
     "name": "stdout",
     "output_type": "stream",
     "text": [
      "+--------+----+-----+------------+-----+-------+-----+-----+------+-------+\n",
      "| tailnum|year| type|manufacturer|model|engines|seats|speed|engine|qa_type|\n",
      "+--------+----+-----+------------+-----+-------+-----+-----+------+-------+\n",
      "|    null|null| null|        null| null|   null| null| null|  null|      M|\n",
      "|T12345AZ|1949|Teste|       Teste|Teste|      5|    1|  151| Teste|      C|\n",
      "+--------+----+-----+------------+-----+-------+-----+-----+------+-------+\n",
      "\n"
     ]
    }
   ],
   "source": [
    "Types = [\"Fixed wing multi engine\",\"Fixed wing single engine\",\"Rotorcraft\"]\n",
    "\n",
    "df_plane4 = (df_planes_teste.withColumn(\"qa_type\",\n",
    "            when((df_planes_teste.type.isNull()), lit(\"M\"))\n",
    "            .when(~(df_planes_teste.type.isin(Types)), lit(\"C\"))\n",
    "        .otherwise(lit(None)))\n",
    "      )\n",
    "\n",
    "df_plane4.filter(df_plane4.qa_type.isNotNull()).show()"
   ]
  },
  {
   "cell_type": "markdown",
   "id": "215de6ff",
   "metadata": {},
   "source": [
    "#### Sumarizando Casos"
   ]
  },
  {
   "cell_type": "code",
   "execution_count": 40,
   "id": "4c62c35e",
   "metadata": {},
   "outputs": [
    {
     "name": "stdout",
     "output_type": "stream",
     "text": [
      "+-------+--------+\n",
      "|qa_type|count(1)|\n",
      "+-------+--------+\n",
      "|   null|    2628|\n",
      "|      M|       1|\n",
      "|      C|       1|\n",
      "+-------+--------+\n",
      "\n"
     ]
    }
   ],
   "source": [
    "df_plane4.createOrReplaceTempView(\"Teste\")\n",
    "\n",
    "spark.sql(\"select qa_type, Count(*) from Teste Group By qa_type\").show()"
   ]
  },
  {
   "cell_type": "markdown",
   "id": "57deef90",
   "metadata": {},
   "source": [
    "#### Tabela Oficial"
   ]
  },
  {
   "cell_type": "code",
   "execution_count": 19,
   "id": "f9684d6d",
   "metadata": {},
   "outputs": [
    {
     "name": "stdout",
     "output_type": "stream",
     "text": [
      "+-------+----+----+------------+-----+-------+-----+-----+------+----------+-------+-------+\n",
      "|tailnum|year|type|manufacturer|model|engines|seats|speed|engine|qa_tailnum|qa_year|qa_type|\n",
      "+-------+----+----+------------+-----+-------+-----+-----+------+----------+-------+-------+\n",
      "+-------+----+----+------------+-----+-------+-----+-----+------+----------+-------+-------+\n",
      "\n"
     ]
    }
   ],
   "source": [
    "Types = [\"Fixed wing multi engine\",\"Fixed wing single engine\",\"Rotorcraft\"]\n",
    "\n",
    "dfo_plane4 = (dfo_plane3.withColumn(\"qa_type\",\n",
    "            when((dfo_plane3.type.isNull()), lit(\"M\"))\n",
    "            .when(~(dfo_plane3.type.isin(Types)), lit(\"C\"))\n",
    "        .otherwise(lit(None)))\n",
    "      )\n",
    "\n",
    "dfo_plane4.filter(dfo_plane4.qa_type.isNotNull()).show()"
   ]
  },
  {
   "cell_type": "markdown",
   "id": "77390a92",
   "metadata": {},
   "source": [
    "## Dia 3 - Pergutas 4 [Planes] - 9 [Planes]"
   ]
  },
  {
   "cell_type": "markdown",
   "id": "d756dd98",
   "metadata": {},
   "source": [
    "### Pergunta 4 - Planes"
   ]
  },
  {
   "cell_type": "markdown",
   "id": "0a2cc4f1",
   "metadata": {},
   "source": [
    "#### Tabela Teste"
   ]
  },
  {
   "cell_type": "markdown",
   "id": "bf7419f0",
   "metadata": {},
   "source": [
    "##### Proposta 1"
   ]
  },
  {
   "cell_type": "code",
   "execution_count": 42,
   "id": "5a6e9eed",
   "metadata": {},
   "outputs": [
    {
     "name": "stdout",
     "output_type": "stream",
     "text": [
      "+--------+----+-----+------------+-----+-------+-----+-----+------+---------------+\n",
      "| tailnum|year| type|manufacturer|model|engines|seats|speed|engine|qa_manufacturer|\n",
      "+--------+----+-----+------------+-----+-------+-----+-----+------+---------------+\n",
      "|    null|null| null|        null| null|   null| null| null|  null|              M|\n",
      "|T12345AZ|1949|Teste|       Teste|Teste|      5|    1|  151| Teste|              C|\n",
      "+--------+----+-----+------------+-----+-------+-----+-----+------+---------------+\n",
      "\n"
     ]
    }
   ],
   "source": [
    "df_plane5 = (df_planes_teste.withColumn(\"qa_manufacturer\",\n",
    "                when((df_planes_teste.manufacturer.isNull()), \"M\")\n",
    "                .when((instr(df_planes_teste.manufacturer,\"AIRBUS\")==0)\n",
    "                    &(instr(df_planes_teste.manufacturer,\"BOEING\")==0)\n",
    "                    &(instr(df_planes_teste.manufacturer,\"BOMBARDIER\")==0)\n",
    "                    &(instr(df_planes_teste.manufacturer,\"CESSNA\")==0)\n",
    "                    &(instr(df_planes_teste.manufacturer,\"EMBRAER\")==0)\n",
    "                    &(instr(df_planes_teste.manufacturer,\"SIKORSKY\")==0)\n",
    "                    &(instr(df_planes_teste.manufacturer,\"CANADAIR\")==0)\n",
    "                    &(instr(df_planes_teste.manufacturer,\"PIPER\")==0)\n",
    "                    &(instr(df_planes_teste.manufacturer,\"MCDONNELL DOUGLAS\")==0)\n",
    "                    &(instr(df_planes_teste.manufacturer,\"CIRRUS\")==0)\n",
    "                    &(instr(df_planes_teste.manufacturer,\"BELL\")==0)\n",
    "                    &(instr(df_planes_teste.manufacturer,\"KILDALL GARY\")==0)\n",
    "                    &(instr(df_planes_teste.manufacturer,\"LAMBERT RICHARD\")==0)\n",
    "                    &(instr(df_planes_teste.manufacturer,\"BARKER JACK\")==0)\n",
    "                    &(instr(df_planes_teste.manufacturer,\"ROBINSON HELICOPTER\")==0)\n",
    "                    &(instr(df_planes_teste.manufacturer,\"GULFSTREAM\")==0)\n",
    "                    # &(instr(df_planes_teste.manufacturer,\"MARZ BARRY\")==0)\n",
    "                    &(df_planes_teste.manufacturer.like(\"%MARZ BARRY%\")==0)\n",
    "                    , \"C\")\n",
    "                .otherwise(lit(None)))\n",
    "            )\n",
    "\n",
    "df_plane5.filter(df_plane5.qa_manufacturer.isNotNull()).show()"
   ]
  },
  {
   "cell_type": "markdown",
   "id": "db87433e",
   "metadata": {},
   "source": [
    "##### Proposta 2"
   ]
  },
  {
   "cell_type": "code",
   "execution_count": 43,
   "id": "dd96a1b6",
   "metadata": {},
   "outputs": [
    {
     "name": "stdout",
     "output_type": "stream",
     "text": [
      "+-------+----+--------------------+----------------+-----------+-------+-----+-----+---------+---------------+\n",
      "|tailnum|year|                type|    manufacturer|      model|engines|seats|speed|   engine|qa_manufacturer|\n",
      "+-------+----+--------------------+----------------+-----------+-------+-----+-----+---------+---------------+\n",
      "| N102UW|1998|Fixed wing multi ...|AIRBUS INDUSTRIE|   A320-214|      2|  182| null|Turbo-fan|              C|\n",
      "| N103US|1999|Fixed wing multi ...|AIRBUS INDUSTRIE|   A320-214|      2|  182| null|Turbo-fan|              C|\n",
      "| N104UW|1999|Fixed wing multi ...|AIRBUS INDUSTRIE|   A320-214|      2|  182| null|Turbo-fan|              C|\n",
      "| N105UW|1999|Fixed wing multi ...|AIRBUS INDUSTRIE|   A320-214|      2|  182| null|Turbo-fan|              C|\n",
      "| N107US|1999|Fixed wing multi ...|AIRBUS INDUSTRIE|   A320-214|      2|  182| null|Turbo-fan|              C|\n",
      "| N108UW|1999|Fixed wing multi ...|AIRBUS INDUSTRIE|   A320-214|      2|  182| null|Turbo-fan|              C|\n",
      "| N109UW|1999|Fixed wing multi ...|AIRBUS INDUSTRIE|   A320-214|      2|  182| null|Turbo-fan|              C|\n",
      "| N110UW|1999|Fixed wing multi ...|AIRBUS INDUSTRIE|   A320-214|      2|  182| null|Turbo-fan|              C|\n",
      "| N111US|1999|Fixed wing multi ...|AIRBUS INDUSTRIE|   A320-214|      2|  182| null|Turbo-fan|              C|\n",
      "| N112US|1999|Fixed wing multi ...|AIRBUS INDUSTRIE|   A320-214|      2|  182| null|Turbo-fan|              C|\n",
      "| N113UW|1999|Fixed wing multi ...|AIRBUS INDUSTRIE|   A320-214|      2|  182| null|Turbo-fan|              C|\n",
      "| N114UW|1999|Fixed wing multi ...|AIRBUS INDUSTRIE|   A320-214|      2|  182| null|Turbo-fan|              C|\n",
      "| N117UW|2000|Fixed wing multi ...|AIRBUS INDUSTRIE|   A320-214|      2|  182| null|Turbo-fan|              C|\n",
      "| N118US|2000|Fixed wing multi ...|AIRBUS INDUSTRIE|   A320-214|      2|  182| null|Turbo-fan|              C|\n",
      "| N119US|2000|Fixed wing multi ...|AIRBUS INDUSTRIE|   A320-214|      2|  182| null|Turbo-fan|              C|\n",
      "| N121UW|2000|Fixed wing multi ...|AIRBUS INDUSTRIE|   A320-214|      2|  182| null|Turbo-fan|              C|\n",
      "| N122US|2000|Fixed wing multi ...|AIRBUS INDUSTRIE|   A320-214|      2|  182| null|Turbo-fan|              C|\n",
      "| N123UW|2000|Fixed wing multi ...|AIRBUS INDUSTRIE|   A320-214|      2|  182| null|Turbo-fan|              C|\n",
      "| N124US|2000|Fixed wing multi ...|AIRBUS INDUSTRIE|   A320-214|      2|  182| null|Turbo-fan|              C|\n",
      "| N161PQ|2008|Fixed wing multi ...|  BOMBARDIER INC|CL-600-2D24|      2|   95| null|Turbo-fan|              C|\n",
      "+-------+----+--------------------+----------------+-----------+-------+-----+-----+---------+---------------+\n",
      "only showing top 20 rows\n",
      "\n"
     ]
    }
   ],
   "source": [
    "Manufacturer = [\"AIRBUS\",\"BOEING\",\"BOMBARDIER\",\"CESSNA\",\"EMBRAER\",\"SIKORSKY\",\"CANADAIR\",\"PIPER\",\"MCDONNELL DOUGLAS\",\"CIRRUS\",\"BELL\",\"KILDALL GARY\",\"LAMBERT RICHARD\",\"BARKER JACK\",\"ROBINSON HELICOPTER\",\"GULFSTREAM\",\"MARZ BARRY\"]\n",
    "\n",
    "df_plane5 = (df_planes_teste.withColumn(\"qa_manufacturer\",\n",
    "            when((df_planes_teste.manufacturer.isNull()), \"M\")\n",
    "            .when(~(df_planes_teste.manufacturer.isin(Manufacturer)), \"C\")\n",
    "        .otherwise(lit(None)))\n",
    "      )\n",
    "\n",
    "df_plane5.filter(df_plane5.qa_manufacturer.isNotNull()).show()"
   ]
  },
  {
   "cell_type": "markdown",
   "id": "38f1245b",
   "metadata": {},
   "source": [
    "#### Sumarizando Casos"
   ]
  },
  {
   "cell_type": "code",
   "execution_count": 44,
   "id": "7bad8742",
   "metadata": {},
   "outputs": [
    {
     "name": "stdout",
     "output_type": "stream",
     "text": [
      "+---------------+--------+\n",
      "|qa_manufacturer|count(1)|\n",
      "+---------------+--------+\n",
      "|           null|    2007|\n",
      "|              C|     622|\n",
      "|              M|       1|\n",
      "+---------------+--------+\n",
      "\n"
     ]
    }
   ],
   "source": [
    "df_plane5.createOrReplaceTempView(\"Teste\")\n",
    "\n",
    "spark.sql(\"select qa_manufacturer, Count(*) from Teste Group By qa_manufacturer\").show()"
   ]
  },
  {
   "cell_type": "markdown",
   "id": "90b28b88",
   "metadata": {},
   "source": [
    "#### Tabela Oficial"
   ]
  },
  {
   "cell_type": "code",
   "execution_count": 20,
   "id": "08c2f3b7",
   "metadata": {},
   "outputs": [
    {
     "name": "stdout",
     "output_type": "stream",
     "text": [
      "+-------+----+--------------------+----------------+-----------+-------+-----+-----+---------+----------+-------+-------+---------------+\n",
      "|tailnum|year|                type|    manufacturer|      model|engines|seats|speed|   engine|qa_tailnum|qa_year|qa_type|qa_manufacturer|\n",
      "+-------+----+--------------------+----------------+-----------+-------+-----+-----+---------+----------+-------+-------+---------------+\n",
      "| N102UW|1998|Fixed wing multi ...|AIRBUS INDUSTRIE|   A320-214|      2|  182| null|Turbo-fan|      null|   null|   null|              C|\n",
      "| N103US|1999|Fixed wing multi ...|AIRBUS INDUSTRIE|   A320-214|      2|  182| null|Turbo-fan|      null|   null|   null|              C|\n",
      "| N104UW|1999|Fixed wing multi ...|AIRBUS INDUSTRIE|   A320-214|      2|  182| null|Turbo-fan|      null|   null|   null|              C|\n",
      "| N105UW|1999|Fixed wing multi ...|AIRBUS INDUSTRIE|   A320-214|      2|  182| null|Turbo-fan|      null|   null|   null|              C|\n",
      "| N107US|1999|Fixed wing multi ...|AIRBUS INDUSTRIE|   A320-214|      2|  182| null|Turbo-fan|      null|   null|   null|              C|\n",
      "| N108UW|1999|Fixed wing multi ...|AIRBUS INDUSTRIE|   A320-214|      2|  182| null|Turbo-fan|      null|   null|   null|              C|\n",
      "| N109UW|1999|Fixed wing multi ...|AIRBUS INDUSTRIE|   A320-214|      2|  182| null|Turbo-fan|      null|   null|   null|              C|\n",
      "| N110UW|1999|Fixed wing multi ...|AIRBUS INDUSTRIE|   A320-214|      2|  182| null|Turbo-fan|      null|   null|   null|              C|\n",
      "| N111US|1999|Fixed wing multi ...|AIRBUS INDUSTRIE|   A320-214|      2|  182| null|Turbo-fan|      null|   null|   null|              C|\n",
      "| N112US|1999|Fixed wing multi ...|AIRBUS INDUSTRIE|   A320-214|      2|  182| null|Turbo-fan|      null|   null|   null|              C|\n",
      "| N113UW|1999|Fixed wing multi ...|AIRBUS INDUSTRIE|   A320-214|      2|  182| null|Turbo-fan|      null|   null|   null|              C|\n",
      "| N114UW|1999|Fixed wing multi ...|AIRBUS INDUSTRIE|   A320-214|      2|  182| null|Turbo-fan|      null|   null|   null|              C|\n",
      "| N117UW|2000|Fixed wing multi ...|AIRBUS INDUSTRIE|   A320-214|      2|  182| null|Turbo-fan|      null|   null|   null|              C|\n",
      "| N118US|2000|Fixed wing multi ...|AIRBUS INDUSTRIE|   A320-214|      2|  182| null|Turbo-fan|      null|   null|   null|              C|\n",
      "| N119US|2000|Fixed wing multi ...|AIRBUS INDUSTRIE|   A320-214|      2|  182| null|Turbo-fan|      null|   null|   null|              C|\n",
      "| N121UW|2000|Fixed wing multi ...|AIRBUS INDUSTRIE|   A320-214|      2|  182| null|Turbo-fan|      null|   null|   null|              C|\n",
      "| N122US|2000|Fixed wing multi ...|AIRBUS INDUSTRIE|   A320-214|      2|  182| null|Turbo-fan|      null|   null|   null|              C|\n",
      "| N123UW|2000|Fixed wing multi ...|AIRBUS INDUSTRIE|   A320-214|      2|  182| null|Turbo-fan|      null|   null|   null|              C|\n",
      "| N124US|2000|Fixed wing multi ...|AIRBUS INDUSTRIE|   A320-214|      2|  182| null|Turbo-fan|      null|   null|   null|              C|\n",
      "| N161PQ|2008|Fixed wing multi ...|  BOMBARDIER INC|CL-600-2D24|      2|   95| null|Turbo-fan|      null|   null|   null|              C|\n",
      "+-------+----+--------------------+----------------+-----------+-------+-----+-----+---------+----------+-------+-------+---------------+\n",
      "only showing top 20 rows\n",
      "\n"
     ]
    }
   ],
   "source": [
    "Manufacturer = [\"AIRBUS\",\"BOEING\",\"BOMBARDIER\",\"CESSNA\",\"EMBRAER\",\"SIKORSKY\",\"CANADAIR\",\"PIPER\",\"MCDONNELL DOUGLAS\",\"CIRRUS\",\"BELL\",\"KILDALL GARY\",\"LAMBERT RICHARD\",\"BARKER JACK\",\"ROBINSON HELICOPTER\",\"GULFSTREAM\",\"MARZ BARRY\"]\n",
    "\n",
    "dfo_plane5 = (dfo_plane4.withColumn(\"qa_manufacturer\",\n",
    "            when((dfo_plane4.manufacturer.isNull()), \"M\")\n",
    "            .when(~(dfo_plane4.manufacturer.isin(Manufacturer)), \"C\")\n",
    "        .otherwise(lit(None)))\n",
    "      )\n",
    "\n",
    "dfo_plane5.filter(dfo_plane5.qa_manufacturer.isNotNull()).show()"
   ]
  },
  {
   "cell_type": "markdown",
   "id": "a706a4bb",
   "metadata": {},
   "source": [
    "### Pergunta 5 - Planes"
   ]
  },
  {
   "cell_type": "markdown",
   "id": "567ec68d",
   "metadata": {},
   "source": [
    "#### Tabela Teste"
   ]
  },
  {
   "cell_type": "code",
   "execution_count": 46,
   "id": "30cefcf6",
   "metadata": {},
   "outputs": [
    {
     "name": "stdout",
     "output_type": "stream",
     "text": [
      "+-------+----+--------------------+------------+--------+-------+-----+-----+---------+--------+\n",
      "|tailnum|year|                type|manufacturer|   model|engines|seats|speed|   engine|qa_model|\n",
      "+-------+----+--------------------+------------+--------+-------+-----+-----+---------+--------+\n",
      "| N923DN|null|Fixed wing multi ...|      BOEING|MD-90-30|      2|  142| null|Turbo-fan|       F|\n",
      "| N924DN|null|Fixed wing multi ...|      BOEING|MD-90-30|      2|  142| null|Turbo-fan|       F|\n",
      "| N925DN|null|Fixed wing multi ...|      BOEING|MD-90-30|      2|  142| null|Turbo-fan|       F|\n",
      "| N926DH|null|Fixed wing multi ...|      BOEING|MD-90-30|      2|  142| null|Turbo-fan|       F|\n",
      "| N927DN|1999|Fixed wing multi ...|      BOEING|MD-90-30|      2|  142| null|Turbo-fan|       F|\n",
      "| N928DN|null|Fixed wing multi ...|      BOEING|MD-90-30|      2|  142| null|Turbo-fan|       F|\n",
      "| N945DN|1998|Fixed wing multi ...|      BOEING|MD-90-30|      2|  142| null|Turbo-fan|       F|\n",
      "| N952DN|1998|Fixed wing multi ...|      BOEING|MD-90-30|      2|  142| null|Turbo-fan|       F|\n",
      "| N959DN|1998|Fixed wing multi ...|      BOEING|MD-90-30|      2|  142| null|Turbo-fan|       F|\n",
      "| N960DN|1998|Fixed wing multi ...|      BOEING|MD-90-30|      2|  142| null|Turbo-fan|       F|\n",
      "| N961DN|1998|Fixed wing multi ...|      BOEING|MD-90-30|      2|  142| null|Turbo-fan|       F|\n",
      "| N962DN|1997|Fixed wing multi ...|      BOEING|MD-90-30|      2|  142| null|Turbo-fan|       F|\n",
      "| N963DN|1999|Fixed wing multi ...|      BOEING|MD-90-30|      2|  142| null|Turbo-fan|       F|\n",
      "| N964DN|1999|Fixed wing multi ...|      BOEING|MD-90-30|      2|  142| null|Turbo-fan|       F|\n",
      "| N965DN|2000|Fixed wing multi ...|      BOEING|MD-90-30|      2|  142| null|Turbo-fan|       F|\n",
      "|   null|null|                null|        null|    null|   null| null| null|     null|       M|\n",
      "+-------+----+--------------------+------------+--------+-------+-----+-----+---------+--------+\n",
      "\n"
     ]
    }
   ],
   "source": [
    "df_plane6 = (df_planes_teste.withColumn(\"qa_model\",\n",
    "                when((df_planes_teste.model.isNull()), \"M\")\n",
    "                .when((df_planes_teste.manufacturer == \"AIRBUS\") & (substring(df_planes_teste.model,1,1) != \"A\") , \"F\")\n",
    "                .when((df_planes_teste.manufacturer == \"BOEING\") & (substring(df_planes_teste.model,1,1) != \"7\") , \"F\")\n",
    "                .when(((df_planes_teste.manufacturer == \"BOMBARDIER\") | (df_planes_teste.manufacturer == \"CANADAIR\")) & (substring(df_planes_teste.model,1,2) != \"CL\") , \"F\")\n",
    "                .when((df_planes_teste.manufacturer == \"MCDONNELL DOUGLAS\") & ((substring(df_planes_teste.model,1,2) != \"MD\") & (substring(df_planes_teste.model,1,2) != \"DC\")) , \"F\")\n",
    "            .otherwise(lit(None)))\n",
    "      )\n",
    "\n",
    "df_plane6.filter(df_plane6.qa_model.isNotNull()).show()"
   ]
  },
  {
   "cell_type": "markdown",
   "id": "0f885b94",
   "metadata": {},
   "source": [
    "#### Sumarizando Casos"
   ]
  },
  {
   "cell_type": "code",
   "execution_count": 47,
   "id": "0a83efa8",
   "metadata": {},
   "outputs": [
    {
     "name": "stdout",
     "output_type": "stream",
     "text": [
      "+--------+--------+\n",
      "|qa_model|count(1)|\n",
      "+--------+--------+\n",
      "|       F|      15|\n",
      "|    null|    2614|\n",
      "|       M|       1|\n",
      "+--------+--------+\n",
      "\n"
     ]
    }
   ],
   "source": [
    "df_plane6.createOrReplaceTempView(\"Teste\")\n",
    "\n",
    "spark.sql(\"select qa_model, Count(*) from Teste Group By qa_model\").show()"
   ]
  },
  {
   "cell_type": "markdown",
   "id": "be1ba5ff",
   "metadata": {},
   "source": [
    "#### Tabela Oficial"
   ]
  },
  {
   "cell_type": "code",
   "execution_count": 21,
   "id": "1558dc60",
   "metadata": {},
   "outputs": [
    {
     "name": "stdout",
     "output_type": "stream",
     "text": [
      "+-------+----+--------------------+------------+--------+-------+-----+-----+---------+----------+-------+-------+---------------+--------+\n",
      "|tailnum|year|                type|manufacturer|   model|engines|seats|speed|   engine|qa_tailnum|qa_year|qa_type|qa_manufacturer|qa_model|\n",
      "+-------+----+--------------------+------------+--------+-------+-----+-----+---------+----------+-------+-------+---------------+--------+\n",
      "| N923DN|null|Fixed wing multi ...|      BOEING|MD-90-30|      2|  142| null|Turbo-fan|      null|      M|   null|           null|       F|\n",
      "| N924DN|null|Fixed wing multi ...|      BOEING|MD-90-30|      2|  142| null|Turbo-fan|      null|      M|   null|           null|       F|\n",
      "| N925DN|null|Fixed wing multi ...|      BOEING|MD-90-30|      2|  142| null|Turbo-fan|      null|      M|   null|           null|       F|\n",
      "| N926DH|null|Fixed wing multi ...|      BOEING|MD-90-30|      2|  142| null|Turbo-fan|      null|      M|   null|           null|       F|\n",
      "| N927DN|1999|Fixed wing multi ...|      BOEING|MD-90-30|      2|  142| null|Turbo-fan|      null|   null|   null|           null|       F|\n",
      "| N928DN|null|Fixed wing multi ...|      BOEING|MD-90-30|      2|  142| null|Turbo-fan|      null|      M|   null|           null|       F|\n",
      "| N945DN|1998|Fixed wing multi ...|      BOEING|MD-90-30|      2|  142| null|Turbo-fan|      null|   null|   null|           null|       F|\n",
      "| N952DN|1998|Fixed wing multi ...|      BOEING|MD-90-30|      2|  142| null|Turbo-fan|      null|   null|   null|           null|       F|\n",
      "| N959DN|1998|Fixed wing multi ...|      BOEING|MD-90-30|      2|  142| null|Turbo-fan|      null|   null|   null|           null|       F|\n",
      "| N960DN|1998|Fixed wing multi ...|      BOEING|MD-90-30|      2|  142| null|Turbo-fan|      null|   null|   null|           null|       F|\n",
      "| N961DN|1998|Fixed wing multi ...|      BOEING|MD-90-30|      2|  142| null|Turbo-fan|      null|   null|   null|           null|       F|\n",
      "| N962DN|1997|Fixed wing multi ...|      BOEING|MD-90-30|      2|  142| null|Turbo-fan|      null|   null|   null|           null|       F|\n",
      "| N963DN|1999|Fixed wing multi ...|      BOEING|MD-90-30|      2|  142| null|Turbo-fan|      null|   null|   null|           null|       F|\n",
      "| N964DN|1999|Fixed wing multi ...|      BOEING|MD-90-30|      2|  142| null|Turbo-fan|      null|   null|   null|           null|       F|\n",
      "| N965DN|2000|Fixed wing multi ...|      BOEING|MD-90-30|      2|  142| null|Turbo-fan|      null|   null|   null|           null|       F|\n",
      "+-------+----+--------------------+------------+--------+-------+-----+-----+---------+----------+-------+-------+---------------+--------+\n",
      "\n"
     ]
    }
   ],
   "source": [
    "dfo_plane6 = (dfo_plane5.withColumn(\"qa_model\",\n",
    "                when((dfo_plane5.model.isNull()), \"M\")\n",
    "                .when((dfo_plane5.manufacturer == \"AIRBUS\") & (substring(dfo_plane5.model,1,1) != \"A\") , \"F\")\n",
    "                .when((dfo_plane5.manufacturer == \"BOEING\") & (substring(dfo_plane5.model,1,1) != \"7\") , \"F\")\n",
    "                .when(((dfo_plane5.manufacturer == \"BOMBARDIER\") | (dfo_plane5.manufacturer == \"CANADAIR\")) & (substring(dfo_plane5.model,1,2) != \"CL\") , \"F\")\n",
    "                .when((dfo_plane5.manufacturer == \"MCDONNELL DOUGLAS\") & ((substring(dfo_plane5.model,1,2) != \"MD\") & (substring(dfo_plane5.model,1,2) != \"DC\")) , \"F\")\n",
    "            .otherwise(lit(None)))\n",
    "      )\n",
    "\n",
    "dfo_plane6.filter(dfo_plane6.qa_model.isNotNull()).show()"
   ]
  },
  {
   "cell_type": "markdown",
   "id": "debb0d05",
   "metadata": {},
   "source": [
    "### Pergunta 6 - Planes"
   ]
  },
  {
   "cell_type": "markdown",
   "id": "48b3b2fd",
   "metadata": {},
   "source": [
    "#### Tabela Teste"
   ]
  },
  {
   "cell_type": "code",
   "execution_count": 49,
   "id": "17eb4fab",
   "metadata": {},
   "outputs": [
    {
     "name": "stdout",
     "output_type": "stream",
     "text": [
      "+--------+----+-----+------------+-----+-------+-----+-----+------+----------+\n",
      "| tailnum|year| type|manufacturer|model|engines|seats|speed|engine|qa_engines|\n",
      "+--------+----+-----+------------+-----+-------+-----+-----+------+----------+\n",
      "|    null|null| null|        null| null|   null| null| null|  null|         M|\n",
      "|T12345AZ|1949|Teste|       Teste|Teste|      5|    1|  151| Teste|         I|\n",
      "+--------+----+-----+------------+-----+-------+-----+-----+------+----------+\n",
      "\n"
     ]
    }
   ],
   "source": [
    "df_plane7 = (df_planes_teste.withColumn(\"qa_engines\",\n",
    "                when((df_planes_teste.engines.isNull()), \"M\")\n",
    "                .when(~(df_planes_teste.engines.between(1, 4)), \"I\")\n",
    "                .when(~(df_planes_teste.engines.rlike(\"([0-9])\")), \"A\")\n",
    "            .otherwise(lit(None)))\n",
    "            )\n",
    "\n",
    "df_plane7.filter(df_plane7.qa_engines.isNotNull()).show()"
   ]
  },
  {
   "cell_type": "markdown",
   "id": "b9f743ef",
   "metadata": {},
   "source": [
    "#### Sumarizando Casos"
   ]
  },
  {
   "cell_type": "code",
   "execution_count": 50,
   "id": "d8e57466",
   "metadata": {},
   "outputs": [
    {
     "name": "stdout",
     "output_type": "stream",
     "text": [
      "+-------+\n",
      "|engines|\n",
      "+-------+\n",
      "|      1|\n",
      "|      3|\n",
      "|      2|\n",
      "|      4|\n",
      "|   null|\n",
      "|      5|\n",
      "+-------+\n",
      "\n",
      "+----------+--------+\n",
      "|qa_engines|count(1)|\n",
      "+----------+--------+\n",
      "|      null|    2628|\n",
      "|         M|       1|\n",
      "|         I|       1|\n",
      "+----------+--------+\n",
      "\n"
     ]
    }
   ],
   "source": [
    "df_plane7.createOrReplaceTempView(\"Teste\")\n",
    "\n",
    "spark.sql(\"select DISTINCT engines from Teste\").show()\n",
    "\n",
    "spark.sql(\"select qa_engines, Count(*) from Teste Group By qa_engines\").show()"
   ]
  },
  {
   "cell_type": "markdown",
   "id": "61b2e253",
   "metadata": {},
   "source": [
    "#### Tabela Oficial"
   ]
  },
  {
   "cell_type": "code",
   "execution_count": 22,
   "id": "9757c7f0",
   "metadata": {},
   "outputs": [
    {
     "name": "stdout",
     "output_type": "stream",
     "text": [
      "+-------+----+----+------------+-----+-------+-----+-----+------+----------+-------+-------+---------------+--------+----------+\n",
      "|tailnum|year|type|manufacturer|model|engines|seats|speed|engine|qa_tailnum|qa_year|qa_type|qa_manufacturer|qa_model|qa_engines|\n",
      "+-------+----+----+------------+-----+-------+-----+-----+------+----------+-------+-------+---------------+--------+----------+\n",
      "+-------+----+----+------------+-----+-------+-----+-----+------+----------+-------+-------+---------------+--------+----------+\n",
      "\n"
     ]
    }
   ],
   "source": [
    "dfo_plane7 = (dfo_plane6.withColumn(\"qa_engines\",\n",
    "                when((dfo_plane6.engines.isNull()), \"M\")\n",
    "                .when(~(dfo_plane6.engines.between(1, 4)), \"I\")\n",
    "                .when(~(dfo_plane6.engines.rlike(\"([0-9])\")), \"A\")\n",
    "            .otherwise(lit(None)))\n",
    "            )\n",
    "\n",
    "dfo_plane7.filter(dfo_plane7.qa_engines.isNotNull()).show()"
   ]
  },
  {
   "cell_type": "markdown",
   "id": "f9277482",
   "metadata": {},
   "source": [
    "### Pergunta 7 - Planes"
   ]
  },
  {
   "cell_type": "markdown",
   "id": "7a3747e1",
   "metadata": {},
   "source": [
    "#### Tabela Teste"
   ]
  },
  {
   "cell_type": "code",
   "execution_count": 52,
   "id": "4b32da6d",
   "metadata": {},
   "outputs": [
    {
     "name": "stdout",
     "output_type": "stream",
     "text": [
      "+--------+----+-----+------------+-----+-------+-----+-----+------+--------+\n",
      "| tailnum|year| type|manufacturer|model|engines|seats|speed|engine|qa_seats|\n",
      "+--------+----+-----+------------+-----+-------+-----+-----+------+--------+\n",
      "|    null|null| null|        null| null|   null| null| null|  null|       M|\n",
      "|T12345AZ|1949|Teste|       Teste|Teste|      5|    1|  151| Teste|       I|\n",
      "+--------+----+-----+------------+-----+-------+-----+-----+------+--------+\n",
      "\n"
     ]
    }
   ],
   "source": [
    "df_plane8 = (df_planes_teste.withColumn(\"qa_seats\",\n",
    "                when((df_planes_teste.seats.isNull()), \"M\")\n",
    "                .when(~(df_planes_teste.seats.between(2, 500)), \"I\")\n",
    "                .when((df_planes_teste.seats.cast(\"int\").isNull()), \"A\")\n",
    "            .otherwise(lit(None)))\n",
    "            )\n",
    "\n",
    "df_plane8.filter(df_plane8.qa_seats.isNotNull()).show()"
   ]
  },
  {
   "cell_type": "markdown",
   "id": "2c99b07d",
   "metadata": {},
   "source": [
    "#### Sumarizando Casos"
   ]
  },
  {
   "cell_type": "code",
   "execution_count": 53,
   "id": "f13bd94a",
   "metadata": {},
   "outputs": [
    {
     "name": "stdout",
     "output_type": "stream",
     "text": [
      "+-----+\n",
      "|seats|\n",
      "+-----+\n",
      "| null|\n",
      "|    1|\n",
      "|    2|\n",
      "|    4|\n",
      "|    5|\n",
      "|    6|\n",
      "|    7|\n",
      "|    8|\n",
      "|   14|\n",
      "|   20|\n",
      "|   32|\n",
      "|   55|\n",
      "|   80|\n",
      "|   95|\n",
      "|  100|\n",
      "|  128|\n",
      "|  140|\n",
      "|  142|\n",
      "|  145|\n",
      "|  147|\n",
      "+-----+\n",
      "only showing top 20 rows\n",
      "\n",
      "+--------+--------+\n",
      "|qa_seats|count(1)|\n",
      "+--------+--------+\n",
      "|    null|    2628|\n",
      "|       M|       1|\n",
      "|       I|       1|\n",
      "+--------+--------+\n",
      "\n"
     ]
    }
   ],
   "source": [
    "df_plane8.createOrReplaceTempView(\"Teste\")\n",
    "\n",
    "spark.sql(\"select DISTINCT seats from Teste order by 1\").show()\n",
    "\n",
    "spark.sql(\"select qa_seats, Count(*) from Teste Group By qa_seats\").show()"
   ]
  },
  {
   "cell_type": "markdown",
   "id": "4946892e",
   "metadata": {},
   "source": [
    "#### Tabela Oficial"
   ]
  },
  {
   "cell_type": "code",
   "execution_count": 23,
   "id": "94e0c3ad",
   "metadata": {},
   "outputs": [
    {
     "name": "stdout",
     "output_type": "stream",
     "text": [
      "+-------+----+----+------------+-----+-------+-----+-----+------+----------+-------+-------+---------------+--------+----------+--------+\n",
      "|tailnum|year|type|manufacturer|model|engines|seats|speed|engine|qa_tailnum|qa_year|qa_type|qa_manufacturer|qa_model|qa_engines|qa_seats|\n",
      "+-------+----+----+------------+-----+-------+-----+-----+------+----------+-------+-------+---------------+--------+----------+--------+\n",
      "+-------+----+----+------------+-----+-------+-----+-----+------+----------+-------+-------+---------------+--------+----------+--------+\n",
      "\n"
     ]
    }
   ],
   "source": [
    "dfo_plane8 = (dfo_plane7.withColumn(\"qa_seats\",\n",
    "                when((dfo_plane7.seats.isNull()), \"M\")\n",
    "                .when(~(dfo_plane7.seats.between(2, 500)), \"I\")\n",
    "                .when((dfo_plane7.seats.cast(\"int\").isNull()), \"A\")\n",
    "            .otherwise(lit(None)))\n",
    "            )\n",
    "\n",
    "dfo_plane8.filter(dfo_plane8.qa_seats.isNotNull()).show()"
   ]
  },
  {
   "cell_type": "markdown",
   "id": "d767cf17",
   "metadata": {},
   "source": [
    "### Pergunta 8 - Planes"
   ]
  },
  {
   "cell_type": "markdown",
   "id": "a60221da",
   "metadata": {},
   "source": [
    "#### Tabela Teste"
   ]
  },
  {
   "cell_type": "code",
   "execution_count": 55,
   "id": "d240d444",
   "metadata": {},
   "outputs": [
    {
     "name": "stdout",
     "output_type": "stream",
     "text": [
      "+-------+----+--------------------+----------------+--------+-------+-----+-----+---------+--------+\n",
      "|tailnum|year|                type|    manufacturer|   model|engines|seats|speed|   engine|qa_speed|\n",
      "+-------+----+--------------------+----------------+--------+-------+-----+-----+---------+--------+\n",
      "| N102UW|1998|Fixed wing multi ...|AIRBUS INDUSTRIE|A320-214|      2|  182| null|Turbo-fan|       M|\n",
      "| N103US|1999|Fixed wing multi ...|AIRBUS INDUSTRIE|A320-214|      2|  182| null|Turbo-fan|       M|\n",
      "| N104UW|1999|Fixed wing multi ...|AIRBUS INDUSTRIE|A320-214|      2|  182| null|Turbo-fan|       M|\n",
      "| N105UW|1999|Fixed wing multi ...|AIRBUS INDUSTRIE|A320-214|      2|  182| null|Turbo-fan|       M|\n",
      "| N107US|1999|Fixed wing multi ...|AIRBUS INDUSTRIE|A320-214|      2|  182| null|Turbo-fan|       M|\n",
      "| N108UW|1999|Fixed wing multi ...|AIRBUS INDUSTRIE|A320-214|      2|  182| null|Turbo-fan|       M|\n",
      "| N109UW|1999|Fixed wing multi ...|AIRBUS INDUSTRIE|A320-214|      2|  182| null|Turbo-fan|       M|\n",
      "| N110UW|1999|Fixed wing multi ...|AIRBUS INDUSTRIE|A320-214|      2|  182| null|Turbo-fan|       M|\n",
      "| N111US|1999|Fixed wing multi ...|AIRBUS INDUSTRIE|A320-214|      2|  182| null|Turbo-fan|       M|\n",
      "| N11206|2000|Fixed wing multi ...|          BOEING| 737-824|      2|  149| null|Turbo-fan|       M|\n",
      "| N112US|1999|Fixed wing multi ...|AIRBUS INDUSTRIE|A320-214|      2|  182| null|Turbo-fan|       M|\n",
      "| N113UW|1999|Fixed wing multi ...|AIRBUS INDUSTRIE|A320-214|      2|  182| null|Turbo-fan|       M|\n",
      "| N114UW|1999|Fixed wing multi ...|AIRBUS INDUSTRIE|A320-214|      2|  182| null|Turbo-fan|       M|\n",
      "| N117UW|2000|Fixed wing multi ...|AIRBUS INDUSTRIE|A320-214|      2|  182| null|Turbo-fan|       M|\n",
      "| N118US|2000|Fixed wing multi ...|AIRBUS INDUSTRIE|A320-214|      2|  182| null|Turbo-fan|       M|\n",
      "| N119US|2000|Fixed wing multi ...|AIRBUS INDUSTRIE|A320-214|      2|  182| null|Turbo-fan|       M|\n",
      "| N1200K|1998|Fixed wing multi ...|          BOEING| 767-332|      2|  330| null|Turbo-fan|       M|\n",
      "| N1201P|1998|Fixed wing multi ...|          BOEING| 767-332|      2|  330| null|Turbo-fan|       M|\n",
      "| N12114|1995|Fixed wing multi ...|          BOEING| 757-224|      2|  178| null|Turbo-jet|       M|\n",
      "| N121DE|1987|Fixed wing multi ...|          BOEING| 767-332|      2|  330| null|Turbo-fan|       M|\n",
      "+-------+----+--------------------+----------------+--------+-------+-----+-----+---------+--------+\n",
      "only showing top 20 rows\n",
      "\n"
     ]
    }
   ],
   "source": [
    "df_plane9 = (df_planes_teste.withColumn(\"qa_speed\",\n",
    "                when((df_planes_teste.speed.isNull()), \"M\")\n",
    "                .when(~(df_planes_teste.speed.between(50, 150)), \"I\")\n",
    "                .when((df_planes_teste.speed.rlike(\"([0-9])\")), \"A\")\n",
    "            .otherwise(None))\n",
    "            )\n",
    "\n",
    "df_plane9.filter(df_plane9.qa_speed.isNotNull()).show()"
   ]
  },
  {
   "cell_type": "markdown",
   "id": "37ccacaa",
   "metadata": {},
   "source": [
    "#### Sumarizando Casos"
   ]
  },
  {
   "cell_type": "code",
   "execution_count": 56,
   "id": "03057455",
   "metadata": {},
   "outputs": [
    {
     "name": "stdout",
     "output_type": "stream",
     "text": [
      "+-----+--------+\n",
      "|speed|count(1)|\n",
      "+-----+--------+\n",
      "| null|    2623|\n",
      "|   90|       2|\n",
      "|  107|       1|\n",
      "|  108|       1|\n",
      "|  112|       1|\n",
      "|  126|       1|\n",
      "|  151|       1|\n",
      "+-----+--------+\n",
      "\n",
      "+--------+--------+\n",
      "|qa_speed|count(1)|\n",
      "+--------+--------+\n",
      "|       M|    2623|\n",
      "|       A|       6|\n",
      "|       I|       1|\n",
      "+--------+--------+\n",
      "\n"
     ]
    }
   ],
   "source": [
    "df_plane9.createOrReplaceTempView(\"Teste\")\n",
    "\n",
    "spark.sql(\"select speed, Count(*) from Teste Group by speed Order by 1 \").show() \n",
    "\n",
    "spark.sql(\"select qa_speed, Count(*) from Teste Group By qa_speed\").show()"
   ]
  },
  {
   "cell_type": "markdown",
   "id": "aaaba7bd",
   "metadata": {},
   "source": [
    "#### Tabela Oficial"
   ]
  },
  {
   "cell_type": "code",
   "execution_count": 24,
   "id": "deb9c875",
   "metadata": {},
   "outputs": [
    {
     "name": "stdout",
     "output_type": "stream",
     "text": [
      "+-------+----+--------------------+----------------+--------+-------+-----+-----+---------+----------+-------+-------+---------------+--------+----------+--------+--------+\n",
      "|tailnum|year|                type|    manufacturer|   model|engines|seats|speed|   engine|qa_tailnum|qa_year|qa_type|qa_manufacturer|qa_model|qa_engines|qa_seats|qa_speed|\n",
      "+-------+----+--------------------+----------------+--------+-------+-----+-----+---------+----------+-------+-------+---------------+--------+----------+--------+--------+\n",
      "| N102UW|1998|Fixed wing multi ...|AIRBUS INDUSTRIE|A320-214|      2|  182| null|Turbo-fan|      null|   null|   null|              C|    null|      null|    null|       M|\n",
      "| N103US|1999|Fixed wing multi ...|AIRBUS INDUSTRIE|A320-214|      2|  182| null|Turbo-fan|      null|   null|   null|              C|    null|      null|    null|       M|\n",
      "| N104UW|1999|Fixed wing multi ...|AIRBUS INDUSTRIE|A320-214|      2|  182| null|Turbo-fan|      null|   null|   null|              C|    null|      null|    null|       M|\n",
      "| N105UW|1999|Fixed wing multi ...|AIRBUS INDUSTRIE|A320-214|      2|  182| null|Turbo-fan|      null|   null|   null|              C|    null|      null|    null|       M|\n",
      "| N107US|1999|Fixed wing multi ...|AIRBUS INDUSTRIE|A320-214|      2|  182| null|Turbo-fan|      null|   null|   null|              C|    null|      null|    null|       M|\n",
      "| N108UW|1999|Fixed wing multi ...|AIRBUS INDUSTRIE|A320-214|      2|  182| null|Turbo-fan|      null|   null|   null|              C|    null|      null|    null|       M|\n",
      "| N109UW|1999|Fixed wing multi ...|AIRBUS INDUSTRIE|A320-214|      2|  182| null|Turbo-fan|      null|   null|   null|              C|    null|      null|    null|       M|\n",
      "| N110UW|1999|Fixed wing multi ...|AIRBUS INDUSTRIE|A320-214|      2|  182| null|Turbo-fan|      null|   null|   null|              C|    null|      null|    null|       M|\n",
      "| N111US|1999|Fixed wing multi ...|AIRBUS INDUSTRIE|A320-214|      2|  182| null|Turbo-fan|      null|   null|   null|              C|    null|      null|    null|       M|\n",
      "| N11206|2000|Fixed wing multi ...|          BOEING| 737-824|      2|  149| null|Turbo-fan|         F|   null|   null|           null|    null|      null|    null|       M|\n",
      "| N112US|1999|Fixed wing multi ...|AIRBUS INDUSTRIE|A320-214|      2|  182| null|Turbo-fan|      null|   null|   null|              C|    null|      null|    null|       M|\n",
      "| N113UW|1999|Fixed wing multi ...|AIRBUS INDUSTRIE|A320-214|      2|  182| null|Turbo-fan|      null|   null|   null|              C|    null|      null|    null|       M|\n",
      "| N114UW|1999|Fixed wing multi ...|AIRBUS INDUSTRIE|A320-214|      2|  182| null|Turbo-fan|      null|   null|   null|              C|    null|      null|    null|       M|\n",
      "| N117UW|2000|Fixed wing multi ...|AIRBUS INDUSTRIE|A320-214|      2|  182| null|Turbo-fan|      null|   null|   null|              C|    null|      null|    null|       M|\n",
      "| N118US|2000|Fixed wing multi ...|AIRBUS INDUSTRIE|A320-214|      2|  182| null|Turbo-fan|      null|   null|   null|              C|    null|      null|    null|       M|\n",
      "| N119US|2000|Fixed wing multi ...|AIRBUS INDUSTRIE|A320-214|      2|  182| null|Turbo-fan|      null|   null|   null|              C|    null|      null|    null|       M|\n",
      "| N1200K|1998|Fixed wing multi ...|          BOEING| 767-332|      2|  330| null|Turbo-fan|      null|   null|   null|           null|    null|      null|    null|       M|\n",
      "| N1201P|1998|Fixed wing multi ...|          BOEING| 767-332|      2|  330| null|Turbo-fan|      null|   null|   null|           null|    null|      null|    null|       M|\n",
      "| N12114|1995|Fixed wing multi ...|          BOEING| 757-224|      2|  178| null|Turbo-jet|         F|   null|   null|           null|    null|      null|    null|       M|\n",
      "| N121DE|1987|Fixed wing multi ...|          BOEING| 767-332|      2|  330| null|Turbo-fan|      null|   null|   null|           null|    null|      null|    null|       M|\n",
      "+-------+----+--------------------+----------------+--------+-------+-----+-----+---------+----------+-------+-------+---------------+--------+----------+--------+--------+\n",
      "only showing top 20 rows\n",
      "\n"
     ]
    }
   ],
   "source": [
    "dfo_plane9 = (dfo_plane8.withColumn(\"qa_speed\",\n",
    "                when((dfo_plane8.speed.isNull()), \"M\")\n",
    "                .when(~(dfo_plane8.speed.between(50, 150)), \"I\")\n",
    "                .when((dfo_plane8.speed.rlike(\"([0-9])\")), \"A\")\n",
    "            .otherwise(None))\n",
    "            )\n",
    "\n",
    "dfo_plane9.filter(dfo_plane9.qa_speed.isNotNull()).show()"
   ]
  },
  {
   "cell_type": "markdown",
   "id": "462291e8",
   "metadata": {},
   "source": [
    "### Pergunta 9 - Planes"
   ]
  },
  {
   "cell_type": "markdown",
   "id": "a31b7447",
   "metadata": {},
   "source": [
    "#### Tabela Teste"
   ]
  },
  {
   "cell_type": "code",
   "execution_count": 16,
   "id": "e5083ab3",
   "metadata": {},
   "outputs": [
    {
     "ename": "NameError",
     "evalue": "name 'df_planes_teste' is not defined",
     "output_type": "error",
     "traceback": [
      "\u001b[1;31m---------------------------------------------------------------------------\u001b[0m",
      "\u001b[1;31mNameError\u001b[0m                                 Traceback (most recent call last)",
      "\u001b[1;32m~\\AppData\\Local\\Temp/ipykernel_21180/1721485007.py\u001b[0m in \u001b[0;36m<module>\u001b[1;34m\u001b[0m\n\u001b[0;32m      1\u001b[0m \u001b[0mEngine\u001b[0m \u001b[1;33m=\u001b[0m \u001b[1;33m[\u001b[0m\u001b[1;34m\"Turbo-fan\"\u001b[0m\u001b[1;33m,\u001b[0m \u001b[1;34m\"Turbo-jet\"\u001b[0m\u001b[1;33m,\u001b[0m \u001b[1;34m\"Turbo-prop\"\u001b[0m\u001b[1;33m,\u001b[0m \u001b[1;34m\"Turbo-shaft\"\u001b[0m\u001b[1;33m,\u001b[0m \u001b[1;34m\"4 Cycle\"\u001b[0m\u001b[1;33m]\u001b[0m\u001b[1;33m\u001b[0m\u001b[1;33m\u001b[0m\u001b[0m\n\u001b[0;32m      2\u001b[0m \u001b[1;33m\u001b[0m\u001b[0m\n\u001b[1;32m----> 3\u001b[1;33m df_plane10 = (df_planes_teste.withColumn(\"qa_engine\",\n\u001b[0m\u001b[0;32m      4\u001b[0m                 \u001b[0mwhen\u001b[0m\u001b[1;33m(\u001b[0m\u001b[1;33m(\u001b[0m\u001b[0mdf_planes_teste\u001b[0m\u001b[1;33m.\u001b[0m\u001b[0mengine\u001b[0m\u001b[1;33m.\u001b[0m\u001b[0misNull\u001b[0m\u001b[1;33m(\u001b[0m\u001b[1;33m)\u001b[0m\u001b[1;33m)\u001b[0m\u001b[1;33m,\u001b[0m \u001b[1;34m\"M\"\u001b[0m\u001b[1;33m)\u001b[0m\u001b[1;33m\u001b[0m\u001b[1;33m\u001b[0m\u001b[0m\n\u001b[0;32m      5\u001b[0m                 \u001b[1;33m.\u001b[0m\u001b[0mwhen\u001b[0m\u001b[1;33m(\u001b[0m\u001b[1;33m~\u001b[0m\u001b[1;33m(\u001b[0m\u001b[0mdf_planes_teste\u001b[0m\u001b[1;33m.\u001b[0m\u001b[0mengine\u001b[0m\u001b[1;33m.\u001b[0m\u001b[0misin\u001b[0m\u001b[1;33m(\u001b[0m\u001b[0mEngine\u001b[0m\u001b[1;33m)\u001b[0m\u001b[1;33m)\u001b[0m\u001b[1;33m,\u001b[0m \u001b[1;34m\"C\"\u001b[0m\u001b[1;33m)\u001b[0m\u001b[1;33m\u001b[0m\u001b[1;33m\u001b[0m\u001b[0m\n",
      "\u001b[1;31mNameError\u001b[0m: name 'df_planes_teste' is not defined"
     ]
    }
   ],
   "source": [
    "Engine = [\"Turbo-fan\", \"Turbo-jet\", \"Turbo-prop\", \"Turbo-shaft\", \"4 Cycle\"]\n",
    "\n",
    "df_plane10 = (df_planes_teste.withColumn(\"qa_engine\",\n",
    "                when((df_planes_teste.engine.isNull()), \"M\")\n",
    "                .when(~(df_planes_teste.engine.isin(Engine)), \"C\")\n",
    "            .otherwise(None))\n",
    "            )\n",
    "\n",
    "df_plane10.filter(df_plane10.qa_engine.isNotNull()).show()"
   ]
  },
  {
   "cell_type": "markdown",
   "id": "e683a44f",
   "metadata": {},
   "source": [
    "#### Sumarizando Casos"
   ]
  },
  {
   "cell_type": "code",
   "execution_count": 59,
   "id": "75d527db",
   "metadata": {},
   "outputs": [
    {
     "name": "stdout",
     "output_type": "stream",
     "text": [
      "+-------------+--------+\n",
      "|       engine|count(1)|\n",
      "+-------------+--------+\n",
      "|         null|       1|\n",
      "|      4 Cycle|       1|\n",
      "|Reciprocating|      10|\n",
      "|        Teste|       1|\n",
      "|    Turbo-fan|    2127|\n",
      "|    Turbo-jet|     450|\n",
      "|   Turbo-prop|      37|\n",
      "|  Turbo-shaft|       3|\n",
      "+-------------+--------+\n",
      "\n",
      "+---------+--------+\n",
      "|qa_engine|count(1)|\n",
      "+---------+--------+\n",
      "|     null|    2618|\n",
      "|        C|      11|\n",
      "|        M|       1|\n",
      "+---------+--------+\n",
      "\n"
     ]
    }
   ],
   "source": [
    "df_plane10.createOrReplaceTempView(\"Teste\")\n",
    "\n",
    "spark.sql(\"select engine, Count(*) from Teste Group by engine Order by 1 \").show() \n",
    "\n",
    "spark.sql(\"select qa_engine, Count(*) from Teste Group By qa_engine\").show()"
   ]
  },
  {
   "cell_type": "markdown",
   "id": "eabea5d7",
   "metadata": {},
   "source": [
    "#### Tabela Oficial"
   ]
  },
  {
   "cell_type": "code",
   "execution_count": 25,
   "id": "d1957ac8",
   "metadata": {},
   "outputs": [
    {
     "name": "stdout",
     "output_type": "stream",
     "text": [
      "+-------+----+--------------------+------------------+-------------+-------+-----+-----+-------------+----------+-------+-------+---------------+--------+----------+--------+--------+---------+\n",
      "|tailnum|year|                type|      manufacturer|        model|engines|seats|speed|       engine|qa_tailnum|qa_year|qa_type|qa_manufacturer|qa_model|qa_engines|qa_seats|qa_speed|qa_engine|\n",
      "+-------+----+--------------------+------------------+-------------+-------+-----+-----+-------------+----------+-------+-------+---------------+--------+----------+--------+--------+---------+\n",
      "| N201AA|1959|Fixed wing single...|            CESSNA|          150|      1|    2|   90|Reciprocating|      null|   null|   null|           null|    null|      null|    null|       A|        C|\n",
      "| N202AA|1980|Fixed wing multi ...|            CESSNA|         421C|      2|    8|   90|Reciprocating|      null|   null|   null|           null|    null|      null|    null|       A|        C|\n",
      "| N425AA|1968|Fixed wing single...|             PIPER|    PA-28-180|      1|    4|  107|Reciprocating|      null|   null|   null|           null|    null|      null|    null|       A|        C|\n",
      "| N508JB|2007|Fixed wing single...|CIRRUS DESIGN CORP|         SR22|      1|    4| null|Reciprocating|      null|   null|   null|              C|    null|      null|    null|       M|        C|\n",
      "| N520AA|1985|Fixed wing single...|      KILDALL GARY|    FALCON-XP|      1|    2| null|Reciprocating|      null|   null|   null|           null|    null|      null|    null|       M|        C|\n",
      "| N528AA|null|Fixed wing single...|   LAMBERT RICHARD|    FALCON XP|      1|    2| null|Reciprocating|      null|      M|   null|           null|    null|      null|    null|       M|        C|\n",
      "| N531JB|null|Fixed wing single...|     BARKER JACK L|ZODIAC 601HDS|      1|    2| null|Reciprocating|      null|      M|   null|              C|    null|      null|    null|       M|        C|\n",
      "| N545AA|1976|Fixed wing single...|             PIPER|   PA-32R-300|      1|    7|  126|Reciprocating|      null|   null|   null|           null|    null|      null|    null|       A|        C|\n",
      "| N557AA|1993|Fixed wing single...|        MARZ BARRY|    KITFOX IV|      1|    2| null|Reciprocating|      null|   null|   null|           null|    null|      null|    null|       M|        C|\n",
      "| N575AA|1963|Fixed wing single...|            CESSNA|   210-5(205)|      1|    6| null|Reciprocating|      null|   null|   null|           null|    null|      null|    null|       M|        C|\n",
      "+-------+----+--------------------+------------------+-------------+-------+-----+-----+-------------+----------+-------+-------+---------------+--------+----------+--------+--------+---------+\n",
      "\n",
      "+---------+-----+\n",
      "|qa_engine|count|\n",
      "+---------+-----+\n",
      "|     null| 2618|\n",
      "|        C|   10|\n",
      "+---------+-----+\n",
      "\n"
     ]
    }
   ],
   "source": [
    "Engine = [\"Turbo-fan\", \"Turbo-jet\", \"Turbo-prop\", \"Turbo-shaft\", \"4 Cycle\"]\n",
    "\n",
    "dfo_plane10 = (dfo_plane9.withColumn(\"qa_engine\",\n",
    "                when((dfo_plane9.engine.isNull()), \"M\")\n",
    "                .when(~(dfo_plane9.engine.isin(Engine)), \"C\")\n",
    "            .otherwise(None))\n",
    "            )\n",
    "\n",
    "dfo_plane10.filter(dfo_plane10.qa_engine.isNotNull()).show()\n",
    "\n",
    "dfo_plane10.groupBy(col(\"qa_engine\")).count().distinct().orderBy(col(\"qa_engine\")).show(100)"
   ]
  },
  {
   "cell_type": "markdown",
   "id": "1c878f29",
   "metadata": {},
   "source": [
    "#### FINALIZANDO DATASET PLANES TO PARQUET FILE"
   ]
  },
  {
   "cell_type": "code",
   "execution_count": 30,
   "id": "91fbfcac",
   "metadata": {},
   "outputs": [],
   "source": [
    "dfo_plane10.write.options(header='True', delimiter=',').csv(\"C:/Users/amarti40/OneDrive - Capgemini/Desktop/ACELERAÇÃO PYSPARK/Semana 2 - Desafio Qualidade/Outputs_planes.csv\")\n",
    "dfo_plane10.write.parquet(\"C:/Users/amarti40/OneDrive - Capgemini/Desktop/ACELERAÇÃO PYSPARK/Semana 2 - Desafio Qualidade/Outputs_planes.parquet\")"
   ]
  },
  {
   "cell_type": "markdown",
   "id": "4f08d3ab",
   "metadata": {},
   "source": [
    "## Dia 4 - Pergutas 1 [Flights] - 6 [Flights]"
   ]
  },
  {
   "cell_type": "markdown",
   "id": "cc98f6c9",
   "metadata": {},
   "source": [
    "### Importando Dataset Airports"
   ]
  },
  {
   "cell_type": "markdown",
   "id": "6455a822",
   "metadata": {},
   "source": [
    "#### Meteodo Importação 1"
   ]
  },
  {
   "cell_type": "code",
   "execution_count": 63,
   "id": "eec4ec42",
   "metadata": {},
   "outputs": [],
   "source": [
    "\n",
    "df_flights_NoFormat =  (spark.read.options(header='True', delimiter=',')\n",
    "                          .csv(\"C:/Users/amarti40/OneDrive - Capgemini/Desktop/ACELERAÇÃO PYSPARK/Semana 2 - Desafio Qualidade/Data/flights.csv\"))\n"
   ]
  },
  {
   "cell_type": "code",
   "execution_count": 26,
   "id": "835d25bb",
   "metadata": {},
   "outputs": [
    {
     "ename": "NameError",
     "evalue": "name 'df_flights_NoFormat' is not defined",
     "output_type": "error",
     "traceback": [
      "\u001b[1;31m---------------------------------------------------------------------------\u001b[0m",
      "\u001b[1;31mNameError\u001b[0m                                 Traceback (most recent call last)",
      "\u001b[1;32m~\\AppData\\Local\\Temp/ipykernel_21180/791157460.py\u001b[0m in \u001b[0;36m<module>\u001b[1;34m\u001b[0m\n\u001b[0;32m     20\u001b[0m \u001b[0mdf_flights\u001b[0m\u001b[1;33m=\u001b[0m\u001b[0mspark\u001b[0m\u001b[1;33m.\u001b[0m\u001b[0mcreateDataFrame\u001b[0m\u001b[1;33m(\u001b[0m\u001b[1;33m[\u001b[0m\u001b[1;33m]\u001b[0m\u001b[1;33m,\u001b[0m\u001b[0mschema\u001b[0m\u001b[1;33m)\u001b[0m\u001b[1;33m\u001b[0m\u001b[1;33m\u001b[0m\u001b[0m\n\u001b[0;32m     21\u001b[0m \u001b[1;33m\u001b[0m\u001b[0m\n\u001b[1;32m---> 22\u001b[1;33m df_flights = df_flights.union(df_flights_NoFormat[['year', 'month', 'day','hour', 'minute','dep_time','arr_time', 'dep_delay', 'arr_delay', 'carrier', 'tailnum', 'flight',\n\u001b[0m\u001b[0;32m     23\u001b[0m 'origin','dest', 'air_time', 'distance']])\n\u001b[0;32m     24\u001b[0m \u001b[1;33m\u001b[0m\u001b[0m\n",
      "\u001b[1;31mNameError\u001b[0m: name 'df_flights_NoFormat' is not defined"
     ]
    }
   ],
   "source": [
    "schema = (StructType()\n",
    "              .add(\"year\",IntegerType(),True)\n",
    "              .add(\"month\",IntegerType(),True)\n",
    "              .add(\"day\",IntegerType(),True)\n",
    "              .add(\"hour\",IntegerType(),True)\n",
    "              .add(\"minute\",IntegerType(),True)\n",
    "              .add(\"dep_time\",StringType(),True)\n",
    "              .add(\"arr_time\",StringType(),True)\n",
    "              .add(\"dep_delay\",IntegerType(),True)\n",
    "              .add(\"arr_delay\",IntegerType(),True)\n",
    "              .add(\"carrier\",StringType(),True) \n",
    "              .add(\"tailnum\",StringType(),True) \n",
    "              .add(\"flight\",StringType(),True) \n",
    "              .add(\"origin\",StringType(),True)\n",
    "              .add(\"dest\",StringType(),True)\n",
    "              .add(\"air_time\",IntegerType(),True)\n",
    "              .add(\"distance\",IntegerType(),True)\n",
    "         )\n",
    "\n",
    "df_flights=spark.createDataFrame([],schema)\n",
    "                 \n",
    "df_flights = df_flights.union(df_flights_NoFormat[['year', 'month', 'day','hour', 'minute','dep_time','arr_time', 'dep_delay', 'arr_delay', 'carrier', 'tailnum', 'flight',\n",
    "'origin','dest', 'air_time', 'distance']])\n",
    "\n",
    "df_flights.show()\n",
    "df_flights.printSchema()"
   ]
  },
  {
   "cell_type": "markdown",
   "id": "ecbb673f",
   "metadata": {},
   "source": [
    "#### Meteodo Importação 2"
   ]
  },
  {
   "cell_type": "code",
   "execution_count": 27,
   "id": "c157390a",
   "metadata": {},
   "outputs": [
    {
     "name": "stdout",
     "output_type": "stream",
     "text": [
      "+----+-----+---+----+------+--------+--------+---------+---------+-------+-------+------+------+----+--------+--------+\n",
      "|year|month|day|hour|minute|dep_time|arr_time|dep_delay|arr_delay|carrier|tailnum|flight|origin|dest|air_time|distance|\n",
      "+----+-----+---+----+------+--------+--------+---------+---------+-------+-------+------+------+----+--------+--------+\n",
      "|2014|   12|  8|   6|    58|     658|     935|       -7|       -5|     VX| N846VA|  1780|   SEA| LAX|     132|     954|\n",
      "|2014|    1| 22|  10|    40|    1040|    1505|        5|        5|     AS| N559AS|   851|   SEA| HNL|     360|    2677|\n",
      "|2014|    3|  9|  14|    43|    1443|    1652|       -2|        2|     VX| N847VA|   755|   SEA| SFO|     111|     679|\n",
      "|2014|    4|  9|  17|     5|    1705|    1839|       45|       34|     WN| N360SW|   344|   PDX| SJC|      83|     569|\n",
      "|2014|    3|  9|   7|    54|     754|    1015|       -1|        1|     AS| N612AS|   522|   SEA| BUR|     127|     937|\n",
      "|2014|    1| 15|  10|    37|    1037|    1352|        7|        2|     WN| N646SW|    48|   PDX| DEN|     121|     991|\n",
      "|2014|    7|  2|   8|    47|     847|    1041|       42|       51|     WN| N422WN|  1520|   PDX| OAK|      90|     543|\n",
      "|2014|    5| 12|  16|    55|    1655|    1842|       -5|      -18|     VX| N361VA|   755|   SEA| SFO|      98|     679|\n",
      "|2014|    4| 19|  12|    36|    1236|    1508|       -4|       -7|     AS| N309AS|   490|   SEA| SAN|     135|    1050|\n",
      "|2014|   11| 19|  18|    12|    1812|    2352|       -3|       -4|     AS| N564AS|    26|   SEA| ORD|     198|    1721|\n",
      "|2014|   11|  8|  16|    53|    1653|    1924|       -2|       -1|     AS| N323AS|   448|   SEA| LAX|     130|     954|\n",
      "|2014|    8|  3|  11|    20|    1120|    1415|        0|        2|     AS| N305AS|   656|   SEA| PHX|     154|    1107|\n",
      "|2014|   10| 30|   8|    11|     811|    1038|       21|       29|     AS| N433AS|   608|   SEA| LAS|     127|     867|\n",
      "|2014|   11| 12|  23|    46|    2346|     217|       -4|      -28|     AS| N765AS|   121|   SEA| ANC|     183|    1448|\n",
      "|2014|   10| 31|  13|    14|    1314|    1544|       89|      111|     AS| N713AS|   306|   SEA| SFO|     129|     679|\n",
      "|2014|    1| 29|  20|     9|    2009|    2159|        3|        9|     UA| N27205|  1458|   PDX| SFO|      90|     550|\n",
      "|2014|   12| 17|  20|    15|    2015|    2150|       50|       41|     AS| N626AS|   368|   SEA| SMF|      76|     605|\n",
      "|2014|    8| 11|  10|    17|    1017|    1613|       -3|       -7|     WN| N8634A|   827|   SEA| MDW|     216|    1733|\n",
      "|2014|    1| 13|  21|    56|    2156|     607|       -9|      -15|     AS| N597AS|    24|   SEA| BOS|     290|    2496|\n",
      "|2014|    6|  5|  17|    33|    1733|    1945|      -12|      -10|     OO| N215AG|  3488|   PDX| BUR|     111|     817|\n",
      "+----+-----+---+----+------+--------+--------+---------+---------+-------+-------+------+------+----+--------+--------+\n",
      "only showing top 20 rows\n",
      "\n",
      "root\n",
      " |-- year: integer (nullable = true)\n",
      " |-- month: integer (nullable = true)\n",
      " |-- day: integer (nullable = true)\n",
      " |-- hour: integer (nullable = true)\n",
      " |-- minute: integer (nullable = true)\n",
      " |-- dep_time: string (nullable = true)\n",
      " |-- arr_time: string (nullable = true)\n",
      " |-- dep_delay: integer (nullable = true)\n",
      " |-- arr_delay: integer (nullable = true)\n",
      " |-- carrier: string (nullable = true)\n",
      " |-- tailnum: string (nullable = true)\n",
      " |-- flight: string (nullable = true)\n",
      " |-- origin: string (nullable = true)\n",
      " |-- dest: string (nullable = true)\n",
      " |-- air_time: integer (nullable = true)\n",
      " |-- distance: integer (nullable = true)\n",
      "\n"
     ]
    }
   ],
   "source": [
    "schema = (StructType()\n",
    "            .add(\"year\",IntegerType(),True)\n",
    "            .add(\"month\",IntegerType(),True)\n",
    "            .add(\"day\",IntegerType(),True)\n",
    "            .add(\"dep_time\",StringType(),True)\n",
    "            .add(\"dep_delay\",IntegerType(),True)  \n",
    "            .add(\"arr_time\",StringType(),True)\n",
    "            .add(\"arr_delay\",IntegerType(),True)\n",
    "            .add(\"carrier\",StringType(),True) \n",
    "            .add(\"tailnum\",StringType(),True) \n",
    "            .add(\"flight\",StringType(),True) \n",
    "            .add(\"origin\",StringType(),True)\n",
    "            .add(\"dest\",StringType(),True)\n",
    "            .add(\"air_time\",IntegerType(),True)\n",
    "            .add(\"distance\",IntegerType(),True)\n",
    "            .add(\"hour\",IntegerType(),True)\n",
    "            .add(\"minute\",IntegerType(),True)\n",
    "         )\n",
    "df_flights = (spark.read.format(\"csv\") \n",
    "                  .option(\"header\", True) \n",
    "                  .schema(schema) \n",
    "                  .load(\"C:/Users/amarti40/OneDrive - Capgemini/Desktop/ACELERAÇÃO PYSPARK/Data/flights.csv\")\n",
    "                 )\n",
    "                 \n",
    "df_flights=df_flights['year', 'month', 'day','hour', 'minute','dep_time','arr_time', 'dep_delay', 'arr_delay', 'carrier', 'tailnum', 'flight',\n",
    "'origin','dest', 'air_time', 'distance']\n",
    "\n",
    "df_flights.show()\n",
    "df_flights.printSchema()"
   ]
  },
  {
   "cell_type": "markdown",
   "id": "39ec670a",
   "metadata": {},
   "source": [
    "### Inserindo linhas com erros"
   ]
  },
  {
   "cell_type": "code",
   "execution_count": 83,
   "id": "877803b9",
   "metadata": {},
   "outputs": [
    {
     "name": "stdout",
     "output_type": "stream",
     "text": [
      "+----+-----+----+----+------+--------+--------+---------+---------+-------+-------+------+------+----+--------+--------+\n",
      "|year|month|day |hour|minute|dep_time|arr_time|dep_delay|arr_delay|carrier|tailnum|flight|origin|dest|air_time|distance|\n",
      "+----+-----+----+----+------+--------+--------+---------+---------+-------+-------+------+------+----+--------+--------+\n",
      "|null|null |null|null|null  |null    |null    |null     |null     |null   |null   |null  |null  |null|null    |null    |\n",
      "|1949|13   |32  |25  |60    |40      |5       |0        |0        |ASS    |N559ASS|1     |SEAA  |HNLL|19      |49      |\n",
      "|1949|0    |0   |-1  |-1    |2540    |-505    |0        |0        |A      |I559   |85188 |SE    |HN  |501     |3001    |\n",
      "+----+-----+----+----+------+--------+--------+---------+---------+-------+-------+------+------+----+--------+--------+\n",
      "\n"
     ]
    }
   ],
   "source": [
    "Columns = ['year', 'month', 'day','hour', 'minute','dep_time','arr_time', 'dep_delay', 'arr_delay', 'carrier', 'tailnum', 'flight',\n",
    "'origin','dest', 'air_time', 'distance']\n",
    "Vals = ([(None, None, None, None, None, None, None, None, None, None, None, None, None, None, None, None)\n",
    "        ,(1949, 13, 32, 25, 60, 40, 5, 0, 0, \"ASS\", \"N559ASS\", 1, \"SEAA\", \"HNLL\", 19, 49)\n",
    "        ,(1949, 0, 0, -1, -1, 2540, -505, 0, 0, \"A\", \"I559\", 85188, \"SE\", \"HN\", 501, 3001)])\n",
    "\n",
    "newRow = spark.createDataFrame(Vals, Columns)\n",
    "\n",
    "df_flights_Testes = df_flights.union(newRow)\n",
    "\n",
    "df_flights_Testes.filter((df_flights_Testes.year == 1949) | (df_flights_Testes.year.isNull())).show(truncate=False) "
   ]
  },
  {
   "cell_type": "markdown",
   "id": "899135aa",
   "metadata": {},
   "source": [
    "### Pergunta 1 - Flights"
   ]
  },
  {
   "cell_type": "markdown",
   "id": "31adbb67",
   "metadata": {},
   "source": [
    "#### Tabela Testes"
   ]
  },
  {
   "cell_type": "code",
   "execution_count": 156,
   "id": "dc18e478",
   "metadata": {},
   "outputs": [
    {
     "name": "stdout",
     "output_type": "stream",
     "text": [
      "+----+-----+----+----+------+--------+--------+---------+---------+-------+-------+------+------+----+--------+--------+-----------------+\n",
      "|year|month| day|hour|minute|dep_time|arr_time|dep_delay|arr_delay|carrier|tailnum|flight|origin|dest|air_time|distance|qa_year_month_day|\n",
      "+----+-----+----+----+------+--------+--------+---------+---------+-------+-------+------+------+----+--------+--------+-----------------+\n",
      "|null| null|null|null|  null|    null|    null|     null|     null|   null|   null|  null|  null|null|    null|    null|         MY_MM_MD|\n",
      "|1949|   13|  32|  25|    60|      40|       5|        0|        0|    ASS|N559ASS|     1|  SEAA|HNLL|      19|      49|         IY_IM_ID|\n",
      "|1949|    0|   0|  -1|    -1|    2540|    -505|        0|        0|      A|   I559| 85188|    SE|  HN|     501|    3001|         IY_IM_ID|\n",
      "+----+-----+----+----+------+--------+--------+---------+---------+-------+-------+------+------+----+--------+--------+-----------------+\n",
      "\n"
     ]
    }
   ],
   "source": [
    "df_flights_Testes = (df_flights_Testes.withColumn(\"qa_year_month_day\",\n",
    "                when((df_flights_Testes.year.isNull()),lit(\"MY\"))\n",
    "                .when((df_flights_Testes.year < 1950), lit(\"IY\"))\n",
    "                .otherwise(None))\n",
    "            )\n",
    "\n",
    "df_flights_Testes = (df_flights_Testes.withColumn(\"qa_year_month_day\",\n",
    "                when((df_flights_Testes.month.isNull()), concat_ws(\"_\", df_flights_Testes.qa_year_month_day, lit(\"MM\")))       \n",
    "                .when(~(df_flights_Testes.month.between(1,12)), concat_ws(\"_\", df_flights_Testes.qa_year_month_day, lit(\"IM\")))                \n",
    "                .otherwise(df_flights_Testes.qa_year_month_day))\n",
    "            )\n",
    "\n",
    "df_flights_Testes = (df_flights_Testes.withColumn(\"qa_year_month_day\",\n",
    "                when((df_flights_Testes.day.isNull()), concat_ws(\"_\", df_flights_Testes.qa_year_month_day, lit(\"MD\")))\n",
    "                .when(((~(df_flights_Testes.day.between(1,31))&(df_flights_Testes.month != 2)))\n",
    "                      |(((df_flights_Testes.day > 29) & (df_flights_Testes.month == 2)))\n",
    "                      , concat_ws(\"_\", df_flights_Testes.qa_year_month_day, lit(\"ID\")))\n",
    "                .otherwise(df_flights_Testes.qa_year_month_day))\n",
    "            )\n",
    "\n",
    "\n",
    "df_flights_Testes.filter(df_flights_Testes.qa_year_month_day.isNotNull()).show()\n"
   ]
  },
  {
   "cell_type": "markdown",
   "id": "f8a0311e",
   "metadata": {},
   "source": [
    "#### Sumarizando Casos"
   ]
  },
  {
   "cell_type": "code",
   "execution_count": 157,
   "id": "26d664f1",
   "metadata": {},
   "outputs": [
    {
     "name": "stdout",
     "output_type": "stream",
     "text": [
      "+-----------------+--------+\n",
      "|qa_year_month_day|count(1)|\n",
      "+-----------------+--------+\n",
      "|             null|   10000|\n",
      "|         IY_IM_ID|       2|\n",
      "|         MY_MM_MD|       1|\n",
      "+-----------------+--------+\n",
      "\n"
     ]
    }
   ],
   "source": [
    "df_flights_Testes.createOrReplaceTempView(\"Teste\")\n",
    "\n",
    "spark.sql(\"select qa_year_month_day, Count(*) from Teste Group By qa_year_month_day  Order by 1\").show()\n"
   ]
  },
  {
   "cell_type": "markdown",
   "id": "7fad1163",
   "metadata": {},
   "source": [
    "#### Tabela Oficial"
   ]
  },
  {
   "cell_type": "code",
   "execution_count": 28,
   "id": "c2ce5fbe",
   "metadata": {},
   "outputs": [
    {
     "name": "stdout",
     "output_type": "stream",
     "text": [
      "+----+-----+---+----+------+--------+--------+---------+---------+-------+-------+------+------+----+--------+--------+-----------------+\n",
      "|year|month|day|hour|minute|dep_time|arr_time|dep_delay|arr_delay|carrier|tailnum|flight|origin|dest|air_time|distance|qa_year_month_day|\n",
      "+----+-----+---+----+------+--------+--------+---------+---------+-------+-------+------+------+----+--------+--------+-----------------+\n",
      "+----+-----+---+----+------+--------+--------+---------+---------+-------+-------+------+------+----+--------+--------+-----------------+\n",
      "\n"
     ]
    }
   ],
   "source": [
    "dfo_flights = (df_flights.withColumn(\"qa_year_month_day\",\n",
    "                when((df_flights.year.isNull()),lit(\"MY\"))\n",
    "                .when((df_flights.year < 1950), lit(\"IY\"))\n",
    "                .otherwise(None))\n",
    "            )\n",
    "\n",
    "dfo_flights = (dfo_flights.withColumn(\"qa_year_month_day\",\n",
    "                when((dfo_flights.month.isNull()), concat_ws(\"_\", dfo_flights.qa_year_month_day, lit(\"MM\")))       \n",
    "                .when(~(dfo_flights.month.between(1,12)), concat_ws(\"_\", dfo_flights.qa_year_month_day, lit(\"IM\")))                \n",
    "                .otherwise(dfo_flights.qa_year_month_day))\n",
    "            )\n",
    "\n",
    "dfo_flights = (dfo_flights.withColumn(\"qa_year_month_day\",\n",
    "                when((dfo_flights.day.isNull()), concat_ws(\"_\", dfo_flights.qa_year_month_day, lit(\"MD\")))\n",
    "                .when(((~(dfo_flights.day.between(1,31))&(dfo_flights.month != 2)))\n",
    "                      |(((dfo_flights.day > 29) & (dfo_flights.month == 2)))\n",
    "                      , concat_ws(\"_\", dfo_flights.qa_year_month_day, lit(\"ID\")))\n",
    "                .otherwise(dfo_flights.qa_year_month_day))\n",
    "            )\n",
    "\n",
    "\n",
    "dfo_flights.filter(dfo_flights.qa_year_month_day.isNotNull()).show()\n"
   ]
  },
  {
   "cell_type": "markdown",
   "id": "f0bb0368",
   "metadata": {},
   "source": [
    "### Pergunta 2 - Flights"
   ]
  },
  {
   "cell_type": "markdown",
   "id": "50f8da1f",
   "metadata": {},
   "source": [
    "#### Tabela Testes"
   ]
  },
  {
   "cell_type": "code",
   "execution_count": 179,
   "id": "f082ebb8",
   "metadata": {},
   "outputs": [
    {
     "name": "stdout",
     "output_type": "stream",
     "text": [
      "+----+-----+---+----+------+--------+--------+---------+---------+-------+-------+------+------+----+--------+--------+-----------------+--------------+\n",
      "|year|month|day|hour|minute|dep_time|arr_time|dep_delay|arr_delay|carrier|tailnum|flight|origin|dest|air_time|distance|qa_year_month_day|qa_hour_minute|\n",
      "+----+-----+---+----+------+--------+--------+---------+---------+-------+-------+------+------+----+--------+--------+-----------------+--------------+\n",
      "|2014|    3|  4|null|  null|      NA|      NA|     null|     null|     UA|     NA|   156|   SEA| DEN|    null|    1024|             null|         MH_MM|\n",
      "|2014|    2| 12|null|  null|      NA|      NA|     null|     null|     AS| N527AS|     2|   SEA| DCA|    null|    2329|             null|         MH_MM|\n",
      "|2014|    7|  1|null|  null|      NA|      NA|     null|     null|     WN| N8323C|  2485|   SEA| MDW|    null|    1733|             null|         MH_MM|\n",
      "|2014|    4| 30|null|  null|      NA|      NA|     null|     null|     AS| N526AS|   566|   PDX| LAX|    null|     834|             null|         MH_MM|\n",
      "|2014|    1|  3|null|  null|      NA|      NA|     null|     null|     US|     NA|   553|   SEA| PHL|    null|    2378|             null|         MH_MM|\n",
      "|2014|    8|  7|null|  null|      NA|      NA|     null|     null|     AS| N579AS|   867|   SEA| OGG|    null|    2640|             null|         MH_MM|\n",
      "|2014|    8| 11|null|  null|      NA|      NA|     null|     null|     OO| N689CA|  4528|   PDX| SEA|    null|     129|             null|         MH_MM|\n",
      "|2014|    1|  2|null|  null|      NA|      NA|     null|     null|     UA|     NA|   212|   SEA| EWR|    null|    2402|             null|         MH_MM|\n",
      "|2014|    5| 15|null|  null|      NA|      NA|     null|     null|     OO| N917SW|  6250|   PDX| LAX|    null|     834|             null|         MH_MM|\n",
      "|2014|    2|  7|null|  null|      NA|      NA|     null|     null|     OO| N594SW|  5553|   PDX| SFO|    null|     550|             null|         MH_MM|\n",
      "|2014|    6|  6|null|  null|      NA|      NA|     null|     null|     WN| N645SW|   956|   PDX| OAK|    null|     543|             null|         MH_MM|\n",
      "|2014|    1|  5|null|  null|      NA|      NA|     null|     null|     UA|     NA|   758|   PDX| IAH|    null|    1825|             null|         MH_MM|\n",
      "|2014|    1|  6|null|  null|      NA|      NA|     null|     null|     UA|     NA|  1729|   SEA| DEN|    null|    1024|             null|         MH_MM|\n",
      "|2014|    3| 30|null|  null|      NA|      NA|     null|     null|     US|     NA|   500|   SEA| PHX|    null|    1107|             null|         MH_MM|\n",
      "|2014|    2|  9|null|  null|      NA|      NA|     null|     null|     OO| N580SW|  5438|   PDX| EUG|    null|     106|             null|         MH_MM|\n",
      "|2014|    2|  9|null|  null|      NA|      NA|     null|     null|     OO| N297SW|  5342|   SEA| PDX|    null|     129|             null|         MH_MM|\n",
      "|2014|    1|  1|null|  null|      NA|      NA|     null|     null|     OO| N295SW|  5403|   PDX| EUG|    null|     106|             null|         MH_MM|\n",
      "|2014|    2| 17|null|  null|      NA|      NA|     null|     null|     AA| N3LCAA|  1236|   SEA| ORD|    null|    1721|             null|         MH_MM|\n",
      "|2014|    1|  5|null|  null|      NA|      NA|     null|     null|     UA|     NA|   995|   PDX| SFO|    null|     550|             null|         MH_MM|\n",
      "|2014|    5| 26|null|  null|      NA|      NA|     null|     null|     UA|     NA|   690|   SEA| ORD|    null|    1721|             null|         MH_MM|\n",
      "+----+-----+---+----+------+--------+--------+---------+---------+-------+-------+------+------+----+--------+--------+-----------------+--------------+\n",
      "only showing top 20 rows\n",
      "\n"
     ]
    }
   ],
   "source": [
    "df_flights_Testes = (df_flights_Testes.withColumn(\"qa_hour_minute\",\n",
    "                when((df_flights_Testes.hour.isNull()), lit(\"MH\"))       \n",
    "                .when(~(df_flights_Testes.hour.between(0,24)), lit(\"IH\"))                \n",
    "                .otherwise(None))\n",
    "            )\n",
    "\n",
    "df_flights_Testes = (df_flights_Testes.withColumn(\"qa_hour_minute\",\n",
    "                when((df_flights_Testes.minute.isNull()), concat_ws(\"_\", df_flights_Testes.qa_hour_minute, lit(\"MM\")))       \n",
    "                .when(~(df_flights_Testes.minute.between(0,59)), concat_ws(\"_\", df_flights_Testes.qa_hour_minute, lit(\"IM\")))\n",
    "                .otherwise(df_flights_Testes.qa_hour_minute))\n",
    "            )\n",
    "\n",
    "\n",
    "df_flights_Testes.filter(df_flights_Testes.qa_hour_minute.isNotNull()).show()"
   ]
  },
  {
   "cell_type": "markdown",
   "id": "772b36f6",
   "metadata": {},
   "source": [
    "#### Sumarizando Casos"
   ]
  },
  {
   "cell_type": "code",
   "execution_count": 172,
   "id": "ff2d36f8",
   "metadata": {},
   "outputs": [
    {
     "name": "stdout",
     "output_type": "stream",
     "text": [
      "+--------------+--------+\n",
      "|qa_hour_minute|count(1)|\n",
      "+--------------+--------+\n",
      "|          null|    9952|\n",
      "|         MH_MM|      48|\n",
      "+--------------+--------+\n",
      "\n"
     ]
    }
   ],
   "source": [
    "df_flights_Testes.createOrReplaceTempView(\"Teste\")\n",
    "\n",
    "spark.sql(\"select qa_hour_minute, Count(*) from Teste Group By qa_hour_minute  Order by 1\").show()"
   ]
  },
  {
   "cell_type": "markdown",
   "id": "96a54134",
   "metadata": {},
   "source": [
    "#### Tabela Oficial"
   ]
  },
  {
   "cell_type": "code",
   "execution_count": 29,
   "id": "ed4991c0",
   "metadata": {},
   "outputs": [
    {
     "name": "stdout",
     "output_type": "stream",
     "text": [
      "+----+-----+---+----+------+--------+--------+---------+---------+-------+-------+------+------+----+--------+--------+-----------------+--------------+\n",
      "|year|month|day|hour|minute|dep_time|arr_time|dep_delay|arr_delay|carrier|tailnum|flight|origin|dest|air_time|distance|qa_year_month_day|qa_hour_minute|\n",
      "+----+-----+---+----+------+--------+--------+---------+---------+-------+-------+------+------+----+--------+--------+-----------------+--------------+\n",
      "|2014|    3|  4|null|  null|      NA|      NA|     null|     null|     UA|     NA|   156|   SEA| DEN|    null|    1024|             null|         MH_MM|\n",
      "|2014|    2| 12|null|  null|      NA|      NA|     null|     null|     AS| N527AS|     2|   SEA| DCA|    null|    2329|             null|         MH_MM|\n",
      "|2014|    7|  1|null|  null|      NA|      NA|     null|     null|     WN| N8323C|  2485|   SEA| MDW|    null|    1733|             null|         MH_MM|\n",
      "|2014|    4| 30|null|  null|      NA|      NA|     null|     null|     AS| N526AS|   566|   PDX| LAX|    null|     834|             null|         MH_MM|\n",
      "|2014|    1|  3|null|  null|      NA|      NA|     null|     null|     US|     NA|   553|   SEA| PHL|    null|    2378|             null|         MH_MM|\n",
      "|2014|    8|  7|null|  null|      NA|      NA|     null|     null|     AS| N579AS|   867|   SEA| OGG|    null|    2640|             null|         MH_MM|\n",
      "|2014|    8| 11|null|  null|      NA|      NA|     null|     null|     OO| N689CA|  4528|   PDX| SEA|    null|     129|             null|         MH_MM|\n",
      "|2014|    1|  2|null|  null|      NA|      NA|     null|     null|     UA|     NA|   212|   SEA| EWR|    null|    2402|             null|         MH_MM|\n",
      "|2014|    5| 15|null|  null|      NA|      NA|     null|     null|     OO| N917SW|  6250|   PDX| LAX|    null|     834|             null|         MH_MM|\n",
      "|2014|    2|  7|null|  null|      NA|      NA|     null|     null|     OO| N594SW|  5553|   PDX| SFO|    null|     550|             null|         MH_MM|\n",
      "|2014|    6|  6|null|  null|      NA|      NA|     null|     null|     WN| N645SW|   956|   PDX| OAK|    null|     543|             null|         MH_MM|\n",
      "|2014|    1|  5|null|  null|      NA|      NA|     null|     null|     UA|     NA|   758|   PDX| IAH|    null|    1825|             null|         MH_MM|\n",
      "|2014|    1|  6|null|  null|      NA|      NA|     null|     null|     UA|     NA|  1729|   SEA| DEN|    null|    1024|             null|         MH_MM|\n",
      "|2014|    3| 30|null|  null|      NA|      NA|     null|     null|     US|     NA|   500|   SEA| PHX|    null|    1107|             null|         MH_MM|\n",
      "|2014|    2|  9|null|  null|      NA|      NA|     null|     null|     OO| N580SW|  5438|   PDX| EUG|    null|     106|             null|         MH_MM|\n",
      "|2014|    2|  9|null|  null|      NA|      NA|     null|     null|     OO| N297SW|  5342|   SEA| PDX|    null|     129|             null|         MH_MM|\n",
      "|2014|    1|  1|null|  null|      NA|      NA|     null|     null|     OO| N295SW|  5403|   PDX| EUG|    null|     106|             null|         MH_MM|\n",
      "|2014|    2| 17|null|  null|      NA|      NA|     null|     null|     AA| N3LCAA|  1236|   SEA| ORD|    null|    1721|             null|         MH_MM|\n",
      "|2014|    1|  5|null|  null|      NA|      NA|     null|     null|     UA|     NA|   995|   PDX| SFO|    null|     550|             null|         MH_MM|\n",
      "|2014|    5| 26|null|  null|      NA|      NA|     null|     null|     UA|     NA|   690|   SEA| ORD|    null|    1721|             null|         MH_MM|\n",
      "+----+-----+---+----+------+--------+--------+---------+---------+-------+-------+------+------+----+--------+--------+-----------------+--------------+\n",
      "only showing top 20 rows\n",
      "\n"
     ]
    }
   ],
   "source": [
    "dfo_flights = (dfo_flights.withColumn(\"qa_hour_minute\",\n",
    "                when((dfo_flights.hour.isNull()), lit(\"MH\"))       \n",
    "                .when(~(dfo_flights.hour.between(0,23)), lit(\"IH\"))                \n",
    "                .otherwise(None))\n",
    "            )\n",
    "\n",
    "dfo_flights = (dfo_flights.withColumn(\"qa_hour_minute\",\n",
    "                when((dfo_flights.minute.isNull()), concat_ws(\"_\", dfo_flights.qa_hour_minute, lit(\"MM\")))       \n",
    "                .when(~(dfo_flights.minute.between(0,59)), concat_ws(\"_\", dfo_flights.qa_hour_minute, lit(\"IM\")))\n",
    "                .otherwise(dfo_flights.qa_hour_minute))\n",
    "            )\n",
    "\n",
    "\n",
    "dfo_flights.filter(dfo_flights.qa_hour_minute.isNotNull()).show()"
   ]
  },
  {
   "cell_type": "markdown",
   "id": "a74fb789",
   "metadata": {},
   "source": [
    "### Pergunta 3 - Flights"
   ]
  },
  {
   "cell_type": "markdown",
   "id": "ac3fea62",
   "metadata": {},
   "source": [
    "#### Tabela Testes"
   ]
  },
  {
   "cell_type": "code",
   "execution_count": 211,
   "id": "b039a183",
   "metadata": {},
   "outputs": [
    {
     "name": "stdout",
     "output_type": "stream",
     "text": [
      "+----+-----+---+----+------+--------+--------+---------+---------+-------+-------+------+------+----+--------+--------+-----------------+--------------+---------------+\n",
      "|year|month|day|hour|minute|dep_time|arr_time|dep_delay|arr_delay|carrier|tailnum|flight|origin|dest|air_time|distance|qa_year_month_day|qa_hour_minute|qa_dep_arr_time|\n",
      "+----+-----+---+----+------+--------+--------+---------+---------+-------+-------+------+------+----+--------+--------+-----------------+--------------+---------------+\n",
      "|2014|    6|  2|  22|    22|    2222|      55|        7|       15|     AS| N402AS|    99|   SEA| ANC|     190|    1448|             null|          null|             FA|\n",
      "|2014|    7|  5|  22|    24|    2224|      48|       -1|      -20|     AS| N459AS|   143|   PDX| ANC|     185|    1542|             null|          null|             FA|\n",
      "|2014|   12| 17|  22|    34|    2234|      11|      223|      212|     UA| N39450|  1596|   PDX| SFO|      76|     550|             null|          null|             FA|\n",
      "|2014|    3| 10|  22|    22|    2222|      55|      -13|      -30|     AS| N431AS|   143|   PDX| ANC|     203|    1542|             null|          null|             FA|\n",
      "|2014|    7| 29|   0|     1|       1|     600|        2|        6|     UA| N458UA|   280|   PDX| IAH|     217|    1825|             null|          null|             FD|\n",
      "|2014|    8| 11|  22|    33|    2233|      45|       33|       17|     DL| N391DA|  1086|   SEA| ANC|     174|    1448|             null|          null|             FA|\n",
      "|2014|    3| 17|   0|    26|      26|     518|       -4|      -19|     DL| N539US|  2446|   SEA| MSP|     153|    1399|             null|          null|             FD|\n",
      "|2014|    6| 27|   0|    46|      46|     552|        1|       -1|     DL| N126DL|  2440|   SEA| MSP|     166|    1399|             null|          null|             FD|\n",
      "|2014|    9| 26|  23|    39|    2339|      29|      144|      142|     OO| N822SK|  4612|   SEA| PDX|      29|     129|             null|          null|             FA|\n",
      "|2014|    3|  4|null|  null|      NA|      NA|     null|     null|     UA|     NA|   156|   SEA| DEN|    null|    1024|             null|         MH_MM|          MD_MA|\n",
      "|2014|    2| 12|null|  null|      NA|      NA|     null|     null|     AS| N527AS|     2|   SEA| DCA|    null|    2329|             null|         MH_MM|          MD_MA|\n",
      "|2014|    7|  1|null|  null|      NA|      NA|     null|     null|     WN| N8323C|  2485|   SEA| MDW|    null|    1733|             null|         MH_MM|          MD_MA|\n",
      "|2014|    1| 17|  22|    19|    2219|      49|       -6|      -36|     AS| N564AS|   145|   PDX| ANC|     186|    1542|             null|          null|             FA|\n",
      "|2014|   10| 15|   0|    29|      29|     538|       -1|       -2|     DL| N3736C|  2440|   SEA| MSP|     159|    1399|             null|          null|             FD|\n",
      "|2014|    1| 30|   0|    49|      49|     835|       79|       72|     UA| N76010|  1252|   SEA| EWR|     261|    2402|             null|          null|             FD|\n",
      "|2014|   11| 16|  16|     3|    1603|       2|       10|       -8|     UA| N87531|  1710|   SEA| EWR|     274|    2402|             null|          null|             FA|\n",
      "|2014|    4| 30|null|  null|      NA|      NA|     null|     null|     AS| N526AS|   566|   PDX| LAX|    null|     834|             null|         MH_MM|          MD_MA|\n",
      "|2014|    4| 15|   0|    24|      24|     300|       34|       31|     AS| N764AS|   121|   SEA| ANC|     203|    1448|             null|          null|             FD|\n",
      "|2014|    3| 14|  22|    31|    2231|      42|       96|       78|     AS| N706AS|   534|   SEA| ONT|     116|     956|             null|          null|             FA|\n",
      "|2014|    6| 13|   0|    15|      15|     800|       -5|      -16|     US| N151UW|  1818|   SEA| CLT|     261|    2279|             null|          null|             FD|\n",
      "+----+-----+---+----+------+--------+--------+---------+---------+-------+-------+------+------+----+--------+--------+-----------------+--------------+---------------+\n",
      "only showing top 20 rows\n",
      "\n"
     ]
    }
   ],
   "source": [
    "df_flights_Testes = (df_flights_Testes.withColumn(\"qa_dep_arr_time\",\n",
    "                    when(((df_flights_Testes.dep_time.isNull()) | (df_flights_Testes.dep_time == 'NA')), lit(\"MD\"))       \n",
    "                    .when(~((df_flights_Testes.dep_time.isNull()) | (df_flights_Testes.dep_time == 'NA'))\n",
    "                        & (~(length(df_flights_Testes.dep_time).between(3,4))) \n",
    "                        | ((~(substring(lpad(df_flights_Testes.dep_time, 4,'0'),1,2).between(0,23)))\n",
    "                        | (~(substring(lpad(df_flights_Testes.dep_time, 4,'0'),3,2).between(0,59))))\n",
    "                    , lit(\"FD\"))\n",
    "                    .otherwise(None))\n",
    "            )\n",
    "\n",
    "df_flights_Testes = (df_flights_Testes.withColumn(\"qa_dep_arr_time\",\n",
    "                    when(((df_flights_Testes.arr_time.isNull()) | (df_flights_Testes.arr_time == 'NA')), concat_ws(\"_\", df_flights_Testes.qa_dep_arr_time, lit(\"MA\")))       \n",
    "                    .when(~((df_flights_Testes.arr_time.isNull()) | (df_flights_Testes.arr_time == 'NA'))\n",
    "                        & (~(length(df_flights_Testes.arr_time).between(3,4))) \n",
    "                        | ((~(substring(lpad(df_flights_Testes.arr_time, 4,'0'),1,2).between(0,23)))\n",
    "                        | (~(substring(lpad(df_flights_Testes.arr_time, 4,'0'),3,2).between(0,59))))\n",
    "                    , concat_ws(\"_\", df_flights_Testes.qa_dep_arr_time, lit(\"FA\")))\n",
    "                    .otherwise(df_flights_Testes.qa_dep_arr_time))\n",
    "            )\n",
    "\n",
    "\n",
    "df_flights_Testes.filter(df_flights_Testes.qa_dep_arr_time.isNotNull()).show()"
   ]
  },
  {
   "cell_type": "markdown",
   "id": "3fbc01f1",
   "metadata": {},
   "source": [
    "#### Sumarizando Casos"
   ]
  },
  {
   "cell_type": "code",
   "execution_count": 212,
   "id": "77f1b8ba",
   "metadata": {},
   "outputs": [
    {
     "name": "stdout",
     "output_type": "stream",
     "text": [
      "+---------------+--------+\n",
      "|qa_dep_arr_time|count(1)|\n",
      "+---------------+--------+\n",
      "|           null|    9704|\n",
      "|             FA|     151|\n",
      "|             FD|      90|\n",
      "|          FD_FA|       2|\n",
      "|             MA|       7|\n",
      "|          MD_MA|      49|\n",
      "+---------------+--------+\n",
      "\n"
     ]
    }
   ],
   "source": [
    "df_flights_Testes.createOrReplaceTempView(\"Teste\")\n",
    "\n",
    "spark.sql(\"select qa_dep_arr_time, Count(*) from Teste Group By qa_dep_arr_time  Order by 1\").show()"
   ]
  },
  {
   "cell_type": "markdown",
   "id": "a2a76385",
   "metadata": {},
   "source": [
    "#### Tabela Oficial"
   ]
  },
  {
   "cell_type": "code",
   "execution_count": 30,
   "id": "2a8f095f",
   "metadata": {},
   "outputs": [
    {
     "name": "stdout",
     "output_type": "stream",
     "text": [
      "+----+-----+---+----+------+--------+--------+---------+---------+-------+-------+------+------+----+--------+--------+-----------------+--------------+---------------+\n",
      "|year|month|day|hour|minute|dep_time|arr_time|dep_delay|arr_delay|carrier|tailnum|flight|origin|dest|air_time|distance|qa_year_month_day|qa_hour_minute|qa_dep_arr_time|\n",
      "+----+-----+---+----+------+--------+--------+---------+---------+-------+-------+------+------+----+--------+--------+-----------------+--------------+---------------+\n",
      "|2014|    6|  2|  22|    22|    2222|      55|        7|       15|     AS| N402AS|    99|   SEA| ANC|     190|    1448|             null|          null|             FA|\n",
      "|2014|    7|  5|  22|    24|    2224|      48|       -1|      -20|     AS| N459AS|   143|   PDX| ANC|     185|    1542|             null|          null|             FA|\n",
      "|2014|   12| 17|  22|    34|    2234|      11|      223|      212|     UA| N39450|  1596|   PDX| SFO|      76|     550|             null|          null|             FA|\n",
      "|2014|    3| 10|  22|    22|    2222|      55|      -13|      -30|     AS| N431AS|   143|   PDX| ANC|     203|    1542|             null|          null|             FA|\n",
      "|2014|    7| 29|   0|     1|       1|     600|        2|        6|     UA| N458UA|   280|   PDX| IAH|     217|    1825|             null|          null|             FD|\n",
      "|2014|    8| 11|  22|    33|    2233|      45|       33|       17|     DL| N391DA|  1086|   SEA| ANC|     174|    1448|             null|          null|             FA|\n",
      "|2014|    3| 17|   0|    26|      26|     518|       -4|      -19|     DL| N539US|  2446|   SEA| MSP|     153|    1399|             null|          null|             FD|\n",
      "|2014|    6| 27|   0|    46|      46|     552|        1|       -1|     DL| N126DL|  2440|   SEA| MSP|     166|    1399|             null|          null|             FD|\n",
      "|2014|    9| 26|  23|    39|    2339|      29|      144|      142|     OO| N822SK|  4612|   SEA| PDX|      29|     129|             null|          null|             FA|\n",
      "|2014|    3|  4|null|  null|      NA|      NA|     null|     null|     UA|     NA|   156|   SEA| DEN|    null|    1024|             null|         MH_MM|          MD_MA|\n",
      "|2014|    2| 12|null|  null|      NA|      NA|     null|     null|     AS| N527AS|     2|   SEA| DCA|    null|    2329|             null|         MH_MM|          MD_MA|\n",
      "|2014|    7|  1|null|  null|      NA|      NA|     null|     null|     WN| N8323C|  2485|   SEA| MDW|    null|    1733|             null|         MH_MM|          MD_MA|\n",
      "|2014|    1| 17|  22|    19|    2219|      49|       -6|      -36|     AS| N564AS|   145|   PDX| ANC|     186|    1542|             null|          null|             FA|\n",
      "|2014|   10| 15|   0|    29|      29|     538|       -1|       -2|     DL| N3736C|  2440|   SEA| MSP|     159|    1399|             null|          null|             FD|\n",
      "|2014|    1| 30|   0|    49|      49|     835|       79|       72|     UA| N76010|  1252|   SEA| EWR|     261|    2402|             null|          null|             FD|\n",
      "|2014|   11| 16|  16|     3|    1603|       2|       10|       -8|     UA| N87531|  1710|   SEA| EWR|     274|    2402|             null|          null|             FA|\n",
      "|2014|    4| 30|null|  null|      NA|      NA|     null|     null|     AS| N526AS|   566|   PDX| LAX|    null|     834|             null|         MH_MM|          MD_MA|\n",
      "|2014|    4| 15|   0|    24|      24|     300|       34|       31|     AS| N764AS|   121|   SEA| ANC|     203|    1448|             null|          null|             FD|\n",
      "|2014|    3| 14|  22|    31|    2231|      42|       96|       78|     AS| N706AS|   534|   SEA| ONT|     116|     956|             null|          null|             FA|\n",
      "|2014|    6| 13|   0|    15|      15|     800|       -5|      -16|     US| N151UW|  1818|   SEA| CLT|     261|    2279|             null|          null|             FD|\n",
      "+----+-----+---+----+------+--------+--------+---------+---------+-------+-------+------+------+----+--------+--------+-----------------+--------------+---------------+\n",
      "only showing top 20 rows\n",
      "\n"
     ]
    }
   ],
   "source": [
    "dfo_flights = (dfo_flights.withColumn(\"qa_dep_arr_time\",\n",
    "                    when(((dfo_flights.dep_time.isNull()) | (dfo_flights.dep_time == 'NA')), lit(\"MD\"))       \n",
    "                    .when(~((dfo_flights.dep_time.isNull()) | (dfo_flights.dep_time == 'NA'))\n",
    "                        & (~(length(dfo_flights.dep_time).between(3,4))) \n",
    "                        | ((~(substring(lpad(dfo_flights.dep_time, 4,'0'),1,2).between(0,23)))\n",
    "                        | (~(substring(lpad(dfo_flights.dep_time, 4,'0'),3,2).between(0,59))))\n",
    "                    , lit(\"FD\"))\n",
    "                    .otherwise(None))\n",
    "            )\n",
    "\n",
    "dfo_flights = (dfo_flights.withColumn(\"qa_dep_arr_time\",\n",
    "                    when(((dfo_flights.arr_time.isNull()) | (dfo_flights.arr_time == 'NA')), concat_ws(\"_\", dfo_flights.qa_dep_arr_time, lit(\"MA\")))       \n",
    "                    .when(~((dfo_flights.arr_time.isNull()) | (dfo_flights.arr_time == 'NA'))\n",
    "                        & (~(length(dfo_flights.arr_time).between(3,4))) \n",
    "                        | ((~(substring(lpad(dfo_flights.arr_time, 4,'0'),1,2).between(0,23)))\n",
    "                        | (~(substring(lpad(dfo_flights.arr_time, 4,'0'),3,2).between(0,59))))\n",
    "                    , concat_ws(\"_\", dfo_flights.qa_dep_arr_time, lit(\"FA\")))\n",
    "                    .otherwise(dfo_flights.qa_dep_arr_time))\n",
    "            )\n",
    "\n",
    "\n",
    "dfo_flights.filter(dfo_flights.qa_dep_arr_time.isNotNull()).show()"
   ]
  },
  {
   "cell_type": "markdown",
   "id": "07cffc6f",
   "metadata": {},
   "source": [
    "### Pergunta 4 - Flights"
   ]
  },
  {
   "cell_type": "markdown",
   "id": "afafce27",
   "metadata": {},
   "source": [
    "#### Tabela Testes"
   ]
  },
  {
   "cell_type": "code",
   "execution_count": 216,
   "id": "f87e0a03",
   "metadata": {},
   "outputs": [
    {
     "name": "stdout",
     "output_type": "stream",
     "text": [
      "+----+-----+---+----+------+--------+--------+---------+---------+-------+-------+------+------+----+--------+--------+-----------------+--------------+---------------+----------------+\n",
      "|year|month|day|hour|minute|dep_time|arr_time|dep_delay|arr_delay|carrier|tailnum|flight|origin|dest|air_time|distance|qa_year_month_day|qa_hour_minute|qa_dep_arr_time|qa_dep_arr_delay|\n",
      "+----+-----+---+----+------+--------+--------+---------+---------+-------+-------+------+------+----+--------+--------+-----------------+--------------+---------------+----------------+\n",
      "|2014|    4|  6|  13|    29|    1329|    2159|        4|     null|     DL| N130DL|  1929|   SEA| ATL|    null|    2182|             null|          null|           null|              MA|\n",
      "|2014|    3|  4|null|  null|      NA|      NA|     null|     null|     UA|     NA|   156|   SEA| DEN|    null|    1024|             null|         MH_MM|          MD_MA|           MD_MA|\n",
      "|2014|    2| 12|null|  null|      NA|      NA|     null|     null|     AS| N527AS|     2|   SEA| DCA|    null|    2329|             null|         MH_MM|          MD_MA|           MD_MA|\n",
      "|2014|    7|  1|null|  null|      NA|      NA|     null|     null|     WN| N8323C|  2485|   SEA| MDW|    null|    1733|             null|         MH_MM|          MD_MA|           MD_MA|\n",
      "|2014|   12| 27|  14|    20|    1420|    2012|       40|     null|     OO| N224AG|  3452|   SEA| HDN|    null|     891|             null|          null|           null|              MA|\n",
      "|2014|    4| 30|null|  null|      NA|      NA|     null|     null|     AS| N526AS|   566|   PDX| LAX|    null|     834|             null|         MH_MM|          MD_MA|           MD_MA|\n",
      "|2014|    1|  3|null|  null|      NA|      NA|     null|     null|     US|     NA|   553|   SEA| PHL|    null|    2378|             null|         MH_MM|          MD_MA|           MD_MA|\n",
      "|2014|    6| 11|  10|    54|    1054|    1624|       -9|     null|     OO| N926SW|  5576|   PDX| DEN|    null|     991|             null|          null|           null|              MA|\n",
      "|2014|    8|  7|null|  null|      NA|      NA|     null|     null|     AS| N579AS|   867|   SEA| OGG|    null|    2640|             null|         MH_MM|          MD_MA|           MD_MA|\n",
      "|2014|    8| 11|null|  null|      NA|      NA|     null|     null|     OO| N689CA|  4528|   PDX| SEA|    null|     129|             null|         MH_MM|          MD_MA|           MD_MA|\n",
      "|2014|    2|  6|  22|    38|    2238|      NA|        8|     null|     OO| N297SW|  5437|   PDX| LMT|    null|     241|             null|          null|             MA|              MA|\n",
      "|2014|    1|  2|null|  null|      NA|      NA|     null|     null|     UA|     NA|   212|   SEA| EWR|    null|    2402|             null|         MH_MM|          MD_MA|           MD_MA|\n",
      "|2014|    5| 15|null|  null|      NA|      NA|     null|     null|     OO| N917SW|  6250|   PDX| LAX|    null|     834|             null|         MH_MM|          MD_MA|           MD_MA|\n",
      "|2014|    2|  7|null|  null|      NA|      NA|     null|     null|     OO| N594SW|  5553|   PDX| SFO|    null|     550|             null|         MH_MM|          MD_MA|           MD_MA|\n",
      "|2014|    4| 15|   6|    52|     652|    1754|       -8|     null|     DL| N378DA|   400|   PDX| JFK|    null|    2454|             null|          null|           null|              MA|\n",
      "|2014|    6|  6|null|  null|      NA|      NA|     null|     null|     WN| N645SW|   956|   PDX| OAK|    null|     543|             null|         MH_MM|          MD_MA|           MD_MA|\n",
      "|2014|    1|  5|null|  null|      NA|      NA|     null|     null|     UA|     NA|   758|   PDX| IAH|    null|    1825|             null|         MH_MM|          MD_MA|           MD_MA|\n",
      "|2014|    1|  6|null|  null|      NA|      NA|     null|     null|     UA|     NA|  1729|   SEA| DEN|    null|    1024|             null|         MH_MM|          MD_MA|           MD_MA|\n",
      "|2014|    3| 30|null|  null|      NA|      NA|     null|     null|     US|     NA|   500|   SEA| PHX|    null|    1107|             null|         MH_MM|          MD_MA|           MD_MA|\n",
      "|2014|    5| 24|  14|    55|    1455|    2212|       55|     null|     UA| N37409|  1635|   SEA| IAH|    null|    1874|             null|          null|           null|              MA|\n",
      "+----+-----+---+----+------+--------+--------+---------+---------+-------+-------+------+------+----+--------+--------+-----------------+--------------+---------------+----------------+\n",
      "only showing top 20 rows\n",
      "\n"
     ]
    }
   ],
   "source": [
    "df_flights_Testes = (df_flights_Testes.withColumn(\"qa_dep_arr_delay\",\n",
    "                    when((df_flights_Testes.dep_delay.isNull()), lit(\"MD\"))       \n",
    "                    .otherwise(None))\n",
    "            )\n",
    "\n",
    "df_flights_Testes = (df_flights_Testes.withColumn(\"qa_dep_arr_delay\",\n",
    "                    when((df_flights_Testes.arr_delay.isNull()), concat_ws(\"_\", df_flights_Testes.qa_dep_arr_delay, lit(\"MA\")))       \n",
    "                    .otherwise(df_flights_Testes.qa_dep_arr_delay))\n",
    "            )\n",
    "\n",
    "\n",
    "df_flights_Testes.filter(df_flights_Testes.qa_dep_arr_delay.isNotNull()).show()"
   ]
  },
  {
   "cell_type": "markdown",
   "id": "3cda671f",
   "metadata": {},
   "source": [
    "#### Sumarizando Casos"
   ]
  },
  {
   "cell_type": "code",
   "execution_count": 217,
   "id": "7c2ba7ad",
   "metadata": {},
   "outputs": [
    {
     "name": "stdout",
     "output_type": "stream",
     "text": [
      "+----------------+--------+\n",
      "|qa_dep_arr_delay|count(1)|\n",
      "+----------------+--------+\n",
      "|            null|    9927|\n",
      "|              MA|      27|\n",
      "|           MD_MA|      49|\n",
      "+----------------+--------+\n",
      "\n"
     ]
    }
   ],
   "source": [
    "df_flights_Testes.createOrReplaceTempView(\"Teste\")\n",
    "\n",
    "spark.sql(\"select qa_dep_arr_delay, Count(*) from Teste Group By qa_dep_arr_delay  Order by 1\").show()"
   ]
  },
  {
   "cell_type": "markdown",
   "id": "0cb56a51",
   "metadata": {},
   "source": [
    "#### Tabela Oficial"
   ]
  },
  {
   "cell_type": "code",
   "execution_count": 31,
   "id": "ce222754",
   "metadata": {},
   "outputs": [
    {
     "name": "stdout",
     "output_type": "stream",
     "text": [
      "+----+-----+---+----+------+--------+--------+---------+---------+-------+-------+------+------+----+--------+--------+-----------------+--------------+---------------+----------------+\n",
      "|year|month|day|hour|minute|dep_time|arr_time|dep_delay|arr_delay|carrier|tailnum|flight|origin|dest|air_time|distance|qa_year_month_day|qa_hour_minute|qa_dep_arr_time|qa_dep_arr_delay|\n",
      "+----+-----+---+----+------+--------+--------+---------+---------+-------+-------+------+------+----+--------+--------+-----------------+--------------+---------------+----------------+\n",
      "|2014|    4|  6|  13|    29|    1329|    2159|        4|     null|     DL| N130DL|  1929|   SEA| ATL|    null|    2182|             null|          null|           null|              MA|\n",
      "|2014|    3|  4|null|  null|      NA|      NA|     null|     null|     UA|     NA|   156|   SEA| DEN|    null|    1024|             null|         MH_MM|          MD_MA|           MD_MA|\n",
      "|2014|    2| 12|null|  null|      NA|      NA|     null|     null|     AS| N527AS|     2|   SEA| DCA|    null|    2329|             null|         MH_MM|          MD_MA|           MD_MA|\n",
      "|2014|    7|  1|null|  null|      NA|      NA|     null|     null|     WN| N8323C|  2485|   SEA| MDW|    null|    1733|             null|         MH_MM|          MD_MA|           MD_MA|\n",
      "|2014|   12| 27|  14|    20|    1420|    2012|       40|     null|     OO| N224AG|  3452|   SEA| HDN|    null|     891|             null|          null|           null|              MA|\n",
      "|2014|    4| 30|null|  null|      NA|      NA|     null|     null|     AS| N526AS|   566|   PDX| LAX|    null|     834|             null|         MH_MM|          MD_MA|           MD_MA|\n",
      "|2014|    1|  3|null|  null|      NA|      NA|     null|     null|     US|     NA|   553|   SEA| PHL|    null|    2378|             null|         MH_MM|          MD_MA|           MD_MA|\n",
      "|2014|    6| 11|  10|    54|    1054|    1624|       -9|     null|     OO| N926SW|  5576|   PDX| DEN|    null|     991|             null|          null|           null|              MA|\n",
      "|2014|    8|  7|null|  null|      NA|      NA|     null|     null|     AS| N579AS|   867|   SEA| OGG|    null|    2640|             null|         MH_MM|          MD_MA|           MD_MA|\n",
      "|2014|    8| 11|null|  null|      NA|      NA|     null|     null|     OO| N689CA|  4528|   PDX| SEA|    null|     129|             null|         MH_MM|          MD_MA|           MD_MA|\n",
      "|2014|    2|  6|  22|    38|    2238|      NA|        8|     null|     OO| N297SW|  5437|   PDX| LMT|    null|     241|             null|          null|             MA|              MA|\n",
      "|2014|    1|  2|null|  null|      NA|      NA|     null|     null|     UA|     NA|   212|   SEA| EWR|    null|    2402|             null|         MH_MM|          MD_MA|           MD_MA|\n",
      "|2014|    5| 15|null|  null|      NA|      NA|     null|     null|     OO| N917SW|  6250|   PDX| LAX|    null|     834|             null|         MH_MM|          MD_MA|           MD_MA|\n",
      "|2014|    2|  7|null|  null|      NA|      NA|     null|     null|     OO| N594SW|  5553|   PDX| SFO|    null|     550|             null|         MH_MM|          MD_MA|           MD_MA|\n",
      "|2014|    4| 15|   6|    52|     652|    1754|       -8|     null|     DL| N378DA|   400|   PDX| JFK|    null|    2454|             null|          null|           null|              MA|\n",
      "|2014|    6|  6|null|  null|      NA|      NA|     null|     null|     WN| N645SW|   956|   PDX| OAK|    null|     543|             null|         MH_MM|          MD_MA|           MD_MA|\n",
      "|2014|    1|  5|null|  null|      NA|      NA|     null|     null|     UA|     NA|   758|   PDX| IAH|    null|    1825|             null|         MH_MM|          MD_MA|           MD_MA|\n",
      "|2014|    1|  6|null|  null|      NA|      NA|     null|     null|     UA|     NA|  1729|   SEA| DEN|    null|    1024|             null|         MH_MM|          MD_MA|           MD_MA|\n",
      "|2014|    3| 30|null|  null|      NA|      NA|     null|     null|     US|     NA|   500|   SEA| PHX|    null|    1107|             null|         MH_MM|          MD_MA|           MD_MA|\n",
      "|2014|    5| 24|  14|    55|    1455|    2212|       55|     null|     UA| N37409|  1635|   SEA| IAH|    null|    1874|             null|          null|           null|              MA|\n",
      "+----+-----+---+----+------+--------+--------+---------+---------+-------+-------+------+------+----+--------+--------+-----------------+--------------+---------------+----------------+\n",
      "only showing top 20 rows\n",
      "\n"
     ]
    }
   ],
   "source": [
    "dfo_flights = (dfo_flights.withColumn(\"qa_dep_arr_delay\",\n",
    "                    when((dfo_flights.dep_delay.isNull()), lit(\"MD\"))       \n",
    "                    .otherwise(None))\n",
    "            )\n",
    "\n",
    "dfo_flights = (dfo_flights.withColumn(\"qa_dep_arr_delay\",\n",
    "                    when((dfo_flights.arr_delay.isNull()), concat_ws(\"_\", dfo_flights.qa_dep_arr_delay, lit(\"MA\")))       \n",
    "                    .otherwise(dfo_flights.qa_dep_arr_delay))\n",
    "            )\n",
    "\n",
    "\n",
    "dfo_flights.filter(dfo_flights.qa_dep_arr_delay.isNotNull()).show()"
   ]
  },
  {
   "cell_type": "markdown",
   "id": "55d7db59",
   "metadata": {},
   "source": [
    "### Pergunta 5 - Flights"
   ]
  },
  {
   "cell_type": "markdown",
   "id": "620a3ad0",
   "metadata": {},
   "source": [
    "#### Tabela Testes"
   ]
  },
  {
   "cell_type": "code",
   "execution_count": 221,
   "id": "0431a44f",
   "metadata": {},
   "outputs": [
    {
     "name": "stdout",
     "output_type": "stream",
     "text": [
      "+----+-----+----+----+------+--------+--------+---------+---------+-------+-------+------+------+----+--------+--------+-----------------+--------------+---------------+----------------+----------+\n",
      "|year|month| day|hour|minute|dep_time|arr_time|dep_delay|arr_delay|carrier|tailnum|flight|origin|dest|air_time|distance|qa_year_month_day|qa_hour_minute|qa_dep_arr_time|qa_dep_arr_delay|qa_carrier|\n",
      "+----+-----+----+----+------+--------+--------+---------+---------+-------+-------+------+------+----+--------+--------+-----------------+--------------+---------------+----------------+----------+\n",
      "|null| null|null|null|  null|    null|    null|     null|     null|   null|   null|  null|  null|null|    null|    null|         MY_MM_MD|         MH_MM|          MD_MA|           MD_MA|         M|\n",
      "|1949|   13|  32|  25|    60|      40|       5|        0|        0|    ASS|N559ASS|     1|  SEAA|HNLL|      19|      49|         IY_IM_ID|         IH_IM|          FD_FA|            null|         F|\n",
      "|1949|    0|   0|  -1|    -1|    2540|    -505|        0|        0|      A|   I559| 85188|    SE|  HN|     501|    3001|         IY_IM_ID|         IH_IM|          FD_FA|            null|         F|\n",
      "+----+-----+----+----+------+--------+--------+---------+---------+-------+-------+------+------+----+--------+--------+-----------------+--------------+---------------+----------------+----------+\n",
      "\n"
     ]
    }
   ],
   "source": [
    "df_flights_Testes = (df_flights_Testes.withColumn(\"qa_carrier\",\n",
    "                    when((df_flights_Testes.carrier.isNull()), lit(\"M\"))\n",
    "                    .when(length(df_flights_Testes.carrier) != 2, lit(\"F\"))                                                  \n",
    "                    .otherwise(None))\n",
    "            )\n",
    "\n",
    "\n",
    "df_flights_Testes.filter(df_flights_Testes.qa_carrier.isNotNull()).show()"
   ]
  },
  {
   "cell_type": "markdown",
   "id": "e47993ed",
   "metadata": {},
   "source": [
    "#### Sumarizando Casos"
   ]
  },
  {
   "cell_type": "code",
   "execution_count": 222,
   "id": "730a414b",
   "metadata": {},
   "outputs": [
    {
     "name": "stdout",
     "output_type": "stream",
     "text": [
      "+----------+--------+\n",
      "|qa_carrier|count(1)|\n",
      "+----------+--------+\n",
      "|      null|   10000|\n",
      "|         F|       2|\n",
      "|         M|       1|\n",
      "+----------+--------+\n",
      "\n"
     ]
    }
   ],
   "source": [
    "df_flights_Testes.createOrReplaceTempView(\"Teste\")\n",
    "\n",
    "spark.sql(\"select qa_carrier, Count(*) from Teste Group By qa_carrier  Order by 1\").show()"
   ]
  },
  {
   "cell_type": "markdown",
   "id": "7ffa61ab",
   "metadata": {},
   "source": [
    "#### Tabela Oficial"
   ]
  },
  {
   "cell_type": "code",
   "execution_count": 32,
   "id": "8ab6f0ed",
   "metadata": {},
   "outputs": [
    {
     "name": "stdout",
     "output_type": "stream",
     "text": [
      "+----+-----+---+----+------+--------+--------+---------+---------+-------+-------+------+------+----+--------+--------+-----------------+--------------+---------------+----------------+----------+\n",
      "|year|month|day|hour|minute|dep_time|arr_time|dep_delay|arr_delay|carrier|tailnum|flight|origin|dest|air_time|distance|qa_year_month_day|qa_hour_minute|qa_dep_arr_time|qa_dep_arr_delay|qa_carrier|\n",
      "+----+-----+---+----+------+--------+--------+---------+---------+-------+-------+------+------+----+--------+--------+-----------------+--------------+---------------+----------------+----------+\n",
      "+----+-----+---+----+------+--------+--------+---------+---------+-------+-------+------+------+----+--------+--------+-----------------+--------------+---------------+----------------+----------+\n",
      "\n"
     ]
    }
   ],
   "source": [
    "dfo_flights = (dfo_flights.withColumn(\"qa_carrier\",\n",
    "                    when((dfo_flights.carrier.isNull()), lit(\"M\"))\n",
    "                    .when(length(dfo_flights.carrier) != 2, lit(\"F\"))                                                  \n",
    "                    .otherwise(None))\n",
    "            )\n",
    "\n",
    "\n",
    "dfo_flights.filter(dfo_flights.qa_carrier.isNotNull()).show()"
   ]
  },
  {
   "cell_type": "markdown",
   "id": "7f4341f7",
   "metadata": {},
   "source": [
    "### Pergunta 6 - Flights"
   ]
  },
  {
   "cell_type": "markdown",
   "id": "9423e4db",
   "metadata": {},
   "source": [
    "#### Tabela Testes"
   ]
  },
  {
   "cell_type": "code",
   "execution_count": 225,
   "id": "a2843b95",
   "metadata": {},
   "outputs": [
    {
     "name": "stdout",
     "output_type": "stream",
     "text": [
      "+----+-----+---+----+------+--------+--------+---------+---------+-------+-------+------+------+----+--------+--------+-----------------+--------------+---------------+----------------+----------+----------+\n",
      "|year|month|day|hour|minute|dep_time|arr_time|dep_delay|arr_delay|carrier|tailnum|flight|origin|dest|air_time|distance|qa_year_month_day|qa_hour_minute|qa_dep_arr_time|qa_dep_arr_delay|qa_carrier|qa_tailnum|\n",
      "+----+-----+---+----+------+--------+--------+---------+---------+-------+-------+------+------+----+--------+--------+-----------------+--------------+---------------+----------------+----------+----------+\n",
      "|2014|    1| 29|  20|     9|    2009|    2159|        3|        9|     UA| N27205|  1458|   PDX| SFO|      90|     550|             null|          null|           null|            null|      null|         F|\n",
      "|2014|   10| 20|  13|    28|    1328|    1949|       -1|        4|     UA| N68805|  1212|   SEA| IAH|     228|    1874|             null|          null|           null|            null|      null|         F|\n",
      "|2014|    3| 13|  22|     1|    2201|     554|        1|      -14|     UA| N37468|  1275|   SEA| EWR|     268|    2402|             null|          null|           null|            null|      null|         F|\n",
      "|2014|    2| 18|   5|    54|     554|    1151|       -1|      -19|     UA| N37419|  1445|   SEA| IAH|     203|    1874|             null|          null|           null|            null|      null|         F|\n",
      "|2014|   11| 19|   6|     1|     601|    1129|        1|      -16|     AA| N4YJAA|  1534|   PDX| DFW|     189|    1616|             null|          null|           null|            null|      null|         F|\n",
      "|2014|   12| 17|  22|    34|    2234|      11|      223|      212|     UA| N39450|  1596|   PDX| SFO|      76|     550|             null|          null|             FA|            null|      null|         F|\n",
      "|2014|    8| 16|  12|    17|    1217|    1356|       -7|      -28|     UA| N34282|  1574|   PDX| SFO|      84|     550|             null|          null|           null|            null|      null|         F|\n",
      "|2014|    7|  1|  19|    59|    1959|    2224|       -6|      -17|     DL|  N6701|  1545|   SEA| FAI|     180|    1533|             null|          null|           null|            null|      null|         F|\n",
      "|2014|    7| 18|   5|    41|     541|     911|        1|       -1|     UA| N16234|  1578|   SEA| DEN|     131|    1024|             null|          null|           null|            null|      null|         F|\n",
      "|2014|    4| 29|  16|    10|    1610|    1928|       60|       50|     UA| N36207|  1072|   PDX| DEN|     123|     991|             null|          null|           null|            null|      null|         F|\n",
      "|2014|    6| 14|  16|    23|    1623|    2149|       -7|      -26|     AA| N3EKAA|  1181|   SEA| DFW|     191|    1660|             null|          null|           null|            null|      null|         F|\n",
      "|2014|    5| 18|   8|    26|     826|    1428|       -4|       -2|     AA| N3DRAA|  1236|   SEA| ORD|     204|    1721|             null|          null|           null|            null|      null|         F|\n",
      "|2014|    7| 19|  10|    38|    1038|    1249|        4|       -5|     UA| N13716|  1292|   SEA| SFO|     107|     679|             null|          null|           null|            null|      null|         F|\n",
      "|2014|   10| 12|  21|    25|    2125|     522|       -7|      -11|     UA| N37267|  1695|   SEA| EWR|     275|    2402|             null|          null|           null|            null|      null|         F|\n",
      "|2014|    9| 19|  12|    12|    1212|    1806|       -1|      -13|     UA| N76514|  1081|   PDX| IAH|     210|    1825|             null|          null|           null|            null|      null|         F|\n",
      "|2014|   11| 29|   7|     5|     705|    1042|        5|       57|     DL|  N3768|   968|   SEA| LAX|     130|     954|             null|          null|           null|            null|      null|         F|\n",
      "|2014|    2| 23|   8|    27|     827|    1358|       22|        8|     AA| N4YDAA|  1220|   PDX| DFW|     183|    1616|             null|          null|           null|            null|      null|         F|\n",
      "|2014|    3|  4|null|  null|      NA|      NA|     null|     null|     UA|     NA|   156|   SEA| DEN|    null|    1024|             null|         MH_MM|          MD_MA|           MD_MA|      null|         S|\n",
      "|2014|    4| 29|   5|    29|     529|     840|       -6|      -27|     UA| N37465|  1202|   PDX| DEN|     115|     991|             null|          null|           null|            null|      null|         F|\n",
      "|2014|    5| 16|   7|    31|     731|    1454|       -4|      -26|     DL|  N1605|   128|   SEA| ATL|     239|    2182|             null|          null|           null|            null|      null|         F|\n",
      "+----+-----+---+----+------+--------+--------+---------+---------+-------+-------+------+------+----+--------+--------+-----------------+--------------+---------------+----------------+----------+----------+\n",
      "only showing top 20 rows\n",
      "\n"
     ]
    }
   ],
   "source": [
    "df_flights_Testes = (df_flights_Testes.withColumn(\"qa_tailnum\",\n",
    "            when((df_flights_Testes.tailnum.isNull()), lit(\"M\"))\n",
    "            .when(~(length(df_flights_Testes.tailnum).isin(5,6)), lit(\"S\"))\n",
    "            .when((df_flights_Testes.tailnum.rlike(\"^N([0-9]{1,4})([A-Z]{1,2}$)\")) == False, lit(\"F\"))\n",
    "            .when((substring(df_flights_Testes.tailnum,1,1) != \"N\"), lit(\"FN\"))\n",
    "            .when((instr(df_flights_Testes.tailnum,\"O\")>0) | (instr(df_flights_Testes.tailnum,\"I\")>0) , lit(\"FE\"))\n",
    "            .when((substring(df_flights_Testes.tailnum,2,1)==0) , lit(\"FE\"))\n",
    "        .otherwise(lit(None)))\n",
    "      )\n",
    "\n",
    "df_flights_Testes.filter(df_flights_Testes.qa_tailnum.isNotNull()).show()"
   ]
  },
  {
   "cell_type": "markdown",
   "id": "ac12882c",
   "metadata": {},
   "source": [
    "#### Sumarizando Casos"
   ]
  },
  {
   "cell_type": "code",
   "execution_count": 226,
   "id": "a92182f3",
   "metadata": {},
   "outputs": [
    {
     "name": "stdout",
     "output_type": "stream",
     "text": [
      "+----------+--------+\n",
      "|qa_tailnum|count(1)|\n",
      "+----------+--------+\n",
      "|      null|    8997|\n",
      "|         F|     989|\n",
      "|         M|       1|\n",
      "|         S|      16|\n",
      "+----------+--------+\n",
      "\n"
     ]
    }
   ],
   "source": [
    "df_flights_Testes.createOrReplaceTempView(\"Teste\")\n",
    "\n",
    "spark.sql(\"select qa_tailnum, Count(*) from Teste Group By qa_tailnum  Order by 1\").show()"
   ]
  },
  {
   "cell_type": "markdown",
   "id": "757b7045",
   "metadata": {},
   "source": [
    "#### Tabela Oficial"
   ]
  },
  {
   "cell_type": "code",
   "execution_count": 33,
   "id": "20c9acc0",
   "metadata": {},
   "outputs": [
    {
     "name": "stdout",
     "output_type": "stream",
     "text": [
      "+----------+-----+\n",
      "|qa_tailnum|count|\n",
      "+----------+-----+\n",
      "|      null| 8997|\n",
      "|         F|  989|\n",
      "|         S|   14|\n",
      "+----------+-----+\n",
      "\n"
     ]
    }
   ],
   "source": [
    "dfo_flights = (dfo_flights.withColumn(\"qa_tailnum\",\n",
    "            when((dfo_flights.tailnum.isNull()), lit(\"M\"))\n",
    "            .when(~(length(dfo_flights.tailnum).isin(5,6)), lit(\"S\"))\n",
    "            .when((dfo_flights.tailnum.rlike(\"^N([0-9]{1,4})([A-Z]{1,2}$)\")) == False, lit(\"F\"))\n",
    "            .when((substring(dfo_flights.tailnum,1,1) != \"N\"), lit(\"FN\"))\n",
    "            .when((instr(dfo_flights.tailnum,\"O\")>0) | (instr(dfo_flights.tailnum,\"I\")>0) , lit(\"FE\"))\n",
    "            .when((substring(dfo_flights.tailnum,2,1)==0) , lit(\"FE\"))\n",
    "        .otherwise(lit(None)))\n",
    "      )\n",
    "\n",
    "dfo_flights.groupBy(col(\"qa_tailnum\")).count().distinct().orderBy(col(\"qa_tailnum\")).show(100)"
   ]
  },
  {
   "cell_type": "markdown",
   "id": "6a27ff4a",
   "metadata": {},
   "source": [
    "### Pergunta 7 - Flights"
   ]
  },
  {
   "cell_type": "markdown",
   "id": "563fb2eb",
   "metadata": {},
   "source": [
    "#### Tabela Testes"
   ]
  },
  {
   "cell_type": "code",
   "execution_count": 234,
   "id": "1709fdf9",
   "metadata": {},
   "outputs": [
    {
     "name": "stdout",
     "output_type": "stream",
     "text": [
      "+----+-----+---+----+------+--------+--------+---------+---------+-------+-------+------+------+----+--------+--------+-----------------+--------------+---------------+----------------+----------+----------+---------+\n",
      "|year|month|day|hour|minute|dep_time|arr_time|dep_delay|arr_delay|carrier|tailnum|flight|origin|dest|air_time|distance|qa_year_month_day|qa_hour_minute|qa_dep_arr_time|qa_dep_arr_delay|qa_carrier|qa_tailnum|qa_flight|\n",
      "+----+-----+---+----+------+--------+--------+---------+---------+-------+-------+------+------+----+--------+--------+-----------------+--------------+---------------+----------------+----------+----------+---------+\n",
      "|2014|    1| 22|  10|    40|    1040|    1505|        5|        5|     AS| N559AS|   851|   SEA| HNL|     360|    2677|             null|          null|           null|            null|      null|      null|        F|\n",
      "|2014|    3|  9|  14|    43|    1443|    1652|       -2|        2|     VX| N847VA|   755|   SEA| SFO|     111|     679|             null|          null|           null|            null|      null|      null|        F|\n",
      "|2014|    4|  9|  17|     5|    1705|    1839|       45|       34|     WN| N360SW|   344|   PDX| SJC|      83|     569|             null|          null|           null|            null|      null|      null|        F|\n",
      "|2014|    3|  9|   7|    54|     754|    1015|       -1|        1|     AS| N612AS|   522|   SEA| BUR|     127|     937|             null|          null|           null|            null|      null|      null|        F|\n",
      "|2014|    1| 15|  10|    37|    1037|    1352|        7|        2|     WN| N646SW|    48|   PDX| DEN|     121|     991|             null|          null|           null|            null|      null|      null|        F|\n",
      "|2014|    5| 12|  16|    55|    1655|    1842|       -5|      -18|     VX| N361VA|   755|   SEA| SFO|      98|     679|             null|          null|           null|            null|      null|      null|        F|\n",
      "|2014|    4| 19|  12|    36|    1236|    1508|       -4|       -7|     AS| N309AS|   490|   SEA| SAN|     135|    1050|             null|          null|           null|            null|      null|      null|        F|\n",
      "|2014|   11| 19|  18|    12|    1812|    2352|       -3|       -4|     AS| N564AS|    26|   SEA| ORD|     198|    1721|             null|          null|           null|            null|      null|      null|        F|\n",
      "|2014|   11|  8|  16|    53|    1653|    1924|       -2|       -1|     AS| N323AS|   448|   SEA| LAX|     130|     954|             null|          null|           null|            null|      null|      null|        F|\n",
      "|2014|    8|  3|  11|    20|    1120|    1415|        0|        2|     AS| N305AS|   656|   SEA| PHX|     154|    1107|             null|          null|           null|            null|      null|      null|        F|\n",
      "|2014|   10| 30|   8|    11|     811|    1038|       21|       29|     AS| N433AS|   608|   SEA| LAS|     127|     867|             null|          null|           null|            null|      null|      null|        F|\n",
      "|2014|   11| 12|  23|    46|    2346|     217|       -4|      -28|     AS| N765AS|   121|   SEA| ANC|     183|    1448|             null|          null|           null|            null|      null|      null|        F|\n",
      "|2014|   10| 31|  13|    14|    1314|    1544|       89|      111|     AS| N713AS|   306|   SEA| SFO|     129|     679|             null|          null|           null|            null|      null|      null|        F|\n",
      "|2014|   12| 17|  20|    15|    2015|    2150|       50|       41|     AS| N626AS|   368|   SEA| SMF|      76|     605|             null|          null|           null|            null|      null|      null|        F|\n",
      "|2014|    8| 11|  10|    17|    1017|    1613|       -3|       -7|     WN| N8634A|   827|   SEA| MDW|     216|    1733|             null|          null|           null|            null|      null|      null|        F|\n",
      "|2014|    1| 13|  21|    56|    2156|     607|       -9|      -15|     AS| N597AS|    24|   SEA| BOS|     290|    2496|             null|          null|           null|            null|      null|      null|        F|\n",
      "|2014|    7| 27|  21|     5|    2105|    2316|       15|       21|     AS| N519AS|   300|   SEA| SFO|     106|     679|             null|          null|           null|            null|      null|      null|        F|\n",
      "|2014|    9| 26|   6|    10|     610|    1523|       -5|       65|     US| N127UW|   616|   SEA| PHL|     293|    2378|             null|          null|           null|            null|      null|      null|        F|\n",
      "|2014|   12| 30|  13|     5|    1305|    1525|       70|       86|     AS| N520AS|   306|   SEA| SFO|     117|     679|             null|          null|           null|            null|      null|      null|        F|\n",
      "|2014|   12|  4|   9|    54|     954|    1348|       -6|      -17|     HA| N395HA|    29|   SEA| OGG|     333|    2640|             null|          null|           null|            null|      null|      null|        F|\n",
      "+----+-----+---+----+------+--------+--------+---------+---------+-------+-------+------+------+----+--------+--------+-----------------+--------------+---------------+----------------+----------+----------+---------+\n",
      "only showing top 20 rows\n",
      "\n"
     ]
    }
   ],
   "source": [
    "df_flights_Testes = (df_flights_Testes.withColumn(\"qa_flight\",\n",
    "                    when((df_flights_Testes.flight.isNull()), lit(\"M\"))\n",
    "                    .when((length(df_flights_Testes.flight) != 4) | (df_flights_Testes.flight.cast(\"int\").isNull() == True), lit(\"F\"))                                                  \n",
    "                    .otherwise(None))\n",
    "            )\n",
    "\n",
    "\n",
    "df_flights_Testes.filter(df_flights_Testes.qa_flight.isNotNull()).show()"
   ]
  },
  {
   "cell_type": "markdown",
   "id": "b473fe92",
   "metadata": {},
   "source": [
    "#### Sumarizando Casos"
   ]
  },
  {
   "cell_type": "code",
   "execution_count": 252,
   "id": "db8efb76",
   "metadata": {},
   "outputs": [
    {
     "name": "stdout",
     "output_type": "stream",
     "text": [
      "+------------+--------+\n",
      "|(flight * 1)|count(1)|\n",
      "+------------+--------+\n",
      "|        null|       1|\n",
      "|         1.0|       1|\n",
      "|         2.0|      21|\n",
      "|         4.0|      26|\n",
      "|         8.0|      26|\n",
      "|        10.0|       2|\n",
      "|        12.0|      22|\n",
      "|        14.0|      19|\n",
      "|        16.0|      17|\n",
      "|        18.0|      17|\n",
      "|        20.0|       5|\n",
      "|        21.0|      17|\n",
      "|        22.0|      13|\n",
      "|        24.0|      19|\n",
      "|        25.0|      35|\n",
      "|        26.0|      18|\n",
      "|        28.0|      21|\n",
      "|        29.0|      21|\n",
      "|        30.0|      22|\n",
      "|        32.0|      27|\n",
      "+------------+--------+\n",
      "only showing top 20 rows\n",
      "\n"
     ]
    }
   ],
   "source": [
    "df_flights_Testes.createOrReplaceTempView(\"Teste\")\n",
    "\n",
    "spark.sql(\"select flight*1, Count(*) from Teste Group By flight  Order by flight*1\").show()"
   ]
  },
  {
   "cell_type": "markdown",
   "id": "ee8b297c",
   "metadata": {},
   "source": [
    "#### Tabela Oficial"
   ]
  },
  {
   "cell_type": "code",
   "execution_count": 34,
   "id": "6d5e2d0e",
   "metadata": {},
   "outputs": [
    {
     "name": "stdout",
     "output_type": "stream",
     "text": [
      "+----+-----+---+----+------+--------+--------+---------+---------+-------+-------+------+------+----+--------+--------+-----------------+--------------+---------------+----------------+----------+----------+---------+\n",
      "|year|month|day|hour|minute|dep_time|arr_time|dep_delay|arr_delay|carrier|tailnum|flight|origin|dest|air_time|distance|qa_year_month_day|qa_hour_minute|qa_dep_arr_time|qa_dep_arr_delay|qa_carrier|qa_tailnum|qa_flight|\n",
      "+----+-----+---+----+------+--------+--------+---------+---------+-------+-------+------+------+----+--------+--------+-----------------+--------------+---------------+----------------+----------+----------+---------+\n",
      "|2014|    1| 22|  10|    40|    1040|    1505|        5|        5|     AS| N559AS|   851|   SEA| HNL|     360|    2677|             null|          null|           null|            null|      null|      null|        F|\n",
      "|2014|    3|  9|  14|    43|    1443|    1652|       -2|        2|     VX| N847VA|   755|   SEA| SFO|     111|     679|             null|          null|           null|            null|      null|      null|        F|\n",
      "|2014|    4|  9|  17|     5|    1705|    1839|       45|       34|     WN| N360SW|   344|   PDX| SJC|      83|     569|             null|          null|           null|            null|      null|      null|        F|\n",
      "|2014|    3|  9|   7|    54|     754|    1015|       -1|        1|     AS| N612AS|   522|   SEA| BUR|     127|     937|             null|          null|           null|            null|      null|      null|        F|\n",
      "|2014|    1| 15|  10|    37|    1037|    1352|        7|        2|     WN| N646SW|    48|   PDX| DEN|     121|     991|             null|          null|           null|            null|      null|      null|        F|\n",
      "|2014|    5| 12|  16|    55|    1655|    1842|       -5|      -18|     VX| N361VA|   755|   SEA| SFO|      98|     679|             null|          null|           null|            null|      null|      null|        F|\n",
      "|2014|    4| 19|  12|    36|    1236|    1508|       -4|       -7|     AS| N309AS|   490|   SEA| SAN|     135|    1050|             null|          null|           null|            null|      null|      null|        F|\n",
      "|2014|   11| 19|  18|    12|    1812|    2352|       -3|       -4|     AS| N564AS|    26|   SEA| ORD|     198|    1721|             null|          null|           null|            null|      null|      null|        F|\n",
      "|2014|   11|  8|  16|    53|    1653|    1924|       -2|       -1|     AS| N323AS|   448|   SEA| LAX|     130|     954|             null|          null|           null|            null|      null|      null|        F|\n",
      "|2014|    8|  3|  11|    20|    1120|    1415|        0|        2|     AS| N305AS|   656|   SEA| PHX|     154|    1107|             null|          null|           null|            null|      null|      null|        F|\n",
      "|2014|   10| 30|   8|    11|     811|    1038|       21|       29|     AS| N433AS|   608|   SEA| LAS|     127|     867|             null|          null|           null|            null|      null|      null|        F|\n",
      "|2014|   11| 12|  23|    46|    2346|     217|       -4|      -28|     AS| N765AS|   121|   SEA| ANC|     183|    1448|             null|          null|           null|            null|      null|      null|        F|\n",
      "|2014|   10| 31|  13|    14|    1314|    1544|       89|      111|     AS| N713AS|   306|   SEA| SFO|     129|     679|             null|          null|           null|            null|      null|      null|        F|\n",
      "|2014|   12| 17|  20|    15|    2015|    2150|       50|       41|     AS| N626AS|   368|   SEA| SMF|      76|     605|             null|          null|           null|            null|      null|      null|        F|\n",
      "|2014|    8| 11|  10|    17|    1017|    1613|       -3|       -7|     WN| N8634A|   827|   SEA| MDW|     216|    1733|             null|          null|           null|            null|      null|      null|        F|\n",
      "|2014|    1| 13|  21|    56|    2156|     607|       -9|      -15|     AS| N597AS|    24|   SEA| BOS|     290|    2496|             null|          null|           null|            null|      null|      null|        F|\n",
      "|2014|    7| 27|  21|     5|    2105|    2316|       15|       21|     AS| N519AS|   300|   SEA| SFO|     106|     679|             null|          null|           null|            null|      null|      null|        F|\n",
      "|2014|    9| 26|   6|    10|     610|    1523|       -5|       65|     US| N127UW|   616|   SEA| PHL|     293|    2378|             null|          null|           null|            null|      null|      null|        F|\n",
      "|2014|   12| 30|  13|     5|    1305|    1525|       70|       86|     AS| N520AS|   306|   SEA| SFO|     117|     679|             null|          null|           null|            null|      null|      null|        F|\n",
      "|2014|   12|  4|   9|    54|     954|    1348|       -6|      -17|     HA| N395HA|    29|   SEA| OGG|     333|    2640|             null|          null|           null|            null|      null|      null|        F|\n",
      "+----+-----+---+----+------+--------+--------+---------+---------+-------+-------+------+------+----+--------+--------+-----------------+--------------+---------------+----------------+----------+----------+---------+\n",
      "only showing top 20 rows\n",
      "\n"
     ]
    }
   ],
   "source": [
    "dfo_flights = (dfo_flights.withColumn(\"qa_flight\",\n",
    "                    when((dfo_flights.flight.isNull()), lit(\"M\"))\n",
    "                    .when((length(dfo_flights.flight) != 4) | (dfo_flights.flight.cast(\"int\").isNull() == True), lit(\"F\"))                                                  \n",
    "                    .otherwise(None))\n",
    "            )\n",
    "\n",
    "\n",
    "dfo_flights.filter(dfo_flights.qa_flight.isNotNull()).show()"
   ]
  },
  {
   "cell_type": "markdown",
   "id": "5c15eabc",
   "metadata": {},
   "source": [
    "### Pergunta 8 - Flights"
   ]
  },
  {
   "cell_type": "markdown",
   "id": "763dc964",
   "metadata": {},
   "source": [
    "#### Tabela Testes"
   ]
  },
  {
   "cell_type": "code",
   "execution_count": 285,
   "id": "7805896e",
   "metadata": {},
   "outputs": [
    {
     "name": "stdout",
     "output_type": "stream",
     "text": [
      "+----+-----+----+----+------+--------+--------+---------+---------+-------+-------+------+------+----+--------+--------+-----------------+--------------+---------------+----------------+----------+----------+---------+--------------+\n",
      "|year|month| day|hour|minute|dep_time|arr_time|dep_delay|arr_delay|carrier|tailnum|flight|origin|dest|air_time|distance|qa_year_month_day|qa_hour_minute|qa_dep_arr_time|qa_dep_arr_delay|qa_carrier|qa_tailnum|qa_flight|qa_origin_dest|\n",
      "+----+-----+----+----+------+--------+--------+---------+---------+-------+-------+------+------+----+--------+--------+-----------------+--------------+---------------+----------------+----------+----------+---------+--------------+\n",
      "|null| null|null|null|  null|    null|    null|     null|     null|   null|   null|  null|  null|null|    null|    null|         MY_MM_MD|         MH_MM|          MD_MA|           MD_MA|         M|         M|        M|         MO_MD|\n",
      "|1949|   13|  32|  25|    60|      40|       5|        0|        0|    ASS|N559ASS|     1|  SEAA|HNLL|      19|      49|         IY_IM_ID|         IH_IM|          FD_FA|            null|         F|         S|        F|         FO_FD|\n",
      "|1949|    0|   0|  -1|    -1|    2540|    -505|        0|        0|      A|   I559| 85188|    SE|  HN|     501|    3001|         IY_IM_ID|         IH_IM|          FD_FA|            null|         F|         S|        F|         FO_FD|\n",
      "+----+-----+----+----+------+--------+--------+---------+---------+-------+-------+------+------+----+--------+--------+-----------------+--------------+---------------+----------------+----------+----------+---------+--------------+\n",
      "\n"
     ]
    }
   ],
   "source": [
    "df_flights_Testes = (df_flights_Testes.withColumn(\"qa_origin_dest\",\n",
    "                        when((df_flights_Testes.origin.isNull()), lit(\"MO\"))\n",
    "                        .when((length(df_flights_Testes.origin) != 3)\n",
    "                              | (df_flights_Testes.origin.rlike(\"([A-Z])\") == False), lit(\"FO\")) \n",
    "                        .otherwise(None))\n",
    "                    )\n",
    "\n",
    "df_flights_Testes = (df_flights_Testes.withColumn(\"qa_origin_dest\",\n",
    "                        when((df_flights_Testes.dest.isNull()) , concat_ws(\"_\", df_flights_Testes.qa_origin_dest,lit(\"MD\")))\n",
    "                        .when((length(df_flights_Testes.dest) != 3)\n",
    "                              | (df_flights_Testes.dest.rlike(\"([A-Z])\") == False) , concat_ws(\"_\", df_flights_Testes.qa_origin_dest,lit(\"FD\"))) \n",
    "                        .otherwise(df_flights_Testes.qa_origin_dest))\n",
    "                    )\n",
    "\n",
    "\n",
    "df_flights_Testes.filter(df_flights_Testes.qa_origin_dest.isNotNull()).show()"
   ]
  },
  {
   "cell_type": "markdown",
   "id": "1ea17418",
   "metadata": {},
   "source": [
    "#### Sumarizando Casos"
   ]
  },
  {
   "cell_type": "code",
   "execution_count": 286,
   "id": "9a4068af",
   "metadata": {},
   "outputs": [
    {
     "name": "stdout",
     "output_type": "stream",
     "text": [
      "+--------------+--------+\n",
      "|qa_origin_dest|count(1)|\n",
      "+--------------+--------+\n",
      "|          null|   10000|\n",
      "|         FO_FD|       2|\n",
      "|         MO_MD|       1|\n",
      "+--------------+--------+\n",
      "\n"
     ]
    }
   ],
   "source": [
    "df_flights_Testes.createOrReplaceTempView(\"Teste\")\n",
    "\n",
    "spark.sql(\"select qa_origin_dest, Count(*) from Teste Group By qa_origin_dest  Order by 1\").show()"
   ]
  },
  {
   "cell_type": "markdown",
   "id": "7b2f5a8a",
   "metadata": {},
   "source": [
    "#### Tabela Oficial"
   ]
  },
  {
   "cell_type": "code",
   "execution_count": 35,
   "id": "ac349562",
   "metadata": {},
   "outputs": [
    {
     "name": "stdout",
     "output_type": "stream",
     "text": [
      "+----+-----+---+----+------+--------+--------+---------+---------+-------+-------+------+------+----+--------+--------+-----------------+--------------+---------------+----------------+----------+----------+---------+--------------+\n",
      "|year|month|day|hour|minute|dep_time|arr_time|dep_delay|arr_delay|carrier|tailnum|flight|origin|dest|air_time|distance|qa_year_month_day|qa_hour_minute|qa_dep_arr_time|qa_dep_arr_delay|qa_carrier|qa_tailnum|qa_flight|qa_origin_dest|\n",
      "+----+-----+---+----+------+--------+--------+---------+---------+-------+-------+------+------+----+--------+--------+-----------------+--------------+---------------+----------------+----------+----------+---------+--------------+\n",
      "+----+-----+---+----+------+--------+--------+---------+---------+-------+-------+------+------+----+--------+--------+-----------------+--------------+---------------+----------------+----------+----------+---------+--------------+\n",
      "\n"
     ]
    }
   ],
   "source": [
    "dfo_flights = (dfo_flights.withColumn(\"qa_origin_dest\",\n",
    "                        when((dfo_flights.origin.isNull()), lit(\"MO\"))\n",
    "                        .when((length(dfo_flights.origin) != 3)\n",
    "                              | (dfo_flights.origin.rlike(\"([A-Z])\") == False), lit(\"FO\")) \n",
    "                        .otherwise(None))\n",
    "                    )\n",
    "\n",
    "dfo_flights = (dfo_flights.withColumn(\"qa_origin_dest\",\n",
    "                        when((dfo_flights.dest.isNull()) , concat_ws(\"_\", dfo_flights.qa_origin_dest,lit(\"MD\")))\n",
    "                        .when((length(dfo_flights.dest) != 3)\n",
    "                              | (dfo_flights.dest.rlike(\"([A-Z])\") == False) , concat_ws(\"_\", dfo_flights.qa_origin_dest,lit(\"FD\"))) \n",
    "                        .otherwise(dfo_flights.qa_origin_dest))\n",
    "                    )\n",
    "\n",
    "dfo_flights.filter(dfo_flights.qa_origin_dest.isNotNull()).show()"
   ]
  },
  {
   "cell_type": "markdown",
   "id": "31c4e9b7",
   "metadata": {},
   "source": [
    "### Pergunta 9 - Flights"
   ]
  },
  {
   "cell_type": "markdown",
   "id": "1ff45edb",
   "metadata": {},
   "source": [
    "#### Tabela Testes"
   ]
  },
  {
   "cell_type": "code",
   "execution_count": 304,
   "id": "7d1a9c1e",
   "metadata": {},
   "outputs": [
    {
     "name": "stdout",
     "output_type": "stream",
     "text": [
      "+----+-----+---+----+------+--------+--------+---------+---------+-------+-------+------+------+----+--------+--------+-----------------+--------------+---------------+----------------+----------+----------+---------+--------------+-----------+-----------+\n",
      "|year|month|day|hour|minute|dep_time|arr_time|dep_delay|arr_delay|carrier|tailnum|flight|origin|dest|air_time|distance|qa_year_month_day|qa_hour_minute|qa_dep_arr_time|qa_dep_arr_delay|qa_carrier|qa_tailnum|qa_flight|qa_origin_dest|qa_distance|qa_air_time|\n",
      "+----+-----+---+----+------+--------+--------+---------+---------+-------+-------+------+------+----+--------+--------+-----------------+--------------+---------------+----------------+----------+----------+---------+--------------+-----------+-----------+\n",
      "|2014|    4|  6|  13|    29|    1329|    2159|        4|     null|     DL| N130DL|  1929|   SEA| ATL|    null|    2182|             null|          null|           null|              MA|      null|      null|     null|          null|       null|          M|\n",
      "|2014|    3|  4|null|  null|      NA|      NA|     null|     null|     UA|     NA|   156|   SEA| DEN|    null|    1024|             null|         MH_MM|          MD_MA|           MD_MA|      null|         S|        F|          null|       null|          M|\n",
      "|2014|    2| 12|null|  null|      NA|      NA|     null|     null|     AS| N527AS|     2|   SEA| DCA|    null|    2329|             null|         MH_MM|          MD_MA|           MD_MA|      null|      null|        F|          null|       null|          M|\n",
      "|2014|    7|  1|null|  null|      NA|      NA|     null|     null|     WN| N8323C|  2485|   SEA| MDW|    null|    1733|             null|         MH_MM|          MD_MA|           MD_MA|      null|      null|     null|          null|       null|          M|\n",
      "|2014|   12| 27|  14|    20|    1420|    2012|       40|     null|     OO| N224AG|  3452|   SEA| HDN|    null|     891|             null|          null|           null|              MA|      null|      null|     null|          null|       null|          M|\n",
      "|2014|    4| 30|null|  null|      NA|      NA|     null|     null|     AS| N526AS|   566|   PDX| LAX|    null|     834|             null|         MH_MM|          MD_MA|           MD_MA|      null|      null|        F|          null|       null|          M|\n",
      "|2014|    1|  3|null|  null|      NA|      NA|     null|     null|     US|     NA|   553|   SEA| PHL|    null|    2378|             null|         MH_MM|          MD_MA|           MD_MA|      null|         S|        F|          null|       null|          M|\n",
      "|2014|    6| 11|  10|    54|    1054|    1624|       -9|     null|     OO| N926SW|  5576|   PDX| DEN|    null|     991|             null|          null|           null|              MA|      null|      null|     null|          null|       null|          M|\n",
      "|2014|    8|  7|null|  null|      NA|      NA|     null|     null|     AS| N579AS|   867|   SEA| OGG|    null|    2640|             null|         MH_MM|          MD_MA|           MD_MA|      null|      null|        F|          null|       null|          M|\n",
      "|2014|    8| 11|null|  null|      NA|      NA|     null|     null|     OO| N689CA|  4528|   PDX| SEA|    null|     129|             null|         MH_MM|          MD_MA|           MD_MA|      null|      null|     null|          null|       null|          M|\n",
      "|2014|    2|  6|  22|    38|    2238|      NA|        8|     null|     OO| N297SW|  5437|   PDX| LMT|    null|     241|             null|          null|             MA|              MA|      null|      null|     null|          null|       null|          M|\n",
      "|2014|    1|  2|null|  null|      NA|      NA|     null|     null|     UA|     NA|   212|   SEA| EWR|    null|    2402|             null|         MH_MM|          MD_MA|           MD_MA|      null|         S|        F|          null|       null|          M|\n",
      "|2014|    5| 15|null|  null|      NA|      NA|     null|     null|     OO| N917SW|  6250|   PDX| LAX|    null|     834|             null|         MH_MM|          MD_MA|           MD_MA|      null|      null|     null|          null|       null|          M|\n",
      "|2014|    2|  7|null|  null|      NA|      NA|     null|     null|     OO| N594SW|  5553|   PDX| SFO|    null|     550|             null|         MH_MM|          MD_MA|           MD_MA|      null|      null|     null|          null|       null|          M|\n",
      "|2014|    4| 15|   6|    52|     652|    1754|       -8|     null|     DL| N378DA|   400|   PDX| JFK|    null|    2454|             null|          null|           null|              MA|      null|      null|        F|          null|       null|          M|\n",
      "|2014|    6|  6|null|  null|      NA|      NA|     null|     null|     WN| N645SW|   956|   PDX| OAK|    null|     543|             null|         MH_MM|          MD_MA|           MD_MA|      null|      null|        F|          null|       null|          M|\n",
      "|2014|    1|  5|null|  null|      NA|      NA|     null|     null|     UA|     NA|   758|   PDX| IAH|    null|    1825|             null|         MH_MM|          MD_MA|           MD_MA|      null|         S|        F|          null|       null|          M|\n",
      "|2014|    1|  6|null|  null|      NA|      NA|     null|     null|     UA|     NA|  1729|   SEA| DEN|    null|    1024|             null|         MH_MM|          MD_MA|           MD_MA|      null|         S|     null|          null|       null|          M|\n",
      "|2014|    3| 30|null|  null|      NA|      NA|     null|     null|     US|     NA|   500|   SEA| PHX|    null|    1107|             null|         MH_MM|          MD_MA|           MD_MA|      null|         S|        F|          null|       null|          M|\n",
      "|2014|    5| 24|  14|    55|    1455|    2212|       55|     null|     UA| N37409|  1635|   SEA| IAH|    null|    1874|             null|          null|           null|              MA|      null|         F|     null|          null|       null|          M|\n",
      "+----+-----+---+----+------+--------+--------+---------+---------+-------+-------+------+------+----+--------+--------+-----------------+--------------+---------------+----------------+----------+----------+---------+--------------+-----------+-----------+\n",
      "only showing top 20 rows\n",
      "\n"
     ]
    }
   ],
   "source": [
    "df_flights_Testes = (df_flights_Testes.withColumn(\"qa_air_time\",\n",
    "                    when((df_flights_Testes.air_time.isNull()), lit(\"M\"))\n",
    "                    .when(~(df_flights_Testes.air_time.between(20,500)) , lit(\"I\"))                                                  \n",
    "                    .otherwise(None))\n",
    "            )\n",
    "\n",
    "df_flights_Testes.filter(df_flights_Testes.qa_air_time.isNotNull()).show()\n",
    "\n",
    "#df_flights_Testes.groupBy(\"air_time\").count().distinct().orderBy(\"air_time\").show(1000)"
   ]
  },
  {
   "cell_type": "markdown",
   "id": "50a46fca",
   "metadata": {},
   "source": [
    "#### Sumarizando Casos"
   ]
  },
  {
   "cell_type": "code",
   "execution_count": 305,
   "id": "ba3593b6",
   "metadata": {},
   "outputs": [
    {
     "name": "stdout",
     "output_type": "stream",
     "text": [
      "+-----------+-----+\n",
      "|qa_air_time|count|\n",
      "+-----------+-----+\n",
      "|       null| 9925|\n",
      "|          M|   76|\n",
      "|          I|    2|\n",
      "+-----------+-----+\n",
      "\n"
     ]
    }
   ],
   "source": [
    "df_flights_Testes.groupBy(\"qa_air_time\").count().distinct().show()"
   ]
  },
  {
   "cell_type": "markdown",
   "id": "f8204acb",
   "metadata": {},
   "source": [
    "#### Tabela Oficial"
   ]
  },
  {
   "cell_type": "code",
   "execution_count": 36,
   "id": "64180858",
   "metadata": {},
   "outputs": [
    {
     "name": "stdout",
     "output_type": "stream",
     "text": [
      "+----+-----+---+----+------+--------+--------+---------+---------+-------+-------+------+------+----+--------+--------+-----------------+--------------+---------------+----------------+----------+----------+---------+--------------+-----------+\n",
      "|year|month|day|hour|minute|dep_time|arr_time|dep_delay|arr_delay|carrier|tailnum|flight|origin|dest|air_time|distance|qa_year_month_day|qa_hour_minute|qa_dep_arr_time|qa_dep_arr_delay|qa_carrier|qa_tailnum|qa_flight|qa_origin_dest|qa_air_time|\n",
      "+----+-----+---+----+------+--------+--------+---------+---------+-------+-------+------+------+----+--------+--------+-----------------+--------------+---------------+----------------+----------+----------+---------+--------------+-----------+\n",
      "|2014|    4|  6|  13|    29|    1329|    2159|        4|     null|     DL| N130DL|  1929|   SEA| ATL|    null|    2182|             null|          null|           null|              MA|      null|      null|     null|          null|          M|\n",
      "|2014|    3|  4|null|  null|      NA|      NA|     null|     null|     UA|     NA|   156|   SEA| DEN|    null|    1024|             null|         MH_MM|          MD_MA|           MD_MA|      null|         S|        F|          null|          M|\n",
      "|2014|    2| 12|null|  null|      NA|      NA|     null|     null|     AS| N527AS|     2|   SEA| DCA|    null|    2329|             null|         MH_MM|          MD_MA|           MD_MA|      null|      null|        F|          null|          M|\n",
      "|2014|    7|  1|null|  null|      NA|      NA|     null|     null|     WN| N8323C|  2485|   SEA| MDW|    null|    1733|             null|         MH_MM|          MD_MA|           MD_MA|      null|      null|     null|          null|          M|\n",
      "|2014|   12| 27|  14|    20|    1420|    2012|       40|     null|     OO| N224AG|  3452|   SEA| HDN|    null|     891|             null|          null|           null|              MA|      null|      null|     null|          null|          M|\n",
      "|2014|    4| 30|null|  null|      NA|      NA|     null|     null|     AS| N526AS|   566|   PDX| LAX|    null|     834|             null|         MH_MM|          MD_MA|           MD_MA|      null|      null|        F|          null|          M|\n",
      "|2014|    1|  3|null|  null|      NA|      NA|     null|     null|     US|     NA|   553|   SEA| PHL|    null|    2378|             null|         MH_MM|          MD_MA|           MD_MA|      null|         S|        F|          null|          M|\n",
      "|2014|    6| 11|  10|    54|    1054|    1624|       -9|     null|     OO| N926SW|  5576|   PDX| DEN|    null|     991|             null|          null|           null|              MA|      null|      null|     null|          null|          M|\n",
      "|2014|    8|  7|null|  null|      NA|      NA|     null|     null|     AS| N579AS|   867|   SEA| OGG|    null|    2640|             null|         MH_MM|          MD_MA|           MD_MA|      null|      null|        F|          null|          M|\n",
      "|2014|    8| 11|null|  null|      NA|      NA|     null|     null|     OO| N689CA|  4528|   PDX| SEA|    null|     129|             null|         MH_MM|          MD_MA|           MD_MA|      null|      null|     null|          null|          M|\n",
      "|2014|    2|  6|  22|    38|    2238|      NA|        8|     null|     OO| N297SW|  5437|   PDX| LMT|    null|     241|             null|          null|             MA|              MA|      null|      null|     null|          null|          M|\n",
      "|2014|    1|  2|null|  null|      NA|      NA|     null|     null|     UA|     NA|   212|   SEA| EWR|    null|    2402|             null|         MH_MM|          MD_MA|           MD_MA|      null|         S|        F|          null|          M|\n",
      "|2014|    5| 15|null|  null|      NA|      NA|     null|     null|     OO| N917SW|  6250|   PDX| LAX|    null|     834|             null|         MH_MM|          MD_MA|           MD_MA|      null|      null|     null|          null|          M|\n",
      "|2014|    2|  7|null|  null|      NA|      NA|     null|     null|     OO| N594SW|  5553|   PDX| SFO|    null|     550|             null|         MH_MM|          MD_MA|           MD_MA|      null|      null|     null|          null|          M|\n",
      "|2014|    4| 15|   6|    52|     652|    1754|       -8|     null|     DL| N378DA|   400|   PDX| JFK|    null|    2454|             null|          null|           null|              MA|      null|      null|        F|          null|          M|\n",
      "|2014|    6|  6|null|  null|      NA|      NA|     null|     null|     WN| N645SW|   956|   PDX| OAK|    null|     543|             null|         MH_MM|          MD_MA|           MD_MA|      null|      null|        F|          null|          M|\n",
      "|2014|    1|  5|null|  null|      NA|      NA|     null|     null|     UA|     NA|   758|   PDX| IAH|    null|    1825|             null|         MH_MM|          MD_MA|           MD_MA|      null|         S|        F|          null|          M|\n",
      "|2014|    1|  6|null|  null|      NA|      NA|     null|     null|     UA|     NA|  1729|   SEA| DEN|    null|    1024|             null|         MH_MM|          MD_MA|           MD_MA|      null|         S|     null|          null|          M|\n",
      "|2014|    3| 30|null|  null|      NA|      NA|     null|     null|     US|     NA|   500|   SEA| PHX|    null|    1107|             null|         MH_MM|          MD_MA|           MD_MA|      null|         S|        F|          null|          M|\n",
      "|2014|    5| 24|  14|    55|    1455|    2212|       55|     null|     UA| N37409|  1635|   SEA| IAH|    null|    1874|             null|          null|           null|              MA|      null|         F|     null|          null|          M|\n",
      "+----+-----+---+----+------+--------+--------+---------+---------+-------+-------+------+------+----+--------+--------+-----------------+--------------+---------------+----------------+----------+----------+---------+--------------+-----------+\n",
      "only showing top 20 rows\n",
      "\n",
      "+-----------+-----+\n",
      "|qa_air_time|count|\n",
      "+-----------+-----+\n",
      "|       null| 9925|\n",
      "|          M|   75|\n",
      "+-----------+-----+\n",
      "\n"
     ]
    }
   ],
   "source": [
    "dfo_flights = (dfo_flights.withColumn(\"qa_air_time\",\n",
    "                    when((dfo_flights.air_time.isNull()), lit(\"M\"))\n",
    "                    .when(~(dfo_flights.air_time.between(20,500)) , lit(\"I\"))                                                  \n",
    "                    .otherwise(None))\n",
    "            )\n",
    "\n",
    "dfo_flights.filter(dfo_flights.qa_air_time.isNotNull()).show()\n",
    "\n",
    "dfo_flights.groupBy(\"qa_air_time\").count().distinct().show()\n"
   ]
  },
  {
   "cell_type": "markdown",
   "id": "e5d51c3f",
   "metadata": {},
   "source": [
    "### Pergunta 10 - Flights"
   ]
  },
  {
   "cell_type": "markdown",
   "id": "020b62ed",
   "metadata": {},
   "source": [
    "#### Tabela Testes"
   ]
  },
  {
   "cell_type": "code",
   "execution_count": 297,
   "id": "d6342eb4",
   "metadata": {},
   "outputs": [
    {
     "name": "stdout",
     "output_type": "stream",
     "text": [
      "+----+-----+----+----+------+--------+--------+---------+---------+-------+-------+------+------+----+--------+--------+-----------------+--------------+---------------+----------------+----------+----------+---------+--------------+-----------+\n",
      "|year|month| day|hour|minute|dep_time|arr_time|dep_delay|arr_delay|carrier|tailnum|flight|origin|dest|air_time|distance|qa_year_month_day|qa_hour_minute|qa_dep_arr_time|qa_dep_arr_delay|qa_carrier|qa_tailnum|qa_flight|qa_origin_dest|qa_distance|\n",
      "+----+-----+----+----+------+--------+--------+---------+---------+-------+-------+------+------+----+--------+--------+-----------------+--------------+---------------+----------------+----------+----------+---------+--------------+-----------+\n",
      "|null| null|null|null|  null|    null|    null|     null|     null|   null|   null|  null|  null|null|    null|    null|         MY_MM_MD|         MH_MM|          MD_MA|           MD_MA|         M|         M|        M|         MO_MD|          M|\n",
      "|1949|   13|  32|  25|    60|      40|       5|        0|        0|    ASS|N559ASS|     1|  SEAA|HNLL|      19|      49|         IY_IM_ID|         IH_IM|          FD_FA|            null|         F|         S|        F|         FO_FD|          I|\n",
      "|1949|    0|   0|  -1|    -1|    2540|    -505|        0|        0|      A|   I559| 85188|    SE|  HN|     501|    3001|         IY_IM_ID|         IH_IM|          FD_FA|            null|         F|         S|        F|         FO_FD|          I|\n",
      "+----+-----+----+----+------+--------+--------+---------+---------+-------+-------+------+------+----+--------+--------+-----------------+--------------+---------------+----------------+----------+----------+---------+--------------+-----------+\n",
      "\n"
     ]
    }
   ],
   "source": [
    "df_flights_Testes = (df_flights_Testes.withColumn(\"qa_distance\",\n",
    "                    when((df_flights_Testes.distance.isNull()), lit(\"M\"))\n",
    "                    .when(~(df_flights_Testes.distance.between(50,3000)) , lit(\"I\"))                                                  \n",
    "                    .otherwise(None))\n",
    "            )\n",
    "\n",
    "df_flights_Testes.filter(df_flights_Testes.qa_distance.isNotNull()).show()\n",
    "\n",
    "# df_flights_Testes.groupBy(\"distance\").count().distinct().orderBy(\"distance\").show(1000)"
   ]
  },
  {
   "cell_type": "markdown",
   "id": "f417934c",
   "metadata": {},
   "source": [
    "#### Sumarizando Casos"
   ]
  },
  {
   "cell_type": "code",
   "execution_count": 299,
   "id": "faec3aae",
   "metadata": {},
   "outputs": [
    {
     "name": "stdout",
     "output_type": "stream",
     "text": [
      "+-----------+-----+\n",
      "|qa_distance|count|\n",
      "+-----------+-----+\n",
      "|       null|10000|\n",
      "|          M|    1|\n",
      "|          I|    2|\n",
      "+-----------+-----+\n",
      "\n"
     ]
    }
   ],
   "source": [
    "df_flights_Testes.groupBy(\"qa_distance\").count().distinct().show()"
   ]
  },
  {
   "cell_type": "markdown",
   "id": "e2a6ea5b",
   "metadata": {},
   "source": [
    "#### Tabela Oficial"
   ]
  },
  {
   "cell_type": "code",
   "execution_count": 37,
   "id": "3288209a",
   "metadata": {},
   "outputs": [
    {
     "name": "stdout",
     "output_type": "stream",
     "text": [
      "+----+-----+---+----+------+--------+--------+---------+---------+-------+-------+------+------+----+--------+--------+-----------------+--------------+---------------+----------------+----------+----------+---------+--------------+-----------+-----------+\n",
      "|year|month|day|hour|minute|dep_time|arr_time|dep_delay|arr_delay|carrier|tailnum|flight|origin|dest|air_time|distance|qa_year_month_day|qa_hour_minute|qa_dep_arr_time|qa_dep_arr_delay|qa_carrier|qa_tailnum|qa_flight|qa_origin_dest|qa_air_time|qa_distance|\n",
      "+----+-----+---+----+------+--------+--------+---------+---------+-------+-------+------+------+----+--------+--------+-----------------+--------------+---------------+----------------+----------+----------+---------+--------------+-----------+-----------+\n",
      "+----+-----+---+----+------+--------+--------+---------+---------+-------+-------+------+------+----+--------+--------+-----------------+--------------+---------------+----------------+----------+----------+---------+--------------+-----------+-----------+\n",
      "\n"
     ]
    }
   ],
   "source": [
    "dfo_flights = (dfo_flights.withColumn(\"qa_distance\",\n",
    "                    when((dfo_flights.distance.isNull()), lit(\"M\"))\n",
    "                    .when(~(dfo_flights.distance.between(50,3000)) , lit(\"I\"))                                                  \n",
    "                    .otherwise(None))\n",
    "            )\n",
    "\n",
    "dfo_flights.filter(dfo_flights.qa_distance.isNotNull()).show()"
   ]
  },
  {
   "cell_type": "markdown",
   "id": "a8b18365",
   "metadata": {},
   "source": [
    "### Pergunta 11 - Flights"
   ]
  },
  {
   "cell_type": "markdown",
   "id": "ef483e9f",
   "metadata": {},
   "source": [
    "#### Tabela Testes"
   ]
  },
  {
   "cell_type": "code",
   "execution_count": 316,
   "id": "9d3d18e5",
   "metadata": {},
   "outputs": [
    {
     "name": "stdout",
     "output_type": "stream",
     "text": [
      "+----+-----+---+----+------+--------+--------+---------+---------+-------+-------+------+------+----+--------+--------+-----------------+--------------+---------------+----------------+----------+----------+---------+--------------+-----------+-----------+-------------------+\n",
      "|year|month|day|hour|minute|dep_time|arr_time|dep_delay|arr_delay|carrier|tailnum|flight|origin|dest|air_time|distance|qa_year_month_day|qa_hour_minute|qa_dep_arr_time|qa_dep_arr_delay|qa_carrier|qa_tailnum|qa_flight|qa_origin_dest|qa_distance|qa_air_time|qa_distance_airtime|\n",
      "+----+-----+---+----+------+--------+--------+---------+---------+-------+-------+------+------+----+--------+--------+-----------------+--------------+---------------+----------------+----------+----------+---------+--------------+-----------+-----------+-------------------+\n",
      "|2014|   12|  8|   6|    58|     658|     935|       -7|       -5|     VX| N846VA|  1780|   SEA| LAX|     132|     954|             null|          null|           null|            null|      null|      null|     null|          null|       null|       null|                 TL|\n",
      "|2014|    1| 22|  10|    40|    1040|    1505|        5|        5|     AS| N559AS|   851|   SEA| HNL|     360|    2677|             null|          null|           null|            null|      null|      null|        F|          null|       null|       null|                 TL|\n",
      "|2014|    3|  9|  14|    43|    1443|    1652|       -2|        2|     VX| N847VA|   755|   SEA| SFO|     111|     679|             null|          null|           null|            null|      null|      null|        F|          null|       null|       null|                 TL|\n",
      "|2014|    4|  9|  17|     5|    1705|    1839|       45|       34|     WN| N360SW|   344|   PDX| SJC|      83|     569|             null|          null|           null|            null|      null|      null|        F|          null|       null|       null|                 TR|\n",
      "|2014|    3|  9|   7|    54|     754|    1015|       -1|        1|     AS| N612AS|   522|   SEA| BUR|     127|     937|             null|          null|           null|            null|      null|      null|        F|          null|       null|       null|                 TL|\n",
      "|2014|    1| 15|  10|    37|    1037|    1352|        7|        2|     WN| N646SW|    48|   PDX| DEN|     121|     991|             null|          null|           null|            null|      null|      null|        F|          null|       null|       null|                 TR|\n",
      "|2014|    7|  2|   8|    47|     847|    1041|       42|       51|     WN| N422WN|  1520|   PDX| OAK|      90|     543|             null|          null|           null|            null|      null|      null|     null|          null|       null|       null|                 TL|\n",
      "|2014|    5| 12|  16|    55|    1655|    1842|       -5|      -18|     VX| N361VA|   755|   SEA| SFO|      98|     679|             null|          null|           null|            null|      null|      null|        F|          null|       null|       null|                 TL|\n",
      "|2014|    4| 19|  12|    36|    1236|    1508|       -4|       -7|     AS| N309AS|   490|   SEA| SAN|     135|    1050|             null|          null|           null|            null|      null|      null|        F|          null|       null|       null|                 TL|\n",
      "|2014|   11| 19|  18|    12|    1812|    2352|       -3|       -4|     AS| N564AS|    26|   SEA| ORD|     198|    1721|             null|          null|           null|            null|      null|      null|        F|          null|       null|       null|                 TR|\n",
      "|2014|   11|  8|  16|    53|    1653|    1924|       -2|       -1|     AS| N323AS|   448|   SEA| LAX|     130|     954|             null|          null|           null|            null|      null|      null|        F|          null|       null|       null|                 TL|\n",
      "|2014|    8|  3|  11|    20|    1120|    1415|        0|        2|     AS| N305AS|   656|   SEA| PHX|     154|    1107|             null|          null|           null|            null|      null|      null|        F|          null|       null|       null|                 TL|\n",
      "|2014|   10| 30|   8|    11|     811|    1038|       21|       29|     AS| N433AS|   608|   SEA| LAS|     127|     867|             null|          null|           null|            null|      null|      null|        F|          null|       null|       null|                 TL|\n",
      "|2014|   11| 12|  23|    46|    2346|     217|       -4|      -28|     AS| N765AS|   121|   SEA| ANC|     183|    1448|             null|          null|           null|            null|      null|      null|        F|          null|       null|       null|                 TL|\n",
      "|2014|   10| 31|  13|    14|    1314|    1544|       89|      111|     AS| N713AS|   306|   SEA| SFO|     129|     679|             null|          null|           null|            null|      null|      null|        F|          null|       null|       null|                 TL|\n",
      "|2014|    1| 29|  20|     9|    2009|    2159|        3|        9|     UA| N27205|  1458|   PDX| SFO|      90|     550|             null|          null|           null|            null|      null|         F|     null|          null|       null|       null|                 TL|\n",
      "|2014|   12| 17|  20|    15|    2015|    2150|       50|       41|     AS| N626AS|   368|   SEA| SMF|      76|     605|             null|          null|           null|            null|      null|      null|        F|          null|       null|       null|                 TR|\n",
      "|2014|    8| 11|  10|    17|    1017|    1613|       -3|       -7|     WN| N8634A|   827|   SEA| MDW|     216|    1733|             null|          null|           null|            null|      null|      null|        F|          null|       null|       null|                 TL|\n",
      "|2014|    1| 13|  21|    56|    2156|     607|       -9|      -15|     AS| N597AS|    24|   SEA| BOS|     290|    2496|             null|          null|           null|            null|      null|      null|        F|          null|       null|       null|                 TL|\n",
      "|2014|    6|  5|  17|    33|    1733|    1945|      -12|      -10|     OO| N215AG|  3488|   PDX| BUR|     111|     817|             null|          null|           null|            null|      null|      null|     null|          null|       null|       null|                 TR|\n",
      "+----+-----+---+----+------+--------+--------+---------+---------+-------+-------+------+------+----+--------+--------+-----------------+--------------+---------------+----------------+----------+----------+---------+--------------+-----------+-----------+-------------------+\n",
      "only showing top 20 rows\n",
      "\n"
     ]
    }
   ],
   "source": [
    "df_flights_Testes = (df_flights_Testes.withColumn(\"qa_distance_airtime\",\n",
    "                    when((df_flights_Testes.distance.isNull()) \n",
    "                         | (df_flights_Testes.air_time.isNull()), lit(\"M\"))\n",
    "                    .when(df_flights_Testes.air_time >= (df_flights_Testes.distance*0.1+30) , lit(\"TL\"))\n",
    "                    .when(df_flights_Testes.air_time <= (df_flights_Testes.distance*0.1+10) , lit(\"TS\"))                              \n",
    "                    .otherwise(lit(\"TR\")))\n",
    "            )\n",
    "\n",
    "df_flights_Testes.filter(df_flights_Testes.qa_distance_airtime.isNotNull()).show()\n",
    "\n",
    "# df_flights_Testes.groupBy(\"distance\").count().distinct().orderBy(\"distance\").show(1000)"
   ]
  },
  {
   "cell_type": "markdown",
   "id": "578597e7",
   "metadata": {},
   "source": [
    "#### Sumarizando Casos"
   ]
  },
  {
   "cell_type": "code",
   "execution_count": 317,
   "id": "f0a6da4a",
   "metadata": {},
   "outputs": [
    {
     "name": "stdout",
     "output_type": "stream",
     "text": [
      "+-------------------+-----+\n",
      "|qa_distance_airtime|count|\n",
      "+-------------------+-----+\n",
      "|                  M|   76|\n",
      "|                 TL| 5028|\n",
      "|                 TR| 4832|\n",
      "|                 TS|   67|\n",
      "+-------------------+-----+\n",
      "\n"
     ]
    }
   ],
   "source": [
    "df_flights_Testes.groupBy(\"qa_distance_airtime\").count().distinct().orderBy(\"qa_distance_airtime\").show()"
   ]
  },
  {
   "cell_type": "markdown",
   "id": "d3d3fe63",
   "metadata": {},
   "source": [
    "#### Tabela Oficial"
   ]
  },
  {
   "cell_type": "code",
   "execution_count": 38,
   "id": "e2cb1369",
   "metadata": {},
   "outputs": [
    {
     "name": "stdout",
     "output_type": "stream",
     "text": [
      "+----+-----+---+----+------+--------+--------+---------+---------+-------+-------+------+------+----+--------+--------+-----------------+--------------+---------------+----------------+----------+----------+---------+--------------+-----------+-----------+-------------------+\n",
      "|year|month|day|hour|minute|dep_time|arr_time|dep_delay|arr_delay|carrier|tailnum|flight|origin|dest|air_time|distance|qa_year_month_day|qa_hour_minute|qa_dep_arr_time|qa_dep_arr_delay|qa_carrier|qa_tailnum|qa_flight|qa_origin_dest|qa_air_time|qa_distance|qa_distance_airtime|\n",
      "+----+-----+---+----+------+--------+--------+---------+---------+-------+-------+------+------+----+--------+--------+-----------------+--------------+---------------+----------------+----------+----------+---------+--------------+-----------+-----------+-------------------+\n",
      "|2014|   12|  8|   6|    58|     658|     935|       -7|       -5|     VX| N846VA|  1780|   SEA| LAX|     132|     954|             null|          null|           null|            null|      null|      null|     null|          null|       null|       null|                 TL|\n",
      "|2014|    1| 22|  10|    40|    1040|    1505|        5|        5|     AS| N559AS|   851|   SEA| HNL|     360|    2677|             null|          null|           null|            null|      null|      null|        F|          null|       null|       null|                 TL|\n",
      "|2014|    3|  9|  14|    43|    1443|    1652|       -2|        2|     VX| N847VA|   755|   SEA| SFO|     111|     679|             null|          null|           null|            null|      null|      null|        F|          null|       null|       null|                 TL|\n",
      "|2014|    4|  9|  17|     5|    1705|    1839|       45|       34|     WN| N360SW|   344|   PDX| SJC|      83|     569|             null|          null|           null|            null|      null|      null|        F|          null|       null|       null|                 TR|\n",
      "|2014|    3|  9|   7|    54|     754|    1015|       -1|        1|     AS| N612AS|   522|   SEA| BUR|     127|     937|             null|          null|           null|            null|      null|      null|        F|          null|       null|       null|                 TL|\n",
      "|2014|    1| 15|  10|    37|    1037|    1352|        7|        2|     WN| N646SW|    48|   PDX| DEN|     121|     991|             null|          null|           null|            null|      null|      null|        F|          null|       null|       null|                 TR|\n",
      "|2014|    7|  2|   8|    47|     847|    1041|       42|       51|     WN| N422WN|  1520|   PDX| OAK|      90|     543|             null|          null|           null|            null|      null|      null|     null|          null|       null|       null|                 TL|\n",
      "|2014|    5| 12|  16|    55|    1655|    1842|       -5|      -18|     VX| N361VA|   755|   SEA| SFO|      98|     679|             null|          null|           null|            null|      null|      null|        F|          null|       null|       null|                 TL|\n",
      "|2014|    4| 19|  12|    36|    1236|    1508|       -4|       -7|     AS| N309AS|   490|   SEA| SAN|     135|    1050|             null|          null|           null|            null|      null|      null|        F|          null|       null|       null|                 TL|\n",
      "|2014|   11| 19|  18|    12|    1812|    2352|       -3|       -4|     AS| N564AS|    26|   SEA| ORD|     198|    1721|             null|          null|           null|            null|      null|      null|        F|          null|       null|       null|                 TR|\n",
      "|2014|   11|  8|  16|    53|    1653|    1924|       -2|       -1|     AS| N323AS|   448|   SEA| LAX|     130|     954|             null|          null|           null|            null|      null|      null|        F|          null|       null|       null|                 TL|\n",
      "|2014|    8|  3|  11|    20|    1120|    1415|        0|        2|     AS| N305AS|   656|   SEA| PHX|     154|    1107|             null|          null|           null|            null|      null|      null|        F|          null|       null|       null|                 TL|\n",
      "|2014|   10| 30|   8|    11|     811|    1038|       21|       29|     AS| N433AS|   608|   SEA| LAS|     127|     867|             null|          null|           null|            null|      null|      null|        F|          null|       null|       null|                 TL|\n",
      "|2014|   11| 12|  23|    46|    2346|     217|       -4|      -28|     AS| N765AS|   121|   SEA| ANC|     183|    1448|             null|          null|           null|            null|      null|      null|        F|          null|       null|       null|                 TL|\n",
      "|2014|   10| 31|  13|    14|    1314|    1544|       89|      111|     AS| N713AS|   306|   SEA| SFO|     129|     679|             null|          null|           null|            null|      null|      null|        F|          null|       null|       null|                 TL|\n",
      "|2014|    1| 29|  20|     9|    2009|    2159|        3|        9|     UA| N27205|  1458|   PDX| SFO|      90|     550|             null|          null|           null|            null|      null|         F|     null|          null|       null|       null|                 TL|\n",
      "|2014|   12| 17|  20|    15|    2015|    2150|       50|       41|     AS| N626AS|   368|   SEA| SMF|      76|     605|             null|          null|           null|            null|      null|      null|        F|          null|       null|       null|                 TR|\n",
      "|2014|    8| 11|  10|    17|    1017|    1613|       -3|       -7|     WN| N8634A|   827|   SEA| MDW|     216|    1733|             null|          null|           null|            null|      null|      null|        F|          null|       null|       null|                 TL|\n",
      "|2014|    1| 13|  21|    56|    2156|     607|       -9|      -15|     AS| N597AS|    24|   SEA| BOS|     290|    2496|             null|          null|           null|            null|      null|      null|        F|          null|       null|       null|                 TL|\n",
      "|2014|    6|  5|  17|    33|    1733|    1945|      -12|      -10|     OO| N215AG|  3488|   PDX| BUR|     111|     817|             null|          null|           null|            null|      null|      null|     null|          null|       null|       null|                 TR|\n",
      "+----+-----+---+----+------+--------+--------+---------+---------+-------+-------+------+------+----+--------+--------+-----------------+--------------+---------------+----------------+----------+----------+---------+--------------+-----------+-----------+-------------------+\n",
      "only showing top 20 rows\n",
      "\n",
      "+-------------------+-----+\n",
      "|qa_distance_airtime|count|\n",
      "+-------------------+-----+\n",
      "|                  M|   75|\n",
      "|                 TL| 5027|\n",
      "|                 TR| 4831|\n",
      "|                 TS|   67|\n",
      "+-------------------+-----+\n",
      "\n"
     ]
    }
   ],
   "source": [
    "dfo_flights = (dfo_flights.withColumn(\"qa_distance_airtime\",\n",
    "                    when((dfo_flights.distance.isNull()) \n",
    "                         | (dfo_flights.air_time.isNull()), lit(\"M\"))\n",
    "                    .when(dfo_flights.air_time >= (dfo_flights.distance*0.1+30) , lit(\"TL\"))\n",
    "                    .when(dfo_flights.air_time <= (dfo_flights.distance*0.1+10) , lit(\"TS\"))                              \n",
    "                    .otherwise(lit(\"TR\")))\n",
    "            )\n",
    "\n",
    "dfo_flights.filter(dfo_flights.qa_distance_airtime.isNotNull()).show()\n",
    "dfo_flights.groupBy(\"qa_distance_airtime\").count().distinct().orderBy(\"qa_distance_airtime\").show()"
   ]
  },
  {
   "cell_type": "markdown",
   "id": "86899371",
   "metadata": {},
   "source": [
    "#### FINALIZANDO DATASET FLIGHTS TO PARQUET FILE"
   ]
  },
  {
   "cell_type": "code",
   "execution_count": 39,
   "id": "6b9a7095",
   "metadata": {},
   "outputs": [],
   "source": [
    "dfo_flights.write.options(header='True', delimiter=',').csv(\"C:/Users/amarti40/OneDrive - Capgemini/Desktop/ACELERAÇÃO PYSPARK/Semana 2 - Desafio Qualidade/Outputs_Flights.csv\")\n",
    "dfo_flights.write.parquet(\"C:/Users/amarti40/OneDrive - Capgemini/Desktop/ACELERAÇÃO PYSPARK/Semana 2 - Desafio Qualidade/Outputs_Flights.parquet\")"
   ]
  },
  {
   "cell_type": "code",
   "execution_count": null,
   "id": "8dfab194",
   "metadata": {},
   "outputs": [],
   "source": [
    "spark.stop()"
   ]
  }
 ],
 "metadata": {
  "kernelspec": {
   "display_name": "Python 3 (ipykernel)",
   "language": "python",
   "name": "python3"
  },
  "language_info": {
   "codemirror_mode": {
    "name": "ipython",
    "version": 3
   },
   "file_extension": ".py",
   "mimetype": "text/x-python",
   "name": "python",
   "nbconvert_exporter": "python",
   "pygments_lexer": "ipython3",
   "version": "3.9.7"
  }
 },
 "nbformat": 4,
 "nbformat_minor": 5
}
