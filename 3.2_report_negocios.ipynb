{
 "cells": [
  {
   "cell_type": "code",
   "execution_count": 118,
   "metadata": {
    "scrolled": false
   },
   "outputs": [
    {
     "name": "stdout",
     "output_type": "stream",
     "text": [
      "Requirement already satisfied: pyspark in c:\\users\\amarti40\\anaconda3\\lib\\site-packages (3.2.1)\n",
      "Requirement already satisfied: py4j==0.10.9.3 in c:\\users\\amarti40\\anaconda3\\lib\\site-packages (from pyspark) (0.10.9.3)\n",
      "Requirement already satisfied: findspark in c:\\users\\amarti40\\anaconda3\\lib\\site-packages (2.0.1)\n"
     ]
    }
   ],
   "source": [
    "# Installing required packages\n",
    "!pip install pyspark\n",
    "!pip install findspark"
   ]
  },
  {
   "cell_type": "code",
   "execution_count": 119,
   "metadata": {},
   "outputs": [],
   "source": [
    "import findspark\n",
    "findspark.init()\n",
    "import datetime\n",
    "import pandas as pd"
   ]
  },
  {
   "cell_type": "code",
   "execution_count": 120,
   "metadata": {},
   "outputs": [],
   "source": [
    "from pyspark import SparkContext, SparkConf\n",
    "from pyspark.sql import SparkSession\n",
    "from pyspark.sql import functions as F\n",
    "from pyspark.sql.window import Window\n",
    "from pyspark.sql.types import StructType, StructField, StringType, IntegerType, FloatType, BooleanType"
   ]
  },
  {
   "cell_type": "code",
   "execution_count": 121,
   "metadata": {},
   "outputs": [
    {
     "ename": "ValueError",
     "evalue": "Cannot run multiple SparkContexts at once; existing SparkContext(app=pyspark-shell, master=local[*]) created by __init__ at C:\\Users\\amarti40\\AppData\\Local\\Temp/ipykernel_14196/1377807283.py:2 ",
     "output_type": "error",
     "traceback": [
      "\u001b[1;31m---------------------------------------------------------------------------\u001b[0m",
      "\u001b[1;31mValueError\u001b[0m                                Traceback (most recent call last)",
      "\u001b[1;32m~\\AppData\\Local\\Temp/ipykernel_14196/1377807283.py\u001b[0m in \u001b[0;36m<module>\u001b[1;34m\u001b[0m\n\u001b[0;32m      1\u001b[0m \u001b[1;31m# Criar o contexto do spark\u001b[0m\u001b[1;33m\u001b[0m\u001b[1;33m\u001b[0m\u001b[0m\n\u001b[1;32m----> 2\u001b[1;33m \u001b[0msc\u001b[0m \u001b[1;33m=\u001b[0m \u001b[0mSparkContext\u001b[0m\u001b[1;33m(\u001b[0m\u001b[1;33m)\u001b[0m\u001b[1;33m\u001b[0m\u001b[1;33m\u001b[0m\u001b[0m\n\u001b[0m\u001b[0;32m      3\u001b[0m \u001b[1;33m\u001b[0m\u001b[0m\n\u001b[0;32m      4\u001b[0m \u001b[1;31m# Instancia o criador de sessao do spark\u001b[0m\u001b[1;33m\u001b[0m\u001b[1;33m\u001b[0m\u001b[0m\n\u001b[0;32m      5\u001b[0m spark = (SparkSession.builder\n",
      "\u001b[1;32mC:\\spark-3.2.1-bin-hadoop2.7\\python\\pyspark\\context.py\u001b[0m in \u001b[0;36m__init__\u001b[1;34m(self, master, appName, sparkHome, pyFiles, environment, batchSize, serializer, conf, gateway, jsc, profiler_cls)\u001b[0m\n\u001b[0;32m    142\u001b[0m                 \" is not allowed as it is a security risk.\")\n\u001b[0;32m    143\u001b[0m \u001b[1;33m\u001b[0m\u001b[0m\n\u001b[1;32m--> 144\u001b[1;33m         \u001b[0mSparkContext\u001b[0m\u001b[1;33m.\u001b[0m\u001b[0m_ensure_initialized\u001b[0m\u001b[1;33m(\u001b[0m\u001b[0mself\u001b[0m\u001b[1;33m,\u001b[0m \u001b[0mgateway\u001b[0m\u001b[1;33m=\u001b[0m\u001b[0mgateway\u001b[0m\u001b[1;33m,\u001b[0m \u001b[0mconf\u001b[0m\u001b[1;33m=\u001b[0m\u001b[0mconf\u001b[0m\u001b[1;33m)\u001b[0m\u001b[1;33m\u001b[0m\u001b[1;33m\u001b[0m\u001b[0m\n\u001b[0m\u001b[0;32m    145\u001b[0m         \u001b[1;32mtry\u001b[0m\u001b[1;33m:\u001b[0m\u001b[1;33m\u001b[0m\u001b[1;33m\u001b[0m\u001b[0m\n\u001b[0;32m    146\u001b[0m             self._do_init(master, appName, sparkHome, pyFiles, environment, batchSize, serializer,\n",
      "\u001b[1;32mC:\\spark-3.2.1-bin-hadoop2.7\\python\\pyspark\\context.py\u001b[0m in \u001b[0;36m_ensure_initialized\u001b[1;34m(cls, instance, gateway, conf)\u001b[0m\n\u001b[0;32m    348\u001b[0m \u001b[1;33m\u001b[0m\u001b[0m\n\u001b[0;32m    349\u001b[0m                     \u001b[1;31m# Raise error if there is already a running Spark context\u001b[0m\u001b[1;33m\u001b[0m\u001b[1;33m\u001b[0m\u001b[0m\n\u001b[1;32m--> 350\u001b[1;33m                     raise ValueError(\n\u001b[0m\u001b[0;32m    351\u001b[0m                         \u001b[1;34m\"Cannot run multiple SparkContexts at once; \"\u001b[0m\u001b[1;33m\u001b[0m\u001b[1;33m\u001b[0m\u001b[0m\n\u001b[0;32m    352\u001b[0m                         \u001b[1;34m\"existing SparkContext(app=%s, master=%s)\"\u001b[0m\u001b[1;33m\u001b[0m\u001b[1;33m\u001b[0m\u001b[0m\n",
      "\u001b[1;31mValueError\u001b[0m: Cannot run multiple SparkContexts at once; existing SparkContext(app=pyspark-shell, master=local[*]) created by __init__ at C:\\Users\\amarti40\\AppData\\Local\\Temp/ipykernel_14196/1377807283.py:2 "
     ]
    }
   ],
   "source": [
    "# Criar o contexto do spark\n",
    "sc = SparkContext()\n",
    "\n",
    "# Instancia o criador de sessao do spark\n",
    "spark = (SparkSession.builder\n",
    "                     .master(\"local[5]\")\n",
    "                     .appName(\"Semana 4 - Desafio Relatórios\"))"
   ]
  },
  {
   "cell_type": "code",
   "execution_count": null,
   "metadata": {},
   "outputs": [],
   "source": [
    "df_airports=spark.getOrCreate().read.parquet(\"C:/Users/amarti40/OneDrive - Capgemini/Desktop/ACELERAÇÃO PYSPARK/Semana 3 - Desafio Transformação/Outputs_Airports_Transformacao.parquet\")\n",
    "df_planes=spark.getOrCreate().read.parquet(\"C:/Users/amarti40/OneDrive - Capgemini/Desktop/ACELERAÇÃO PYSPARK/Semana 3 - Desafio Transformação/Outputs_Planes_Transformacao.parquet\")\n",
    "df_flights=spark.getOrCreate().read.parquet(\"C:/Users/amarti40/OneDrive - Capgemini/Desktop/ACELERAÇÃO PYSPARK/Semana 3 - Desafio Transformação/Outputs_Flights_Transformacao.parquet\")"
   ]
  },
  {
   "cell_type": "code",
   "execution_count": null,
   "metadata": {},
   "outputs": [],
   "source": [
    "print(df_airports.count())\n",
    "print(df_planes.count())\n",
    "print(df_flights.count())"
   ]
  },
  {
   "cell_type": "code",
   "execution_count": null,
   "metadata": {
    "scrolled": true
   },
   "outputs": [],
   "source": [
    "df_airports_origin = df_airports.select([F.col(c).alias(c+\"_air_origin\") for c in df_airports.columns])\n",
    "df_airports_dest = df_airports.select([F.col(c).alias(c+\"_air_dest\") for c in df_airports.columns])\n",
    "\n",
    "df_planes = df_planes.select([F.col(c).alias(c+\"_pl\") for c in df_planes.columns])\n",
    "df_flights = df_flights.select([F.col(c).alias(c+\"_fl\") for c in df_flights.columns])\n",
    "\n",
    "df_airports_origin.printSchema()\n",
    "df_airports_dest.printSchema()\n",
    "df_planes.printSchema()\n",
    "df_flights.printSchema()"
   ]
  },
  {
   "cell_type": "markdown",
   "metadata": {},
   "source": [
    "# Perguntas para negócio"
   ]
  },
  {
   "cell_type": "markdown",
   "metadata": {},
   "source": [
    "## Pergunta 1"
   ]
  },
  {
   "cell_type": "code",
   "execution_count": null,
   "metadata": {
    "scrolled": false
   },
   "outputs": [],
   "source": [
    " df_final = (df_flights.join(df_planes, df_planes.tailnum_pl == df_flights.tailnum_fl\n",
    "                             ,\"left\" \n",
    "                            )                                             \n",
    "                       .join(df_airports_origin, df_airports_origin.faa_air_origin == df_flights.origin_fl\n",
    "                             ,\"left\"\n",
    "                            )\n",
    "                       .join(df_airports_dest, df_airports_dest.faa_air_dest == df_flights.dest_fl\n",
    "                             ,\"left\"\n",
    "                            )          \n",
    "            )\n",
    "\n",
    "df_final.printSchema()\n",
    "\n",
    "print(df_final.count())\n"
   ]
  },
  {
   "cell_type": "code",
   "execution_count": null,
   "metadata": {},
   "outputs": [],
   "source": [
    "df_final.createOrReplaceTempView('db_final')\n",
    "df_airports.createOrReplaceTempView('db_airports')\n",
    "df_planes.createOrReplaceTempView('db_planes')\n",
    "df_flights.createOrReplaceTempView('db_flights')"
   ]
  },
  {
   "cell_type": "markdown",
   "metadata": {},
   "source": [
    "## Pergunta 2"
   ]
  },
  {
   "cell_type": "code",
   "execution_count": 42,
   "metadata": {},
   "outputs": [
    {
     "name": "stdout",
     "output_type": "stream",
     "text": [
      "+-------------+-----------------+\n",
      "|       region|Numero_Aeroportos|\n",
      "+-------------+-----------------+\n",
      "|       ALASKA|              243|\n",
      "|     OFFSHORE|               22|\n",
      "|MAINLAND-EAST|              696|\n",
      "|MAINLAND-WEST|              436|\n",
      "+-------------+-----------------+\n",
      "\n"
     ]
    }
   ],
   "source": [
    "spark.getOrCreate().sql(f\"\"\"\n",
    "SELECT  region\n",
    "        ,Count(Faa) as Numero_Aeroportos\n",
    "FROM db_airports\n",
    "group by region\n",
    "\"\"\").show()"
   ]
  },
  {
   "cell_type": "code",
   "execution_count": 43,
   "metadata": {},
   "outputs": [
    {
     "name": "stdout",
     "output_type": "stream",
     "text": [
      "+-------------+----------+\n",
      "|       region|Count_Name|\n",
      "+-------------+----------+\n",
      "|       ALASKA|       243|\n",
      "|     OFFSHORE|        22|\n",
      "|MAINLAND-EAST|       696|\n",
      "|MAINLAND-WEST|       436|\n",
      "+-------------+----------+\n",
      "\n"
     ]
    }
   ],
   "source": [
    "(df_airports.groupBy(\"region\")\n",
    "            .agg(F.count('Faa').alias('Count_Name')).distinct()\n",
    "            .select('region', 'Count_Name').show())"
   ]
  },
  {
   "cell_type": "markdown",
   "metadata": {},
   "source": [
    "## Pergunta 3"
   ]
  },
  {
   "cell_type": "code",
   "execution_count": 31,
   "metadata": {},
   "outputs": [
    {
     "name": "stdout",
     "output_type": "stream",
     "text": [
      "+---------------------+\n",
      "|Dif_Altitude_Ori_Dest|\n",
      "+---------------------+\n",
      "|                 6169|\n",
      "+---------------------+\n",
      "\n"
     ]
    }
   ],
   "source": [
    "spark.getOrCreate().sql(f\"\"\"\n",
    "SELECT MAX(ABS(alt_air_origin - alt_air_dest)) AS Dif_Altitude_Ori_Dest\n",
    "FROM db_final\n",
    "\"\"\").show(5)"
   ]
  },
  {
   "cell_type": "code",
   "execution_count": 67,
   "metadata": {},
   "outputs": [
    {
     "name": "stdout",
     "output_type": "stream",
     "text": [
      "+---------------------+\n",
      "|Dif_Altitude_Ori_Dest|\n",
      "+---------------------+\n",
      "|                 6169|\n",
      "+---------------------+\n",
      "\n"
     ]
    }
   ],
   "source": [
    "(df_final.select(F.max(F.abs(F.col(\"alt_air_origin\")-F.col(\"alt_air_dest\"))).alias(\"Dif_Altitude_Ori_Dest\"))\n",
    "         .show())"
   ]
  },
  {
   "cell_type": "markdown",
   "metadata": {},
   "source": [
    "## Pergunta 4"
   ]
  },
  {
   "cell_type": "code",
   "execution_count": 43,
   "metadata": {},
   "outputs": [
    {
     "name": "stdout",
     "output_type": "stream",
     "text": [
      "+------------+\n",
      "|Atraso_Medio|\n",
      "+------------+\n",
      "|       24.65|\n",
      "+------------+\n",
      "\n"
     ]
    }
   ],
   "source": [
    "spark.getOrCreate().sql(f\"\"\"\n",
    "SELECT Round(AVG(arr_delay_fl),2) AS Atraso_Medio_Arrive\n",
    "FROM db_final\n",
    "WHERE arr_delay_fl > 0 \n",
    "\"\"\").show()"
   ]
  },
  {
   "cell_type": "code",
   "execution_count": 66,
   "metadata": {},
   "outputs": [
    {
     "name": "stdout",
     "output_type": "stream",
     "text": [
      "+------------+\n",
      "|Atraso_Medio|\n",
      "+------------+\n",
      "|       24.65|\n",
      "+------------+\n",
      "\n"
     ]
    }
   ],
   "source": [
    "(df_final.filter(F.col(\"arr_delay_fl\") > 0)\n",
    "         .select(F.round(F.avg(F.col(\"arr_delay_fl\")),2).alias(\"Atraso_Medio\"))\n",
    "         .show())"
   ]
  },
  {
   "cell_type": "markdown",
   "metadata": {},
   "source": [
    "## Pergunta 5"
   ]
  },
  {
   "cell_type": "code",
   "execution_count": 49,
   "metadata": {},
   "outputs": [
    {
     "name": "stdout",
     "output_type": "stream",
     "text": [
      "+--------------+-------------------+\n",
      "|Regiao_Destino|Atraso_Medio_Arrive|\n",
      "+--------------+-------------------+\n",
      "|        ALASKA|              20.86|\n",
      "|      OFFSHORE|              25.46|\n",
      "| MAINLAND-EAST|              28.53|\n",
      "| MAINLAND-WEST|              23.79|\n",
      "+--------------+-------------------+\n",
      "\n"
     ]
    }
   ],
   "source": [
    "spark.getOrCreate().sql(f\"\"\"\n",
    "SELECT  region_air_dest AS Regiao_Destino,\n",
    "        Round(AVG(arr_delay_fl),2) AS Atraso_Medio_Arrive\n",
    "FROM db_final\n",
    "WHERE arr_delay_fl > 0 \n",
    "GROUP BY region_air_dest\n",
    "\"\"\").show()"
   ]
  },
  {
   "cell_type": "code",
   "execution_count": 54,
   "metadata": {},
   "outputs": [
    {
     "name": "stdout",
     "output_type": "stream",
     "text": [
      "+---------------+------------+\n",
      "|region_air_dest|Atraso_Medio|\n",
      "+---------------+------------+\n",
      "|         ALASKA|       20.86|\n",
      "|       OFFSHORE|       25.46|\n",
      "|  MAINLAND-EAST|       28.53|\n",
      "|  MAINLAND-WEST|       23.79|\n",
      "+---------------+------------+\n",
      "\n"
     ]
    }
   ],
   "source": [
    "(df_final.filter(F.col(\"arr_delay_fl\") > 0)\n",
    "         .groupBy(\"region_air_dest\")\n",
    "         .agg(F.round(F.avg(F.col(\"arr_delay_fl\")),2).alias(\"Atraso_Medio\")).distinct()\n",
    "         .select('region_air_dest', 'Atraso_Medio').show())"
   ]
  },
  {
   "cell_type": "markdown",
   "metadata": {},
   "source": [
    "## Pergunta 6"
   ]
  },
  {
   "cell_type": "code",
   "execution_count": 47,
   "metadata": {},
   "outputs": [
    {
     "name": "stdout",
     "output_type": "stream",
     "text": [
      "+----+-----------------------+\n",
      "|Year|Atraso_Acumulado_Arrive|\n",
      "+----+-----------------------+\n",
      "|2014|                  91820|\n",
      "+----+-----------------------+\n",
      "\n"
     ]
    }
   ],
   "source": [
    "spark.getOrCreate().sql(f\"\"\"\n",
    "SELECT  YEAR(dep_datetime_fl) AS Year,\n",
    "        Round(SUM(arr_delay_fl),2) AS Atraso_Acumulado_Arrive\n",
    "FROM db_final\n",
    "WHERE arr_delay_fl > 0 \n",
    "GROUP BY YEAR(dep_datetime_fl)\n",
    "\"\"\").show()"
   ]
  },
  {
   "cell_type": "code",
   "execution_count": 65,
   "metadata": {},
   "outputs": [
    {
     "name": "stdout",
     "output_type": "stream",
     "text": [
      "+----+-----------------------+\n",
      "|Year|Atraso_Acumulado_Arrive|\n",
      "+----+-----------------------+\n",
      "|2014|                  91820|\n",
      "+----+-----------------------+\n",
      "\n"
     ]
    }
   ],
   "source": [
    "(df_final.filter(F.col(\"arr_delay_fl\") > 0)\n",
    "         .groupBy(F.year(\"dep_datetime_fl\").alias(\"Year\"))\n",
    "         .agg(F.round(F.sum(F.col(\"arr_delay_fl\")),2).alias(\"Atraso_Acumulado_Arrive\"))\n",
    "         .show())"
   ]
  },
  {
   "cell_type": "markdown",
   "metadata": {},
   "source": [
    "## Pergunta 7"
   ]
  },
  {
   "cell_type": "code",
   "execution_count": 50,
   "metadata": {},
   "outputs": [
    {
     "name": "stdout",
     "output_type": "stream",
     "text": [
      "+----+--------------+-----------------------+\n",
      "|Year|Regiao_Destino|Atraso_Acumulado_Arrive|\n",
      "+----+--------------+-----------------------+\n",
      "|2014|        ALASKA|                   5737|\n",
      "|2014| MAINLAND-EAST|                  22938|\n",
      "|2014|      OFFSHORE|                   2903|\n",
      "|2014| MAINLAND-WEST|                  60242|\n",
      "+----+--------------+-----------------------+\n",
      "\n"
     ]
    }
   ],
   "source": [
    "spark.getOrCreate().sql(f\"\"\"\n",
    "SELECT  YEAR(dep_datetime_fl) AS Year,\n",
    "        region_air_dest AS Regiao_Destino,\n",
    "        Round(SUM(arr_delay_fl),2) AS Atraso_Acumulado_Arrive\n",
    "FROM db_final\n",
    "WHERE arr_delay_fl > 0 \n",
    "GROUP BY YEAR(dep_datetime_fl),\n",
    "         region_air_dest\n",
    "\"\"\").show()"
   ]
  },
  {
   "cell_type": "code",
   "execution_count": 69,
   "metadata": {},
   "outputs": [
    {
     "name": "stdout",
     "output_type": "stream",
     "text": [
      "+----+--------------+-----------------------+\n",
      "|Year|Regiao_Destino|Atraso_Acumulado_Arrive|\n",
      "+----+--------------+-----------------------+\n",
      "|2014|        ALASKA|                   5737|\n",
      "|2014| MAINLAND-EAST|                  22938|\n",
      "|2014|      OFFSHORE|                   2903|\n",
      "|2014| MAINLAND-WEST|                  60242|\n",
      "+----+--------------+-----------------------+\n",
      "\n"
     ]
    }
   ],
   "source": [
    "(df_final.filter(F.col(\"arr_delay_fl\") > 0)\n",
    "         .groupBy(F.year(\"dep_datetime_fl\").alias(\"Year\"), F.col(\"region_air_dest\").alias(\"Regiao_Destino\"))\n",
    "         .agg(F.round(F.sum(F.col(\"arr_delay_fl\")),2).alias(\"Atraso_Acumulado_Arrive\"))\n",
    "         .show())"
   ]
  },
  {
   "cell_type": "markdown",
   "metadata": {},
   "source": [
    "## Pergunta 8"
   ]
  },
  {
   "cell_type": "code",
   "execution_count": 56,
   "metadata": {},
   "outputs": [
    {
     "name": "stdout",
     "output_type": "stream",
     "text": [
      "+---------------+\n",
      "|Tempo_Medio_Voo|\n",
      "+---------------+\n",
      "|         152.32|\n",
      "+---------------+\n",
      "\n"
     ]
    }
   ],
   "source": [
    "spark.getOrCreate().sql(f\"\"\"\n",
    "SELECT  Round(AVG(air_time_fl),2) AS Tempo_Medio_Voo\n",
    "FROM db_final\n",
    "\"\"\").show()"
   ]
  },
  {
   "cell_type": "code",
   "execution_count": 70,
   "metadata": {},
   "outputs": [
    {
     "name": "stdout",
     "output_type": "stream",
     "text": [
      "+---------------+\n",
      "|Tempo_Medio_Voo|\n",
      "+---------------+\n",
      "|         152.32|\n",
      "+---------------+\n",
      "\n"
     ]
    }
   ],
   "source": [
    "(df_final.agg(F.round(F.avg(F.col(\"air_time_fl\")),2).alias(\"Tempo_Medio_Voo\"))\n",
    "         .show())"
   ]
  },
  {
   "cell_type": "markdown",
   "metadata": {},
   "source": [
    "## Pergunta 9"
   ]
  },
  {
   "cell_type": "code",
   "execution_count": 57,
   "metadata": {},
   "outputs": [
    {
     "name": "stdout",
     "output_type": "stream",
     "text": [
      "+--------------+---------------+\n",
      "|Regiao_Destino|Tempo_Medio_Voo|\n",
      "+--------------+---------------+\n",
      "|        ALASKA|          174.4|\n",
      "|      OFFSHORE|         340.31|\n",
      "| MAINLAND-EAST|         236.59|\n",
      "| MAINLAND-WEST|         114.83|\n",
      "+--------------+---------------+\n",
      "\n"
     ]
    }
   ],
   "source": [
    "spark.getOrCreate().sql(f\"\"\"\n",
    "SELECT  region_air_dest AS Regiao_Destino,\n",
    "        Round(AVG(air_time_fl),2) AS Tempo_Medio_Voo\n",
    "FROM db_final\n",
    "GROUP BY region_air_dest\n",
    "\"\"\").show()"
   ]
  },
  {
   "cell_type": "code",
   "execution_count": 71,
   "metadata": {},
   "outputs": [
    {
     "name": "stdout",
     "output_type": "stream",
     "text": [
      "+--------------+---------------+\n",
      "|Regiao_Destino|Tempo_Medio_Voo|\n",
      "+--------------+---------------+\n",
      "|        ALASKA|          174.4|\n",
      "|      OFFSHORE|         340.31|\n",
      "| MAINLAND-EAST|         236.59|\n",
      "| MAINLAND-WEST|         114.83|\n",
      "+--------------+---------------+\n",
      "\n"
     ]
    }
   ],
   "source": [
    "(df_final.groupBy(F.col(\"region_air_dest\").alias(\"Regiao_Destino\"))\n",
    "         .agg(F.round(F.avg(F.col(\"air_time_fl\")),2).alias(\"Tempo_Medio_Voo\"))\n",
    "         .show())"
   ]
  },
  {
   "cell_type": "markdown",
   "metadata": {},
   "source": [
    "## Pergunta 10"
   ]
  },
  {
   "cell_type": "code",
   "execution_count": 65,
   "metadata": {},
   "outputs": [
    {
     "name": "stdout",
     "output_type": "stream",
     "text": [
      "+------+-------+---------------+\n",
      "|Origem|Destino|Tempo_Medio_Voo|\n",
      "+------+-------+---------------+\n",
      "|   PDX|    ABQ|          136.0|\n",
      "|   PDX|    ANC|          202.0|\n",
      "|   PDX|    ATL|          247.0|\n",
      "|   PDX|    AUS|          204.0|\n",
      "|   PDX|    BOI|           49.0|\n",
      "|   PDX|    BOS|          291.0|\n",
      "|   PDX|    BUR|          108.0|\n",
      "|   PDX|    BWI|          276.0|\n",
      "|   PDX|    CLT|          257.0|\n",
      "|   PDX|    DCA|          269.0|\n",
      "|   PDX|    DEN|          123.0|\n",
      "|   PDX|    DFW|          191.0|\n",
      "|   PDX|    DTW|          221.0|\n",
      "|   PDX|    EUG|          27.15|\n",
      "|   PDX|    EWR|          281.0|\n",
      "|   PDX|    FAI|          205.0|\n",
      "|   PDX|    HNL|          329.0|\n",
      "|   PDX|    HOU|          226.0|\n",
      "|   PDX|    IAD|          267.0|\n",
      "|   PDX|    IAH|          213.0|\n",
      "|   PDX|    JFK|          286.0|\n",
      "|   PDX|    KOA|          357.0|\n",
      "|   PDX|    LAS|          105.0|\n",
      "|   PDX|    LAX|          114.0|\n",
      "|   PDX|    LGB|          116.0|\n",
      "|   PDX|    LIH|          341.0|\n",
      "|   PDX|    LMT|           53.0|\n",
      "|   PDX|    MCI|          174.0|\n",
      "|   PDX|    MDW|          214.0|\n",
      "|   PDX|    MSP|          170.0|\n",
      "|   PDX|    OAK|           81.0|\n",
      "|   PDX|    OGG|          334.0|\n",
      "|   PDX|    ONT|          111.0|\n",
      "|   PDX|    ORD|          205.0|\n",
      "|   PDX|    PHL|          283.0|\n",
      "|   PDX|    PHX|          130.0|\n",
      "|   PDX|    PSP|          118.0|\n",
      "|   PDX|    RDM|           29.0|\n",
      "|   PDX|    RNO|           59.0|\n",
      "|   PDX|    SAN|          124.0|\n",
      "|   PDX|    SBA|          105.0|\n",
      "|   PDX|    SEA|           34.0|\n",
      "|   PDX|    SFO|           85.0|\n",
      "|   PDX|    SJC|           85.0|\n",
      "|   PDX|    SLC|           82.0|\n",
      "|   PDX|    SMF|           68.0|\n",
      "|   PDX|    SNA|          120.0|\n",
      "|   PDX|    STL|          204.0|\n",
      "|   PDX|    TUS|          138.0|\n",
      "|   SEA|    ABQ|          142.0|\n",
      "|   SEA|    ANC|          190.0|\n",
      "|   SEA|    ATL|          245.0|\n",
      "|   SEA|    AUS|          209.0|\n",
      "|   SEA|    BLI|           22.0|\n",
      "|   SEA|    BNA|          234.0|\n",
      "|   SEA|    BOS|          286.0|\n",
      "|   SEA|    BUR|          122.0|\n",
      "|   SEA|    BWI|          269.0|\n",
      "|   SEA|    CLE|          233.0|\n",
      "|   SEA|    CLT|          259.0|\n",
      "|   SEA|    COS|          133.0|\n",
      "|   SEA|    CVG|          222.0|\n",
      "|   SEA|    DCA|          268.0|\n",
      "|   SEA|    DEN|          127.0|\n",
      "|   SEA|    DFW|          195.0|\n",
      "|   SEA|    DTW|          219.0|\n",
      "|   SEA|    EWR|          277.0|\n",
      "|   SEA|    FAI|          198.0|\n",
      "|   SEA|    FAT|           98.0|\n",
      "|   SEA|    FLL|          317.0|\n",
      "|   SEA|    GEG|           37.0|\n",
      "|   SEA|    HDN|          117.0|\n",
      "|   SEA|    HNL|          343.0|\n",
      "|   SEA|    HOU|          229.0|\n",
      "|   SEA|    IAD|          263.0|\n",
      "|   SEA|    IAH|          220.0|\n",
      "|   SEA|    JFK|          281.0|\n",
      "|   SEA|    JNU|          128.0|\n",
      "|   SEA|    KOA|          347.0|\n",
      "|   SEA|    KTN|           98.0|\n",
      "|   SEA|    LAS|          118.0|\n",
      "|   SEA|    LAX|          126.0|\n",
      "|   SEA|    LGB|          131.0|\n",
      "|   SEA|    LIH|          347.0|\n",
      "|   SEA|    MCI|          175.0|\n",
      "|   SEA|    MCO|          298.0|\n",
      "|   SEA|    MDW|          214.0|\n",
      "|   SEA|    MIA|          308.0|\n",
      "|   SEA|    MKE|          198.0|\n",
      "|   SEA|    MSP|          164.0|\n",
      "|   SEA|    MSY|          242.0|\n",
      "|   SEA|    OAK|           99.0|\n",
      "|   SEA|    OGG|          339.0|\n",
      "|   SEA|    OMA|          158.0|\n",
      "|   SEA|    ONT|          125.0|\n",
      "|   SEA|    ORD|          202.0|\n",
      "|   SEA|    PDX|           32.0|\n",
      "|   SEA|    PHL|          279.0|\n",
      "|   SEA|    PHX|          141.0|\n",
      "|   SEA|    PSP|          129.0|\n",
      "|   SEA|    RNO|           74.0|\n",
      "|   SEA|    SAN|          137.0|\n",
      "|   SEA|    SAT|          208.0|\n",
      "|   SEA|    SBA|          118.0|\n",
      "|   SEA|    SFO|          101.0|\n",
      "|   SEA|    SIT|          121.0|\n",
      "|   SEA|    SJC|          103.0|\n",
      "|   SEA|    SLC|           88.0|\n",
      "|   SEA|    SMF|           82.0|\n",
      "|   SEA|    SNA|          133.0|\n",
      "|   SEA|    STL|          201.0|\n",
      "|   SEA|    TPA|          293.0|\n",
      "|   SEA|    TUS|          151.0|\n",
      "+------+-------+---------------+\n",
      "\n"
     ]
    }
   ],
   "source": [
    "spark.getOrCreate().sql(f\"\"\"\n",
    "SELECT  origin_fl AS Origem,\n",
    "        dest_fl AS Destino,\n",
    "        Round(AVG(air_time_fl),2) AS Tempo_Medio_Voo\n",
    "FROM db_final\n",
    "GROUP BY origin_fl,\n",
    "         dest_fl\n",
    "ORDER BY 1, 2\n",
    "\"\"\").show(150)"
   ]
  },
  {
   "cell_type": "code",
   "execution_count": 73,
   "metadata": {},
   "outputs": [
    {
     "name": "stdout",
     "output_type": "stream",
     "text": [
      "+------+-------+---------------+\n",
      "|Origem|Destino|Tempo_Medio_Voo|\n",
      "+------+-------+---------------+\n",
      "|   PDX|    ABQ|          136.0|\n",
      "|   PDX|    ANC|          202.0|\n",
      "|   PDX|    ATL|          247.0|\n",
      "|   PDX|    AUS|          204.0|\n",
      "|   PDX|    BOI|           49.0|\n",
      "|   PDX|    BOS|          291.0|\n",
      "|   PDX|    BUR|          108.0|\n",
      "|   PDX|    BWI|          276.0|\n",
      "|   PDX|    CLT|          257.0|\n",
      "|   PDX|    DCA|          269.0|\n",
      "|   PDX|    DEN|          123.0|\n",
      "|   PDX|    DFW|          191.0|\n",
      "|   PDX|    DTW|          221.0|\n",
      "|   PDX|    EUG|          27.15|\n",
      "|   PDX|    EWR|          281.0|\n",
      "|   PDX|    FAI|          205.0|\n",
      "|   PDX|    HNL|          329.0|\n",
      "|   PDX|    HOU|          226.0|\n",
      "|   PDX|    IAD|          267.0|\n",
      "|   PDX|    IAH|          213.0|\n",
      "|   PDX|    JFK|          286.0|\n",
      "|   PDX|    KOA|          357.0|\n",
      "|   PDX|    LAS|          105.0|\n",
      "|   PDX|    LAX|          114.0|\n",
      "|   PDX|    LGB|          116.0|\n",
      "|   PDX|    LIH|          341.0|\n",
      "|   PDX|    LMT|           53.0|\n",
      "|   PDX|    MCI|          174.0|\n",
      "|   PDX|    MDW|          214.0|\n",
      "|   PDX|    MSP|          170.0|\n",
      "|   PDX|    OAK|           81.0|\n",
      "|   PDX|    OGG|          334.0|\n",
      "|   PDX|    ONT|          111.0|\n",
      "|   PDX|    ORD|          205.0|\n",
      "|   PDX|    PHL|          283.0|\n",
      "|   PDX|    PHX|          130.0|\n",
      "|   PDX|    PSP|          118.0|\n",
      "|   PDX|    RDM|           29.0|\n",
      "|   PDX|    RNO|           59.0|\n",
      "|   PDX|    SAN|          124.0|\n",
      "|   PDX|    SBA|          105.0|\n",
      "|   PDX|    SEA|           34.0|\n",
      "|   PDX|    SFO|           85.0|\n",
      "|   PDX|    SJC|           85.0|\n",
      "|   PDX|    SLC|           82.0|\n",
      "|   PDX|    SMF|           68.0|\n",
      "|   PDX|    SNA|          120.0|\n",
      "|   PDX|    STL|          204.0|\n",
      "|   PDX|    TUS|          138.0|\n",
      "|   SEA|    ABQ|          142.0|\n",
      "|   SEA|    ANC|          190.0|\n",
      "|   SEA|    ATL|          245.0|\n",
      "|   SEA|    AUS|          209.0|\n",
      "|   SEA|    BLI|           22.0|\n",
      "|   SEA|    BNA|          234.0|\n",
      "|   SEA|    BOS|          286.0|\n",
      "|   SEA|    BUR|          122.0|\n",
      "|   SEA|    BWI|          269.0|\n",
      "|   SEA|    CLE|          233.0|\n",
      "|   SEA|    CLT|          259.0|\n",
      "|   SEA|    COS|          133.0|\n",
      "|   SEA|    CVG|          222.0|\n",
      "|   SEA|    DCA|          268.0|\n",
      "|   SEA|    DEN|          127.0|\n",
      "|   SEA|    DFW|          195.0|\n",
      "|   SEA|    DTW|          219.0|\n",
      "|   SEA|    EWR|          277.0|\n",
      "|   SEA|    FAI|          198.0|\n",
      "|   SEA|    FAT|           98.0|\n",
      "|   SEA|    FLL|          317.0|\n",
      "|   SEA|    GEG|           37.0|\n",
      "|   SEA|    HDN|          117.0|\n",
      "|   SEA|    HNL|          343.0|\n",
      "|   SEA|    HOU|          229.0|\n",
      "|   SEA|    IAD|          263.0|\n",
      "|   SEA|    IAH|          220.0|\n",
      "|   SEA|    JFK|          281.0|\n",
      "|   SEA|    JNU|          128.0|\n",
      "|   SEA|    KOA|          347.0|\n",
      "|   SEA|    KTN|           98.0|\n",
      "|   SEA|    LAS|          118.0|\n",
      "|   SEA|    LAX|          126.0|\n",
      "|   SEA|    LGB|          131.0|\n",
      "|   SEA|    LIH|          347.0|\n",
      "|   SEA|    MCI|          175.0|\n",
      "|   SEA|    MCO|          298.0|\n",
      "|   SEA|    MDW|          214.0|\n",
      "|   SEA|    MIA|          308.0|\n",
      "|   SEA|    MKE|          198.0|\n",
      "|   SEA|    MSP|          164.0|\n",
      "|   SEA|    MSY|          242.0|\n",
      "|   SEA|    OAK|           99.0|\n",
      "|   SEA|    OGG|          339.0|\n",
      "|   SEA|    OMA|          158.0|\n",
      "|   SEA|    ONT|          125.0|\n",
      "|   SEA|    ORD|          202.0|\n",
      "|   SEA|    PDX|           32.0|\n",
      "|   SEA|    PHL|          279.0|\n",
      "|   SEA|    PHX|          141.0|\n",
      "|   SEA|    PSP|          129.0|\n",
      "|   SEA|    RNO|           74.0|\n",
      "|   SEA|    SAN|          137.0|\n",
      "|   SEA|    SAT|          208.0|\n",
      "|   SEA|    SBA|          118.0|\n",
      "|   SEA|    SFO|          101.0|\n",
      "|   SEA|    SIT|          121.0|\n",
      "|   SEA|    SJC|          103.0|\n",
      "|   SEA|    SLC|           88.0|\n",
      "|   SEA|    SMF|           82.0|\n",
      "|   SEA|    SNA|          133.0|\n",
      "|   SEA|    STL|          201.0|\n",
      "|   SEA|    TPA|          293.0|\n",
      "|   SEA|    TUS|          151.0|\n",
      "+------+-------+---------------+\n",
      "\n"
     ]
    }
   ],
   "source": [
    "(df_final.groupBy(F.col(\"origin_fl\").alias(\"Origem\"), F.col(\"dest_fl\").alias(\"Destino\"))\n",
    "         .agg(F.round(F.avg(F.col(\"air_time_fl\")),2).alias(\"Tempo_Medio_Voo\"))\n",
    "         .orderBy(\"Origem\", \"Destino\")\n",
    "         .show(150))"
   ]
  },
  {
   "cell_type": "markdown",
   "metadata": {},
   "source": [
    "## Pergunta 11"
   ]
  },
  {
   "cell_type": "code",
   "execution_count": 67,
   "metadata": {},
   "outputs": [
    {
     "name": "stdout",
     "output_type": "stream",
     "text": [
      "+----+-------------------+\n",
      "|Year|Tempo_Acumulado_Voo|\n",
      "+----+-------------------+\n",
      "|2014|            1523228|\n",
      "+----+-------------------+\n",
      "\n"
     ]
    }
   ],
   "source": [
    "spark.getOrCreate().sql(f\"\"\"\n",
    "SELECT  YEAR(dep_datetime_fl) AS Year,\n",
    "        Round(SUM(air_time_fl),2) AS Tempo_Acumulado_Voo\n",
    "FROM db_final\n",
    "GROUP BY YEAR(dep_datetime_fl)\n",
    "ORDER BY 1, 2\n",
    "\"\"\").show()"
   ]
  },
  {
   "cell_type": "code",
   "execution_count": 74,
   "metadata": {},
   "outputs": [
    {
     "name": "stdout",
     "output_type": "stream",
     "text": [
      "+----+-------------------+\n",
      "|Year|Tempo_Acumulado_Voo|\n",
      "+----+-------------------+\n",
      "|2014|            1523228|\n",
      "+----+-------------------+\n",
      "\n"
     ]
    }
   ],
   "source": [
    "(df_final.groupBy(F.year(\"dep_datetime_fl\").alias(\"Year\"))\n",
    "         .agg(F.round(F.sum(F.col(\"air_time_fl\")),2).alias(\"Tempo_Acumulado_Voo\"))\n",
    "         .show())"
   ]
  },
  {
   "cell_type": "markdown",
   "metadata": {},
   "source": [
    "## Pergunta 12"
   ]
  },
  {
   "cell_type": "code",
   "execution_count": 68,
   "metadata": {},
   "outputs": [
    {
     "name": "stdout",
     "output_type": "stream",
     "text": [
      "+--------------+-------------------+\n",
      "|Regiao_Destino|Tempo_Acumulado_Voo|\n",
      "+--------------+-------------------+\n",
      "|        ALASKA|             120162|\n",
      "| MAINLAND-EAST|             507240|\n",
      "| MAINLAND-WEST|             785905|\n",
      "|      OFFSHORE|             109921|\n",
      "+--------------+-------------------+\n",
      "\n"
     ]
    }
   ],
   "source": [
    "spark.getOrCreate().sql(f\"\"\"\n",
    "SELECT  region_air_dest AS Regiao_Destino,\n",
    "        Round(SUM(air_time_fl),2) AS Tempo_Acumulado_Voo\n",
    "FROM db_final\n",
    "GROUP BY region_air_dest\n",
    "ORDER BY 1, 2\n",
    "\"\"\").show()"
   ]
  },
  {
   "cell_type": "code",
   "execution_count": 75,
   "metadata": {},
   "outputs": [
    {
     "name": "stdout",
     "output_type": "stream",
     "text": [
      "+--------------+-------------------+\n",
      "|Regiao_Destino|Tempo_Acumulado_Voo|\n",
      "+--------------+-------------------+\n",
      "|        ALASKA|             120162|\n",
      "|      OFFSHORE|             109921|\n",
      "| MAINLAND-EAST|             507240|\n",
      "| MAINLAND-WEST|             785905|\n",
      "+--------------+-------------------+\n",
      "\n"
     ]
    }
   ],
   "source": [
    "(df_final.groupBy(F.col(\"region_air_dest\").alias(\"Regiao_Destino\"))\n",
    "         .agg(F.round(F.sum(F.col(\"air_time_fl\")),2).alias(\"Tempo_Acumulado_Voo\"))\n",
    "         .show())"
   ]
  },
  {
   "cell_type": "markdown",
   "metadata": {},
   "source": [
    "## Pergunta 13"
   ]
  },
  {
   "cell_type": "code",
   "execution_count": 72,
   "metadata": {},
   "outputs": [
    {
     "name": "stdout",
     "output_type": "stream",
     "text": [
      "+-------------------+\n",
      "|Distancia_Media_Voo|\n",
      "+-------------------+\n",
      "|            1208.15|\n",
      "+-------------------+\n",
      "\n"
     ]
    }
   ],
   "source": [
    "spark.getOrCreate().sql(f\"\"\"\n",
    "SELECT  Round(AVG(distance_fl),2) AS Distancia_Media_Voo\n",
    "FROM db_final\n",
    "ORDER BY 1\n",
    "\"\"\").show()"
   ]
  },
  {
   "cell_type": "code",
   "execution_count": 76,
   "metadata": {},
   "outputs": [
    {
     "name": "stdout",
     "output_type": "stream",
     "text": [
      "+-------------------+\n",
      "|Distancia_Media_Voo|\n",
      "+-------------------+\n",
      "|            1208.15|\n",
      "+-------------------+\n",
      "\n"
     ]
    }
   ],
   "source": [
    "(df_final.agg(F.round(F.avg(F.col(\"distance_fl\")),2).alias(\"Distancia_Media_Voo\"))\n",
    "         .show())"
   ]
  },
  {
   "cell_type": "markdown",
   "metadata": {},
   "source": [
    "## Pergunta 14"
   ]
  },
  {
   "cell_type": "code",
   "execution_count": 73,
   "metadata": {},
   "outputs": [
    {
     "name": "stdout",
     "output_type": "stream",
     "text": [
      "+--------------+-------------------+\n",
      "|Regiao_Destino|Distancia_Media_Voo|\n",
      "+--------------+-------------------+\n",
      "|        ALASKA|            1317.35|\n",
      "| MAINLAND-EAST|             2042.4|\n",
      "| MAINLAND-WEST|             867.92|\n",
      "|      OFFSHORE|            2646.75|\n",
      "+--------------+-------------------+\n",
      "\n"
     ]
    }
   ],
   "source": [
    "spark.getOrCreate().sql(f\"\"\"\n",
    "SELECT  region_air_dest AS Regiao_Destino,\n",
    "        Round(AVG(distance_fl),2) AS Distancia_Media_Voo\n",
    "FROM db_final\n",
    "GROUP BY region_air_dest\n",
    "ORDER BY 1, 2\n",
    "\"\"\").show()"
   ]
  },
  {
   "cell_type": "code",
   "execution_count": 77,
   "metadata": {},
   "outputs": [
    {
     "name": "stdout",
     "output_type": "stream",
     "text": [
      "+--------------+-------------------+\n",
      "|Regiao_Destino|Distancia_Media_Voo|\n",
      "+--------------+-------------------+\n",
      "|        ALASKA|            1317.35|\n",
      "|      OFFSHORE|            2646.75|\n",
      "| MAINLAND-EAST|             2042.4|\n",
      "| MAINLAND-WEST|             867.92|\n",
      "+--------------+-------------------+\n",
      "\n"
     ]
    }
   ],
   "source": [
    "(df_final.groupBy(F.col(\"region_air_dest\").alias(\"Regiao_Destino\"))\n",
    "         .agg(F.round(F.avg(F.col(\"distance_fl\")),2).alias(\"Distancia_Media_Voo\"))\n",
    "         .show())"
   ]
  },
  {
   "cell_type": "markdown",
   "metadata": {},
   "source": [
    "## Pergunta 15"
   ]
  },
  {
   "cell_type": "code",
   "execution_count": 77,
   "metadata": {},
   "outputs": [
    {
     "name": "stdout",
     "output_type": "stream",
     "text": [
      "+------+-------+-------------------+\n",
      "|Origem|Destino|Distancia_Media_Voo|\n",
      "+------+-------+-------------------+\n",
      "|   PDX|    ABQ|             1111.0|\n",
      "|   PDX|    ANC|             1542.0|\n",
      "|   PDX|    ATL|             2172.0|\n",
      "|   PDX|    AUS|             1715.0|\n",
      "|   PDX|    BOI|              344.0|\n",
      "|   PDX|    BOS|             2537.0|\n",
      "|   PDX|    BUR|              817.0|\n",
      "|   PDX|    BWI|             2358.0|\n",
      "|   PDX|    CLT|             2282.0|\n",
      "|   PDX|    DCA|             2350.0|\n",
      "|   PDX|    DEN|              991.0|\n",
      "|   PDX|    DFW|             1616.0|\n",
      "|   PDX|    DTW|             1953.0|\n",
      "|   PDX|    EUG|              106.0|\n",
      "|   PDX|    EWR|             2434.0|\n",
      "|   PDX|    FAI|             1640.0|\n",
      "|   PDX|    HNL|             2603.0|\n",
      "|   PDX|    HOU|             1843.0|\n",
      "|   PDX|    IAD|             2327.0|\n",
      "|   PDX|    IAH|             1825.0|\n",
      "|   PDX|    JFK|             2454.0|\n",
      "|   PDX|    KOA|             2607.0|\n",
      "|   PDX|    LAS|              763.0|\n",
      "|   PDX|    LAX|              834.0|\n",
      "|   PDX|    LGB|              846.0|\n",
      "|   PDX|    LIH|             2631.0|\n",
      "|   PDX|    LMT|              241.0|\n",
      "|   PDX|    MCI|             1482.0|\n",
      "|   PDX|    MDW|             1751.0|\n",
      "|   PDX|    MSP|             1426.0|\n",
      "|   PDX|    OAK|              543.0|\n",
      "|   PDX|    OGG|             2562.0|\n",
      "|   PDX|    ONT|              838.0|\n",
      "|   PDX|    ORD|             1739.0|\n",
      "|   PDX|    PHL|             2406.0|\n",
      "|   PDX|    PHX|             1009.0|\n",
      "|   PDX|    PSP|              873.0|\n",
      "|   PDX|    RDM|              116.0|\n",
      "|   PDX|    RNO|              444.0|\n",
      "|   PDX|    SAN|              933.0|\n",
      "|   PDX|    SBA|              784.0|\n",
      "|   PDX|    SEA|              129.0|\n",
      "|   PDX|    SFO|              550.0|\n",
      "|   PDX|    SJC|              569.0|\n",
      "|   PDX|    SLC|              630.0|\n",
      "|   PDX|    SMF|              479.0|\n",
      "|   PDX|    SNA|              859.0|\n",
      "|   PDX|    STL|             1708.0|\n",
      "|   PDX|    TUS|             1119.0|\n",
      "|   SEA|    ABQ|             1180.0|\n",
      "|   SEA|    ANC|             1448.0|\n",
      "|   SEA|    ATL|             2182.0|\n",
      "|   SEA|    AUS|             1770.0|\n",
      "|   SEA|    BLI|               93.0|\n",
      "|   SEA|    BNA|             1978.0|\n",
      "|   SEA|    BOS|             2496.0|\n",
      "|   SEA|    BUR|              937.0|\n",
      "|   SEA|    BWI|             2335.0|\n",
      "|   SEA|    CLE|             2021.0|\n",
      "|   SEA|    CLT|             2279.0|\n",
      "|   SEA|    COS|             1068.0|\n",
      "|   SEA|    CVG|             1965.0|\n",
      "|   SEA|    DCA|             2329.0|\n",
      "|   SEA|    DEN|             1024.0|\n",
      "|   SEA|    DFW|             1660.0|\n",
      "|   SEA|    DTW|             1927.0|\n",
      "|   SEA|    EWR|             2402.0|\n",
      "|   SEA|    FAI|             1533.0|\n",
      "|   SEA|    FAT|              748.0|\n",
      "|   SEA|    FLL|             2717.0|\n",
      "|   SEA|    GEG|              224.0|\n",
      "|   SEA|    HDN|              891.0|\n",
      "|   SEA|    HNL|             2677.0|\n",
      "|   SEA|    HOU|             1894.0|\n",
      "|   SEA|    IAD|             2306.0|\n",
      "|   SEA|    IAH|             1874.0|\n",
      "|   SEA|    JFK|             2422.0|\n",
      "|   SEA|    JNU|              909.0|\n",
      "|   SEA|    KOA|             2688.0|\n",
      "|   SEA|    KTN|              680.0|\n",
      "|   SEA|    LAS|              867.0|\n",
      "|   SEA|    LAX|              954.0|\n",
      "|   SEA|    LGB|              965.0|\n",
      "|   SEA|    LIH|             2701.0|\n",
      "|   SEA|    MCI|             1489.0|\n",
      "|   SEA|    MCO|             2554.0|\n",
      "|   SEA|    MDW|             1733.0|\n",
      "|   SEA|    MIA|             2724.0|\n",
      "|   SEA|    MKE|             1694.0|\n",
      "|   SEA|    MSP|             1399.0|\n",
      "|   SEA|    MSY|             2086.0|\n",
      "|   SEA|    OAK|             671.09|\n",
      "|   SEA|    OGG|             2640.0|\n",
      "|   SEA|    OMA|             1368.0|\n",
      "|   SEA|    ONT|              956.0|\n",
      "|   SEA|    ORD|             1721.0|\n",
      "|   SEA|    PDX|              129.0|\n",
      "|   SEA|    PHL|             2378.0|\n",
      "|   SEA|    PHX|             1107.0|\n",
      "|   SEA|    PSP|              987.0|\n",
      "|   SEA|    RNO|              564.0|\n",
      "|   SEA|    SAN|             1050.0|\n",
      "|   SEA|    SAT|             1774.0|\n",
      "|   SEA|    SBA|              908.0|\n",
      "|   SEA|    SFO|              679.0|\n",
      "|   SEA|    SIT|              861.0|\n",
      "|   SEA|    SJC|              697.0|\n",
      "|   SEA|    SLC|              689.0|\n",
      "|   SEA|    SMF|              605.0|\n",
      "|   SEA|    SNA|              978.0|\n",
      "|   SEA|    STL|             1709.0|\n",
      "|   SEA|    TPA|             2520.0|\n",
      "|   SEA|    TUS|             1216.0|\n",
      "+------+-------+-------------------+\n",
      "\n"
     ]
    }
   ],
   "source": [
    "spark.getOrCreate().sql(f\"\"\"\n",
    "SELECT  origin_fl AS Origem,\n",
    "        dest_fl AS Destino,\n",
    "        Round(AVG(distance_fl),2) AS Distancia_Media_Voo\n",
    "FROM db_final\n",
    "GROUP BY origin_fl,\n",
    "         dest_fl\n",
    "ORDER BY 1, 2\n",
    "\"\"\").show(150)"
   ]
  },
  {
   "cell_type": "code",
   "execution_count": 78,
   "metadata": {},
   "outputs": [
    {
     "name": "stdout",
     "output_type": "stream",
     "text": [
      "+------+-------+-------------------+\n",
      "|Origem|Destino|Distancia_Media_Voo|\n",
      "+------+-------+-------------------+\n",
      "|   PDX|    ABQ|             1111.0|\n",
      "|   PDX|    ANC|             1542.0|\n",
      "|   PDX|    ATL|             2172.0|\n",
      "|   PDX|    AUS|             1715.0|\n",
      "|   PDX|    BOI|              344.0|\n",
      "|   PDX|    BOS|             2537.0|\n",
      "|   PDX|    BUR|              817.0|\n",
      "|   PDX|    BWI|             2358.0|\n",
      "|   PDX|    CLT|             2282.0|\n",
      "|   PDX|    DCA|             2350.0|\n",
      "|   PDX|    DEN|              991.0|\n",
      "|   PDX|    DFW|             1616.0|\n",
      "|   PDX|    DTW|             1953.0|\n",
      "|   PDX|    EUG|              106.0|\n",
      "|   PDX|    EWR|             2434.0|\n",
      "|   PDX|    FAI|             1640.0|\n",
      "|   PDX|    HNL|             2603.0|\n",
      "|   PDX|    HOU|             1843.0|\n",
      "|   PDX|    IAD|             2327.0|\n",
      "|   PDX|    IAH|             1825.0|\n",
      "|   PDX|    JFK|             2454.0|\n",
      "|   PDX|    KOA|             2607.0|\n",
      "|   PDX|    LAS|              763.0|\n",
      "|   PDX|    LAX|              834.0|\n",
      "|   PDX|    LGB|              846.0|\n",
      "|   PDX|    LIH|             2631.0|\n",
      "|   PDX|    LMT|              241.0|\n",
      "|   PDX|    MCI|             1482.0|\n",
      "|   PDX|    MDW|             1751.0|\n",
      "|   PDX|    MSP|             1426.0|\n",
      "|   PDX|    OAK|              543.0|\n",
      "|   PDX|    OGG|             2562.0|\n",
      "|   PDX|    ONT|              838.0|\n",
      "|   PDX|    ORD|             1739.0|\n",
      "|   PDX|    PHL|             2406.0|\n",
      "|   PDX|    PHX|             1009.0|\n",
      "|   PDX|    PSP|              873.0|\n",
      "|   PDX|    RDM|              116.0|\n",
      "|   PDX|    RNO|              444.0|\n",
      "|   PDX|    SAN|              933.0|\n",
      "|   PDX|    SBA|              784.0|\n",
      "|   PDX|    SEA|              129.0|\n",
      "|   PDX|    SFO|              550.0|\n",
      "|   PDX|    SJC|              569.0|\n",
      "|   PDX|    SLC|              630.0|\n",
      "|   PDX|    SMF|              479.0|\n",
      "|   PDX|    SNA|              859.0|\n",
      "|   PDX|    STL|             1708.0|\n",
      "|   PDX|    TUS|             1119.0|\n",
      "|   SEA|    ABQ|             1180.0|\n",
      "|   SEA|    ANC|             1448.0|\n",
      "|   SEA|    ATL|             2182.0|\n",
      "|   SEA|    AUS|             1770.0|\n",
      "|   SEA|    BLI|               93.0|\n",
      "|   SEA|    BNA|             1978.0|\n",
      "|   SEA|    BOS|             2496.0|\n",
      "|   SEA|    BUR|              937.0|\n",
      "|   SEA|    BWI|             2335.0|\n",
      "|   SEA|    CLE|             2021.0|\n",
      "|   SEA|    CLT|             2279.0|\n",
      "|   SEA|    COS|             1068.0|\n",
      "|   SEA|    CVG|             1965.0|\n",
      "|   SEA|    DCA|             2329.0|\n",
      "|   SEA|    DEN|             1024.0|\n",
      "|   SEA|    DFW|             1660.0|\n",
      "|   SEA|    DTW|             1927.0|\n",
      "|   SEA|    EWR|             2402.0|\n",
      "|   SEA|    FAI|             1533.0|\n",
      "|   SEA|    FAT|              748.0|\n",
      "|   SEA|    FLL|             2717.0|\n",
      "|   SEA|    GEG|              224.0|\n",
      "|   SEA|    HDN|              891.0|\n",
      "|   SEA|    HNL|             2677.0|\n",
      "|   SEA|    HOU|             1894.0|\n",
      "|   SEA|    IAD|             2306.0|\n",
      "|   SEA|    IAH|             1874.0|\n",
      "|   SEA|    JFK|             2422.0|\n",
      "|   SEA|    JNU|              909.0|\n",
      "|   SEA|    KOA|             2688.0|\n",
      "|   SEA|    KTN|              680.0|\n",
      "|   SEA|    LAS|              867.0|\n",
      "|   SEA|    LAX|              954.0|\n",
      "|   SEA|    LGB|              965.0|\n",
      "|   SEA|    LIH|             2701.0|\n",
      "|   SEA|    MCI|             1489.0|\n",
      "|   SEA|    MCO|             2554.0|\n",
      "|   SEA|    MDW|             1733.0|\n",
      "|   SEA|    MIA|             2724.0|\n",
      "|   SEA|    MKE|             1694.0|\n",
      "|   SEA|    MSP|             1399.0|\n",
      "|   SEA|    MSY|             2086.0|\n",
      "|   SEA|    OAK|             671.09|\n",
      "|   SEA|    OGG|             2640.0|\n",
      "|   SEA|    OMA|             1368.0|\n",
      "|   SEA|    ONT|              956.0|\n",
      "|   SEA|    ORD|             1721.0|\n",
      "|   SEA|    PDX|              129.0|\n",
      "|   SEA|    PHL|             2378.0|\n",
      "|   SEA|    PHX|             1107.0|\n",
      "|   SEA|    PSP|              987.0|\n",
      "|   SEA|    RNO|              564.0|\n",
      "|   SEA|    SAN|             1050.0|\n",
      "|   SEA|    SAT|             1774.0|\n",
      "|   SEA|    SBA|              908.0|\n",
      "|   SEA|    SFO|              679.0|\n",
      "|   SEA|    SIT|              861.0|\n",
      "|   SEA|    SJC|              697.0|\n",
      "|   SEA|    SLC|              689.0|\n",
      "|   SEA|    SMF|              605.0|\n",
      "|   SEA|    SNA|              978.0|\n",
      "|   SEA|    STL|             1709.0|\n",
      "|   SEA|    TPA|             2520.0|\n",
      "|   SEA|    TUS|             1216.0|\n",
      "+------+-------+-------------------+\n",
      "\n"
     ]
    }
   ],
   "source": [
    "(df_final.groupBy(F.col(\"origin_fl\").alias(\"Origem\"), F.col(\"dest_fl\").alias(\"Destino\"))\n",
    "         .agg(F.round(F.avg(F.col(\"distance_fl\")),2).alias(\"Distancia_Media_Voo\"))\n",
    "         .orderBy(\"Origem\", \"Destino\")\n",
    "         .show(150))"
   ]
  },
  {
   "cell_type": "markdown",
   "metadata": {},
   "source": [
    "## Pergunta 16"
   ]
  },
  {
   "cell_type": "code",
   "execution_count": 81,
   "metadata": {},
   "outputs": [
    {
     "name": "stdout",
     "output_type": "stream",
     "text": [
      "+----+-----------------------+\n",
      "|Year|Distancia_Acumulada_Voo|\n",
      "+----+-----------------------+\n",
      "|2014|               12081516|\n",
      "+----+-----------------------+\n",
      "\n"
     ]
    }
   ],
   "source": [
    "spark.getOrCreate().sql(f\"\"\"\n",
    "SELECT  YEAR(dep_datetime_fl) AS Year,\n",
    "        Round(SUM(distance_fl),2) AS Distancia_Acumulada_Voo\n",
    "FROM db_final\n",
    "GROUP BY YEAR(dep_datetime_fl)\n",
    "ORDER BY 1, 2\n",
    "\"\"\").show()"
   ]
  },
  {
   "cell_type": "code",
   "execution_count": 79,
   "metadata": {},
   "outputs": [
    {
     "name": "stdout",
     "output_type": "stream",
     "text": [
      "+----+-----------------------+\n",
      "|Year|Distancia_Acumulada_Voo|\n",
      "+----+-----------------------+\n",
      "|2014|               12081516|\n",
      "+----+-----------------------+\n",
      "\n"
     ]
    }
   ],
   "source": [
    "(df_final.groupBy(F.year(\"dep_datetime_fl\").alias(\"Year\"))\n",
    "         .agg(F.round(F.sum(F.col(\"distance_fl\")),2).alias(\"Distancia_Acumulada_Voo\"))\n",
    "         .show())"
   ]
  },
  {
   "cell_type": "markdown",
   "metadata": {},
   "source": [
    "## Pergunta 17"
   ]
  },
  {
   "cell_type": "code",
   "execution_count": 82,
   "metadata": {},
   "outputs": [
    {
     "name": "stdout",
     "output_type": "stream",
     "text": [
      "+--------------+-----------------------+\n",
      "|Regiao_Destino|Distancia_Acumulada_Voo|\n",
      "+--------------+-----------------------+\n",
      "|        ALASKA|                 907653|\n",
      "| MAINLAND-EAST|                4378902|\n",
      "| MAINLAND-WEST|                5940061|\n",
      "|      OFFSHORE|                 854900|\n",
      "+--------------+-----------------------+\n",
      "\n"
     ]
    }
   ],
   "source": [
    "spark.getOrCreate().sql(f\"\"\"\n",
    "SELECT  region_air_dest AS Regiao_Destino,\n",
    "        Round(SUM(distance_fl),2) AS Distancia_Acumulada_Voo\n",
    "FROM db_final\n",
    "GROUP BY region_air_dest\n",
    "ORDER BY 1, 2\n",
    "\"\"\").show(150)"
   ]
  },
  {
   "cell_type": "code",
   "execution_count": 80,
   "metadata": {},
   "outputs": [
    {
     "name": "stdout",
     "output_type": "stream",
     "text": [
      "+--------------+-----------------------+\n",
      "|Regiao_Destino|Distancia_Acumulada_Voo|\n",
      "+--------------+-----------------------+\n",
      "|        ALASKA|                 907653|\n",
      "|      OFFSHORE|                 854900|\n",
      "| MAINLAND-EAST|                4378902|\n",
      "| MAINLAND-WEST|                5940061|\n",
      "+--------------+-----------------------+\n",
      "\n"
     ]
    }
   ],
   "source": [
    "(df_final.groupBy(F.col(\"region_air_dest\").alias(\"Regiao_Destino\"))\n",
    "         .agg(F.round(F.sum(F.col(\"distance_fl\")),2).alias(\"Distancia_Acumulada_Voo\"))\n",
    "         .show())"
   ]
  },
  {
   "cell_type": "markdown",
   "metadata": {},
   "source": [
    "## Pergunta 18\n",
    "(Pergunta sem resposta exata)"
   ]
  },
  {
   "cell_type": "code",
   "execution_count": 84,
   "metadata": {},
   "outputs": [
    {
     "name": "stdout",
     "output_type": "stream",
     "text": [
      "+------+-------+-------------------------+\n",
      "|Origem|Destino|Num_Passageiros_Medio_Voo|\n",
      "+------+-------+-------------------------+\n",
      "|   PDX|    ABQ|                   144.85|\n",
      "|   PDX|    ANC|                   165.43|\n",
      "|   PDX|    ATL|                   219.03|\n",
      "|   PDX|    AUS|                    140.0|\n",
      "|   PDX|    BOI|                     80.0|\n",
      "|   PDX|    BOS|                   179.27|\n",
      "|   PDX|    BUR|                    79.65|\n",
      "|   PDX|    BWI|                    141.8|\n",
      "|   PDX|    CLT|                   208.14|\n",
      "|   PDX|    DCA|                    149.0|\n",
      "|   PDX|    DEN|                   149.14|\n",
      "|   PDX|    DFW|                   159.63|\n",
      "|   PDX|    DTW|                   202.64|\n",
      "|   PDX|    EUG|                     32.0|\n",
      "|   PDX|    EWR|                    189.1|\n",
      "|   PDX|    FAI|                   168.25|\n",
      "|   PDX|    HNL|                   300.61|\n",
      "|   PDX|    HOU|                    141.5|\n",
      "|   PDX|    IAD|                   187.39|\n",
      "|   PDX|    IAH|                   182.64|\n",
      "|   PDX|    JFK|                   191.93|\n",
      "|   PDX|    KOA|                   155.08|\n",
      "|   PDX|    LAS|                   146.65|\n",
      "|   PDX|    LAX|                   134.48|\n",
      "|   PDX|    LGB|                   172.95|\n",
      "|   PDX|    LIH|                    149.0|\n",
      "|   PDX|    LMT|                     32.0|\n",
      "|   PDX|    MCI|                    146.6|\n",
      "|   PDX|    MDW|                   140.64|\n",
      "|   PDX|    MSP|                    176.2|\n",
      "|   PDX|    OAK|                   142.75|\n",
      "|   PDX|    OGG|                    149.0|\n",
      "|   PDX|    ONT|                    79.12|\n",
      "|   PDX|    ORD|                    178.0|\n",
      "|   PDX|    PHL|                   299.44|\n",
      "|   PDX|    PHX|                   195.64|\n",
      "|   PDX|    PSP|                   171.62|\n",
      "|   PDX|    RDM|                     32.0|\n",
      "|   PDX|    RNO|                   140.69|\n",
      "|   PDX|    SAN|                   150.84|\n",
      "|   PDX|    SBA|                    78.91|\n",
      "|   PDX|    SEA|                    64.28|\n",
      "|   PDX|    SFO|                   138.28|\n",
      "|   PDX|    SJC|                   147.17|\n",
      "|   PDX|    SLC|                   162.29|\n",
      "|   PDX|    SMF|                   142.61|\n",
      "|   PDX|    SNA|                   150.48|\n",
      "|   PDX|    STL|                    161.5|\n",
      "|   PDX|    TUS|                     80.0|\n",
      "|   SEA|    ABQ|                   144.47|\n",
      "|   SEA|    ANC|                    169.7|\n",
      "|   SEA|    ATL|                   235.45|\n",
      "|   SEA|    AUS|                   176.19|\n",
      "|   SEA|    BLI|                    163.6|\n",
      "|   SEA|    BNA|                    141.0|\n",
      "|   SEA|    BOS|                    185.3|\n",
      "|   SEA|    BUR|                   150.03|\n",
      "|   SEA|    BWI|                   151.28|\n",
      "|   SEA|    CLE|                    182.0|\n",
      "|   SEA|    CLT|                   292.96|\n",
      "|   SEA|    COS|                     80.0|\n",
      "|   SEA|    CVG|                    183.2|\n",
      "|   SEA|    DCA|                    149.0|\n",
      "|   SEA|    DEN|                   156.77|\n",
      "|   SEA|    DFW|                   179.64|\n",
      "|   SEA|    DTW|                   212.43|\n",
      "|   SEA|    EWR|                   193.22|\n",
      "|   SEA|    FAI|                    179.9|\n",
      "|   SEA|    FAT|                     80.0|\n",
      "|   SEA|    FLL|                   159.07|\n",
      "|   SEA|    GEG|                    143.2|\n",
      "|   SEA|    HDN|                     80.0|\n",
      "|   SEA|    HNL|                    239.0|\n",
      "|   SEA|    HOU|                    140.0|\n",
      "|   SEA|    IAD|                   181.66|\n",
      "|   SEA|    IAH|                   188.99|\n",
      "|   SEA|    JFK|                    182.6|\n",
      "|   SEA|    JNU|                   157.42|\n",
      "|   SEA|    KOA|                    170.9|\n",
      "|   SEA|    KTN|                   150.15|\n",
      "|   SEA|    LAS|                   146.91|\n",
      "|   SEA|    LAX|                   154.71|\n",
      "|   SEA|    LGB|                   137.38|\n",
      "|   SEA|    LIH|                    149.0|\n",
      "|   SEA|    MCI|                   162.17|\n",
      "|   SEA|    MCO|                   165.48|\n",
      "|   SEA|    MDW|                   140.31|\n",
      "|   SEA|    MIA|                    178.0|\n",
      "|   SEA|    MKE|                    140.0|\n",
      "|   SEA|    MSP|                   217.63|\n",
      "|   SEA|    MSY|                   157.11|\n",
      "|   SEA|    OAK|                   148.58|\n",
      "|   SEA|    OGG|                   226.38|\n",
      "|   SEA|    OMA|                     80.0|\n",
      "|   SEA|    ONT|                    156.5|\n",
      "|   SEA|    ORD|                   179.45|\n",
      "|   SEA|    PDX|                    56.92|\n",
      "|   SEA|    PHL|                   209.54|\n",
      "|   SEA|    PHX|                   180.06|\n",
      "|   SEA|    PSP|                   157.24|\n",
      "|   SEA|    RNO|                   141.13|\n",
      "|   SEA|    SAN|                   159.91|\n",
      "|   SEA|    SAT|                   157.78|\n",
      "|   SEA|    SBA|                     80.0|\n",
      "|   SEA|    SFO|                   165.69|\n",
      "|   SEA|    SIT|                    149.0|\n",
      "|   SEA|    SJC|                   136.97|\n",
      "|   SEA|    SLC|                   165.93|\n",
      "|   SEA|    SMF|                   149.57|\n",
      "|   SEA|    SNA|                   150.16|\n",
      "|   SEA|    STL|                    154.0|\n",
      "|   SEA|    TPA|                   155.64|\n",
      "|   SEA|    TUS|                   168.88|\n",
      "+------+-------+-------------------------+\n",
      "\n"
     ]
    }
   ],
   "source": [
    "spark.getOrCreate().sql(f\"\"\"\n",
    "SELECT  origin_fl AS Origem,\n",
    "        dest_fl AS Destino,\n",
    "        Round(AVG(seats_pl),2) AS Num_Passageiros_Medio_Voo\n",
    "FROM db_final\n",
    "GROUP BY origin_fl,\n",
    "         dest_fl\n",
    "ORDER BY 1, 2\n",
    "\"\"\").show(150)"
   ]
  },
  {
   "cell_type": "code",
   "execution_count": 81,
   "metadata": {},
   "outputs": [
    {
     "name": "stdout",
     "output_type": "stream",
     "text": [
      "+------+-------+-------------------------+\n",
      "|Origem|Destino|Num_Passageiros_Medio_Voo|\n",
      "+------+-------+-------------------------+\n",
      "|   PDX|    ABQ|                   144.85|\n",
      "|   PDX|    ANC|                   165.43|\n",
      "|   PDX|    ATL|                   219.03|\n",
      "|   PDX|    AUS|                    140.0|\n",
      "|   PDX|    BOI|                     80.0|\n",
      "|   PDX|    BOS|                   179.27|\n",
      "|   PDX|    BUR|                    79.65|\n",
      "|   PDX|    BWI|                    141.8|\n",
      "|   PDX|    CLT|                   208.14|\n",
      "|   PDX|    DCA|                    149.0|\n",
      "|   PDX|    DEN|                   149.14|\n",
      "|   PDX|    DFW|                   159.63|\n",
      "|   PDX|    DTW|                   202.64|\n",
      "|   PDX|    EUG|                     32.0|\n",
      "|   PDX|    EWR|                    189.1|\n",
      "|   PDX|    FAI|                   168.25|\n",
      "|   PDX|    HNL|                   300.61|\n",
      "|   PDX|    HOU|                    141.5|\n",
      "|   PDX|    IAD|                   187.39|\n",
      "|   PDX|    IAH|                   182.64|\n",
      "|   PDX|    JFK|                   191.93|\n",
      "|   PDX|    KOA|                   155.08|\n",
      "|   PDX|    LAS|                   146.65|\n",
      "|   PDX|    LAX|                   134.48|\n",
      "|   PDX|    LGB|                   172.95|\n",
      "|   PDX|    LIH|                    149.0|\n",
      "|   PDX|    LMT|                     32.0|\n",
      "|   PDX|    MCI|                    146.6|\n",
      "|   PDX|    MDW|                   140.64|\n",
      "|   PDX|    MSP|                    176.2|\n",
      "|   PDX|    OAK|                   142.75|\n",
      "|   PDX|    OGG|                    149.0|\n",
      "|   PDX|    ONT|                    79.12|\n",
      "|   PDX|    ORD|                    178.0|\n",
      "|   PDX|    PHL|                   299.44|\n",
      "|   PDX|    PHX|                   195.64|\n",
      "|   PDX|    PSP|                   171.62|\n",
      "|   PDX|    RDM|                     32.0|\n",
      "|   PDX|    RNO|                   140.69|\n",
      "|   PDX|    SAN|                   150.84|\n",
      "|   PDX|    SBA|                    78.91|\n",
      "|   PDX|    SEA|                    64.28|\n",
      "|   PDX|    SFO|                   138.28|\n",
      "|   PDX|    SJC|                   147.17|\n",
      "|   PDX|    SLC|                   162.29|\n",
      "|   PDX|    SMF|                   142.61|\n",
      "|   PDX|    SNA|                   150.48|\n",
      "|   PDX|    STL|                    161.5|\n",
      "|   PDX|    TUS|                     80.0|\n",
      "|   SEA|    ABQ|                   144.47|\n",
      "|   SEA|    ANC|                    169.7|\n",
      "|   SEA|    ATL|                   235.45|\n",
      "|   SEA|    AUS|                   176.19|\n",
      "|   SEA|    BLI|                    163.6|\n",
      "|   SEA|    BNA|                    141.0|\n",
      "|   SEA|    BOS|                    185.3|\n",
      "|   SEA|    BUR|                   150.03|\n",
      "|   SEA|    BWI|                   151.28|\n",
      "|   SEA|    CLE|                    182.0|\n",
      "|   SEA|    CLT|                   292.96|\n",
      "|   SEA|    COS|                     80.0|\n",
      "|   SEA|    CVG|                    183.2|\n",
      "|   SEA|    DCA|                    149.0|\n",
      "|   SEA|    DEN|                   156.77|\n",
      "|   SEA|    DFW|                   179.64|\n",
      "|   SEA|    DTW|                   212.43|\n",
      "|   SEA|    EWR|                   193.22|\n",
      "|   SEA|    FAI|                    179.9|\n",
      "|   SEA|    FAT|                     80.0|\n",
      "|   SEA|    FLL|                   159.07|\n",
      "|   SEA|    GEG|                    143.2|\n",
      "|   SEA|    HDN|                     80.0|\n",
      "|   SEA|    HNL|                    239.0|\n",
      "|   SEA|    HOU|                    140.0|\n",
      "|   SEA|    IAD|                   181.66|\n",
      "|   SEA|    IAH|                   188.99|\n",
      "|   SEA|    JFK|                    182.6|\n",
      "|   SEA|    JNU|                   157.42|\n",
      "|   SEA|    KOA|                    170.9|\n",
      "|   SEA|    KTN|                   150.15|\n",
      "|   SEA|    LAS|                   146.91|\n",
      "|   SEA|    LAX|                   154.71|\n",
      "|   SEA|    LGB|                   137.38|\n",
      "|   SEA|    LIH|                    149.0|\n",
      "|   SEA|    MCI|                   162.17|\n",
      "|   SEA|    MCO|                   165.48|\n",
      "|   SEA|    MDW|                   140.31|\n",
      "|   SEA|    MIA|                    178.0|\n",
      "|   SEA|    MKE|                    140.0|\n",
      "|   SEA|    MSP|                   217.63|\n",
      "|   SEA|    MSY|                   157.11|\n",
      "|   SEA|    OAK|                   148.58|\n",
      "|   SEA|    OGG|                   226.38|\n",
      "|   SEA|    OMA|                     80.0|\n",
      "|   SEA|    ONT|                    156.5|\n",
      "|   SEA|    ORD|                   179.45|\n",
      "|   SEA|    PDX|                    56.92|\n",
      "|   SEA|    PHL|                   209.54|\n",
      "|   SEA|    PHX|                   180.06|\n",
      "|   SEA|    PSP|                   157.24|\n",
      "|   SEA|    RNO|                   141.13|\n",
      "|   SEA|    SAN|                   159.91|\n",
      "|   SEA|    SAT|                   157.78|\n",
      "|   SEA|    SBA|                     80.0|\n",
      "|   SEA|    SFO|                   165.69|\n",
      "|   SEA|    SIT|                    149.0|\n",
      "|   SEA|    SJC|                   136.97|\n",
      "|   SEA|    SLC|                   165.93|\n",
      "|   SEA|    SMF|                   149.57|\n",
      "|   SEA|    SNA|                   150.16|\n",
      "|   SEA|    STL|                    154.0|\n",
      "|   SEA|    TPA|                   155.64|\n",
      "|   SEA|    TUS|                   168.88|\n",
      "+------+-------+-------------------------+\n",
      "\n"
     ]
    }
   ],
   "source": [
    "(df_final.groupBy(F.col(\"origin_fl\").alias(\"Origem\"), F.col(\"dest_fl\").alias(\"Destino\"))\n",
    "         .agg(F.round(F.avg(F.col(\"seats_pl\")),2).alias(\"Num_Passageiros_Medio_Voo\"))\n",
    "         .orderBy(\"Origem\", \"Destino\")\n",
    "         .show(150))"
   ]
  },
  {
   "cell_type": "markdown",
   "metadata": {},
   "source": [
    "## Pergunta 19\n",
    "(Pergunta sem resposta exata)"
   ]
  },
  {
   "cell_type": "code",
   "execution_count": 86,
   "metadata": {},
   "outputs": [
    {
     "name": "stdout",
     "output_type": "stream",
     "text": [
      "+----+-----------------------------+\n",
      "|Year|Num_Passageiros_Acumulado_Voo|\n",
      "+----+-----------------------------+\n",
      "|2014|                      1509544|\n",
      "+----+-----------------------------+\n",
      "\n"
     ]
    }
   ],
   "source": [
    "spark.getOrCreate().sql(f\"\"\"\n",
    "SELECT  YEAR(dep_datetime_fl) AS Year,\n",
    "        Round(SUM(seats_pl),2) AS Num_Passageiros_Acumulado_Voo\n",
    "FROM db_final\n",
    "GROUP BY YEAR(dep_datetime_fl)\n",
    "ORDER BY 1, 2\n",
    "\"\"\").show()"
   ]
  },
  {
   "cell_type": "code",
   "execution_count": 82,
   "metadata": {},
   "outputs": [
    {
     "name": "stdout",
     "output_type": "stream",
     "text": [
      "+----+-----------------------------+\n",
      "|Year|Num_Passageiros_Acumulado_Voo|\n",
      "+----+-----------------------------+\n",
      "|2014|                      1509544|\n",
      "+----+-----------------------------+\n",
      "\n"
     ]
    }
   ],
   "source": [
    "(df_final.groupBy(F.year(\"dep_datetime_fl\").alias(\"Year\"))\n",
    "         .agg(F.round(F.sum(F.col(\"seats_pl\")),2).alias(\"Num_Passageiros_Acumulado_Voo\"))\n",
    "         .show())"
   ]
  },
  {
   "cell_type": "markdown",
   "metadata": {},
   "source": [
    "## Pergunta 20\n",
    "(Pode ter mais de uma resposta)"
   ]
  },
  {
   "cell_type": "code",
   "execution_count": 90,
   "metadata": {},
   "outputs": [
    {
     "name": "stdout",
     "output_type": "stream",
     "text": [
      "+-------+--------------+-----------+\n",
      "|Destino|Regiao_Destino|Qtd_Viagens|\n",
      "+-------+--------------+-----------+\n",
      "|    SFO| MAINLAND-WEST|        787|\n",
      "+-------+--------------+-----------+\n",
      "\n"
     ]
    }
   ],
   "source": [
    "spark.getOrCreate().sql(f\"\"\"\n",
    "\n",
    "WITH MAX_VIAGENS\n",
    "AS\n",
    "(SELECT  dest_fl AS Destino,\n",
    "        region_air_dest AS Regiao_Destino,\n",
    "        Count(dest_fl) as Qtd_Viagens\n",
    "FROM db_final\n",
    "GROUP BY dest_fl\n",
    "         ,region_air_dest)\n",
    "\n",
    "\n",
    "SELECT  dest_fl AS Destino,\n",
    "        region_air_dest AS Regiao_Destino,\n",
    "        Count(tailnum_fl) as Qtd_Viagens\n",
    "FROM db_final\n",
    "GROUP BY dest_fl\n",
    "         ,region_air_dest\n",
    "HAVING Qtd_Viagens = (SELECT MAX(Qtd_Viagens) FROM MAX_VIAGENS)\n",
    "ORDER BY 3 DESC\n",
    "\"\"\").show()"
   ]
  },
  {
   "cell_type": "code",
   "execution_count": 95,
   "metadata": {},
   "outputs": [
    {
     "name": "stdout",
     "output_type": "stream",
     "text": [
      "+-------+--------------+---------+\n",
      "|Destino|Regiao_Destino|Max_seats|\n",
      "+-------+--------------+---------+\n",
      "|    SFO| MAINLAND-WEST|      787|\n",
      "+-------+--------------+---------+\n",
      "\n"
     ]
    }
   ],
   "source": [
    "(df_final.groupBy('dest_fl', 'region_air_dest')\n",
    ".agg(F.count('tailnum_fl').alias('Max_seats'))\n",
    ".agg(F.max(F.struct(F.col('Max_seats'),\n",
    "     F.col('dest_fl').alias(\"Destino\"),\n",
    "     F.col('region_air_dest').alias(\"Regiao_Destino\"))).alias('Max_Dest'))\n",
    ".select(\"Max_Dest.Destino\", \"Max_Dest.Regiao_Destino\", \"Max_Dest.Max_seats\")\n",
    ".show())"
   ]
  },
  {
   "cell_type": "markdown",
   "metadata": {},
   "source": [
    "## Pergunta 21"
   ]
  },
  {
   "cell_type": "code",
   "execution_count": 97,
   "metadata": {},
   "outputs": [
    {
     "name": "stdout",
     "output_type": "stream",
     "text": [
      "+-------+--------------+---------------+\n",
      "|Destino|Regiao_Destino|Qtd_Passageiros|\n",
      "+-------+--------------+---------------+\n",
      "|    SFO| MAINLAND-WEST|         119635|\n",
      "+-------+--------------+---------------+\n",
      "\n"
     ]
    }
   ],
   "source": [
    "spark.getOrCreate().sql(f\"\"\"\n",
    "\n",
    "WITH MAX_PASSAGEIROS\n",
    "AS\n",
    "(SELECT  dest_fl AS Destino,\n",
    "        region_air_dest AS Regiao_Destino,\n",
    "        SUM(seats_pl) as Qtd_Passageiros\n",
    "FROM db_final\n",
    "GROUP BY dest_fl\n",
    "         ,region_air_dest)\n",
    "\n",
    "\n",
    "SELECT  dest_fl AS Destino,\n",
    "        region_air_dest AS Regiao_Destino,\n",
    "        SUM(seats_pl) as Qtd_Passageiros\n",
    "FROM db_final\n",
    "GROUP BY dest_fl\n",
    "         ,region_air_dest\n",
    "HAVING Qtd_Passageiros = (SELECT MAX(Qtd_Passageiros) FROM MAX_PASSAGEIROS)\n",
    "ORDER BY 3 DESC\n",
    "\"\"\").show()"
   ]
  },
  {
   "cell_type": "code",
   "execution_count": 98,
   "metadata": {},
   "outputs": [
    {
     "name": "stdout",
     "output_type": "stream",
     "text": [
      "+-------+--------------+---------+\n",
      "|Destino|Regiao_Destino|Max_seats|\n",
      "+-------+--------------+---------+\n",
      "|    SFO| MAINLAND-WEST|   119635|\n",
      "+-------+--------------+---------+\n",
      "\n"
     ]
    }
   ],
   "source": [
    "(df_final.groupBy('dest_fl', 'region_air_dest')\n",
    ".agg(F.sum('seats_pl').alias('Max_seats'))\n",
    ".agg(F.max(F.struct(F.col('Max_seats'),\n",
    "     F.col('dest_fl').alias(\"Destino\"),\n",
    "     F.col('region_air_dest').alias(\"Regiao_Destino\"))).alias('Max_Dest'))\n",
    ".select(\"Max_Dest.Destino\", \"Max_Dest.Regiao_Destino\", \"Max_Dest.Max_seats\")\n",
    ".show())"
   ]
  },
  {
   "cell_type": "markdown",
   "metadata": {},
   "source": [
    "## Pergunta 22"
   ]
  },
  {
   "cell_type": "code",
   "execution_count": 108,
   "metadata": {},
   "outputs": [
    {
     "name": "stdout",
     "output_type": "stream",
     "text": [
      "+-------+--------------+-----------+\n",
      "|Destino|Regiao_Destino|distance_fl|\n",
      "+-------+--------------+-----------+\n",
      "|    LIH|      OFFSHORE|       2631|\n",
      "+-------+--------------+-----------+\n",
      "\n"
     ]
    }
   ],
   "source": [
    "spark.getOrCreate().sql(f\"\"\"\n",
    "\n",
    "SELECT  Distinct dest_fl AS Destino,\n",
    "        region_air_dest AS Regiao_Destino,\n",
    "        distance_fl\n",
    "FROM db_final\n",
    "WHERE origin_fl = 'PDX'\n",
    "AND distance_fl = (SELECT MAX(distance_fl) from FROM db_final WHERE origin_fl = 'PDX')\n",
    "\"\"\").show()"
   ]
  },
  {
   "cell_type": "code",
   "execution_count": 100,
   "metadata": {},
   "outputs": [
    {
     "name": "stdout",
     "output_type": "stream",
     "text": [
      "+-------+--------------+------------+\n",
      "|Destino|Regiao_Destino|Max_distance|\n",
      "+-------+--------------+------------+\n",
      "|    LIH|      OFFSHORE|        2631|\n",
      "+-------+--------------+------------+\n",
      "\n"
     ]
    }
   ],
   "source": [
    "(df_final.filter(F.col(\"origin_fl\") == \"PDX\")\n",
    "         .groupBy('dest_fl', 'region_air_dest')\n",
    "         .agg(F.max('distance_fl').alias('Max_distance'))\n",
    "         .agg(F.max(F.struct(F.col('Max_distance'),\n",
    "              F.col('dest_fl').alias(\"Destino\"),\n",
    "              F.col('region_air_dest').alias(\"Regiao_Destino\"))).alias('Max_Dest'))\n",
    "         .select(\"Max_Dest.Destino\", \"Max_Dest.Regiao_Destino\", \"Max_Dest.Max_distance\")\n",
    "         .show())"
   ]
  },
  {
   "cell_type": "markdown",
   "metadata": {},
   "source": [
    "## Pergunta 23\n",
    "(Pode haver mais de uma resposta)"
   ]
  },
  {
   "cell_type": "code",
   "execution_count": 119,
   "metadata": {},
   "outputs": [
    {
     "name": "stdout",
     "output_type": "stream",
     "text": [
      "+----+-----+-------+--------------+--------+\n",
      "|Year|Month|Destino|Regiao_Destino|Qtd_Voos|\n",
      "+----+-----+-------+--------------+--------+\n",
      "|2014|    5|    LAX| MAINLAND-WEST|      77|\n",
      "+----+-----+-------+--------------+--------+\n",
      "\n"
     ]
    }
   ],
   "source": [
    "spark.getOrCreate().sql(f\"\"\"\n",
    "WITH MAX_QTD_VOOS\n",
    "AS\n",
    "(SELECT  YEAR(dep_datetime_fl) AS Year,\n",
    "        MONTH(dep_datetime_fl) AS Month,\n",
    "        dest_fl AS Destino,\n",
    "        region_air_dest AS Regiao_Destino,\n",
    "        Count(*) AS Qtd_Voos\n",
    "FROM db_final\n",
    "GROUP BY YEAR(dep_datetime_fl),\n",
    "         MONTH(dep_datetime_fl),\n",
    "         dest_fl,\n",
    "         region_air_dest)\n",
    "\n",
    "SELECT  YEAR(dep_datetime_fl) AS Year,\n",
    "        MONTH(dep_datetime_fl) AS Month,\n",
    "        dest_fl AS Destino,\n",
    "        region_air_dest AS Regiao_Destino,\n",
    "        Count(*) AS Qtd_Voos\n",
    "FROM db_final\n",
    "GROUP BY YEAR(dep_datetime_fl),\n",
    "         MONTH(dep_datetime_fl),\n",
    "         dest_fl,\n",
    "         region_air_dest\n",
    "HAVING Qtd_Voos = (SELECT MAX(Qtd_Voos) FROM MAX_QTD_VOOS)\n",
    "ORDER BY 3, 4, 2, 1 DESC\n",
    "\n",
    "\"\"\").show()"
   ]
  },
  {
   "cell_type": "code",
   "execution_count": 102,
   "metadata": {},
   "outputs": [
    {
     "name": "stdout",
     "output_type": "stream",
     "text": [
      "+----+-----+-------+--------------+--------+\n",
      "|Year|Month|Destino|Regiao_Destino|Qtd_Voos|\n",
      "+----+-----+-------+--------------+--------+\n",
      "|2014|    5|    LAX| MAINLAND-WEST|      77|\n",
      "+----+-----+-------+--------------+--------+\n",
      "\n"
     ]
    }
   ],
   "source": [
    "(df_final.groupBy(F.year(F.col(\"dep_datetime_fl\")).alias(\"Year\"), F.month(F.col(\"dep_datetime_fl\")).alias(\"Month\"),'dest_fl', 'region_air_dest')\n",
    "         .agg(F.count('tailnum_fl').alias('Qtd_Voos'))\n",
    "         .agg(F.max(F.struct(F.col('Qtd_Voos'),\n",
    "              F.col('dest_fl').alias(\"Destino\"),\n",
    "              F.col('region_air_dest').alias(\"Regiao_Destino\"),\n",
    "              F.col('Year'),\n",
    "              F.col('Month'))).alias('Max_Voos'))\n",
    "         .select(\"Max_Voos.Year\", \"Max_Voos.Month\", \"Max_Voos.Destino\", \"Max_Voos.Regiao_Destino\", \"Max_Voos.Qtd_Voos\")\n",
    "         .show())"
   ]
  },
  {
   "cell_type": "markdown",
   "metadata": {},
   "source": [
    "## Pergunta 24"
   ]
  },
  {
   "cell_type": "code",
   "execution_count": 126,
   "metadata": {},
   "outputs": [
    {
     "name": "stdout",
     "output_type": "stream",
     "text": [
      "+----------+------------+--------+\n",
      "|Fabricante|Modelo_Aviao|Qtd_Voos|\n",
      "+----------+------------+--------+\n",
      "|    BOEING|     737-890|    1463|\n",
      "+----------+------------+--------+\n",
      "\n"
     ]
    }
   ],
   "source": [
    "spark.getOrCreate().sql(f\"\"\"\n",
    "WITH MAX_QTD_MODELOS\n",
    "AS\n",
    "(SELECT manufacturer_pl AS Fabricante,\n",
    "        model_pl AS Modelo_Aviao,\n",
    "        Count(*) AS Qtd_Voos\n",
    "FROM db_final\n",
    "WHERE model_pl IS NOT NULL\n",
    "GROUP BY manufacturer_pl,\n",
    "         model_pl)\n",
    "\n",
    "SELECT  manufacturer_pl AS Fabricante,\n",
    "        model_pl AS Modelo_Aviao,\n",
    "        Count(*) AS Qtd_Voos\n",
    "FROM db_final\n",
    "WHERE model_pl IS NOT NULL\n",
    "GROUP BY manufacturer_pl,\n",
    "         model_pl\n",
    "HAVING Qtd_Voos = (SELECT MAX(Qtd_Voos) FROM MAX_QTD_MODELOS)\n",
    "ORDER BY 3 DESC\n",
    "\n",
    "\"\"\").show()"
   ]
  },
  {
   "cell_type": "code",
   "execution_count": 104,
   "metadata": {},
   "outputs": [
    {
     "name": "stdout",
     "output_type": "stream",
     "text": [
      "+----------+-------+--------+\n",
      "|Fabricante| Modelo|Qtd_Voos|\n",
      "+----------+-------+--------+\n",
      "|    BOEING|737-890|    1463|\n",
      "+----------+-------+--------+\n",
      "\n"
     ]
    }
   ],
   "source": [
    "(df_final.groupBy('manufacturer_pl', 'model_pl')\n",
    "         .agg(F.count('tailnum_fl').alias('Qtd_Voos'))\n",
    "         .agg(F.max(F.struct(F.col('Qtd_Voos'),\n",
    "              F.col('manufacturer_pl').alias(\"Fabricante\"),\n",
    "              F.col('model_pl').alias(\"Modelo\"),\n",
    "                            )).alias('Max_Voos'))\n",
    "         .select(\"Max_Voos.Fabricante\", \"Max_Voos.Modelo\", \"Max_Voos.Qtd_Voos\")\n",
    "         .show())"
   ]
  },
  {
   "cell_type": "markdown",
   "metadata": {},
   "source": [
    "## Pergunta 25"
   ]
  },
  {
   "cell_type": "code",
   "execution_count": 133,
   "metadata": {},
   "outputs": [
    {
     "name": "stdout",
     "output_type": "stream",
     "text": [
      "+-------+--------------+----------+------------+--------+\n",
      "|Destino|Regiao_Destino|Fabricante|Modelo_Aviao|Qtd_Voos|\n",
      "+-------+--------------+----------+------------+--------+\n",
      "|    ABQ| MAINLAND-WEST|    BOEING|     737-7H4|      26|\n",
      "|    ANC|        ALASKA|    BOEING|     737-890|     138|\n",
      "|    ATL| MAINLAND-EAST|    BOEING|   737-932ER|      80|\n",
      "|    AUS| MAINLAND-WEST|    BOEING|   737-990ER|      10|\n",
      "|    BLI| MAINLAND-WEST|    BOEING|     737-890|       3|\n",
      "|    BNA| MAINLAND-EAST|    BOEING|     737-8H4|       6|\n",
      "|    BOI| MAINLAND-WEST|BOMBARDIER| CL-600-2C10|       7|\n",
      "|    BOS| MAINLAND-EAST|    AIRBUS|    A320-232|      55|\n",
      "|    BUR| MAINLAND-WEST|BOMBARDIER| CL-600-2C10|      70|\n",
      "|    BWI| MAINLAND-EAST|    BOEING|     737-7H4|      16|\n",
      "|    CLE| MAINLAND-EAST|    AIRBUS|    A320-214|       2|\n",
      "|    CLT| MAINLAND-EAST|    AIRBUS|    A321-231|      33|\n",
      "|    COS| MAINLAND-WEST|BOMBARDIER| CL-600-2C10|      26|\n",
      "|    CVG| MAINLAND-EAST|    BOEING|     757-232|       2|\n",
      "|    CVG| MAINLAND-EAST|    BOEING|     737-832|       2|\n",
      "|    DCA| MAINLAND-EAST|    BOEING|     737-890|      69|\n",
      "|    DEN| MAINLAND-WEST|    AIRBUS|    A320-214|     102|\n",
      "|    DFW| MAINLAND-WEST|    BOEING|   737-990ER|      34|\n",
      "|    DTW| MAINLAND-EAST|    BOEING|     737-832|      46|\n",
      "|    EUG| MAINLAND-WEST|   EMBRAER|   EMB-120ER|      37|\n",
      "|    EWR| MAINLAND-EAST|    BOEING|   737-990ER|      36|\n",
      "|    FAI|        ALASKA|    BOEING|   737-990ER|      30|\n",
      "|    FAT| MAINLAND-WEST|BOMBARDIER| CL-600-2C10|      47|\n",
      "|    FLL| MAINLAND-EAST|    BOEING|     737-890|      25|\n",
      "|    GEG| MAINLAND-WEST|    BOEING|     737-490|      44|\n",
      "|    HDN| MAINLAND-WEST|BOMBARDIER| CL-600-2C10|       4|\n",
      "|    HNL|      OFFSHORE|    AIRBUS|    A330-243|      48|\n",
      "|    HOU| MAINLAND-WEST|    BOEING|     737-7H4|      21|\n",
      "|    IAD| MAINLAND-EAST|    BOEING|   737-924ER|      25|\n",
      "|    IAH| MAINLAND-WEST|    AIRBUS|    A320-232|      67|\n",
      "|    JFK| MAINLAND-EAST|    AIRBUS|    A320-232|      39|\n",
      "|    JNU|        ALASKA|    BOEING|     737-4Q8|      29|\n",
      "|    KOA|      OFFSHORE|    BOEING|     737-890|      39|\n",
      "|    KTN|        ALASKA|    BOEING|     737-490|      42|\n",
      "|    LAS| MAINLAND-WEST|    BOEING|     737-890|     108|\n",
      "|    LAX| MAINLAND-WEST|    BOEING|     737-890|     110|\n",
      "|    LGB| MAINLAND-WEST|    AIRBUS|    A320-232|     102|\n",
      "|    LIH|      OFFSHORE|    BOEING|     737-890|      37|\n",
      "|    LMT| MAINLAND-WEST|   EMBRAER|   EMB-120ER|      10|\n",
      "|    MCI| MAINLAND-EAST|    BOEING|     737-890|       9|\n",
      "|    MCI| MAINLAND-EAST|    BOEING|     737-7H4|       9|\n",
      "|    MCO| MAINLAND-EAST|    BOEING|     737-890|      22|\n",
      "|    MDW| MAINLAND-EAST|    BOEING|     737-8H4|      45|\n",
      "|    MIA| MAINLAND-EAST|    BOEING|     757-223|       4|\n",
      "|    MKE| MAINLAND-EAST|    BOEING|     737-7H4|      16|\n",
      "|    MSP| MAINLAND-EAST|    BOEING|     757-232|      46|\n",
      "|    MSY| MAINLAND-EAST|    BOEING|     737-890|       6|\n",
      "|    OAK| MAINLAND-WEST|    BOEING|     737-7H4|     141|\n",
      "|    OGG|      OFFSHORE|    BOEING|     737-890|      67|\n",
      "|    OMA| MAINLAND-WEST|BOMBARDIER| CL-600-2C10|      25|\n",
      "|    ONT| MAINLAND-WEST|BOMBARDIER| CL-600-2C10|      55|\n",
      "|    ORD| MAINLAND-EAST|    AIRBUS|    A320-232|      60|\n",
      "|    PDX| MAINLAND-WEST|   EMBRAER|   EMB-120ER|      87|\n",
      "|    PHL| MAINLAND-EAST|    AIRBUS|    A320-232|      22|\n",
      "|    PHX| MAINLAND-WEST|    AIRBUS|    A320-232|      91|\n",
      "|    PSP| MAINLAND-WEST|    BOEING|     737-790|      14|\n",
      "|    RDM| MAINLAND-WEST|   EMBRAER|   EMB-120ER|      49|\n",
      "|    RNO| MAINLAND-WEST|    BOEING|     737-7H4|      19|\n",
      "|    SAN| MAINLAND-WEST|    BOEING|     737-890|     102|\n",
      "|    SAT| MAINLAND-WEST|    BOEING|     737-890|       8|\n",
      "|    SBA| MAINLAND-WEST|BOMBARDIER| CL-600-2C10|      45|\n",
      "|    SEA| MAINLAND-WEST|   EMBRAER|   EMB-120ER|      67|\n",
      "|    SFO| MAINLAND-WEST|    BOEING|     737-490|      87|\n",
      "|    SIT|        ALASKA|    BOEING|     737-490|       3|\n",
      "|    SJC| MAINLAND-WEST|    BOEING|     737-7H4|      89|\n",
      "|    SLC| MAINLAND-WEST|    BOEING|     757-232|     104|\n",
      "|    SMF| MAINLAND-WEST|    BOEING|     737-7H4|     114|\n",
      "|    SNA| MAINLAND-WEST|    BOEING|     737-790|     122|\n",
      "|    STL| MAINLAND-EAST|    BOEING|     737-890|       6|\n",
      "|    TPA| MAINLAND-EAST|    BOEING|     737-890|      10|\n",
      "|    TUS| MAINLAND-WEST|BOMBARDIER| CL-600-2C10|      24|\n",
      "+-------+--------------+----------+------------+--------+\n",
      "\n"
     ]
    }
   ],
   "source": [
    "spark.getOrCreate().sql(f\"\"\"\n",
    "WITH MAX_QTD_MODELOS\n",
    "AS\n",
    "(SELECT dest_fl AS Destino,\n",
    "        region_air_dest AS Regiao_Destino,\n",
    "        manufacturer_pl AS Fabricante,\n",
    "        model_pl AS Modelo_Aviao,\n",
    "        Count(*) AS Qtd_Voos\n",
    "FROM db_final\n",
    "WHERE model_pl IS NOT NULL\n",
    "GROUP BY dest_fl,\n",
    "         region_air_dest, \n",
    "         manufacturer_pl,\n",
    "         model_pl)\n",
    "\n",
    "SELECT  dest_fl AS Destino,\n",
    "        region_air_dest AS Regiao_Destino,\n",
    "        manufacturer_pl AS Fabricante,\n",
    "        model_pl AS Modelo_Aviao,\n",
    "        Count(*) AS Qtd_Voos\n",
    "FROM db_final a\n",
    "WHERE model_pl IS NOT NULL\n",
    "GROUP BY dest_fl,\n",
    "         region_air_dest,\n",
    "         manufacturer_pl,\n",
    "         model_pl\n",
    "HAVING Qtd_Voos = (SELECT MAX(Qtd_Voos) FROM MAX_QTD_MODELOS b WHERE a.dest_fl = b.Destino)\n",
    "ORDER BY 1, 2, 5  DESC\n",
    "\n",
    "\"\"\").show(150)"
   ]
  },
  {
   "cell_type": "code",
   "execution_count": 128,
   "metadata": {},
   "outputs": [
    {
     "name": "stdout",
     "output_type": "stream",
     "text": [
      "+-------+--------------+----------+------+--------+\n",
      "|Destino|Regiao_Destino|Fabricante|Modelo|Qtd_Voos|\n",
      "+-------+--------------+----------+------+--------+\n",
      "|    DFW| MAINLAND-WEST|      null|  null|     248|\n",
      "+-------+--------------+----------+------+--------+\n",
      "\n"
     ]
    }
   ],
   "source": [
    "(df_final.groupBy(F.col('dest_fl').alias(\"Destino\")\n",
    "                  ,F.col('region_air_dest').alias(\"Regiao_Destino\")\n",
    "                  ,F.col('manufacturer_pl').alias(\"Fabricante\")\n",
    "                  ,F.col('model_pl').alias(\"Modelo\"))\n",
    "         .agg(F.count('tailnum_fl').alias('Qtd_Voos'))\n",
    "         .agg(F.max(F.struct(F.col('Qtd_Voos'),\n",
    "                    F.col(\"Destino\"),\n",
    "                    F.col(\"Regiao_Destino\"),              \n",
    "                    F.col(\"Fabricante\"),\n",
    "                    F.col(\"Modelo\"))).alias('Max_Voos'))\n",
    "         .select(\"Max_Voos.Destino\", \"Max_Voos.Regiao_Destino\", \"Max_Voos.Fabricante\", \"Max_Voos.Modelo\", \"Max_Voos.Qtd_Voos\")\n",
    "         .orderBy(\"Max_Voos.Destino\", \"Max_Voos.Regiao_Destino\", \"Max_Voos.Qtd_Voos\")\n",
    "         .show())"
   ]
  },
  {
   "cell_type": "markdown",
   "metadata": {},
   "source": [
    "## Pergunta 26"
   ]
  },
  {
   "cell_type": "code",
   "execution_count": 137,
   "metadata": {},
   "outputs": [
    {
     "name": "stdout",
     "output_type": "stream",
     "text": [
      "+-------------+-----------------+\n",
      "|Haul_Duration|Qtd_Media_Motores|\n",
      "+-------------+-----------------+\n",
      "|  MEDIUM-HAUL|              2.0|\n",
      "|   SHORT-HAUL|              2.0|\n",
      "+-------------+-----------------+\n",
      "\n"
     ]
    }
   ],
   "source": [
    "spark.getOrCreate().sql(f\"\"\"\n",
    "SELECT  haul_duration_fl AS Haul_Duration,\n",
    "        ROUND(AVG(engines_pl),2) AS Qtd_Media_Motores\n",
    "FROM db_final a\n",
    "GROUP BY haul_duration_fl\n",
    "ORDER BY 1, 2 DESC\n",
    "\n",
    "\"\"\").show()"
   ]
  },
  {
   "cell_type": "markdown",
   "metadata": {},
   "source": [
    "## Pergunta 27"
   ]
  },
  {
   "cell_type": "code",
   "execution_count": 141,
   "metadata": {},
   "outputs": [
    {
     "name": "stdout",
     "output_type": "stream",
     "text": [
      "+-----------+--------+\n",
      "|Estacao_Ano|Qtd_Voos|\n",
      "+-----------+--------+\n",
      "|     SUMMER|    2918|\n",
      "+-----------+--------+\n",
      "\n"
     ]
    }
   ],
   "source": [
    "spark.getOrCreate().sql(f\"\"\"\n",
    "WITH MAX_QTD_VOOS_EST\n",
    "AS\n",
    "(SELECT  dep_season_fl AS Estacao_Ano,\n",
    "        COUNT(*) AS Qtd_Voos\n",
    "FROM db_final\n",
    "GROUP BY dep_season_fl)\n",
    "         \n",
    "SELECT  dep_season_fl AS Estacao_Ano,\n",
    "        COUNT(*) AS Qtd_Voos\n",
    "FROM db_final\n",
    "GROUP BY dep_season_fl\n",
    "HAVING Qtd_Voos = (SELECT MAX(Qtd_Voos) FROM MAX_QTD_VOOS_EST)\n",
    "ORDER BY 1, 2 DESC\n",
    "\n",
    "\"\"\").show()"
   ]
  },
  {
   "cell_type": "markdown",
   "metadata": {},
   "source": [
    "## Pergunta 28"
   ]
  },
  {
   "cell_type": "code",
   "execution_count": 144,
   "metadata": {},
   "outputs": [
    {
     "name": "stdout",
     "output_type": "stream",
     "text": [
      "+-------+--------------+-----------+--------+\n",
      "|Destino|Regiao_Destino|Estacao_Ano|Qtd_Voos|\n",
      "+-------+--------------+-----------+--------+\n",
      "|    ABQ| MAINLAND-WEST|       FALL|      19|\n",
      "|    ANC|        ALASKA|     SUMMER|     145|\n",
      "|    ATL| MAINLAND-EAST|     SUMMER|      86|\n",
      "|    AUS| MAINLAND-WEST|     SPRING|       9|\n",
      "|    BLI| MAINLAND-WEST|     SUMMER|       4|\n",
      "|    BNA| MAINLAND-EAST|     SUMMER|       5|\n",
      "|    BOI| MAINLAND-WEST|     SPRING|       7|\n",
      "|    BOS| MAINLAND-EAST|     SUMMER|      50|\n",
      "|    BUR| MAINLAND-WEST|     WINTER|      44|\n",
      "|    BWI| MAINLAND-EAST|     SUMMER|      14|\n",
      "|    CLE| MAINLAND-EAST|     SUMMER|       2|\n",
      "|    CLT| MAINLAND-EAST|     SPRING|      28|\n",
      "|    COS| MAINLAND-WEST|       FALL|       8|\n",
      "|    CVG| MAINLAND-EAST|     SPRING|       3|\n",
      "|    DCA| MAINLAND-EAST|     SUMMER|      20|\n",
      "|    DEN| MAINLAND-WEST|     SUMMER|     172|\n",
      "|    DFW| MAINLAND-WEST|     SUMMER|     122|\n",
      "|    DTW| MAINLAND-EAST|     SUMMER|      43|\n",
      "|    EUG| MAINLAND-WEST|     SPRING|      20|\n",
      "|    EWR| MAINLAND-EAST|     SUMMER|      46|\n",
      "|    FAI|        ALASKA|     SUMMER|      29|\n",
      "|    FAT| MAINLAND-WEST|     SUMMER|      17|\n",
      "|    FLL| MAINLAND-EAST|     WINTER|      10|\n",
      "|    GEG| MAINLAND-WEST|       FALL|      28|\n",
      "|    HDN| MAINLAND-WEST|     WINTER|       4|\n",
      "|    HNL|      OFFSHORE|     WINTER|      40|\n",
      "|    HOU| MAINLAND-WEST|     SUMMER|      20|\n",
      "|    IAD| MAINLAND-EAST|     SUMMER|      31|\n",
      "|    IAH| MAINLAND-WEST|     SUMMER|      67|\n",
      "|    JFK| MAINLAND-EAST|     SUMMER|      59|\n",
      "|    JNU|        ALASKA|     SUMMER|      31|\n",
      "|    KOA|      OFFSHORE|       FALL|      17|\n",
      "|    KTN|        ALASKA|     SUMMER|      32|\n",
      "|    LAS| MAINLAND-WEST|     SPRING|     145|\n",
      "|    LAX| MAINLAND-WEST|     SPRING|     176|\n",
      "|    LGB| MAINLAND-WEST|     SUMMER|      46|\n",
      "|    LGB| MAINLAND-WEST|     SPRING|      46|\n",
      "|    LIH|      OFFSHORE|       FALL|      13|\n",
      "|    LMT| MAINLAND-WEST|     WINTER|       7|\n",
      "|    MCI| MAINLAND-EAST|       FALL|      13|\n",
      "|    MCI| MAINLAND-EAST|     SPRING|      13|\n",
      "|    MCO| MAINLAND-EAST|       FALL|      11|\n",
      "|    MDW| MAINLAND-EAST|     SUMMER|      42|\n",
      "|    MIA| MAINLAND-EAST|     WINTER|       9|\n",
      "|    MKE| MAINLAND-EAST|     SPRING|       6|\n",
      "|    MSP| MAINLAND-EAST|       FALL|      68|\n",
      "|    MSY| MAINLAND-EAST|       FALL|       4|\n",
      "|    MSY| MAINLAND-EAST|     SUMMER|       4|\n",
      "|    OAK| MAINLAND-WEST|       FALL|      96|\n",
      "|    OGG|      OFFSHORE|     SPRING|      27|\n",
      "|    OMA| MAINLAND-WEST|     WINTER|       8|\n",
      "|    ONT| MAINLAND-WEST|       FALL|      41|\n",
      "|    ORD| MAINLAND-EAST|     SUMMER|     129|\n",
      "|    PDX| MAINLAND-WEST|     SPRING|      47|\n",
      "|    PHL| MAINLAND-EAST|     SUMMER|      37|\n",
      "|    PHX| MAINLAND-WEST|     SPRING|     148|\n",
      "|    PSP| MAINLAND-WEST|     SPRING|      20|\n",
      "|    RDM| MAINLAND-WEST|     SUMMER|      19|\n",
      "|    RNO| MAINLAND-WEST|     WINTER|      13|\n",
      "|    SAN| MAINLAND-WEST|     SUMMER|     100|\n",
      "|    SAT| MAINLAND-WEST|     SPRING|       6|\n",
      "|    SBA| MAINLAND-WEST|     SUMMER|      16|\n",
      "|    SEA| MAINLAND-WEST|     SUMMER|      42|\n",
      "|    SFO| MAINLAND-WEST|     SUMMER|     217|\n",
      "|    SIT|        ALASKA|     SUMMER|       5|\n",
      "|    SJC| MAINLAND-WEST|     SUMMER|     120|\n",
      "|    SLC| MAINLAND-WEST|     SPRING|     107|\n",
      "|    SMF| MAINLAND-WEST|     SUMMER|      91|\n",
      "|    SNA| MAINLAND-WEST|       FALL|      60|\n",
      "|    STL| MAINLAND-EAST|     SUMMER|      11|\n",
      "|    TPA| MAINLAND-EAST|     SUMMER|       6|\n",
      "|    TUS| MAINLAND-WEST|     SPRING|      17|\n",
      "+-------+--------------+-----------+--------+\n",
      "\n"
     ]
    }
   ],
   "source": [
    "spark.getOrCreate().sql(f\"\"\"\n",
    "WITH MAX_QTD_VOOS_EST\n",
    "AS\n",
    "(SELECT dest_fl AS Destino,\n",
    "        region_air_dest AS Regiao_Destino,\n",
    "        dep_season_fl AS Estacao_Ano,\n",
    "        Count(*) AS Qtd_Voos\n",
    "FROM db_final\n",
    "GROUP BY dest_fl,\n",
    "         region_air_dest, \n",
    "         dep_season_fl)\n",
    "\n",
    "SELECT  dest_fl AS Destino,\n",
    "        region_air_dest AS Regiao_Destino,\n",
    "        dep_season_fl AS Estacao_Ano,\n",
    "        Count(*) AS Qtd_Voos\n",
    "FROM db_final a\n",
    "GROUP BY dest_fl,\n",
    "         region_air_dest,\n",
    "         dep_season_fl\n",
    "HAVING Qtd_Voos = (SELECT MAX(Qtd_Voos) FROM MAX_QTD_VOOS_EST b WHERE a.dest_fl = b.Destino)\n",
    "ORDER BY 1, 2, 4  DESC\n",
    "\n",
    "\"\"\").show(150)"
   ]
  },
  {
   "cell_type": "markdown",
   "metadata": {},
   "source": [
    "## Pergunta 29"
   ]
  },
  {
   "cell_type": "code",
   "execution_count": 147,
   "metadata": {},
   "outputs": [
    {
     "name": "stdout",
     "output_type": "stream",
     "text": [
      "+----------------+--------+\n",
      "|Categoria_Atraso|Qtd_Voos|\n",
      "+----------------+--------+\n",
      "|     ANTECIPATED|    5894|\n",
      "+----------------+--------+\n",
      "\n"
     ]
    }
   ],
   "source": [
    "spark.getOrCreate().sql(f\"\"\"\n",
    "WITH MAX_QTD_VOOS_DELAY\n",
    "AS\n",
    "(SELECT  dep_delay_category_fl AS Categoria_Atraso,\n",
    "        COUNT(*) AS Qtd_Voos\n",
    "FROM db_final\n",
    "GROUP BY dep_delay_category_fl)\n",
    "         \n",
    "SELECT  dep_delay_category_fl AS Categoria_Atraso,\n",
    "        COUNT(*) AS Qtd_Voos\n",
    "FROM db_final\n",
    "GROUP BY dep_delay_category_fl\n",
    "HAVING Qtd_Voos = (SELECT MAX(Qtd_Voos) FROM MAX_QTD_VOOS_DELAY)\n",
    "ORDER BY 1, 2 DESC\n",
    "\n",
    "\"\"\").show()"
   ]
  },
  {
   "cell_type": "markdown",
   "metadata": {},
   "source": [
    "## Pergunta 30"
   ]
  },
  {
   "cell_type": "code",
   "execution_count": 150,
   "metadata": {},
   "outputs": [
    {
     "name": "stdout",
     "output_type": "stream",
     "text": [
      "+------+-------+----------------+--------+\n",
      "|Origem|Destino|Categoria_Atraso|Qtd_Voos|\n",
      "+------+-------+----------------+--------+\n",
      "|   PDX|    ABQ|           MINOR|       7|\n",
      "|   PDX|    ABQ|     ANTECIPATED|       7|\n",
      "|   PDX|    ANC|     ANTECIPATED|      46|\n",
      "|   PDX|    ATL|     ANTECIPATED|      75|\n",
      "|   PDX|    AUS|     ANTECIPATED|       2|\n",
      "|   PDX|    BOI|     ANTECIPATED|       6|\n",
      "|   PDX|    BOS|     ANTECIPATED|      21|\n",
      "|   PDX|    BUR|     ANTECIPATED|      60|\n",
      "|   PDX|    BWI|     ANTECIPATED|       2|\n",
      "|   PDX|    CLT|     ANTECIPATED|      13|\n",
      "|   PDX|    DCA|     ANTECIPATED|      16|\n",
      "|   PDX|    DEN|     ANTECIPATED|     135|\n",
      "|   PDX|    DFW|     ANTECIPATED|      68|\n",
      "|   PDX|    DTW|     ANTECIPATED|      16|\n",
      "|   PDX|    EUG|     ANTECIPATED|      29|\n",
      "|   PDX|    EWR|     ANTECIPATED|      11|\n",
      "|   PDX|    FAI|           MINOR|       4|\n",
      "|   PDX|    FAI|     ANTECIPATED|       4|\n",
      "|   PDX|    HNL|     ANTECIPATED|      48|\n",
      "|   PDX|    HOU|          INTIME|       2|\n",
      "|   PDX|    HOU|     ANTECIPATED|       2|\n",
      "|   PDX|    IAD|     ANTECIPATED|      19|\n",
      "|   PDX|    IAH|     ANTECIPATED|      24|\n",
      "|   PDX|    IAH|           MINOR|      24|\n",
      "|   PDX|    JFK|     ANTECIPATED|      29|\n",
      "|   PDX|    KOA|     ANTECIPATED|       9|\n",
      "|   PDX|    LAS|     ANTECIPATED|      95|\n",
      "|   PDX|    LAX|     ANTECIPATED|     126|\n",
      "|   PDX|    LGB|     ANTECIPATED|      42|\n",
      "|   PDX|    LIH|     ANTECIPATED|       5|\n",
      "|   PDX|    LMT|     ANTECIPATED|       8|\n",
      "|   PDX|    MCI|     ANTECIPATED|       6|\n",
      "|   PDX|    MCI|           MINOR|       6|\n",
      "|   PDX|    MDW|     ANTECIPATED|      12|\n",
      "|   PDX|    MSP|     ANTECIPATED|      55|\n",
      "|   PDX|    OAK|           MINOR|      64|\n",
      "|   PDX|    OGG|     ANTECIPATED|      22|\n",
      "|   PDX|    ONT|     ANTECIPATED|      49|\n",
      "|   PDX|    ORD|     ANTECIPATED|      81|\n",
      "|   PDX|    PHL|     ANTECIPATED|       8|\n",
      "|   PDX|    PHX|     ANTECIPATED|     136|\n",
      "|   PDX|    PSP|     ANTECIPATED|      10|\n",
      "|   PDX|    RDM|     ANTECIPATED|      44|\n",
      "|   PDX|    RNO|           MINOR|       6|\n",
      "|   PDX|    SAN|     ANTECIPATED|      66|\n",
      "|   PDX|    SBA|     ANTECIPATED|      17|\n",
      "|   PDX|    SEA|     ANTECIPATED|     112|\n",
      "|   PDX|    SFO|     ANTECIPATED|     174|\n",
      "|   PDX|    SJC|     ANTECIPATED|      84|\n",
      "|   PDX|    SLC|     ANTECIPATED|     122|\n",
      "|   PDX|    SMF|           MINOR|      46|\n",
      "|   PDX|    SNA|     ANTECIPATED|      40|\n",
      "|   PDX|    STL|     ANTECIPATED|       3|\n",
      "|   PDX|    TUS|     ANTECIPATED|      20|\n",
      "|   SEA|    ABQ|           MINOR|      19|\n",
      "|   SEA|    ANC|     ANTECIPATED|     192|\n",
      "|   SEA|    ATL|           MINOR|      62|\n",
      "|   SEA|    ATL|     ANTECIPATED|      62|\n",
      "|   SEA|    AUS|     ANTECIPATED|      16|\n",
      "|   SEA|    BLI|     ANTECIPATED|       3|\n",
      "|   SEA|    BNA|           MINOR|       7|\n",
      "|   SEA|    BOS|     ANTECIPATED|      46|\n",
      "|   SEA|    BUR|     ANTECIPATED|      52|\n",
      "|   SEA|    BWI|     ANTECIPATED|      12|\n",
      "|   SEA|    BWI|           MINOR|      12|\n",
      "|   SEA|    CLE|           MINOR|       2|\n",
      "|   SEA|    CLT|     ANTECIPATED|      35|\n",
      "|   SEA|    COS|     ANTECIPATED|      17|\n",
      "|   SEA|    CVG|          INTIME|       3|\n",
      "|   SEA|    DCA|     ANTECIPATED|      28|\n",
      "|   SEA|    DEN|     ANTECIPATED|     169|\n",
      "|   SEA|    DFW|     ANTECIPATED|     134|\n",
      "|   SEA|    DTW|     ANTECIPATED|      52|\n",
      "|   SEA|    EWR|     ANTECIPATED|      55|\n",
      "|   SEA|    FAI|           MINOR|      32|\n",
      "|   SEA|    FAT|     ANTECIPATED|      33|\n",
      "|   SEA|    FLL|     ANTECIPATED|      17|\n",
      "|   SEA|    GEG|     ANTECIPATED|      67|\n",
      "|   SEA|    HDN|     ANTECIPATED|       2|\n",
      "|   SEA|    HNL|     ANTECIPATED|      42|\n",
      "|   SEA|    HOU|           MINOR|      10|\n",
      "|   SEA|    IAD|           MINOR|      33|\n",
      "|   SEA|    IAH|     ANTECIPATED|      87|\n",
      "|   SEA|    JFK|     ANTECIPATED|      63|\n",
      "|   SEA|    JNU|     ANTECIPATED|      37|\n",
      "|   SEA|    KOA|     ANTECIPATED|      20|\n",
      "|   SEA|    KTN|     ANTECIPATED|      41|\n",
      "|   SEA|    LAS|     ANTECIPATED|     228|\n",
      "|   SEA|    LAX|     ANTECIPATED|     293|\n",
      "|   SEA|    LGB|     ANTECIPATED|      90|\n",
      "|   SEA|    LIH|     ANTECIPATED|      20|\n",
      "|   SEA|    MCI|     ANTECIPATED|      19|\n",
      "|   SEA|    MCO|     ANTECIPATED|      20|\n",
      "|   SEA|    MDW|           MINOR|      31|\n",
      "|   SEA|    MIA|           MINOR|       8|\n",
      "|   SEA|    MIA|     ANTECIPATED|       8|\n",
      "|   SEA|    MKE|     ANTECIPATED|       8|\n",
      "|   SEA|    MSP|     ANTECIPATED|      94|\n",
      "|   SEA|    MSY|           MINOR|       5|\n",
      "|   SEA|    OAK|           MINOR|      97|\n",
      "|   SEA|    OGG|     ANTECIPATED|      47|\n",
      "|   SEA|    OMA|     ANTECIPATED|      17|\n",
      "|   SEA|    ONT|     ANTECIPATED|      46|\n",
      "|   SEA|    ORD|     ANTECIPATED|     167|\n",
      "|   SEA|    PDX|     ANTECIPATED|     126|\n",
      "|   SEA|    PHL|     ANTECIPATED|      40|\n",
      "|   SEA|    PHX|     ANTECIPATED|     195|\n",
      "|   SEA|    PSP|     ANTECIPATED|      24|\n",
      "|   SEA|    RNO|     ANTECIPATED|       4|\n",
      "|   SEA|    SAN|     ANTECIPATED|     117|\n",
      "|   SEA|    SAT|     ANTECIPATED|      13|\n",
      "|   SEA|    SBA|     ANTECIPATED|      16|\n",
      "|   SEA|    SFO|     ANTECIPATED|     245|\n",
      "|   SEA|    SIT|     ANTECIPATED|       4|\n",
      "|   SEA|    SJC|     ANTECIPATED|     135|\n",
      "|   SEA|    SLC|     ANTECIPATED|     126|\n",
      "|   SEA|    SMF|     ANTECIPATED|     114|\n",
      "|   SEA|    SNA|     ANTECIPATED|     113|\n",
      "|   SEA|    STL|           MINOR|      13|\n",
      "|   SEA|    TPA|     ANTECIPATED|       6|\n",
      "|   SEA|    TUS|     ANTECIPATED|      19|\n",
      "+------+-------+----------------+--------+\n",
      "\n"
     ]
    }
   ],
   "source": [
    "spark.getOrCreate().sql(f\"\"\"\n",
    "WITH MAX_QTD_VOOS_DELAY\n",
    "AS\n",
    "(SELECT origin_fl AS Origem,\n",
    "        dest_fl AS Destino,\n",
    "        dep_delay_category_fl AS Categoria_Atraso,\n",
    "        COUNT(*) AS Qtd_Voos\n",
    "FROM db_final\n",
    "GROUP BY origin_fl,\n",
    "         dest_fl,\n",
    "         dep_delay_category_fl)\n",
    "         \n",
    "SELECT  origin_fl AS Origem,\n",
    "        dest_fl AS Destino,\n",
    "        dep_delay_category_fl AS Categoria_Atraso,\n",
    "        COUNT(*) AS Qtd_Voos\n",
    "FROM db_final a\n",
    "GROUP BY origin_fl,\n",
    "         dest_fl,\n",
    "         dep_delay_category_fl\n",
    "HAVING Qtd_Voos = (SELECT MAX(Qtd_Voos) FROM MAX_QTD_VOOS_DELAY b WHERE a.origin_fl = b.Origem AND a.dest_fl = b.Destino)\n",
    "ORDER BY 1, 2\n",
    "\n",
    "\"\"\").show(150)"
   ]
  },
  {
   "cell_type": "code",
   "execution_count": 20,
   "metadata": {},
   "outputs": [
    {
     "name": "stdout",
     "output_type": "stream",
     "text": [
      "+-------+--------------------+-----+\n",
      "|dest_fl|       name_air_dest|count|\n",
      "+-------+--------------------+-----+\n",
      "|    SFO|  San Francisco Intl|  787|\n",
      "|    LAX|    Los Angeles Intl|  615|\n",
      "|    DEN|         Denver Intl|  586|\n",
      "|    PHX|Phoenix Sky Harbo...|  530|\n",
      "|    LAS|      Mc Carran Intl|  520|\n",
      "|    ANC|Ted Stevens Ancho...|  449|\n",
      "|    ORD|  Chicago Ohare Intl|  439|\n",
      "|    SLC| Salt Lake City Intl|  396|\n",
      "|    DFW|Dallas Fort Worth...|  371|\n",
      "|    SJC|Norman Y Mineta S...|  369|\n",
      "|    OAK|Metropolitan Oakl...|  334|\n",
      "|    SMF|     Sacramento Intl|  283|\n",
      "|    SAN|      San Diego Intl|  271|\n",
      "|    ATL|Hartsfield Jackso...|  258|\n",
      "|    MSP|Minneapolis St Pa...|  238|\n",
      "|    IAH|George Bush Inter...|  226|\n",
      "|    SNA|John Wayne Arpt O...|  198|\n",
      "|    LGB|          Long Beach|  175|\n",
      "|    JFK| John F Kennedy Intl|  173|\n",
      "|    PDX|       Portland Intl|  157|\n",
      "+-------+--------------------+-----+\n",
      "only showing top 20 rows\n",
      "\n"
     ]
    }
   ],
   "source": [
    "df_final.groupBy('dest_fl', 'name_air_dest').count().distinct().orderBy('count',ascending=False).show()"
   ]
  },
  {
   "cell_type": "code",
   "execution_count": 26,
   "metadata": {},
   "outputs": [
    {
     "name": "stdout",
     "output_type": "stream",
     "text": [
      "+-------+-----------------+\n",
      "|dest_fl|most_popular_dest|\n",
      "+-------+-----------------+\n",
      "|    SFO|              772|\n",
      "+-------+-----------------+\n",
      "\n"
     ]
    }
   ],
   "source": [
    "(df_final.groupBy('dest_fl')\n",
    ".agg(F.count('seats_pl').alias('most_popular_dest'))\n",
    ".agg(F.max(F.struct(F.col('most_popular_dest'),\n",
    "F.col('dest_fl'))).alias('most_popular'))\n",
    ".select('most_popular.dest_fl', 'most_popular.most_popular_dest').show())"
   ]
  },
  {
   "cell_type": "code",
   "execution_count": null,
   "metadata": {},
   "outputs": [],
   "source": []
  }
 ],
 "metadata": {
  "kernelspec": {
   "display_name": "Python 3 (ipykernel)",
   "language": "python",
   "name": "python3"
  },
  "language_info": {
   "codemirror_mode": {
    "name": "ipython",
    "version": 3
   },
   "file_extension": ".py",
   "mimetype": "text/x-python",
   "name": "python",
   "nbconvert_exporter": "python",
   "pygments_lexer": "ipython3",
   "version": "3.9.7"
  }
 },
 "nbformat": 4,
 "nbformat_minor": 4
}
