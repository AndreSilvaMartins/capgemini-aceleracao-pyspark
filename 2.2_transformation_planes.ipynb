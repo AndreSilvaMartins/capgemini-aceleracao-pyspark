{
 "cells": [
  {
   "cell_type": "code",
   "execution_count": 1,
   "metadata": {},
   "outputs": [
    {
     "name": "stdout",
     "output_type": "stream",
     "text": [
      "Requirement already satisfied: pyspark in c:\\users\\amarti40\\anaconda3\\lib\\site-packages (3.2.1)\n",
      "Requirement already satisfied: py4j==0.10.9.3 in c:\\users\\amarti40\\anaconda3\\lib\\site-packages (from pyspark) (0.10.9.3)\n",
      "Requirement already satisfied: findspark in c:\\users\\amarti40\\anaconda3\\lib\\site-packages (2.0.1)\n"
     ]
    }
   ],
   "source": [
    "# Installing required packages\n",
    "!pip install pyspark\n",
    "!pip install findspark"
   ]
  },
  {
   "cell_type": "code",
   "execution_count": 225,
   "metadata": {},
   "outputs": [],
   "source": [
    "import findspark\n",
    "findspark.init()\n",
    "import datetime"
   ]
  },
  {
   "cell_type": "code",
   "execution_count": 5,
   "metadata": {},
   "outputs": [],
   "source": [
    "from pyspark import SparkContext, SparkConf\n",
    "from pyspark.sql import SparkSession\n",
    "from pyspark.sql import functions as F\n",
    "from pyspark.sql.window import Window\n",
    "from pyspark.sql.types import StructType, StructField, StringType, IntegerType, FloatType, BooleanType"
   ]
  },
  {
   "cell_type": "code",
   "execution_count": 6,
   "metadata": {},
   "outputs": [],
   "source": [
    "def CriaVw(df):\n",
    "    return df.createOrReplaceTempView(\"Data\")\n",
    "\n",
    "def Consolida_SQL(_col):\n",
    "    return spark.getOrCreate().sql(f\"Select {_col}, count(*) from Data Group By {_col} order by 1\").show()\n",
    "    \n",
    "def Consolida(_col, df):\n",
    "    CriaVw(df)\n",
    "    return Consolida_SQL(_col)"
   ]
  },
  {
   "cell_type": "code",
   "execution_count": 7,
   "metadata": {},
   "outputs": [],
   "source": [
    "# Criar o contexto do spark\n",
    "sc = SparkContext()\n",
    "\n",
    "# Instancia o criador de sessao do spark\n",
    "spark = (SparkSession.builder\n",
    "                     .master(\"local[7]\")\n",
    "                     .appName(\"Semana 3 - Desafio Transformação\"))"
   ]
  },
  {
   "cell_type": "code",
   "execution_count": 8,
   "metadata": {},
   "outputs": [],
   "source": [
    "schema_airports = StructType([\n",
    "    StructField(\"faa\",  StringType(),  True),\n",
    "    StructField(\"name\", StringType(),  True),\n",
    "    StructField(\"lat\",  FloatType(),   True),\n",
    "    StructField(\"lon\",  FloatType(),   True),\n",
    "    StructField(\"alt\",  IntegerType(), True),\n",
    "    StructField(\"tz\",   IntegerType(), True),\n",
    "    StructField(\"dst\",  StringType(),  True)\n",
    "])\n",
    "\n",
    "schema_planes = StructType([\n",
    "    StructField(\"tailnum\",      StringType(),  True),\n",
    "    StructField(\"year\",         IntegerType(), True),\n",
    "    StructField(\"type\",         StringType(),  True),\n",
    "    StructField(\"manufacturer\", StringType(),  True),\n",
    "    StructField(\"model\",        StringType(),  True),\n",
    "    StructField(\"engines\",      IntegerType(), True),\n",
    "    StructField(\"seats\",        IntegerType(), True),\n",
    "    StructField(\"speed\",        IntegerType(), True),\n",
    "    StructField(\"engine\",       StringType(),  True)\n",
    "])\n",
    "\n",
    "schema_flights = StructType([\n",
    "    StructField(\"year\",      IntegerType(), True),\n",
    "    StructField(\"month\",     IntegerType(), True),\n",
    "    StructField(\"day\",       IntegerType(), True),\n",
    "    StructField(\"dep_time\",  StringType(),  True),\n",
    "    StructField(\"dep_delay\", IntegerType(), True),\n",
    "    StructField(\"arr_time\",  StringType(),  True),\n",
    "    StructField(\"arr_delay\", IntegerType(), True),\n",
    "    StructField(\"carrier\",   StringType(),  True),\n",
    "    StructField(\"tailnum\",   StringType(),  True),\n",
    "    StructField(\"flight\",    StringType(),  True),\n",
    "    StructField(\"origin\",    StringType(),  True),\n",
    "    StructField(\"dest\",      StringType(),  True),\n",
    "    StructField(\"air_time\",  IntegerType(), True),\n",
    "    StructField(\"distance\",  IntegerType(), True),\n",
    "    StructField(\"hour\",      IntegerType(), True),\n",
    "    StructField(\"minute\",    IntegerType(), True),\n",
    "])"
   ]
  },
  {
   "cell_type": "code",
   "execution_count": 9,
   "metadata": {},
   "outputs": [
    {
     "name": "stdout",
     "output_type": "stream",
     "text": [
      "+---+--------------------+---------+---------+----+---+---+\n",
      "|faa|                name|      lat|      lon| alt| tz|dst|\n",
      "+---+--------------------+---------+---------+----+---+---+\n",
      "|04G|   Lansdowne Airport|41.130474|-80.61958|1044| -5|  A|\n",
      "|06A|Moton Field Munic...| 32.46057|-85.68003| 264| -5|  A|\n",
      "|06C| Schaumburg Regional| 41.98934|-88.10124| 801| -6|  A|\n",
      "|06N|     Randall Airport| 41.43191|-74.39156| 523| -5|  A|\n",
      "|09J|Jekyll Island Air...|31.074472|-81.42778|  11| -4|  A|\n",
      "+---+--------------------+---------+---------+----+---+---+\n",
      "only showing top 5 rows\n",
      "\n",
      "+-------+----+--------------------+----------------+--------+-------+-----+-----+---------+\n",
      "|tailnum|year|                type|    manufacturer|   model|engines|seats|speed|   engine|\n",
      "+-------+----+--------------------+----------------+--------+-------+-----+-----+---------+\n",
      "| N102UW|1998|Fixed wing multi ...|AIRBUS INDUSTRIE|A320-214|      2|  182| null|Turbo-fan|\n",
      "| N103US|1999|Fixed wing multi ...|AIRBUS INDUSTRIE|A320-214|      2|  182| null|Turbo-fan|\n",
      "| N104UW|1999|Fixed wing multi ...|AIRBUS INDUSTRIE|A320-214|      2|  182| null|Turbo-fan|\n",
      "| N105UW|1999|Fixed wing multi ...|AIRBUS INDUSTRIE|A320-214|      2|  182| null|Turbo-fan|\n",
      "| N107US|1999|Fixed wing multi ...|AIRBUS INDUSTRIE|A320-214|      2|  182| null|Turbo-fan|\n",
      "+-------+----+--------------------+----------------+--------+-------+-----+-----+---------+\n",
      "only showing top 5 rows\n",
      "\n",
      "+----+-----+---+--------+---------+--------+---------+-------+-------+------+------+----+--------+--------+----+------+\n",
      "|year|month|day|dep_time|dep_delay|arr_time|arr_delay|carrier|tailnum|flight|origin|dest|air_time|distance|hour|minute|\n",
      "+----+-----+---+--------+---------+--------+---------+-------+-------+------+------+----+--------+--------+----+------+\n",
      "|2014|   12|  8|     658|       -7|     935|       -5|     VX| N846VA|  1780|   SEA| LAX|     132|     954|   6|    58|\n",
      "|2014|    1| 22|    1040|        5|    1505|        5|     AS| N559AS|   851|   SEA| HNL|     360|    2677|  10|    40|\n",
      "|2014|    3|  9|    1443|       -2|    1652|        2|     VX| N847VA|   755|   SEA| SFO|     111|     679|  14|    43|\n",
      "|2014|    4|  9|    1705|       45|    1839|       34|     WN| N360SW|   344|   PDX| SJC|      83|     569|  17|     5|\n",
      "|2014|    3|  9|     754|       -1|    1015|        1|     AS| N612AS|   522|   SEA| BUR|     127|     937|   7|    54|\n",
      "+----+-----+---+--------+---------+--------+---------+-------+-------+------+------+----+--------+--------+----+------+\n",
      "only showing top 5 rows\n",
      "\n"
     ]
    }
   ],
   "source": [
    "df_airports = (spark.getOrCreate().read\n",
    "                  .format(\"csv\")\n",
    "                  .option(\"header\", \"true\")\n",
    "                  .schema(schema_airports)\n",
    "                  .load(\"C:/Users/amarti40/OneDrive - Capgemini/Desktop/ACELERAÇÃO PYSPARK/Data/airports.csv\"))\n",
    "\n",
    "df_planes = (spark.getOrCreate().read\n",
    "                  .format(\"csv\")\n",
    "                  .option(\"header\", \"true\")\n",
    "                  .schema(schema_planes)\n",
    "                  .load(\"C:/Users/amarti40/OneDrive - Capgemini/Desktop/ACELERAÇÃO PYSPARK/Data/planes.csv\"))\n",
    "\n",
    "df_flights = (spark.getOrCreate().read\n",
    "                  .format(\"csv\")\n",
    "                  .option(\"header\", \"true\")\n",
    "                  .schema(schema_flights)\n",
    "                  .load(\"C:/Users/amarti40/OneDrive - Capgemini/Desktop/ACELERAÇÃO PYSPARK/Data/flights.csv\"))\n",
    "\n",
    "df_airports.show(5)\n",
    "df_planes.show(5)\n",
    "df_flights.show(5)"
   ]
  },
  {
   "cell_type": "code",
   "execution_count": 9,
   "metadata": {},
   "outputs": [],
   "source": [
    "# Criacao das visões temporarias\n",
    "df_airports.createOrReplaceTempView('airports')\n",
    "df_planes.createOrReplaceTempView('planes')\n",
    "df_flights.createOrReplaceTempView('flights')"
   ]
  },
  {
   "cell_type": "markdown",
   "metadata": {},
   "source": [
    "# Planes\n"
   ]
  },
  {
   "cell_type": "markdown",
   "metadata": {},
   "source": [
    "## Pergunta 1"
   ]
  },
  {
   "cell_type": "code",
   "execution_count": 1,
   "metadata": {
    "scrolled": false
   },
   "outputs": [
    {
     "ename": "NameError",
     "evalue": "name 'df_planes' is not defined",
     "output_type": "error",
     "traceback": [
      "\u001b[1;31m---------------------------------------------------------------------------\u001b[0m",
      "\u001b[1;31mNameError\u001b[0m                                 Traceback (most recent call last)",
      "\u001b[1;32m~\\AppData\\Local\\Temp/ipykernel_13044/777704155.py\u001b[0m in \u001b[0;36m<module>\u001b[1;34m\u001b[0m\n\u001b[1;32m----> 1\u001b[1;33m df_planes_Final = df_planes.withColumn('tailchar',  (\n\u001b[0m\u001b[0;32m      2\u001b[0m                                                     \u001b[0mF\u001b[0m\u001b[1;33m.\u001b[0m\u001b[0mwhen\u001b[0m\u001b[1;33m(\u001b[0m\u001b[0mF\u001b[0m\u001b[1;33m.\u001b[0m\u001b[0mcol\u001b[0m\u001b[1;33m(\u001b[0m\u001b[1;34m'tailnum'\u001b[0m\u001b[1;33m)\u001b[0m\u001b[1;33m.\u001b[0m\u001b[0mstartswith\u001b[0m\u001b[1;33m(\u001b[0m\u001b[1;34m\"N\"\u001b[0m\u001b[1;33m)\u001b[0m\u001b[1;33m,\u001b[0m \u001b[0mF\u001b[0m\u001b[1;33m.\u001b[0m\u001b[0mregexp_replace\u001b[0m\u001b[1;33m(\u001b[0m\u001b[0mF\u001b[0m\u001b[1;33m.\u001b[0m\u001b[0msubstring\u001b[0m\u001b[1;33m(\u001b[0m\u001b[1;34m'tailnum'\u001b[0m\u001b[1;33m,\u001b[0m\u001b[1;36m2\u001b[0m\u001b[1;33m,\u001b[0m\u001b[1;36m6\u001b[0m\u001b[1;33m)\u001b[0m\u001b[1;33m,\u001b[0m \u001b[1;34mr'[0-9]{1,}'\u001b[0m\u001b[1;33m,\u001b[0m \u001b[1;34m''\u001b[0m\u001b[1;33m)\u001b[0m\u001b[1;33m)\u001b[0m\u001b[1;33m\u001b[0m\u001b[1;33m\u001b[0m\u001b[0m\n\u001b[0;32m      3\u001b[0m                                                     \u001b[1;33m.\u001b[0m\u001b[0mwhen\u001b[0m\u001b[1;33m(\u001b[0m\u001b[1;33m~\u001b[0m\u001b[0mF\u001b[0m\u001b[1;33m.\u001b[0m\u001b[0mcol\u001b[0m\u001b[1;33m(\u001b[0m\u001b[1;34m'tailnum'\u001b[0m\u001b[1;33m)\u001b[0m\u001b[1;33m.\u001b[0m\u001b[0mstartswith\u001b[0m\u001b[1;33m(\u001b[0m\u001b[1;34m\"N\"\u001b[0m\u001b[1;33m)\u001b[0m\u001b[1;33m,\u001b[0m \u001b[0mF\u001b[0m\u001b[1;33m.\u001b[0m\u001b[0mregexp_replace\u001b[0m\u001b[1;33m(\u001b[0m\u001b[1;34m'tailnum'\u001b[0m\u001b[1;33m,\u001b[0m \u001b[1;34mr'[0-9]{1,}'\u001b[0m\u001b[1;33m,\u001b[0m \u001b[1;34m''\u001b[0m\u001b[1;33m)\u001b[0m\u001b[1;33m)\u001b[0m\u001b[1;33m\u001b[0m\u001b[1;33m\u001b[0m\u001b[0m\n\u001b[0;32m      4\u001b[0m                                                     \u001b[1;33m.\u001b[0m\u001b[0motherwise\u001b[0m\u001b[1;33m(\u001b[0m\u001b[0mF\u001b[0m\u001b[1;33m.\u001b[0m\u001b[0mcol\u001b[0m\u001b[1;33m(\u001b[0m\u001b[1;34m'tailnum'\u001b[0m\u001b[1;33m)\u001b[0m\u001b[1;33m)\u001b[0m\u001b[1;33m\u001b[0m\u001b[1;33m\u001b[0m\u001b[0m\n\u001b[0;32m      5\u001b[0m                                                     )\n",
      "\u001b[1;31mNameError\u001b[0m: name 'df_planes' is not defined"
     ]
    }
   ],
   "source": [
    "df_planes_Final = df_planes.withColumn('tailchar',  (\n",
    "                                                    F.when(F.col('tailnum').startswith(\"N\"), F.regexp_replace(F.substring('tailnum',2,6), r'[0-9]{1,}', ''))\n",
    "                                                    .when(~F.col('tailnum').startswith(\"N\"), F.regexp_replace('tailnum', r'[0-9]{1,}', ''))                                                \n",
    "                                                    .otherwise(F.col('tailnum'))\n",
    "                                                    )\n",
    "                                          )\n",
    "df_planes_Final.groupBy(F.col(\"tailnum\") ,F.col(\"tailchar\")).count().distinct().orderBy(F.col(\"tailchar\").desc()).show()"
   ]
  },
  {
   "cell_type": "markdown",
   "metadata": {},
   "source": [
    "## Pergunta 2"
   ]
  },
  {
   "cell_type": "code",
   "execution_count": 223,
   "metadata": {},
   "outputs": [
    {
     "name": "stdout",
     "output_type": "stream",
     "text": [
      "+----+-----+\n",
      "|year|count|\n",
      "+----+-----+\n",
      "|null|   60|\n",
      "|   0|    1|\n",
      "|1959|    1|\n",
      "|1963|    1|\n",
      "|1968|    1|\n",
      "|1975|    2|\n",
      "|1976|    1|\n",
      "|1980|    1|\n",
      "|1984|    5|\n",
      "|1985|   15|\n",
      "|1986|   13|\n",
      "|1987|   23|\n",
      "|1988|   29|\n",
      "|1989|   21|\n",
      "|1990|   42|\n",
      "|1991|   48|\n",
      "|1992|   78|\n",
      "|1993|   41|\n",
      "|1994|   39|\n",
      "|1995|   54|\n",
      "+----+-----+\n",
      "only showing top 20 rows\n",
      "\n",
      "+----+-----+\n",
      "|year|count|\n",
      "+----+-----+\n",
      "|null|   60|\n",
      "|1959|    1|\n",
      "|1963|    1|\n",
      "|1968|    1|\n",
      "|1975|    2|\n",
      "|1976|    1|\n",
      "|1980|    1|\n",
      "|1984|    5|\n",
      "|1985|   15|\n",
      "|1986|   13|\n",
      "|1987|   23|\n",
      "|1988|   29|\n",
      "|1989|   21|\n",
      "|1990|   42|\n",
      "|1991|   48|\n",
      "|1992|   78|\n",
      "|1993|   41|\n",
      "|1994|   39|\n",
      "|1995|   54|\n",
      "|1996|   73|\n",
      "+----+-----+\n",
      "only showing top 20 rows\n",
      "\n"
     ]
    }
   ],
   "source": [
    "df_planes_Final = df_planes_Final.withColumn('year',  (\n",
    "                                                            F.when((F.col('year') == 0), 1996)\n",
    "                                                            .otherwise(F.col('year'))\n",
    "                                                         )\n",
    "                                                )\n",
    "\n",
    "df_planes.groupBy(\"year\").count().distinct().orderBy(\"year\").show()\n",
    "df_planes_Final.groupBy(\"year\").count().distinct().orderBy(\"year\").show()"
   ]
  },
  {
   "cell_type": "markdown",
   "metadata": {},
   "source": [
    "## Pergunta 3"
   ]
  },
  {
   "cell_type": "code",
   "execution_count": 224,
   "metadata": {},
   "outputs": [
    {
     "name": "stdout",
     "output_type": "stream",
     "text": [
      "+----+-----+\n",
      "|year|count|\n",
      "+----+-----+\n",
      "|null|   60|\n",
      "|   0|    1|\n",
      "|1959|    1|\n",
      "|1963|    1|\n",
      "|1968|    1|\n",
      "|1975|    2|\n",
      "|1976|    1|\n",
      "|1980|    1|\n",
      "|1984|    5|\n",
      "|1985|   15|\n",
      "|1986|   13|\n",
      "|1987|   23|\n",
      "|1988|   29|\n",
      "|1989|   21|\n",
      "|1990|   42|\n",
      "|1991|   48|\n",
      "|1992|   78|\n",
      "|1993|   41|\n",
      "|1994|   39|\n",
      "|1995|   54|\n",
      "+----+-----+\n",
      "only showing top 20 rows\n",
      "\n",
      "+----+-----+\n",
      "|year|count|\n",
      "+----+-----+\n",
      "|null|    2|\n",
      "|1959|    1|\n",
      "|1963|    1|\n",
      "|1968|    1|\n",
      "|1975|    2|\n",
      "|1976|    1|\n",
      "|1980|    1|\n",
      "|1984|    6|\n",
      "|1985|   15|\n",
      "|1986|   13|\n",
      "|1987|   23|\n",
      "|1988|   29|\n",
      "|1989|   21|\n",
      "|1990|   42|\n",
      "|1991|   48|\n",
      "|1992|   78|\n",
      "|1993|   42|\n",
      "|1994|   45|\n",
      "|1995|   55|\n",
      "|1996|   73|\n",
      "+----+-----+\n",
      "only showing top 20 rows\n",
      "\n"
     ]
    }
   ],
   "source": [
    "w2 = Window.partitionBy(\"manufacturer\", \"model\").orderBy(F.col(\"manufacturer\"), F.col(\"model\"), F.col(\"year\")) \n",
    "\n",
    "df_planes_suport1 = df_planes_Final.filter(F.col(\"year\").isNotNull())\n",
    "\n",
    "df_planes_suport1 = (df_planes_suport1.withColumn(\"row\",F.row_number().over(w2))\n",
    "                    .filter((F.col(\"row\") == 1))\n",
    "                    .drop(\"row\", \"tailnum\", \"type\", \"engines\", \"seats\", \"speed\", \"engine\", \"tailchar\")\n",
    "                    .withColumnRenamed(\"year\",\"year1\")\n",
    "                    .withColumnRenamed(\"manufacturer\",\"manufacturer1\")\n",
    "                    .withColumnRenamed(\"model\",\"model1\")\n",
    "                    )\n",
    "\n",
    "w3 = Window.partitionBy(F.col(\"manufacturer\")).orderBy(F.col(\"manufacturer\"), F.col(\"year\")) \n",
    "\n",
    "df_planes_suport2 = df_planes_Final.filter(F.col(\"year\").isNotNull())\n",
    "\n",
    "df_planes_suport2 = (df_planes_suport2.withColumn(\"row\",F.row_number().over(w3))\n",
    "                    .filter((F.col(\"row\") == 1))\n",
    "                    .drop(\"row\", \"tailnum\", \"type\", \"model\", \"engines\", \"seats\", \"speed\", \"engine\", \"tailchar\")\n",
    "                    .withColumnRenamed(\"year\",\"year2\", )\n",
    "                    .withColumnRenamed(\"manufacturer\",\"manufacturer2\")\n",
    "                    )\n",
    "\n",
    "df_planes_Final = (df_planes_Final.join(df_planes_suport1, \n",
    "                                        (df_planes_Final.manufacturer ==  df_planes_suport1.manufacturer1) \n",
    "                                        & (df_planes_Final.model ==  df_planes_suport1.model1)\n",
    "                                        ,\"left\")\n",
    "                  )\n",
    "\n",
    "df_planes_Final = (df_planes_Final.withColumn('year',  (\n",
    "                                                        F.when((F.col(\"year\").isNull()) & (F.col(\"year1\").isNotNull()) , F.col(\"year1\"))\n",
    "                                                        .otherwise (F.col(\"year\"))\n",
    "                                                        )\n",
    "                                              ).drop(\"manufacturer1\", \"model1\", \"year1\")\n",
    "                  )\n",
    "\n",
    "df_planes_Final = (df_planes_Final.join(df_planes_suport2, \n",
    "                                        df_planes_Final.manufacturer ==  df_planes_suport2.manufacturer2 \n",
    "                                        ,\"left\")\n",
    "                  )\n",
    "\n",
    "df_planes_Final = (df_planes_Final.withColumn('year',  (\n",
    "                                                        F.when((F.col(\"year\").isNull()) & (F.col(\"year2\").isNotNull()) , F.col(\"year2\"))\n",
    "                                                        .otherwise (F.col(\"year\"))\n",
    "                                                        )\n",
    "                                              ).drop(\"manufacturer2\", \"year2\")\n",
    "                  )\n",
    "\n",
    "df_planes.groupBy(\"year\").count().distinct().orderBy(\"year\").show()\n",
    "df_planes_Final.groupBy(\"year\").count().distinct().orderBy(\"year\").show()"
   ]
  },
  {
   "cell_type": "markdown",
   "metadata": {},
   "source": [
    "## Pergunta 4"
   ]
  },
  {
   "cell_type": "code",
   "execution_count": 228,
   "metadata": {},
   "outputs": [
    {
     "name": "stdout",
     "output_type": "stream",
     "text": [
      "+----+-----+\n",
      "| age|count|\n",
      "+----+-----+\n",
      "|10.0|   90|\n",
      "|11.0|   64|\n",
      "|12.0|   46|\n",
      "|13.0|   77|\n",
      "|14.0|  110|\n",
      "|15.0|   93|\n",
      "|16.0|  128|\n",
      "|17.0|  112|\n",
      "|18.0|  132|\n",
      "|19.0|  118|\n",
      "|20.0|  139|\n",
      "|21.0|  215|\n",
      "|22.0|  189|\n",
      "|23.0|  174|\n",
      "|24.0|  169|\n",
      "|25.0|   80|\n",
      "|26.0|   73|\n",
      "|27.0|   55|\n",
      "|28.0|   45|\n",
      "|29.0|   42|\n",
      "+----+-----+\n",
      "only showing top 20 rows\n",
      "\n"
     ]
    }
   ],
   "source": [
    "date = datetime.date.today()\n",
    "\n",
    "df_planes_Final = df_planes_Final.withColumn('age',  (\n",
    "                                                             F.when(F.col('year').isNotNull(), date.strftime(\"%Y\")-F.col('year'))\n",
    "                                                             .otherwise(None)\n",
    "                                                         )\n",
    "                                                )\n",
    "\n",
    "df_planes_Final.groupBy(\"age\").count().distinct().orderBy(\"age\").show()\n"
   ]
  },
  {
   "cell_type": "markdown",
   "metadata": {},
   "source": [
    "## Pergunta 5"
   ]
  },
  {
   "cell_type": "code",
   "execution_count": 229,
   "metadata": {},
   "outputs": [
    {
     "name": "stdout",
     "output_type": "stream",
     "text": [
      "+----------+-----+\n",
      "|      type|count|\n",
      "+----------+-----+\n",
      "| MULTI_ENG| 2615|\n",
      "|ROTORCRAFT|    3|\n",
      "|SINGLE_ENG|   10|\n",
      "+----------+-----+\n",
      "\n"
     ]
    }
   ],
   "source": [
    "df_planes_Final = df_planes_Final.withColumn('type',  (\n",
    "                                                             F.when(F.col('type') == \"Fixed wing multi engine\", \"MULTI_ENG\")\n",
    "                                                             .when(F.col('type') == \"Fixed wing single engine\", \"SINGLE_ENG\")\n",
    "                                                             .when(F.col('type') == \"Rotorcraft\", \"ROTORCRAFT\")\n",
    "                                                             .otherwise(None)\n",
    "                                                         )\n",
    "                                                )\n",
    "\n",
    "df_planes_Final.groupBy(\"type\").count().distinct().orderBy(\"type\").show()"
   ]
  }
 ],
 "metadata": {
  "kernelspec": {
   "display_name": "Python 3 (ipykernel)",
   "language": "python",
   "name": "python3"
  },
  "language_info": {
   "codemirror_mode": {
    "name": "ipython",
    "version": 3
   },
   "file_extension": ".py",
   "mimetype": "text/x-python",
   "name": "python",
   "nbconvert_exporter": "python",
   "pygments_lexer": "ipython3",
   "version": "3.9.7"
  }
 },
 "nbformat": 4,
 "nbformat_minor": 4
}
