{
 "cells": [
  {
   "cell_type": "code",
   "execution_count": 1,
   "metadata": {},
   "outputs": [
    {
     "name": "stdout",
     "output_type": "stream",
     "text": [
      "Requirement already satisfied: pyspark in c:\\users\\amarti40\\anaconda3\\lib\\site-packages (3.2.1)\n",
      "Requirement already satisfied: py4j==0.10.9.3 in c:\\users\\amarti40\\anaconda3\\lib\\site-packages (from pyspark) (0.10.9.3)\n",
      "Requirement already satisfied: findspark in c:\\users\\amarti40\\anaconda3\\lib\\site-packages (2.0.1)\n"
     ]
    }
   ],
   "source": [
    "# Installing required packages\n",
    "!pip install pyspark\n",
    "!pip install findspark"
   ]
  },
  {
   "cell_type": "code",
   "execution_count": 2,
   "metadata": {},
   "outputs": [],
   "source": [
    "import findspark\n",
    "findspark.init()\n",
    "import datetime"
   ]
  },
  {
   "cell_type": "code",
   "execution_count": 3,
   "metadata": {},
   "outputs": [],
   "source": [
    "from pyspark import SparkContext, SparkConf\n",
    "from pyspark.sql import SparkSession\n",
    "from pyspark.sql import functions as F\n",
    "from pyspark.sql.window import Window\n",
    "from pyspark.sql.types import StructType, StructField, StringType, IntegerType, FloatType, BooleanType"
   ]
  },
  {
   "cell_type": "code",
   "execution_count": 4,
   "metadata": {},
   "outputs": [],
   "source": [
    "def CriaVw(df):\n",
    "    return df.createOrReplaceTempView(\"Data\")\n",
    "\n",
    "def Consolida_SQL(_col):\n",
    "    return spark.getOrCreate().sql(f\"Select {_col}, count(*) from Data Group By {_col} order by 1\").show()\n",
    "    \n",
    "def Consolida(_col, df):\n",
    "    CriaVw(df)\n",
    "    return Consolida_SQL(_col)"
   ]
  },
  {
   "cell_type": "code",
   "execution_count": 5,
   "metadata": {},
   "outputs": [],
   "source": [
    "# Criar o contexto do spark\n",
    "sc = SparkContext()\n",
    "\n",
    "# Instancia o criador de sessao do spark\n",
    "spark = (SparkSession.builder\n",
    "                     .master(\"local[7]\")\n",
    "                     .appName(\"Semana 3 - Desafio Transformação\"))"
   ]
  },
  {
   "cell_type": "code",
   "execution_count": 6,
   "metadata": {},
   "outputs": [],
   "source": [
    "schema_airports = StructType([\n",
    "    StructField(\"faa\",  StringType(),  True),\n",
    "    StructField(\"name\", StringType(),  True),\n",
    "    StructField(\"lat\",  FloatType(),   True),\n",
    "    StructField(\"lon\",  FloatType(),   True),\n",
    "    StructField(\"alt\",  IntegerType(), True),\n",
    "    StructField(\"tz\",   IntegerType(), True),\n",
    "    StructField(\"dst\",  StringType(),  True)\n",
    "])\n",
    "\n",
    "schema_planes = StructType([\n",
    "    StructField(\"tailnum\",      StringType(),  True),\n",
    "    StructField(\"year\",         IntegerType(), True),\n",
    "    StructField(\"type\",         StringType(),  True),\n",
    "    StructField(\"manufacturer\", StringType(),  True),\n",
    "    StructField(\"model\",        StringType(),  True),\n",
    "    StructField(\"engines\",      IntegerType(), True),\n",
    "    StructField(\"seats\",        IntegerType(), True),\n",
    "    StructField(\"speed\",        IntegerType(), True),\n",
    "    StructField(\"engine\",       StringType(),  True)\n",
    "])\n",
    "\n",
    "schema_flights = StructType([\n",
    "    StructField(\"year\",      IntegerType(), True),\n",
    "    StructField(\"month\",     IntegerType(), True),\n",
    "    StructField(\"day\",       IntegerType(), True),\n",
    "    StructField(\"dep_time\",  StringType(),  True),\n",
    "    StructField(\"dep_delay\", IntegerType(), True),\n",
    "    StructField(\"arr_time\",  StringType(),  True),\n",
    "    StructField(\"arr_delay\", IntegerType(), True),\n",
    "    StructField(\"carrier\",   StringType(),  True),\n",
    "    StructField(\"tailnum\",   StringType(),  True),\n",
    "    StructField(\"flight\",    StringType(),  True),\n",
    "    StructField(\"origin\",    StringType(),  True),\n",
    "    StructField(\"dest\",      StringType(),  True),\n",
    "    StructField(\"air_time\",  IntegerType(), True),\n",
    "    StructField(\"distance\",  IntegerType(), True),\n",
    "    StructField(\"hour\",      IntegerType(), True),\n",
    "    StructField(\"minute\",    IntegerType(), True),\n",
    "])"
   ]
  },
  {
   "cell_type": "code",
   "execution_count": 7,
   "metadata": {},
   "outputs": [
    {
     "name": "stdout",
     "output_type": "stream",
     "text": [
      "+---+--------------------+---------+---------+----+---+---+\n",
      "|faa|                name|      lat|      lon| alt| tz|dst|\n",
      "+---+--------------------+---------+---------+----+---+---+\n",
      "|04G|   Lansdowne Airport|41.130474|-80.61958|1044| -5|  A|\n",
      "|06A|Moton Field Munic...| 32.46057|-85.68003| 264| -5|  A|\n",
      "|06C| Schaumburg Regional| 41.98934|-88.10124| 801| -6|  A|\n",
      "|06N|     Randall Airport| 41.43191|-74.39156| 523| -5|  A|\n",
      "|09J|Jekyll Island Air...|31.074472|-81.42778|  11| -4|  A|\n",
      "+---+--------------------+---------+---------+----+---+---+\n",
      "only showing top 5 rows\n",
      "\n",
      "+-------+----+--------------------+----------------+--------+-------+-----+-----+---------+\n",
      "|tailnum|year|                type|    manufacturer|   model|engines|seats|speed|   engine|\n",
      "+-------+----+--------------------+----------------+--------+-------+-----+-----+---------+\n",
      "| N102UW|1998|Fixed wing multi ...|AIRBUS INDUSTRIE|A320-214|      2|  182| null|Turbo-fan|\n",
      "| N103US|1999|Fixed wing multi ...|AIRBUS INDUSTRIE|A320-214|      2|  182| null|Turbo-fan|\n",
      "| N104UW|1999|Fixed wing multi ...|AIRBUS INDUSTRIE|A320-214|      2|  182| null|Turbo-fan|\n",
      "| N105UW|1999|Fixed wing multi ...|AIRBUS INDUSTRIE|A320-214|      2|  182| null|Turbo-fan|\n",
      "| N107US|1999|Fixed wing multi ...|AIRBUS INDUSTRIE|A320-214|      2|  182| null|Turbo-fan|\n",
      "+-------+----+--------------------+----------------+--------+-------+-----+-----+---------+\n",
      "only showing top 5 rows\n",
      "\n",
      "+----+-----+---+--------+---------+--------+---------+-------+-------+------+------+----+--------+--------+----+------+\n",
      "|year|month|day|dep_time|dep_delay|arr_time|arr_delay|carrier|tailnum|flight|origin|dest|air_time|distance|hour|minute|\n",
      "+----+-----+---+--------+---------+--------+---------+-------+-------+------+------+----+--------+--------+----+------+\n",
      "|2014|   12|  8|     658|       -7|     935|       -5|     VX| N846VA|  1780|   SEA| LAX|     132|     954|   6|    58|\n",
      "|2014|    1| 22|    1040|        5|    1505|        5|     AS| N559AS|   851|   SEA| HNL|     360|    2677|  10|    40|\n",
      "|2014|    3|  9|    1443|       -2|    1652|        2|     VX| N847VA|   755|   SEA| SFO|     111|     679|  14|    43|\n",
      "|2014|    4|  9|    1705|       45|    1839|       34|     WN| N360SW|   344|   PDX| SJC|      83|     569|  17|     5|\n",
      "|2014|    3|  9|     754|       -1|    1015|        1|     AS| N612AS|   522|   SEA| BUR|     127|     937|   7|    54|\n",
      "+----+-----+---+--------+---------+--------+---------+-------+-------+------+------+----+--------+--------+----+------+\n",
      "only showing top 5 rows\n",
      "\n"
     ]
    }
   ],
   "source": [
    "df_airports = (spark.getOrCreate().read\n",
    "                  .format(\"csv\")\n",
    "                  .option(\"header\", \"true\")\n",
    "                  .schema(schema_airports)\n",
    "                  .load(\"C:/Users/amarti40/OneDrive - Capgemini/Desktop/ACELERAÇÃO PYSPARK/Data/airports.csv\"))\n",
    "\n",
    "df_planes = (spark.getOrCreate().read\n",
    "                  .format(\"csv\")\n",
    "                  .option(\"header\", \"true\")\n",
    "                  .schema(schema_planes)\n",
    "                  .load(\"C:/Users/amarti40/OneDrive - Capgemini/Desktop/ACELERAÇÃO PYSPARK/Data/planes.csv\"))\n",
    "\n",
    "df_flights = (spark.getOrCreate().read\n",
    "                  .format(\"csv\")\n",
    "                  .option(\"header\", \"true\")\n",
    "                  .schema(schema_flights)\n",
    "                  .load(\"C:/Users/amarti40/OneDrive - Capgemini/Desktop/ACELERAÇÃO PYSPARK/Data/flights.csv\"))\n",
    "\n",
    "df_airports.show(5)\n",
    "df_planes.show(5)\n",
    "df_flights.show(5)"
   ]
  },
  {
   "cell_type": "code",
   "execution_count": 8,
   "metadata": {},
   "outputs": [],
   "source": [
    "# Criacao das visões temporarias\n",
    "df_airports.createOrReplaceTempView('airports')\n",
    "df_planes.createOrReplaceTempView('planes')\n",
    "df_flights.createOrReplaceTempView('flights')"
   ]
  },
  {
   "cell_type": "markdown",
   "metadata": {},
   "source": [
    "# Planes\n"
   ]
  },
  {
   "cell_type": "markdown",
   "metadata": {},
   "source": [
    "## Pergunta 1"
   ]
  },
  {
   "cell_type": "code",
   "execution_count": 9,
   "metadata": {
    "scrolled": false
   },
   "outputs": [
    {
     "name": "stdout",
     "output_type": "stream",
     "text": [
      "+-------+--------+-----+\n",
      "|tailnum|tailchar|count|\n",
      "+-------+--------+-----+\n",
      "| N711ZX|      ZX|    1|\n",
      "| N6704Z|       Z|    1|\n",
      "| N3733Z|       Z|    1|\n",
      "| N270YV|      YV|    1|\n",
      "| N3758Y|       Y|    1|\n",
      "| N6713Y|       Y|    1|\n",
      "| N6705Y|       Y|    1|\n",
      "| N3748Y|       Y|    1|\n",
      "| N3762Y|       Y|    1|\n",
      "|  N704X|       X|    1|\n",
      "| N8322X|       X|    1|\n",
      "| N216WR|      WR|    1|\n",
      "| N500WR|      WR|    1|\n",
      "| N909WN|      WN|    1|\n",
      "| N399WN|      WN|    1|\n",
      "| N904WN|      WN|    1|\n",
      "| N447WN|      WN|    1|\n",
      "| N918WN|      WN|    1|\n",
      "| N967WN|      WN|    1|\n",
      "| N441WN|      WN|    1|\n",
      "+-------+--------+-----+\n",
      "only showing top 20 rows\n",
      "\n"
     ]
    }
   ],
   "source": [
    "df_planes_Final = df_planes.withColumn('tailchar',  (\n",
    "                                                    F.when(F.col('tailnum').startswith(\"N\"), F.regexp_replace(F.substring('tailnum',2,6), r'[0-9]{1,}', ''))\n",
    "                                                    .when(~F.col('tailnum').startswith(\"N\"), F.regexp_replace('tailnum', r'[0-9]{1,}', ''))                                                \n",
    "                                                    .otherwise(F.col('tailnum'))\n",
    "                                                    )\n",
    "                                          )\n",
    "df_planes_Final.groupBy(F.col(\"tailnum\") ,F.col(\"tailchar\")).count().distinct().orderBy(F.col(\"tailchar\").desc()).show()"
   ]
  },
  {
   "cell_type": "markdown",
   "metadata": {},
   "source": [
    "## Pergunta 2"
   ]
  },
  {
   "cell_type": "code",
   "execution_count": 10,
   "metadata": {},
   "outputs": [
    {
     "name": "stdout",
     "output_type": "stream",
     "text": [
      "+----+-----+\n",
      "|year|count|\n",
      "+----+-----+\n",
      "|null|   60|\n",
      "|   0|    1|\n",
      "|1959|    1|\n",
      "|1963|    1|\n",
      "|1968|    1|\n",
      "|1975|    2|\n",
      "|1976|    1|\n",
      "|1980|    1|\n",
      "|1984|    5|\n",
      "|1985|   15|\n",
      "|1986|   13|\n",
      "|1987|   23|\n",
      "|1988|   29|\n",
      "|1989|   21|\n",
      "|1990|   42|\n",
      "|1991|   48|\n",
      "|1992|   78|\n",
      "|1993|   41|\n",
      "|1994|   39|\n",
      "|1995|   54|\n",
      "+----+-----+\n",
      "only showing top 20 rows\n",
      "\n",
      "+----+-----+\n",
      "|year|count|\n",
      "+----+-----+\n",
      "|null|   60|\n",
      "|1959|    1|\n",
      "|1963|    1|\n",
      "|1968|    1|\n",
      "|1975|    2|\n",
      "|1976|    1|\n",
      "|1980|    1|\n",
      "|1984|    5|\n",
      "|1985|   15|\n",
      "|1986|   13|\n",
      "|1987|   23|\n",
      "|1988|   29|\n",
      "|1989|   21|\n",
      "|1990|   42|\n",
      "|1991|   48|\n",
      "|1992|   78|\n",
      "|1993|   41|\n",
      "|1994|   39|\n",
      "|1995|   54|\n",
      "|1996|   73|\n",
      "+----+-----+\n",
      "only showing top 20 rows\n",
      "\n"
     ]
    }
   ],
   "source": [
    "df_planes_Final = df_planes_Final.withColumn('year',  (\n",
    "                                                            F.when((F.col('year') == 0), 1996)\n",
    "                                                            .otherwise(F.col('year'))\n",
    "                                                         )\n",
    "                                                )\n",
    "\n",
    "df_planes.groupBy(\"year\").count().distinct().orderBy(\"year\").show()\n",
    "df_planes_Final.groupBy(\"year\").count().distinct().orderBy(\"year\").show()"
   ]
  },
  {
   "cell_type": "markdown",
   "metadata": {},
   "source": [
    "## Pergunta 3"
   ]
  },
  {
   "cell_type": "code",
   "execution_count": 11,
   "metadata": {},
   "outputs": [
    {
     "name": "stdout",
     "output_type": "stream",
     "text": [
      "+----+-----+\n",
      "|year|count|\n",
      "+----+-----+\n",
      "|null|   60|\n",
      "|   0|    1|\n",
      "|1959|    1|\n",
      "|1963|    1|\n",
      "|1968|    1|\n",
      "|1975|    2|\n",
      "|1976|    1|\n",
      "|1980|    1|\n",
      "|1984|    5|\n",
      "|1985|   15|\n",
      "|1986|   13|\n",
      "|1987|   23|\n",
      "|1988|   29|\n",
      "|1989|   21|\n",
      "|1990|   42|\n",
      "|1991|   48|\n",
      "|1992|   78|\n",
      "|1993|   41|\n",
      "|1994|   39|\n",
      "|1995|   54|\n",
      "+----+-----+\n",
      "only showing top 20 rows\n",
      "\n",
      "+----+-----+\n",
      "|year|count|\n",
      "+----+-----+\n",
      "|null|    2|\n",
      "|1959|    1|\n",
      "|1963|    1|\n",
      "|1968|    1|\n",
      "|1975|    2|\n",
      "|1976|    1|\n",
      "|1980|    1|\n",
      "|1984|    6|\n",
      "|1985|   15|\n",
      "|1986|   13|\n",
      "|1987|   23|\n",
      "|1988|   29|\n",
      "|1989|   21|\n",
      "|1990|   42|\n",
      "|1991|   48|\n",
      "|1992|   78|\n",
      "|1993|   42|\n",
      "|1994|   45|\n",
      "|1995|   55|\n",
      "|1996|   73|\n",
      "+----+-----+\n",
      "only showing top 20 rows\n",
      "\n"
     ]
    }
   ],
   "source": [
    "w2 = Window.partitionBy(\"manufacturer\", \"model\").orderBy(F.col(\"manufacturer\"), F.col(\"model\"), F.col(\"year\")) \n",
    "\n",
    "df_planes_suport1 = df_planes_Final.filter(F.col(\"year\").isNotNull())\n",
    "\n",
    "df_planes_suport1 = (df_planes_suport1.withColumn(\"row\",F.row_number().over(w2))\n",
    "                    .filter((F.col(\"row\") == 1))\n",
    "                    .drop(\"row\", \"tailnum\", \"type\", \"engines\", \"seats\", \"speed\", \"engine\", \"tailchar\")\n",
    "                    .withColumnRenamed(\"year\",\"year1\")\n",
    "                    .withColumnRenamed(\"manufacturer\",\"manufacturer1\")\n",
    "                    .withColumnRenamed(\"model\",\"model1\")\n",
    "                    )\n",
    "\n",
    "w3 = Window.partitionBy(F.col(\"manufacturer\")).orderBy(F.col(\"manufacturer\"), F.col(\"year\")) \n",
    "\n",
    "df_planes_suport2 = df_planes_Final.filter(F.col(\"year\").isNotNull())\n",
    "\n",
    "df_planes_suport2 = (df_planes_suport2.withColumn(\"row\",F.row_number().over(w3))\n",
    "                    .filter((F.col(\"row\") == 1))\n",
    "                    .drop(\"row\", \"tailnum\", \"type\", \"model\", \"engines\", \"seats\", \"speed\", \"engine\", \"tailchar\")\n",
    "                    .withColumnRenamed(\"year\",\"year2\")\n",
    "                    .withColumnRenamed(\"manufacturer\",\"manufacturer2\")\n",
    "                    )\n",
    "\n",
    "df_planes_Final = (df_planes_Final.join(df_planes_suport1, \n",
    "                                        (df_planes_Final.manufacturer ==  df_planes_suport1.manufacturer1) \n",
    "                                        & (df_planes_Final.model ==  df_planes_suport1.model1)\n",
    "                                        ,\"left\")\n",
    "                  )\n",
    "\n",
    "df_planes_Final = (df_planes_Final.withColumn('year',  (\n",
    "                                                        F.when((F.col(\"year\").isNull()) & (F.col(\"year1\").isNotNull()) , F.col(\"year1\"))\n",
    "                                                        .otherwise (F.col(\"year\"))\n",
    "                                                        )\n",
    "                                              ).drop(\"manufacturer1\", \"model1\", \"year1\")\n",
    "                  )\n",
    "\n",
    "df_planes_Final = (df_planes_Final.join(df_planes_suport2, \n",
    "                                        df_planes_Final.manufacturer ==  df_planes_suport2.manufacturer2 \n",
    "                                        ,\"left\")\n",
    "                  )\n",
    "\n",
    "df_planes_Final = (df_planes_Final.withColumn('year',  (\n",
    "                                                        F.when((F.col(\"year\").isNull()) & (F.col(\"year2\").isNotNull()) , F.col(\"year2\"))\n",
    "                                                        .otherwise (F.col(\"year\"))\n",
    "                                                        )\n",
    "                                              ).drop(\"manufacturer2\", \"year2\")\n",
    "                  )\n",
    "\n",
    "df_planes.groupBy(\"year\").count().distinct().orderBy(\"year\").show()\n",
    "df_planes_Final.groupBy(\"year\").count().distinct().orderBy(\"year\").show()"
   ]
  },
  {
   "cell_type": "raw",
   "metadata": {},
   "source": [
    "# criando df auxiliar com o ano mais recente para cada manufacturer e model\n",
    "df_aux1 = df_planes.select('manufacturer', 'model', 'year').groupBy('manufacturer', 'model').agg(F.min('year').alias('aux_year_1')).orderBy(F.col('manufacturer'), F.col('model'))\n",
    "df_aux2 = df_planes.select('manufacturer', 'year').groupBy('manufacturer').agg(F.min('year').alias('aux_year_2')).orderBy(F.col('manufacturer'))\n",
    "\n",
    "df_aux1 = df_aux1.withColumnRenamed('manufacturer', 'manufacturer_aux1').withColumnRenamed('model', 'model_aux1')\n",
    "df_aux2 = df_aux2.withColumnRenamed('manufacturer', 'manufacturer_aux2')\n",
    "\n",
    "condition = [df_planes.model == df_aux1.model_aux1, df_planes.manufacturer == df_aux1.manufacturer_aux1]df_aux3 = df_planes.join(df_aux1, condition, 'left').withColumnRenamed('aux_year_1', 'aux_year_first_condition')\n",
    "\n",
    "df_aux3 = df_aux3.drop('manufacturer_aux1', 'model_aux1')\n",
    "\n",
    "condition1 = [df_aux3.manufacturer == df_aux2.manufacturer_aux2]df_aux4 = df_aux3.join(df_aux2, condition1, 'left').withColumnRenamed('aux_year_2', 'aux_year_second_condition')df_aux4 = df_aux4.drop('manufacturer_aux2')\n",
    "\n",
    "df = df_aux4.withColumn('year', \n",
    "                        F.when(F.col('year').isNull(), F.col('aux_year_first_condition'))\n",
    "                        .otherwise(F.col('aux_year_first_condition'))\n",
    "                        )\n",
    "\n",
    "df = df_aux4.withColumn('year', \n",
    "                        F.when(F.col('aux_year_first_condition').isNull(), F.col('aux_year_second_condition'))\n",
    "                        .otherwise(F.col('aux_year_first_condition'))\n",
    "                        )\n",
    "\n",
    "df = df.select('year', 'manufacturer', 'model', 'aux_year_first_condition', 'aux_year_second_condition')\n",
    "\n",
    "df.createOrReplaceTempView('planes')spark.getOrCreate().sql(\"select * from planes where year is Null\").show()\n",
    "\n"
   ]
  },
  {
   "cell_type": "markdown",
   "metadata": {},
   "source": [
    "## Pergunta 4"
   ]
  },
  {
   "cell_type": "code",
   "execution_count": 12,
   "metadata": {},
   "outputs": [
    {
     "name": "stdout",
     "output_type": "stream",
     "text": [
      "+----+-----+\n",
      "| age|count|\n",
      "+----+-----+\n",
      "|10.0|   90|\n",
      "|11.0|   64|\n",
      "|12.0|   46|\n",
      "|13.0|   77|\n",
      "|14.0|  110|\n",
      "|15.0|   93|\n",
      "|16.0|  128|\n",
      "|17.0|  112|\n",
      "|18.0|  132|\n",
      "|19.0|  118|\n",
      "|20.0|  139|\n",
      "|21.0|  215|\n",
      "|22.0|  189|\n",
      "|23.0|  174|\n",
      "|24.0|  169|\n",
      "|25.0|   80|\n",
      "|26.0|   73|\n",
      "|27.0|   55|\n",
      "|28.0|   45|\n",
      "|29.0|   42|\n",
      "+----+-----+\n",
      "only showing top 20 rows\n",
      "\n"
     ]
    }
   ],
   "source": [
    "date = datetime.date.today()\n",
    "\n",
    "df_planes_Final = df_planes_Final.withColumn('age',  (\n",
    "                                                             F.when(F.col('year').isNotNull(), date.strftime(\"%Y\")-F.col('year'))\n",
    "                                                             .otherwise('NaN')\n",
    "                                                         )\n",
    "                                                )\n",
    "\n",
    "df_planes_Final.groupBy(\"age\").count().distinct().orderBy(\"age\").show()"
   ]
  },
  {
   "cell_type": "markdown",
   "metadata": {},
   "source": [
    "## Pergunta 5"
   ]
  },
  {
   "cell_type": "code",
   "execution_count": 13,
   "metadata": {},
   "outputs": [
    {
     "name": "stdout",
     "output_type": "stream",
     "text": [
      "+----------+-----+\n",
      "|      type|count|\n",
      "+----------+-----+\n",
      "| MULTI_ENG| 2615|\n",
      "|ROTORCRAFT|    3|\n",
      "|SINGLE_ENG|   10|\n",
      "+----------+-----+\n",
      "\n"
     ]
    }
   ],
   "source": [
    "df_planes_Final = df_planes_Final.withColumn('type',  (\n",
    "                                                             F.when(F.col('type') == \"Fixed wing multi engine\", \"MULTI_ENG\")\n",
    "                                                             .when(F.col('type') == \"Fixed wing single engine\", \"SINGLE_ENG\")\n",
    "                                                             .when(F.col('type') == \"Rotorcraft\", \"ROTORCRAFT\")\n",
    "                                                             .otherwise(None)\n",
    "                                                         )\n",
    "                                                )\n",
    "\n",
    "df_planes_Final.groupBy(\"type\").count().distinct().orderBy(\"type\").show()"
   ]
  },
  {
   "cell_type": "markdown",
   "metadata": {},
   "source": [
    "## Pergunta 6"
   ]
  },
  {
   "cell_type": "code",
   "execution_count": 14,
   "metadata": {},
   "outputs": [
    {
     "name": "stdout",
     "output_type": "stream",
     "text": [
      "+-------------------+-----+\n",
      "|       manufacturer|count|\n",
      "+-------------------+-----+\n",
      "|             AIRBUS|  798|\n",
      "|        BARKER JACK|    1|\n",
      "|               BELL|    1|\n",
      "|             BOEING| 1460|\n",
      "|         BOMBARDIER|  214|\n",
      "|           CANADAIR|    8|\n",
      "|             CESSNA|    4|\n",
      "|             CIRRUS|    1|\n",
      "|            EMBRAER|   37|\n",
      "|         GULFSTREAM|    1|\n",
      "|       KILDALL GARY|    1|\n",
      "|    LAMBERT RICHARD|    1|\n",
      "|         MARZ BARRY|    1|\n",
      "|  MCDONNELL DOUGLAS|   96|\n",
      "|              PIPER|    2|\n",
      "|ROBINSON HELICOPTER|    1|\n",
      "|           SIKORSKY|    1|\n",
      "+-------------------+-----+\n",
      "\n"
     ]
    }
   ],
   "source": [
    "df_planes_Final = df_planes_Final.withColumn('manufacturer', (\n",
    "                                                                F.when((F.col('manufacturer').contains(\"AIRBUS\")) , \"AIRBUS\")\n",
    "                                                                .when((F.col('manufacturer').contains(\"BOEING\")) , \"BOEING\")\n",
    "                                                                .when((F.col('manufacturer').contains(\"BOMBARDIER\")) , \"BOMBARDIER\")\n",
    "                                                                .when((F.col('manufacturer').contains(\"CESSNA\")) , \"CESSNA\")\n",
    "                                                                .when((F.col('manufacturer').contains(\"EMBRAER\")) , \"EMBRAER\")\n",
    "                                                                .when((F.col('manufacturer').contains(\"SIKORSKY\")) , \"SIKORSKY\")\n",
    "                                                                .when((F.col('manufacturer').contains(\"CANADAIR\")) , \"CANADAIR\")\n",
    "                                                                .when((F.col('manufacturer').contains(\"PIPER\")) , \"PIPER\")\n",
    "                                                                .when((F.col('manufacturer').contains(\"MCDONNELL DOUGLAS\")) , \"MCDONNELL DOUGLAS\")\n",
    "                                                                .when((F.col('manufacturer').contains(\"CIRRUS\")) , \"CIRRUS\")\n",
    "                                                                .when((F.col('manufacturer').contains(\"BELL\")) , \"BELL\")\n",
    "                                                                .when((F.col('manufacturer').contains(\"KILDALL GARY\")) , \"KILDALL GARY\")\n",
    "                                                                .when((F.col('manufacturer').contains(\"LAMBERT RICHARD\")) , \"LAMBERT RICHARD\")\n",
    "                                                                .when((F.col('manufacturer').contains(\"BARKER JACK\")) , \"BARKER JACK\")\n",
    "                                                                .when((F.col('manufacturer').contains(\"ROBINSON HELICOPTER\")) , \"ROBINSON HELICOPTER\")\n",
    "                                                                .when((F.col('manufacturer').contains(\"GULFSTREAM\")) , \"GULFSTREAM\")\n",
    "                                                                .when((F.col('manufacturer').contains(\"MARZ BARRY\")) , \"MARZ BARRY\")\n",
    "                                                                .otherwise(F.col('manufacturer'))\n",
    "                                                             )\n",
    "                                            )\n",
    "\n",
    "df_planes_Final.groupBy(\"manufacturer\").count().distinct().orderBy(\"manufacturer\").show()"
   ]
  },
  {
   "cell_type": "markdown",
   "metadata": {},
   "source": [
    "## Pergunta 7"
   ]
  },
  {
   "cell_type": "code",
   "execution_count": 15,
   "metadata": {},
   "outputs": [
    {
     "name": "stdout",
     "output_type": "stream",
     "text": [
      "+-------+-----+\n",
      "|  model|count|\n",
      "+-------+-----+\n",
      "|    150|    1|\n",
      "|   172M|    1|\n",
      "|   206B|    1|\n",
      "|  210-5|    1|\n",
      "|   421C|    1|\n",
      "|737-301|    2|\n",
      "|737-3A4|    1|\n",
      "|737-3G7|    2|\n",
      "|737-3H4|  104|\n",
      "|737-3K2|    2|\n",
      "|737-3L9|    2|\n",
      "|737-3Q8|    4|\n",
      "|737-3T5|    1|\n",
      "|737-3TO|    2|\n",
      "|737-3Y0|    1|\n",
      "|737-490|   16|\n",
      "|737-4Q8|    9|\n",
      "|737-4S3|    1|\n",
      "|737-5H4|   10|\n",
      "|737-705|    2|\n",
      "+-------+-----+\n",
      "only showing top 20 rows\n",
      "\n"
     ]
    }
   ],
   "source": [
    "df_planes_Final = df_planes_Final.withColumn('model', (\n",
    "                                                        F.trim(F.regexp_replace(F.col('model'), r'\\(([^)]+)\\)', \"\"))\n",
    "                                                        )\n",
    "                                            )\n",
    "\n",
    "df_planes_Final.groupBy(\"model\").count().distinct().orderBy(\"model\").show()"
   ]
  },
  {
   "cell_type": "markdown",
   "metadata": {},
   "source": [
    "## Pergunta 8"
   ]
  },
  {
   "cell_type": "code",
   "execution_count": 16,
   "metadata": {},
   "outputs": [
    {
     "name": "stdout",
     "output_type": "stream",
     "text": [
      "+-----+-----+\n",
      "|speed|count|\n",
      "+-----+-----+\n",
      "|    6|    4|\n",
      "|   12|    1|\n",
      "|   14|    1|\n",
      "|   17|    1|\n",
      "|   39|    1|\n",
      "|   56|    1|\n",
      "|   89|   37|\n",
      "|   90|    2|\n",
      "|  107|    1|\n",
      "|  108|    1|\n",
      "|  112|    1|\n",
      "|  126|    1|\n",
      "|  153|   92|\n",
      "|  223|   98|\n",
      "|  264|   32|\n",
      "|  278|   21|\n",
      "|  356|    1|\n",
      "|  389|  441|\n",
      "|  395|   67|\n",
      "|  403|   53|\n",
      "+-----+-----+\n",
      "only showing top 20 rows\n",
      "\n"
     ]
    }
   ],
   "source": [
    "df_planes_Final = df_planes_Final.withColumn('speed', (\n",
    "                                                                F.when((F.col('speed').isNull()) & (F.col('seats').isNotNull()) , F.ceil((F.col('seats')/0.36)))\n",
    "                                                                .otherwise(F.col('speed'))\n",
    "                                                             )\n",
    "                                            )\n",
    "\n",
    "df_planes_Final.groupBy(\"speed\").count().distinct().orderBy(\"speed\").show()"
   ]
  },
  {
   "cell_type": "markdown",
   "metadata": {},
   "source": [
    "## Pergunta 9"
   ]
  },
  {
   "cell_type": "code",
   "execution_count": 17,
   "metadata": {},
   "outputs": [
    {
     "name": "stdout",
     "output_type": "stream",
     "text": [
      "+-----------+-----+\n",
      "|engine_type|count|\n",
      "+-----------+-----+\n",
      "|       null|   10|\n",
      "|      CYCLE|    1|\n",
      "|        FAN| 2127|\n",
      "|        JET|  450|\n",
      "|       PROP|   37|\n",
      "|      SHAFT|    3|\n",
      "+-----------+-----+\n",
      "\n",
      "+-------------+-----------+-----+\n",
      "|       engine|engine_type|count|\n",
      "+-------------+-----------+-----+\n",
      "|      4 Cycle|      CYCLE|    1|\n",
      "|Reciprocating|       null|   10|\n",
      "|    Turbo-fan|        FAN| 2127|\n",
      "|    Turbo-jet|        JET|  450|\n",
      "|   Turbo-prop|       PROP|   37|\n",
      "|  Turbo-shaft|      SHAFT|    3|\n",
      "+-------------+-----------+-----+\n",
      "\n"
     ]
    }
   ],
   "source": [
    "df_planes_Final = df_planes_Final.withColumn('engine_type', (\n",
    "                                                                F.when((F.col('engine') == 'Turbo-fan') , \"FAN\")\n",
    "                                                                .when((F.col('engine') == 'Turbo-jet') , \"JET\")\n",
    "                                                                .when((F.col('engine') == 'Turbo-prop') , \"PROP\")\n",
    "                                                                .when((F.col('engine') == 'Turbo-shaft') , \"SHAFT\")\n",
    "                                                                .when((F.col('engine') == '4 Cycle') , \"CYCLE\")    \n",
    "                                                                .otherwise(None)\n",
    "                                                             )\n",
    "                                            )\n",
    "\n",
    "df_planes_Final.groupBy(\"engine_type\").count().distinct().orderBy(\"engine_type\").show()\n",
    "df_planes_Final.groupBy(\"engine\", \"engine_type\").count().distinct().orderBy(\"engine\", \"engine_type\").show()"
   ]
  },
  {
   "cell_type": "code",
   "execution_count": 18,
   "metadata": {},
   "outputs": [],
   "source": [
    "df_planes_Final.write.parquet(\"C:/Users/amarti40/OneDrive - Capgemini/Desktop/ACELERAÇÃO PYSPARK/Semana 3 - Desafio Transformação/Outputs_Planes_Transformacao.parquet\")"
   ]
  }
 ],
 "metadata": {
  "kernelspec": {
   "display_name": "Python 3 (ipykernel)",
   "language": "python",
   "name": "python3"
  },
  "language_info": {
   "codemirror_mode": {
    "name": "ipython",
    "version": 3
   },
   "file_extension": ".py",
   "mimetype": "text/x-python",
   "name": "python",
   "nbconvert_exporter": "python",
   "pygments_lexer": "ipython3",
   "version": "3.9.7"
  }
 },
 "nbformat": 4,
 "nbformat_minor": 4
}
