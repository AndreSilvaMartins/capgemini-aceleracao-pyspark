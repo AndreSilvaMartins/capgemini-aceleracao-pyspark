{
 "cells": [
  {
   "cell_type": "code",
   "execution_count": 1,
   "metadata": {
    "scrolled": false
   },
   "outputs": [
    {
     "name": "stdout",
     "output_type": "stream",
     "text": [
      "Requirement already satisfied: pyspark in c:\\users\\amarti40\\anaconda3\\lib\\site-packages (3.2.1)\n",
      "Requirement already satisfied: py4j==0.10.9.3 in c:\\users\\amarti40\\anaconda3\\lib\\site-packages (from pyspark) (0.10.9.3)\n",
      "Requirement already satisfied: findspark in c:\\users\\amarti40\\anaconda3\\lib\\site-packages (2.0.1)\n"
     ]
    }
   ],
   "source": [
    "# Installing required packages\n",
    "!pip install pyspark\n",
    "!pip install findspark"
   ]
  },
  {
   "cell_type": "code",
   "execution_count": 2,
   "metadata": {},
   "outputs": [],
   "source": [
    "import findspark\n",
    "findspark.init()\n",
    "import datetime"
   ]
  },
  {
   "cell_type": "code",
   "execution_count": 3,
   "metadata": {},
   "outputs": [],
   "source": [
    "from pyspark import SparkContext, SparkConf\n",
    "from pyspark.sql import SparkSession\n",
    "from pyspark.sql import functions as F\n",
    "from pyspark.sql.window import Window\n",
    "from pyspark.sql.types import StructType, StructField, StringType, IntegerType, FloatType, BooleanType"
   ]
  },
  {
   "cell_type": "code",
   "execution_count": 4,
   "metadata": {},
   "outputs": [],
   "source": [
    "# Criar o contexto do spark\n",
    "sc = SparkContext()\n",
    "\n",
    "# Instancia o criador de sessao do spark\n",
    "spark = (SparkSession.builder\n",
    "                     .master(\"local[7]\")\n",
    "                     .appName(\"Semana 3 - Desafio Transformação\"))"
   ]
  },
  {
   "cell_type": "code",
   "execution_count": 5,
   "metadata": {},
   "outputs": [],
   "source": [
    "schema_airports = StructType([\n",
    "    StructField(\"faa\",  StringType(),  True),\n",
    "    StructField(\"name\", StringType(),  True),\n",
    "    StructField(\"lat\",  FloatType(),   True),\n",
    "    StructField(\"lon\",  FloatType(),   True),\n",
    "    StructField(\"alt\",  IntegerType(), True),\n",
    "    StructField(\"tz\",   IntegerType(), True),\n",
    "    StructField(\"dst\",  StringType(),  True)\n",
    "])\n",
    "\n",
    "schema_planes = StructType([\n",
    "    StructField(\"tailnum\",      StringType(),  True),\n",
    "    StructField(\"year\",         IntegerType(), True),\n",
    "    StructField(\"type\",         StringType(),  True),\n",
    "    StructField(\"manufacturer\", StringType(),  True),\n",
    "    StructField(\"model\",        StringType(),  True),\n",
    "    StructField(\"engines\",      IntegerType(), True),\n",
    "    StructField(\"seats\",        IntegerType(), True),\n",
    "    StructField(\"speed\",        IntegerType(), True),\n",
    "    StructField(\"engine\",       StringType(),  True)\n",
    "])\n",
    "\n",
    "schema_flights = StructType([\n",
    "    StructField(\"year\",      IntegerType(), True),\n",
    "    StructField(\"month\",     IntegerType(), True),\n",
    "    StructField(\"day\",       IntegerType(), True),\n",
    "    StructField(\"dep_time\",  StringType(),  True),\n",
    "    StructField(\"dep_delay\", IntegerType(), True),\n",
    "    StructField(\"arr_time\",  StringType(),  True),\n",
    "    StructField(\"arr_delay\", IntegerType(), True),\n",
    "    StructField(\"carrier\",   StringType(),  True),\n",
    "    StructField(\"tailnum\",   StringType(),  True),\n",
    "    StructField(\"flight\",    StringType(),  True),\n",
    "    StructField(\"origin\",    StringType(),  True),\n",
    "    StructField(\"dest\",      StringType(),  True),\n",
    "    StructField(\"air_time\",  IntegerType(), True),\n",
    "    StructField(\"distance\",  IntegerType(), True),\n",
    "    StructField(\"hour\",      IntegerType(), True),\n",
    "    StructField(\"minute\",    IntegerType(), True),\n",
    "])"
   ]
  },
  {
   "cell_type": "code",
   "execution_count": 6,
   "metadata": {},
   "outputs": [
    {
     "name": "stdout",
     "output_type": "stream",
     "text": [
      "+---+--------------------+---------+---------+----+---+---+\n",
      "|faa|                name|      lat|      lon| alt| tz|dst|\n",
      "+---+--------------------+---------+---------+----+---+---+\n",
      "|04G|   Lansdowne Airport|41.130474|-80.61958|1044| -5|  A|\n",
      "|06A|Moton Field Munic...| 32.46057|-85.68003| 264| -5|  A|\n",
      "|06C| Schaumburg Regional| 41.98934|-88.10124| 801| -6|  A|\n",
      "|06N|     Randall Airport| 41.43191|-74.39156| 523| -5|  A|\n",
      "|09J|Jekyll Island Air...|31.074472|-81.42778|  11| -4|  A|\n",
      "+---+--------------------+---------+---------+----+---+---+\n",
      "only showing top 5 rows\n",
      "\n",
      "+-------+----+--------------------+----------------+--------+-------+-----+-----+---------+\n",
      "|tailnum|year|                type|    manufacturer|   model|engines|seats|speed|   engine|\n",
      "+-------+----+--------------------+----------------+--------+-------+-----+-----+---------+\n",
      "| N102UW|1998|Fixed wing multi ...|AIRBUS INDUSTRIE|A320-214|      2|  182| null|Turbo-fan|\n",
      "| N103US|1999|Fixed wing multi ...|AIRBUS INDUSTRIE|A320-214|      2|  182| null|Turbo-fan|\n",
      "| N104UW|1999|Fixed wing multi ...|AIRBUS INDUSTRIE|A320-214|      2|  182| null|Turbo-fan|\n",
      "| N105UW|1999|Fixed wing multi ...|AIRBUS INDUSTRIE|A320-214|      2|  182| null|Turbo-fan|\n",
      "| N107US|1999|Fixed wing multi ...|AIRBUS INDUSTRIE|A320-214|      2|  182| null|Turbo-fan|\n",
      "+-------+----+--------------------+----------------+--------+-------+-----+-----+---------+\n",
      "only showing top 5 rows\n",
      "\n",
      "+----+-----+---+--------+---------+--------+---------+-------+-------+------+------+----+--------+--------+----+------+\n",
      "|year|month|day|dep_time|dep_delay|arr_time|arr_delay|carrier|tailnum|flight|origin|dest|air_time|distance|hour|minute|\n",
      "+----+-----+---+--------+---------+--------+---------+-------+-------+------+------+----+--------+--------+----+------+\n",
      "|2014|   12|  8|     658|       -7|     935|       -5|     VX| N846VA|  1780|   SEA| LAX|     132|     954|   6|    58|\n",
      "|2014|    1| 22|    1040|        5|    1505|        5|     AS| N559AS|   851|   SEA| HNL|     360|    2677|  10|    40|\n",
      "|2014|    3|  9|    1443|       -2|    1652|        2|     VX| N847VA|   755|   SEA| SFO|     111|     679|  14|    43|\n",
      "|2014|    4|  9|    1705|       45|    1839|       34|     WN| N360SW|   344|   PDX| SJC|      83|     569|  17|     5|\n",
      "|2014|    3|  9|     754|       -1|    1015|        1|     AS| N612AS|   522|   SEA| BUR|     127|     937|   7|    54|\n",
      "+----+-----+---+--------+---------+--------+---------+-------+-------+------+------+----+--------+--------+----+------+\n",
      "only showing top 5 rows\n",
      "\n"
     ]
    }
   ],
   "source": [
    "df_airports = (spark.getOrCreate().read\n",
    "                  .format(\"csv\")\n",
    "                  .option(\"header\", \"true\")\n",
    "                  .schema(schema_airports)\n",
    "                  .load(\"C:/Users/amarti40/OneDrive - Capgemini/Desktop/ACELERAÇÃO PYSPARK/Data/airports.csv\"))\n",
    "\n",
    "df_planes = (spark.getOrCreate().read\n",
    "                  .format(\"csv\")\n",
    "                  .option(\"header\", \"true\")\n",
    "                  .schema(schema_planes)\n",
    "                  .load(\"C:/Users/amarti40/OneDrive - Capgemini/Desktop/ACELERAÇÃO PYSPARK/Data/planes.csv\"))\n",
    "\n",
    "df_flights = (spark.getOrCreate().read\n",
    "                  .format(\"csv\")\n",
    "                  .option(\"header\", \"true\")\n",
    "                  .schema(schema_flights)\n",
    "                  .load(\"C:/Users/amarti40/OneDrive - Capgemini/Desktop/ACELERAÇÃO PYSPARK/Data/flights.csv\"))\n",
    "\n",
    "df_airports.show(5)\n",
    "df_planes.show(5)\n",
    "df_flights.show(5)"
   ]
  },
  {
   "cell_type": "code",
   "execution_count": 7,
   "metadata": {},
   "outputs": [],
   "source": [
    "# Criacao das visões temporarias\n",
    "df_airports.createOrReplaceTempView('airports')\n",
    "df_planes.createOrReplaceTempView('planes')\n",
    "df_flights.createOrReplaceTempView('flights')"
   ]
  },
  {
   "cell_type": "markdown",
   "metadata": {},
   "source": [
    "# Functions"
   ]
  },
  {
   "cell_type": "code",
   "execution_count": 8,
   "metadata": {},
   "outputs": [],
   "source": [
    "def CriaVw(df):\n",
    "    return df.createOrReplaceTempView(\"Data\")\n",
    "\n",
    "def Consolida_SQL(_col):\n",
    "    return spark.getOrCreate().sql(f\"Select {_col}, count(*) from Data Group By {_col} order by 1\").show()\n",
    "    \n",
    "def Consolida(_col, df):\n",
    "    CriaVw(df)\n",
    "    return Consolida_SQL(_col)"
   ]
  },
  {
   "cell_type": "markdown",
   "metadata": {},
   "source": [
    "# Flights"
   ]
  },
  {
   "cell_type": "markdown",
   "metadata": {},
   "source": [
    "## Pergunta 1"
   ]
  },
  {
   "cell_type": "code",
   "execution_count": 9,
   "metadata": {
    "scrolled": false
   },
   "outputs": [
    {
     "name": "stdout",
     "output_type": "stream",
     "text": [
      "+----+-----+\n",
      "|hour|count|\n",
      "+----+-----+\n",
      "|   0|  137|\n",
      "|   1|   17|\n",
      "|   2|    4|\n",
      "|   5|  431|\n",
      "|   6|  899|\n",
      "|   7|  709|\n",
      "|   8|  659|\n",
      "|   9|  456|\n",
      "|  10|  803|\n",
      "|  11|  723|\n",
      "|  12|  539|\n",
      "|  13|  653|\n",
      "|  14|  540|\n",
      "|  15|  468|\n",
      "|  16|  388|\n",
      "|  17|  394|\n",
      "|  18|  570|\n",
      "|  19|  409|\n",
      "|  20|  354|\n",
      "|  21|  281|\n",
      "|  22|  314|\n",
      "|  23|  251|\n",
      "|  24|    1|\n",
      "+----+-----+\n",
      "\n",
      "+------+-----+\n",
      "|minute|count|\n",
      "+------+-----+\n",
      "|     0|  226|\n",
      "|     1|  184|\n",
      "|     2|  173|\n",
      "|     3|  161|\n",
      "|     4|  157|\n",
      "|     5|  167|\n",
      "|     6|  157|\n",
      "|     7|  153|\n",
      "|     8|  153|\n",
      "|     9|  183|\n",
      "|    10|  160|\n",
      "|    11|  161|\n",
      "|    12|  161|\n",
      "|    13|  150|\n",
      "|    14|  136|\n",
      "|    15|  162|\n",
      "|    16|  152|\n",
      "|    17|  155|\n",
      "|    18|  130|\n",
      "|    19|  155|\n",
      "|    20|  163|\n",
      "|    21|  139|\n",
      "|    22|  156|\n",
      "|    23|  142|\n",
      "|    24|  177|\n",
      "|    25|  188|\n",
      "|    26|  154|\n",
      "|    27|  172|\n",
      "|    28|  159|\n",
      "|    29|  180|\n",
      "|    30|  155|\n",
      "|    31|  153|\n",
      "|    32|  149|\n",
      "|    33|  173|\n",
      "|    34|  125|\n",
      "|    35|  154|\n",
      "|    36|  133|\n",
      "|    37|  135|\n",
      "|    38|  150|\n",
      "|    39|  155|\n",
      "|    40|  172|\n",
      "|    41|  166|\n",
      "|    42|  160|\n",
      "|    43|  153|\n",
      "|    44|  134|\n",
      "|    45|  145|\n",
      "|    46|  142|\n",
      "|    47|  173|\n",
      "|    48|  176|\n",
      "|    49|  155|\n",
      "|    50|  196|\n",
      "|    51|  161|\n",
      "|    52|  191|\n",
      "|    53|  200|\n",
      "|    54|  198|\n",
      "|    55|  230|\n",
      "|    56|  201|\n",
      "|    57|  242|\n",
      "|    58|  235|\n",
      "|    59|  222|\n",
      "+------+-----+\n",
      "\n"
     ]
    }
   ],
   "source": [
    "df_flights_Final = df_flights.withColumn('hour',  (\n",
    "                                                    F.when(F.col('hour').isNull(), 0)\n",
    "                                                    .otherwise(F.col('hour'))\n",
    "                                                    )\n",
    "                                          )\n",
    "\n",
    "df_flights_Final = df_flights_Final.withColumn('minute',  (\n",
    "                                                            F.when(F.col('minute').isNull(), 0)\n",
    "                                                            .otherwise(F.col('minute'))\n",
    "                                                          )\n",
    "                                              )\n",
    "\n",
    "df_flights_Final.groupBy(F.col(\"hour\")).count().distinct().orderBy(F.col(\"hour\")).show(100)\n",
    "df_flights_Final.groupBy(F.col(\"minute\")).count().distinct().orderBy(F.col(\"minute\")).show(100)"
   ]
  },
  {
   "cell_type": "markdown",
   "metadata": {},
   "source": [
    "## Pergunta 2"
   ]
  },
  {
   "cell_type": "code",
   "execution_count": 10,
   "metadata": {},
   "outputs": [
    {
     "name": "stdout",
     "output_type": "stream",
     "text": [
      "+----+-----+\n",
      "|hour|count|\n",
      "+----+-----+\n",
      "|   0|  138|\n",
      "|   1|   17|\n",
      "|   2|    4|\n",
      "|   5|  431|\n",
      "|   6|  899|\n",
      "|   7|  709|\n",
      "|   8|  659|\n",
      "|   9|  456|\n",
      "|  10|  803|\n",
      "|  11|  723|\n",
      "|  12|  539|\n",
      "|  13|  653|\n",
      "|  14|  540|\n",
      "|  15|  468|\n",
      "|  16|  388|\n",
      "|  17|  394|\n",
      "|  18|  570|\n",
      "|  19|  409|\n",
      "|  20|  354|\n",
      "|  21|  281|\n",
      "|  22|  314|\n",
      "|  23|  251|\n",
      "+----+-----+\n",
      "\n"
     ]
    }
   ],
   "source": [
    "df_flights_Final = df_flights_Final.withColumn('hour',  (\n",
    "                                                    F.when(F.col('hour') > 23, 0)\n",
    "                                                    .otherwise(F.col('hour'))\n",
    "                                                    )\n",
    "                                          )\n",
    "\n",
    "df_flights_Final.groupBy(F.col(\"hour\")).count().distinct().orderBy(F.col(\"hour\")).show(100)"
   ]
  },
  {
   "cell_type": "markdown",
   "metadata": {},
   "source": [
    "## Pergunta 3"
   ]
  },
  {
   "cell_type": "code",
   "execution_count": 11,
   "metadata": {},
   "outputs": [
    {
     "name": "stdout",
     "output_type": "stream",
     "text": [
      "+----+-----+---+----+------+-------------------+-----+\n",
      "|year|month|day|hour|minute|       dep_datetime|count|\n",
      "+----+-----+---+----+------+-------------------+-----+\n",
      "|2014|    1|  1|   0|     0|2014-01-01 00:00:00|    1|\n",
      "|2014|    1|  1|   5|    50|2014-01-01 05:50:00|    1|\n",
      "|2014|    1|  1|   6|     0|2014-01-01 06:00:00|    1|\n",
      "|2014|    1|  1|   6|    17|2014-01-01 06:17:00|    1|\n",
      "|2014|    1|  1|   6|    19|2014-01-01 06:19:00|    1|\n",
      "|2014|    1|  1|   6|    22|2014-01-01 06:22:00|    1|\n",
      "|2014|    1|  1|   6|    39|2014-01-01 06:39:00|    1|\n",
      "|2014|    1|  1|   7|     1|2014-01-01 07:01:00|    1|\n",
      "|2014|    1|  1|   7|    13|2014-01-01 07:13:00|    1|\n",
      "|2014|    1|  1|   8|     2|2014-01-01 08:02:00|    1|\n",
      "|2014|    1|  1|   8|    17|2014-01-01 08:17:00|    1|\n",
      "|2014|    1|  1|   8|    19|2014-01-01 08:19:00|    1|\n",
      "|2014|    1|  1|   8|    25|2014-01-01 08:25:00|    1|\n",
      "|2014|    1|  1|   8|    33|2014-01-01 08:33:00|    1|\n",
      "|2014|    1|  1|  11|    23|2014-01-01 11:23:00|    1|\n",
      "|2014|    1|  1|  11|    37|2014-01-01 11:37:00|    1|\n",
      "|2014|    1|  1|  12|     1|2014-01-01 12:01:00|    1|\n",
      "|2014|    1|  1|  12|    23|2014-01-01 12:23:00|    2|\n",
      "|2014|    1|  1|  12|    50|2014-01-01 12:50:00|    1|\n",
      "|2014|    1|  1|  12|    58|2014-01-01 12:58:00|    1|\n",
      "+----+-----+---+----+------+-------------------+-----+\n",
      "only showing top 20 rows\n",
      "\n",
      "root\n",
      " |-- year: integer (nullable = true)\n",
      " |-- month: integer (nullable = true)\n",
      " |-- day: integer (nullable = true)\n",
      " |-- dep_time: string (nullable = true)\n",
      " |-- dep_delay: integer (nullable = true)\n",
      " |-- arr_time: string (nullable = true)\n",
      " |-- arr_delay: integer (nullable = true)\n",
      " |-- carrier: string (nullable = true)\n",
      " |-- tailnum: string (nullable = true)\n",
      " |-- flight: string (nullable = true)\n",
      " |-- origin: string (nullable = true)\n",
      " |-- dest: string (nullable = true)\n",
      " |-- air_time: integer (nullable = true)\n",
      " |-- distance: integer (nullable = true)\n",
      " |-- hour: integer (nullable = true)\n",
      " |-- minute: integer (nullable = true)\n",
      " |-- dep_datetime: timestamp (nullable = true)\n",
      "\n"
     ]
    }
   ],
   "source": [
    "df_flights_Final = df_flights_Final.withColumn('dep_datetime',  (\n",
    "                                                    F.when((F.col('Year').isNotNull()) \n",
    "                                                            & (F.col('month').isNotNull()) \n",
    "                                                            & (F.col('day').isNotNull()) \n",
    "                                                            & (F.col('hour').isNotNull()) \n",
    "                                                            & (F.col('minute').isNotNull())\n",
    "                                                           ,F.to_timestamp(F.concat(F.col('Year'),F.lit(\"-\"),F.col('month'),F.lit(\"-\"),F.col('day'),F.lit(\" \"),F.col('hour'),F.lit(\":\"),F.col('minute'),F.lit(\":00\"))))\n",
    "                                                            .otherwise(None)\n",
    "                                                    )\n",
    "                                          )\n",
    "\n",
    "df_flights_Final.groupBy(F.col(\"year\"),F.col(\"month\"),F.col(\"day\"),F.col(\"hour\"),F.col(\"minute\"),F.col(\"dep_datetime\")).count().distinct().orderBy(F.col(\"dep_datetime\")).show()\n",
    "df_flights_Final.printSchema()\n",
    "\n",
    "\n",
    "# F.lit(f\"{F.col('year')}-{F.col('month'):02d}-{F.col('day'):02d} {F.col('hour'):02d}:{F.col('minute'):02d}:00\".strftime(\"....\"))"
   ]
  },
  {
   "cell_type": "markdown",
   "metadata": {},
   "source": [
    "## Pergunta 4"
   ]
  },
  {
   "cell_type": "code",
   "execution_count": 12,
   "metadata": {},
   "outputs": [
    {
     "name": "stdout",
     "output_type": "stream",
     "text": [
      "+----+------+--------+-----+\n",
      "|hour|minute|dep_time|count|\n",
      "+----+------+--------+-----+\n",
      "|   0|     0|    0000|   48|\n",
      "|   0|     1|       1|    6|\n",
      "|  10|     0|    1000|    8|\n",
      "|  10|     1|    1001|   16|\n",
      "|  10|     2|    1002|    5|\n",
      "|  10|     3|    1003|   12|\n",
      "|  10|     4|    1004|    9|\n",
      "|  10|     5|    1005|    6|\n",
      "|  10|     6|    1006|   17|\n",
      "|  10|     7|    1007|   10|\n",
      "|  10|     8|    1008|    9|\n",
      "|  10|     9|    1009|   18|\n",
      "|   1|     1|     101|    1|\n",
      "|  10|    10|    1010|   12|\n",
      "|  10|    11|    1011|   10|\n",
      "|  10|    12|    1012|   18|\n",
      "|  10|    13|    1013|   12|\n",
      "|  10|    14|    1014|   13|\n",
      "|  10|    15|    1015|   17|\n",
      "|  10|    16|    1016|   15|\n",
      "+----+------+--------+-----+\n",
      "only showing top 20 rows\n",
      "\n"
     ]
    }
   ],
   "source": [
    "df_flights_Final = df_flights_Final.withColumn('dep_time',  (\n",
    "                                                             F.when((F.col('hour').isNotNull()) \n",
    "                                                                    & (F.col('minute').isNotNull())\n",
    "                                                                    & ((F.col('dep_time').isNull())\n",
    "                                                                       |(F.col('dep_time') == 'NA'))\n",
    "                                                                    ,F.concat(F.lpad(F.col('hour'),2,'0'),F.lpad(F.col('minute'),2,'0')))\n",
    "                                                             .otherwise(F.col('dep_time'))\n",
    "                                                         )\n",
    "                                                )\n",
    "\n",
    "\n",
    "df_flights_Final.groupBy(F.col('hour'), F.col('minute'), F.col('dep_time')).count().distinct().orderBy(\"dep_time\").show()"
   ]
  },
  {
   "cell_type": "markdown",
   "metadata": {},
   "source": [
    "## Pergunta 5"
   ]
  },
  {
   "cell_type": "code",
   "execution_count": 13,
   "metadata": {},
   "outputs": [
    {
     "name": "stdout",
     "output_type": "stream",
     "text": [
      "+---------+-----+\n",
      "|dep_delay|count|\n",
      "+---------+-----+\n",
      "|      -19|    1|\n",
      "|      -18|    3|\n",
      "|      -17|    4|\n",
      "|      -16|    5|\n",
      "|      -15|   10|\n",
      "|      -14|   14|\n",
      "|      -13|   37|\n",
      "|      -12|   63|\n",
      "|      -11|   80|\n",
      "|      -10|  196|\n",
      "|       -9|  208|\n",
      "|       -8|  319|\n",
      "|       -7|  471|\n",
      "|       -6|  625|\n",
      "|       -5|  742|\n",
      "|       -4|  838|\n",
      "|       -3|  852|\n",
      "|       -2|  760|\n",
      "|       -1|  666|\n",
      "|        0|  646|\n",
      "+---------+-----+\n",
      "only showing top 20 rows\n",
      "\n"
     ]
    }
   ],
   "source": [
    "df_flights_Final = df_flights_Final.withColumn('dep_delay',  (\n",
    "                                                            F.when(F.col('dep_delay').isNull(), 0)\n",
    "                                                            .otherwise(F.col('dep_delay'))\n",
    "                                                          )\n",
    "                                              )\n",
    "\n",
    "df_flights_Final.groupBy(F.col(\"dep_delay\")).count().distinct().orderBy(F.col(\"dep_delay\")).show()"
   ]
  },
  {
   "cell_type": "markdown",
   "metadata": {},
   "source": [
    "## Pergunta 6"
   ]
  },
  {
   "cell_type": "code",
   "execution_count": 14,
   "metadata": {},
   "outputs": [
    {
     "name": "stdout",
     "output_type": "stream",
     "text": [
      "+---------+-----+\n",
      "|arr_delay|count|\n",
      "+---------+-----+\n",
      "|      -58|    1|\n",
      "|      -53|    1|\n",
      "|      -50|    1|\n",
      "|      -48|    1|\n",
      "|      -47|    2|\n",
      "|      -46|    1|\n",
      "|      -45|    2|\n",
      "|      -44|    2|\n",
      "|      -43|    2|\n",
      "|      -42|    6|\n",
      "|      -41|    4|\n",
      "|      -40|    7|\n",
      "|      -39|    3|\n",
      "|      -38|   14|\n",
      "|      -37|    7|\n",
      "|      -36|   15|\n",
      "|      -35|   14|\n",
      "|      -34|   17|\n",
      "|      -33|   14|\n",
      "|      -32|   17|\n",
      "|      -31|   34|\n",
      "|      -30|   27|\n",
      "|      -29|   35|\n",
      "|      -28|   43|\n",
      "|      -27|   60|\n",
      "|      -26|   66|\n",
      "|      -25|   49|\n",
      "|      -24|   82|\n",
      "|      -23|   83|\n",
      "|      -22|  101|\n",
      "|      -21|  109|\n",
      "|      -20|  127|\n",
      "|      -19|  141|\n",
      "|      -18|  163|\n",
      "|      -17|  188|\n",
      "|      -16|  179|\n",
      "|      -15|  202|\n",
      "|      -14|  257|\n",
      "|      -13|  270|\n",
      "|      -12|  285|\n",
      "|      -11|  288|\n",
      "|      -10|  254|\n",
      "|       -9|  300|\n",
      "|       -8|  316|\n",
      "|       -7|  330|\n",
      "|       -6|  323|\n",
      "|       -5|  331|\n",
      "|       -4|  314|\n",
      "|       -3|  295|\n",
      "|       -2|  279|\n",
      "|       -1|  286|\n",
      "|        0|  327|\n",
      "|        1|  243|\n",
      "|        2|  250|\n",
      "|        3|  193|\n",
      "+---------+-----+\n",
      "only showing top 55 rows\n",
      "\n"
     ]
    }
   ],
   "source": [
    "df_flights_Final = df_flights_Final.withColumn('arr_delay',  (\n",
    "                                                            F.when(F.col('arr_delay').isNull(), 0)\n",
    "                                                            .otherwise(F.col('arr_delay'))\n",
    "                                                          )\n",
    "                                              )\n",
    "\n",
    "df_flights_Final.groupBy(F.col(\"arr_delay\")).count().distinct().orderBy(F.col(\"arr_delay\")).show(55)"
   ]
  },
  {
   "cell_type": "markdown",
   "metadata": {},
   "source": [
    "## Pergunta 7"
   ]
  },
  {
   "cell_type": "code",
   "execution_count": 15,
   "metadata": {},
   "outputs": [
    {
     "name": "stdout",
     "output_type": "stream",
     "text": [
      "root\n",
      " |-- dep_time: string (nullable = true)\n",
      " |-- dep_delay: integer (nullable = true)\n",
      " |-- arr_time: string (nullable = true)\n",
      " |-- arr_delay: integer (nullable = true)\n",
      " |-- carrier: string (nullable = true)\n",
      " |-- tailnum: string (nullable = true)\n",
      " |-- flight: string (nullable = true)\n",
      " |-- origin: string (nullable = true)\n",
      " |-- dest: string (nullable = true)\n",
      " |-- air_time: integer (nullable = true)\n",
      " |-- distance: integer (nullable = true)\n",
      " |-- dep_datetime: timestamp (nullable = true)\n",
      "\n"
     ]
    }
   ],
   "source": [
    "df_flights_Final = df_flights_Final.drop(\"year\", \"month\", \"day\", \"hour\", \"minute\")\n",
    "df_flights_Final.printSchema()"
   ]
  },
  {
   "cell_type": "markdown",
   "metadata": {},
   "source": [
    "## Pergunta 8"
   ]
  },
  {
   "cell_type": "code",
   "execution_count": 16,
   "metadata": {},
   "outputs": [
    {
     "name": "stdout",
     "output_type": "stream",
     "text": [
      "+------------------+-----+\n",
      "|air_time_projected|count|\n",
      "+------------------+-----+\n",
      "|                29|    5|\n",
      "|                30|   41|\n",
      "|                31|   54|\n",
      "|                32|  301|\n",
      "|                42|  105|\n",
      "|                44|   10|\n",
      "|                54|    7|\n",
      "|                64|   13|\n",
      "|                67|   93|\n",
      "|                74|  121|\n",
      "|                75|  305|\n",
      "|                76|  164|\n",
      "|                80|  190|\n",
      "|                83|  171|\n",
      "|                87|  695|\n",
      "|                88|  302|\n",
      "|                89|  213|\n",
      "|                94|   47|\n",
      "|                96|  156|\n",
      "|                98|   23|\n",
      "+------------------+-----+\n",
      "only showing top 20 rows\n",
      "\n",
      "root\n",
      " |-- dep_time: string (nullable = true)\n",
      " |-- dep_delay: integer (nullable = true)\n",
      " |-- arr_time: string (nullable = true)\n",
      " |-- arr_delay: integer (nullable = true)\n",
      " |-- carrier: string (nullable = true)\n",
      " |-- tailnum: string (nullable = true)\n",
      " |-- flight: string (nullable = true)\n",
      " |-- origin: string (nullable = true)\n",
      " |-- dest: string (nullable = true)\n",
      " |-- air_time: integer (nullable = true)\n",
      " |-- distance: integer (nullable = true)\n",
      " |-- dep_datetime: timestamp (nullable = true)\n",
      " |-- air_time_projected: integer (nullable = true)\n",
      "\n"
     ]
    }
   ],
   "source": [
    "df_flights_Final = df_flights_Final.withColumn('air_time_projected', (\n",
    "                                                                F.when((F.col(\"distance\").isNotNull()) , (F.col(\"distance\")*0.1+20).cast('int'))\n",
    "                                                                .otherwise(None)\n",
    "                                                             )\n",
    "                                            )\n",
    "\n",
    "df_flights_Final.groupBy(\"air_time_projected\").count().distinct().orderBy(\"air_time_projected\").show()\n",
    "df_flights_Final.printSchema()"
   ]
  },
  {
   "cell_type": "markdown",
   "metadata": {},
   "source": [
    "## Pergunta 9"
   ]
  },
  {
   "cell_type": "code",
   "execution_count": 17,
   "metadata": {},
   "outputs": [
    {
     "name": "stdout",
     "output_type": "stream",
     "text": [
      "+-----------------+-----+\n",
      "|air_time_expected|count|\n",
      "+-----------------+-----+\n",
      "|               22|    5|\n",
      "|               27|   41|\n",
      "|               29|   54|\n",
      "|               32|  157|\n",
      "|               34|  144|\n",
      "|               37|  105|\n",
      "|               49|    7|\n",
      "|               53|   10|\n",
      "|               59|   13|\n",
      "|               68|   93|\n",
      "|               74|    8|\n",
      "|               81|  121|\n",
      "|               82|  361|\n",
      "|               85|  461|\n",
      "|               88|  225|\n",
      "|               98|  124|\n",
      "|               99|  213|\n",
      "|              101|  482|\n",
      "|              103|  213|\n",
      "|              105|  179|\n",
      "+-----------------+-----+\n",
      "only showing top 20 rows\n",
      "\n",
      "root\n",
      " |-- dep_time: string (nullable = true)\n",
      " |-- dep_delay: integer (nullable = true)\n",
      " |-- arr_time: string (nullable = true)\n",
      " |-- arr_delay: integer (nullable = true)\n",
      " |-- carrier: string (nullable = true)\n",
      " |-- tailnum: string (nullable = true)\n",
      " |-- flight: string (nullable = true)\n",
      " |-- origin: string (nullable = true)\n",
      " |-- dest: string (nullable = true)\n",
      " |-- air_time: integer (nullable = true)\n",
      " |-- distance: integer (nullable = true)\n",
      " |-- dep_datetime: timestamp (nullable = true)\n",
      " |-- air_time_projected: integer (nullable = true)\n",
      " |-- air_time_expected: integer (nullable = true)\n",
      "\n"
     ]
    }
   ],
   "source": [
    "# criando df auxiliar com media dos coos com mesma origem e destino\n",
    "df_aux_avg = (df_flights_Final.select(F.col('origin'), F.col('dest'), F.col('air_time'))\n",
    "                             .groupBy(F.col('origin'), F.col('dest'))\n",
    "                             .agg(F.avg(F.col(\"air_time\")).cast('int').alias(\"air_time_expected\"))\n",
    "                             .orderBy(F.col('origin'), F.col('dest'))\n",
    "                             .withColumnRenamed(\"origin\",\"origin2\")\n",
    "                             .withColumnRenamed(\"dest\",\"dest2\")\n",
    "             )\n",
    "\n",
    "df_flights_Final = (df_flights_Final.join(df_aux_avg, \n",
    "                                         (df_flights_Final.origin ==  df_aux_avg.origin2)\n",
    "                                          & (df_flights_Final.dest ==  df_aux_avg.dest2)\n",
    "                                        ,\"left\")\n",
    "                                     .drop(\"origin2\", \"dest2\")\n",
    "                   )\n",
    "\n",
    "df_flights_Final.groupBy(\"air_time_expected\").count().distinct().orderBy(\"air_time_expected\").show()\n",
    "df_flights_Final.printSchema()"
   ]
  },
  {
   "cell_type": "markdown",
   "metadata": {},
   "source": [
    "## Pergunta 10"
   ]
  },
  {
   "cell_type": "code",
   "execution_count": 18,
   "metadata": {},
   "outputs": [
    {
     "name": "stdout",
     "output_type": "stream",
     "text": [
      "+--------+------------------+-----------------+-----+\n",
      "|air_time|air_time_projected|air_time_expected|count|\n",
      "+--------+------------------+-----------------+-----+\n",
      "|      22|                29|               22|    5|\n",
      "|      27|                30|               27|   39|\n",
      "|      29|                31|               29|   54|\n",
      "|      30|                30|               27|    2|\n",
      "|      32|                32|               32|  157|\n",
      "|      34|                32|               34|  144|\n",
      "|      37|                42|               37|  105|\n",
      "|      49|                54|               49|    7|\n",
      "|      53|                44|               53|   10|\n",
      "|      59|                64|               59|   13|\n",
      "|      68|                67|               68|   93|\n",
      "|      74|                76|               74|    8|\n",
      "|      81|                74|               81|  121|\n",
      "|      82|                80|               82|  190|\n",
      "|      82|                83|               82|  171|\n",
      "|      85|                76|               85|  156|\n",
      "|      85|                75|               85|  305|\n",
      "|      88|                88|               88|  225|\n",
      "|      98|                88|               98|   77|\n",
      "|      98|                94|               98|   47|\n",
      "+--------+------------------+-----------------+-----+\n",
      "only showing top 20 rows\n",
      "\n"
     ]
    }
   ],
   "source": [
    "df_flights_Final = df_flights_Final.withColumn('air_time', (\n",
    "                                                                F.when((F.col(\"air_time\").isNull()) \n",
    "                                                                       & (F.col(\"air_time_projected\") >= F.col(\"air_time_expected\")) \n",
    "                                                                ,F.col(\"air_time_projected\"))\n",
    "                                                                .otherwise(F.col(\"air_time_expected\"))\n",
    "                                                             )\n",
    "                                            )\n",
    "\n",
    "df_flights_Final.groupBy(\"air_time\", F.col(\"air_time_projected\"), F.col(\"air_time_expected\")).count().distinct().orderBy(\"air_time\").show()"
   ]
  },
  {
   "cell_type": "markdown",
   "metadata": {},
   "source": [
    "# Faltou transformar campos dep_time e air_time em horas"
   ]
  },
  {
   "cell_type": "markdown",
   "metadata": {},
   "source": [
    "## Pergunta 11"
   ]
  },
  {
   "cell_type": "code",
   "execution_count": 19,
   "metadata": {},
   "outputs": [
    {
     "name": "stdout",
     "output_type": "stream",
     "text": [
      "+--------+-----+\n",
      "|arr_time|count|\n",
      "+--------+-----+\n",
      "|    2400|    5|\n",
      "|    2376|    1|\n",
      "|    2359|    6|\n",
      "|    2358|    4|\n",
      "|    2357|    5|\n",
      "|    2356|    7|\n",
      "|    2355|   10|\n",
      "|    2354|    5|\n",
      "|    2353|    4|\n",
      "|    2352|    7|\n",
      "|    2351|    8|\n",
      "|    2350|    7|\n",
      "|    2349|    4|\n",
      "|    2348|    6|\n",
      "|    2347|   10|\n",
      "|    2346|    6|\n",
      "|    2345|    3|\n",
      "|    2344|    5|\n",
      "|    2343|    3|\n",
      "|    2342|    9|\n",
      "+--------+-----+\n",
      "only showing top 20 rows\n",
      "\n"
     ]
    }
   ],
   "source": [
    "df_flights_Final = df_flights_Final.withColumn('arr_time', (\n",
    "                                                                F.when(((F.col(\"arr_time\").isNull())\n",
    "                                                                        | (F.col(\"arr_time\")==\"NA\"))\n",
    "                                                                       &(F.col(\"dep_time\").isNotNull())\n",
    "                                                                       &(F.col(\"air_time\").isNotNull())\n",
    "                                                                , (F.col(\"dep_time\")+F.col(\"air_time\")).cast('int'))\n",
    "                                                                .otherwise(F.col(\"arr_time\").cast('int'))\n",
    "                                                             )\n",
    "                                            )\n",
    "\n",
    "df_flights_Final.groupBy(\"arr_time\").count().distinct().orderBy(F.col(\"arr_time\").desc()).show()"
   ]
  },
  {
   "cell_type": "markdown",
   "metadata": {},
   "source": [
    "## Pergunta 12"
   ]
  },
  {
   "cell_type": "code",
   "execution_count": 20,
   "metadata": {},
   "outputs": [
    {
     "name": "stdout",
     "output_type": "stream",
     "text": [
      "+--------+-------------+-----+\n",
      "|air_time|haul_duration|count|\n",
      "+--------+-------------+-----+\n",
      "|     357|  MEDIUM-HAUL|   12|\n",
      "|     347|  MEDIUM-HAUL|   70|\n",
      "|     343|  MEDIUM-HAUL|   86|\n",
      "|     341|  MEDIUM-HAUL|    7|\n",
      "|     339|  MEDIUM-HAUL|   63|\n",
      "|     334|  MEDIUM-HAUL|   28|\n",
      "|     329|  MEDIUM-HAUL|   57|\n",
      "|     317|  MEDIUM-HAUL|   29|\n",
      "|     308|  MEDIUM-HAUL|   19|\n",
      "|     298|  MEDIUM-HAUL|   31|\n",
      "|     293|  MEDIUM-HAUL|   11|\n",
      "|     291|  MEDIUM-HAUL|   33|\n",
      "|     286|  MEDIUM-HAUL|  142|\n",
      "|     283|  MEDIUM-HAUL|    9|\n",
      "|     281|  MEDIUM-HAUL|  148|\n",
      "|     279|  MEDIUM-HAUL|   72|\n",
      "|     277|  MEDIUM-HAUL|  122|\n",
      "|     276|  MEDIUM-HAUL|    5|\n",
      "|     269|  MEDIUM-HAUL|   51|\n",
      "|     268|  MEDIUM-HAUL|   47|\n",
      "+--------+-------------+-----+\n",
      "only showing top 20 rows\n",
      "\n"
     ]
    }
   ],
   "source": [
    "df_flights_Final = df_flights_Final.withColumn('haul_duration', (\n",
    "                                                                F.when((F.col(\"air_time\").isNotNull())\n",
    "                                                                       &(F.col(\"air_time\").between(20, 180)), \"SHORT-HAUL\")\n",
    "                                                                .when((F.col(\"air_time\").isNotNull())\n",
    "                                                                       &(F.col(\"air_time\").between(181, 360)), \"MEDIUM-HAUL\")\n",
    "                                                                .when((F.col(\"air_time\").isNotNull())\n",
    "                                                                       &(F.col(\"air_time\")>360), \"LONG-HAUL\")\n",
    "                                                                .otherwise(None)\n",
    "                                                             )\n",
    "                                            )\n",
    "\n",
    "df_flights_Final.groupBy(\"air_time\", \"haul_duration\").count().distinct().orderBy(F.col(\"air_time\").desc()).show()"
   ]
  },
  {
   "cell_type": "markdown",
   "metadata": {},
   "source": [
    "## Pergunta 13"
   ]
  },
  {
   "cell_type": "code",
   "execution_count": 21,
   "metadata": {},
   "outputs": [
    {
     "name": "stdout",
     "output_type": "stream",
     "text": [
      "+----------+-------------------+-------------------+-------------------+\n",
      "|dep_season|  min(dep_datetime)|  max(dep_datetime)|count(dep_datetime)|\n",
      "+----------+-------------------+-------------------+-------------------+\n",
      "|      FALL|2014-09-23 05:13:00|2014-12-21 18:34:00|               2373|\n",
      "|    SPRING|2014-03-20 15:38:00|2014-06-21 10:05:00|               2560|\n",
      "|    SUMMER|2014-06-21 11:02:00|2014-09-22 23:26:00|               2918|\n",
      "|    WINTER|2014-01-01 00:00:00|2014-12-31 22:57:00|               2149|\n",
      "+----------+-------------------+-------------------+-------------------+\n",
      "\n"
     ]
    }
   ],
   "source": [
    "df_flights_Final = df_flights_Final.withColumn('dep_season', (                    \n",
    "                                                                F.when((F.col(\"dep_datetime\").isNotNull())\n",
    "                                                                       &(F.col(\"dep_datetime\").between(F.concat(F.lit(F.year(F.col('dep_datetime'))), F.lit(\"-12-21 21:48:00\")), F.concat(F.lit(F.year(F.col('dep_datetime'))), F.lit(\"-12-31 23:59:00\"))))\n",
    "                                                                       |(F.col(\"dep_datetime\").between(F.concat(F.lit(F.year(F.col('dep_datetime'))), F.lit(\"-01-01 00:00:00\")), F.concat(F.lit(F.year(F.col('dep_datetime'))), F.lit(\"-03-20 15:33:00\"))))\n",
    "                                                                       , \"WINTER\")\n",
    "                                                                .when((F.col(\"dep_datetime\").isNotNull())\n",
    "                                                                       &(F.col(\"dep_datetime\").between(F.concat(F.lit(F.year(F.col('dep_datetime'))), F.lit(\"-03-20 15:34:00\")), F.concat(F.lit(F.year(F.col('dep_datetime'))), F.lit(\"-06-21 10:14:00\"))))\n",
    "                                                                       , \"SPRING\")\n",
    "                                                                .when((F.col(\"dep_datetime\").isNotNull())\n",
    "                                                                       &(F.col(\"dep_datetime\").between(F.concat(F.lit(F.year(F.col('dep_datetime'))), F.lit(\"-06-21 10:15:00\")), F.concat(F.lit(F.year(F.col('dep_datetime'))), F.lit(\"-09-23 02:04:00\"))))\n",
    "                                                                       , \"SUMMER\")\n",
    "                                                                .when((F.col(\"dep_datetime\").isNotNull())\n",
    "                                                                       &(F.col(\"dep_datetime\").between(F.concat(F.lit(F.year(F.col('dep_datetime'))), F.lit(\"-09-23 02:05:00\")), F.concat(F.lit(F.year(F.col('dep_datetime'))), F.lit(\"-12-21 21:47:00\"))))\n",
    "                                                                       , \"FALL\")\n",
    "                                                                                                                                \n",
    "                                                                .otherwise(None)\n",
    "                                                             )\n",
    "                                            )\n",
    "\n",
    "(df_flights_Final.groupBy('dep_season')\n",
    "                .agg(F.min('dep_datetime'),\n",
    "                     F.max('dep_datetime'),\n",
    "                     F.count('dep_datetime')).orderBy('dep_season').show())\n",
    "\n",
    "# df_flights_Final.select(\"dep_datetime\", F.year(\"dep_datetime\"), F.month(\"dep_datetime\"), F.dayofmonth(\"dep_datetime\"), F.hour(\"dep_datetime\") , F.minute(\"dep_datetime\"), \"dep_season\").write.options(header='True', delimiter=',').csv(\"C:/Users/amarti40/OneDrive - Capgemini/Desktop/ACELERAÇÃO PYSPARK/Semana 3 - Desafio Transformação/Tranformacao_flights_teste.csv\")\n"
   ]
  },
  {
   "cell_type": "markdown",
   "metadata": {},
   "source": [
    "## Pergunta 14"
   ]
  },
  {
   "cell_type": "code",
   "execution_count": 22,
   "metadata": {},
   "outputs": [
    {
     "name": "stdout",
     "output_type": "stream",
     "text": [
      "+---------+------------------+-----+\n",
      "|dep_delay|dep_delay_category|count|\n",
      "+---------+------------------+-----+\n",
      "|      886|             MAJOR|    1|\n",
      "|      739|             MAJOR|    1|\n",
      "|      667|             MAJOR|    1|\n",
      "|      385|             MAJOR|    1|\n",
      "|      370|             MAJOR|    1|\n",
      "|      352|             MAJOR|    1|\n",
      "|      328|             MAJOR|    1|\n",
      "|      310|             MAJOR|    1|\n",
      "|      302|             MAJOR|    1|\n",
      "|      274|             MAJOR|    2|\n",
      "|      273|             MAJOR|    1|\n",
      "|      271|             MAJOR|    1|\n",
      "|      266|             MAJOR|    1|\n",
      "|      249|             MAJOR|    1|\n",
      "|      229|             MAJOR|    1|\n",
      "|      226|             MAJOR|    2|\n",
      "|      223|             MAJOR|    1|\n",
      "|      222|             MAJOR|    2|\n",
      "|      214|             MAJOR|    1|\n",
      "|      213|             MAJOR|    1|\n",
      "+---------+------------------+-----+\n",
      "only showing top 20 rows\n",
      "\n",
      "+------------------+-------------------------+\n",
      "|dep_delay_category|count(dep_delay_category)|\n",
      "+------------------+-------------------------+\n",
      "|       ANTECIPATED|                     5894|\n",
      "|            INTIME|                      646|\n",
      "|             MAJOR|                      395|\n",
      "|             MINOR|                     3065|\n",
      "+------------------+-------------------------+\n",
      "\n"
     ]
    }
   ],
   "source": [
    "df_flights_Final = df_flights_Final.withColumn('dep_delay_category', (\n",
    "                                                                F.when((F.col(\"dep_delay\").isNotNull())\n",
    "                                                                       &(F.col(\"dep_delay\")<0), \"ANTECIPATED\")\n",
    "                                                                .when((F.col(\"dep_delay\").isNotNull())\n",
    "                                                                       &(F.col(\"dep_delay\")==0), \"INTIME\")\n",
    "                                                                .when((F.col(\"dep_delay\").isNotNull())\n",
    "                                                                       &((F.col(\"dep_delay\")>0) & (F.col(\"dep_delay\")<60)), \"MINOR\")\n",
    "                                                                .when((F.col(\"dep_delay\").isNotNull())\n",
    "                                                                       &(F.col(\"dep_delay\")>=60), \"MAJOR\")\n",
    "                                                                .otherwise(None)\n",
    "                                                             )\n",
    "                                            )\n",
    "\n",
    "df_flights_Final.groupBy(\"dep_delay\", \"dep_delay_category\").count().distinct().orderBy(F.col(\"dep_delay\").desc()).show()\n",
    "(df_flights_Final.groupBy('dep_delay_category').agg(F.count('dep_delay_category')).orderBy('dep_delay_category').show())\n"
   ]
  },
  {
   "cell_type": "code",
   "execution_count": 23,
   "metadata": {},
   "outputs": [],
   "source": [
    "df_flights_Final.write.parquet(\"C:/Users/amarti40/OneDrive - Capgemini/Desktop/ACELERAÇÃO PYSPARK/Semana 3 - Desafio Transformação/Outputs_Flights_Transformacao.parquet\")"
   ]
  }
 ],
 "metadata": {
  "kernelspec": {
   "display_name": "Python 3 (ipykernel)",
   "language": "python",
   "name": "python3"
  },
  "language_info": {
   "codemirror_mode": {
    "name": "ipython",
    "version": 3
   },
   "file_extension": ".py",
   "mimetype": "text/x-python",
   "name": "python",
   "nbconvert_exporter": "python",
   "pygments_lexer": "ipython3",
   "version": "3.9.7"
  }
 },
 "nbformat": 4,
 "nbformat_minor": 4
}
