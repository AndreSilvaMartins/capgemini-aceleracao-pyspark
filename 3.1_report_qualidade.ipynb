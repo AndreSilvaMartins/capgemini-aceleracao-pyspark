{
 "cells": [
  {
   "cell_type": "code",
   "execution_count": 1,
   "metadata": {
    "scrolled": true
   },
   "outputs": [
    {
     "name": "stdout",
     "output_type": "stream",
     "text": [
      "Requirement already satisfied: pyspark in c:\\users\\amarti40\\anaconda3\\lib\\site-packages (3.2.1)\n",
      "Requirement already satisfied: py4j==0.10.9.3 in c:\\users\\amarti40\\anaconda3\\lib\\site-packages (from pyspark) (0.10.9.3)\n",
      "Requirement already satisfied: findspark in c:\\users\\amarti40\\anaconda3\\lib\\site-packages (2.0.1)\n"
     ]
    }
   ],
   "source": [
    "# Installing required packages\n",
    "!pip install pyspark\n",
    "!pip install findspark"
   ]
  },
  {
   "cell_type": "code",
   "execution_count": 2,
   "metadata": {},
   "outputs": [],
   "source": [
    "import findspark\n",
    "findspark.init()\n",
    "import datetime\n",
    "import pandas as pd"
   ]
  },
  {
   "cell_type": "code",
   "execution_count": 3,
   "metadata": {},
   "outputs": [],
   "source": [
    "from pyspark import SparkContext, SparkConf\n",
    "from pyspark.sql import SparkSession\n",
    "from pyspark.sql import functions as F\n",
    "from pyspark.sql.window import Window\n",
    "from pyspark.sql.types import StructType, StructField, StringType, IntegerType, FloatType, BooleanType"
   ]
  },
  {
   "cell_type": "code",
   "execution_count": 4,
   "metadata": {},
   "outputs": [],
   "source": [
    "# Criar o contexto do spark\n",
    "sc = SparkContext()\n",
    "\n",
    "# Instancia o criador de sessao do spark\n",
    "spark = (SparkSession.builder\n",
    "                     .master(\"local[5]\")\n",
    "                     .appName(\"Semana 4 - Desafio Relatórios\"))"
   ]
  },
  {
   "cell_type": "code",
   "execution_count": 5,
   "metadata": {},
   "outputs": [],
   "source": [
    "df_airports=spark.getOrCreate().read.parquet(\"C:/Users/amarti40/OneDrive - Capgemini/Desktop/ACELERAÇÃO PYSPARK/Semana 2 - Desafio Qualidade/Outputs_airports.parquet\")\n",
    "df_planes=spark.getOrCreate().read.parquet(\"C:/Users/amarti40/OneDrive - Capgemini/Desktop/ACELERAÇÃO PYSPARK/Semana 2 - Desafio Qualidade/Outputs_planes.parquet\")\n",
    "df_flights=spark.getOrCreate().read.parquet(\"C:/Users/amarti40/OneDrive - Capgemini/Desktop/ACELERAÇÃO PYSPARK/Semana 2 - Desafio Qualidade/Outputs_Flights.parquet\")"
   ]
  },
  {
   "cell_type": "code",
   "execution_count": 6,
   "metadata": {},
   "outputs": [
    {
     "name": "stdout",
     "output_type": "stream",
     "text": [
      "1397\n",
      "2628\n",
      "10000\n"
     ]
    }
   ],
   "source": [
    "print(df_airports.count())\n",
    "print(df_planes.count())\n",
    "print(df_flights.count())"
   ]
  },
  {
   "cell_type": "code",
   "execution_count": 7,
   "metadata": {},
   "outputs": [
    {
     "name": "stdout",
     "output_type": "stream",
     "text": [
      "root\n",
      " |-- faa_airports_origin: string (nullable = true)\n",
      " |-- name_airports_origin: string (nullable = true)\n",
      " |-- lat_airports_origin: float (nullable = true)\n",
      " |-- lon_airports_origin: float (nullable = true)\n",
      " |-- alt_airports_origin: integer (nullable = true)\n",
      " |-- tz_airports_origin: integer (nullable = true)\n",
      " |-- dst_airports_origin: string (nullable = true)\n",
      " |-- qa_faa_airports_origin: string (nullable = true)\n",
      " |-- qa_name_airports_origin: string (nullable = true)\n",
      " |-- qa_lat_airports_origin: string (nullable = true)\n",
      " |-- qa_lon_airports_origin: string (nullable = true)\n",
      " |-- qa_alt_airports_origin: string (nullable = true)\n",
      " |-- qa_tz_airports_origin: string (nullable = true)\n",
      " |-- qa_dst_airports_origin: string (nullable = true)\n",
      "\n",
      "root\n",
      " |-- faa_airports_dest: string (nullable = true)\n",
      " |-- name_airports_dest: string (nullable = true)\n",
      " |-- lat_airports_dest: float (nullable = true)\n",
      " |-- lon_airports_dest: float (nullable = true)\n",
      " |-- alt_airports_dest: integer (nullable = true)\n",
      " |-- tz_airports_dest: integer (nullable = true)\n",
      " |-- dst_airports_dest: string (nullable = true)\n",
      " |-- qa_faa_airports_dest: string (nullable = true)\n",
      " |-- qa_name_airports_dest: string (nullable = true)\n",
      " |-- qa_lat_airports_dest: string (nullable = true)\n",
      " |-- qa_lon_airports_dest: string (nullable = true)\n",
      " |-- qa_alt_airports_dest: string (nullable = true)\n",
      " |-- qa_tz_airports_dest: string (nullable = true)\n",
      " |-- qa_dst_airports_dest: string (nullable = true)\n",
      "\n",
      "root\n",
      " |-- tailnum_planes: string (nullable = true)\n",
      " |-- year_planes: integer (nullable = true)\n",
      " |-- type_planes: string (nullable = true)\n",
      " |-- manufacturer_planes: string (nullable = true)\n",
      " |-- model_planes: string (nullable = true)\n",
      " |-- engines_planes: integer (nullable = true)\n",
      " |-- seats_planes: integer (nullable = true)\n",
      " |-- speed_planes: integer (nullable = true)\n",
      " |-- engine_planes: string (nullable = true)\n",
      " |-- qa_tailnum_planes: string (nullable = true)\n",
      " |-- qa_year_planes: string (nullable = true)\n",
      " |-- qa_type_planes: string (nullable = true)\n",
      " |-- qa_manufacturer_planes: string (nullable = true)\n",
      " |-- qa_model_planes: string (nullable = true)\n",
      " |-- qa_engines_planes: string (nullable = true)\n",
      " |-- qa_seats_planes: string (nullable = true)\n",
      " |-- qa_speed_planes: string (nullable = true)\n",
      " |-- qa_engine_planes: string (nullable = true)\n",
      "\n",
      "root\n",
      " |-- year_flights: integer (nullable = true)\n",
      " |-- month_flights: integer (nullable = true)\n",
      " |-- day_flights: integer (nullable = true)\n",
      " |-- hour_flights: integer (nullable = true)\n",
      " |-- minute_flights: integer (nullable = true)\n",
      " |-- dep_time_flights: string (nullable = true)\n",
      " |-- arr_time_flights: string (nullable = true)\n",
      " |-- dep_delay_flights: integer (nullable = true)\n",
      " |-- arr_delay_flights: integer (nullable = true)\n",
      " |-- carrier_flights: string (nullable = true)\n",
      " |-- tailnum_flights: string (nullable = true)\n",
      " |-- flight_flights: string (nullable = true)\n",
      " |-- origin_flights: string (nullable = true)\n",
      " |-- dest_flights: string (nullable = true)\n",
      " |-- air_time_flights: integer (nullable = true)\n",
      " |-- distance_flights: integer (nullable = true)\n",
      " |-- qa_year_month_day_flights: string (nullable = true)\n",
      " |-- qa_hour_minute_flights: string (nullable = true)\n",
      " |-- qa_dep_arr_time_flights: string (nullable = true)\n",
      " |-- qa_dep_arr_delay_flights: string (nullable = true)\n",
      " |-- qa_carrier_flights: string (nullable = true)\n",
      " |-- qa_tailnum_flights: string (nullable = true)\n",
      " |-- qa_flight_flights: string (nullable = true)\n",
      " |-- qa_origin_dest_flights: string (nullable = true)\n",
      " |-- qa_air_time_flights: string (nullable = true)\n",
      " |-- qa_distance_flights: string (nullable = true)\n",
      " |-- qa_distance_airtime_flights: string (nullable = true)\n",
      "\n"
     ]
    }
   ],
   "source": [
    "df_airports_origin = df_airports.select([F.col(c).alias(c+\"_airports_origin\") for c in df_airports.columns])\n",
    "df_airports_dest = df_airports.select([F.col(c).alias(c+\"_airports_dest\") for c in df_airports.columns])\n",
    "\n",
    "df_planes = df_planes.select([F.col(c).alias(c+\"_planes\") for c in df_planes.columns])\n",
    "df_flights = df_flights.select([F.col(c).alias(c+\"_flights\") for c in df_flights.columns])\n",
    "\n",
    "df_airports_origin.printSchema()\n",
    "df_airports_dest.printSchema()\n",
    "df_planes.printSchema()\n",
    "df_flights.printSchema()"
   ]
  },
  {
   "cell_type": "markdown",
   "metadata": {},
   "source": [
    "# Perguntas para qualidade"
   ]
  },
  {
   "cell_type": "markdown",
   "metadata": {},
   "source": [
    "## Pergunta 1"
   ]
  },
  {
   "cell_type": "code",
   "execution_count": 23,
   "metadata": {
    "scrolled": false
   },
   "outputs": [
    {
     "name": "stdout",
     "output_type": "stream",
     "text": [
      "root\n",
      " |-- qa_year_month_day_flights: string (nullable = true)\n",
      " |-- qa_hour_minute_flights: string (nullable = true)\n",
      " |-- qa_dep_arr_time_flights: string (nullable = true)\n",
      " |-- qa_dep_arr_delay_flights: string (nullable = true)\n",
      " |-- qa_carrier_flights: string (nullable = true)\n",
      " |-- qa_tailnum_flights: string (nullable = true)\n",
      " |-- qa_flight_flights: string (nullable = true)\n",
      " |-- qa_origin_dest_flights: string (nullable = true)\n",
      " |-- qa_air_time_flights: string (nullable = true)\n",
      " |-- qa_distance_flights: string (nullable = true)\n",
      " |-- qa_distance_airtime_flights: string (nullable = true)\n",
      " |-- qa_tailnum_planes: string (nullable = true)\n",
      " |-- qa_year_planes: string (nullable = true)\n",
      " |-- qa_type_planes: string (nullable = true)\n",
      " |-- qa_manufacturer_planes: string (nullable = true)\n",
      " |-- qa_model_planes: string (nullable = true)\n",
      " |-- qa_engines_planes: string (nullable = true)\n",
      " |-- qa_seats_planes: string (nullable = true)\n",
      " |-- qa_speed_planes: string (nullable = true)\n",
      " |-- qa_engine_planes: string (nullable = true)\n",
      " |-- qa_faa_airports_origin: string (nullable = true)\n",
      " |-- qa_name_airports_origin: string (nullable = true)\n",
      " |-- qa_lat_airports_origin: string (nullable = true)\n",
      " |-- qa_lon_airports_origin: string (nullable = true)\n",
      " |-- qa_alt_airports_origin: string (nullable = true)\n",
      " |-- qa_tz_airports_origin: string (nullable = true)\n",
      " |-- qa_dst_airports_origin: string (nullable = true)\n",
      " |-- qa_faa_airports_dest: string (nullable = true)\n",
      " |-- qa_name_airports_dest: string (nullable = true)\n",
      " |-- qa_lat_airports_dest: string (nullable = true)\n",
      " |-- qa_lon_airports_dest: string (nullable = true)\n",
      " |-- qa_alt_airports_dest: string (nullable = true)\n",
      " |-- qa_tz_airports_dest: string (nullable = true)\n",
      " |-- qa_dst_airports_dest: string (nullable = true)\n",
      "\n",
      "10000\n",
      "+-------------------------+----------------------+-----------------------+------------------------+------------------+------------------+-----------------+----------------------+-------------------+-------------------+---------------------------+-----------------+--------------+--------------+----------------------+---------------+-----------------+---------------+---------------+----------------+----------------------+-----------------------+----------------------+----------------------+----------------------+---------------------+----------------------+--------------------+---------------------+--------------------+--------------------+--------------------+-------------------+--------------------+\n",
      "|qa_year_month_day_flights|qa_hour_minute_flights|qa_dep_arr_time_flights|qa_dep_arr_delay_flights|qa_carrier_flights|qa_tailnum_flights|qa_flight_flights|qa_origin_dest_flights|qa_air_time_flights|qa_distance_flights|qa_distance_airtime_flights|qa_tailnum_planes|qa_year_planes|qa_type_planes|qa_manufacturer_planes|qa_model_planes|qa_engines_planes|qa_seats_planes|qa_speed_planes|qa_engine_planes|qa_faa_airports_origin|qa_name_airports_origin|qa_lat_airports_origin|qa_lon_airports_origin|qa_alt_airports_origin|qa_tz_airports_origin|qa_dst_airports_origin|qa_faa_airports_dest|qa_name_airports_dest|qa_lat_airports_dest|qa_lon_airports_dest|qa_alt_airports_dest|qa_tz_airports_dest|qa_dst_airports_dest|\n",
      "+-------------------------+----------------------+-----------------------+------------------------+------------------+------------------+-----------------+----------------------+-------------------+-------------------+---------------------------+-----------------+--------------+--------------+----------------------+---------------+-----------------+---------------+---------------+----------------+----------------------+-----------------------+----------------------+----------------------+----------------------+---------------------+----------------------+--------------------+---------------------+--------------------+--------------------+--------------------+-------------------+--------------------+\n",
      "|                     null|                  null|                   null|                    null|              null|              null|             null|                  null|               null|               null|                         TL|             null|          null|          null|                  null|           null|             null|           null|              M|            null|                  null|                   null|                  null|                  null|                  null|                 null|                  null|                null|                 null|                null|                null|                null|               null|                null|\n",
      "|                     null|                  null|                   null|                    null|              null|              null|                F|                  null|               null|               null|                         TL|             null|          null|          null|                  null|           null|             null|           null|              M|            null|                  null|                   null|                  null|                  null|                  null|                 null|                  null|                null|                 null|                null|                null|                null|               null|                null|\n",
      "|                     null|                  null|                   null|                    null|              null|              null|                F|                  null|               null|               null|                         TL|             null|          null|          null|                  null|           null|             null|           null|              M|            null|                  null|                   null|                  null|                  null|                  null|                 null|                  null|                null|                 null|                null|                null|                null|               null|                null|\n",
      "|                     null|                  null|                   null|                    null|              null|              null|                F|                  null|               null|               null|                         TR|             null|          null|          null|                  null|           null|             null|           null|              M|            null|                  null|                   null|                  null|                  null|                  null|                 null|                  null|                null|                 null|                null|                null|                null|               null|                null|\n",
      "|                     null|                  null|                   null|                    null|              null|              null|                F|                  null|               null|               null|                         TL|             null|          null|          null|                  null|           null|             null|           null|              M|            null|                  null|                   null|                  null|                  null|                  null|                 null|                  null|                null|                 null|                null|                null|                null|               null|                null|\n",
      "|                     null|                  null|                   null|                    null|              null|              null|                F|                  null|               null|               null|                         TR|             null|          null|          null|                  null|           null|             null|           null|              M|            null|                  null|                   null|                  null|                  null|                  null|                 null|                  null|                null|                 null|                null|                null|                null|               null|                null|\n",
      "|                     null|                  null|                   null|                    null|              null|              null|             null|                  null|               null|               null|                         TL|             null|          null|          null|                  null|           null|             null|           null|              M|            null|                  null|                   null|                  null|                  null|                  null|                 null|                  null|                null|                 null|                null|                null|                null|               null|                null|\n",
      "|                     null|                  null|                   null|                    null|              null|              null|                F|                  null|               null|               null|                         TL|             null|          null|          null|                  null|           null|             null|           null|              M|            null|                  null|                   null|                  null|                  null|                  null|                 null|                  null|                null|                 null|                null|                null|                null|               null|                null|\n",
      "|                     null|                  null|                   null|                    null|              null|              null|                F|                  null|               null|               null|                         TL|             null|          null|          null|                  null|           null|             null|           null|              M|            null|                  null|                   null|                  null|                  null|                  null|                 null|                  null|                null|                 null|                null|                null|                null|               null|                null|\n",
      "|                     null|                  null|                   null|                    null|              null|              null|                F|                  null|               null|               null|                         TR|             null|          null|          null|                  null|           null|             null|           null|              M|            null|                  null|                   null|                  null|                  null|                  null|                 null|                  null|                null|                 null|                null|                null|                null|               null|                null|\n",
      "|                     null|                  null|                   null|                    null|              null|              null|                F|                  null|               null|               null|                         TL|             null|          null|          null|                  null|           null|             null|           null|              M|            null|                  null|                   null|                  null|                  null|                  null|                 null|                  null|                null|                 null|                null|                null|                null|               null|                null|\n",
      "|                     null|                  null|                   null|                    null|              null|              null|                F|                  null|               null|               null|                         TL|             null|          null|          null|                  null|           null|             null|           null|              M|            null|                  null|                   null|                  null|                  null|                  null|                 null|                  null|                null|                 null|                null|                null|                null|               null|                null|\n",
      "|                     null|                  null|                   null|                    null|              null|              null|                F|                  null|               null|               null|                         TL|             null|          null|          null|                  null|           null|             null|           null|              M|            null|                  null|                   null|                  null|                  null|                  null|                 null|                  null|                null|                 null|                null|                null|                null|               null|                null|\n",
      "|                     null|                  null|                   null|                    null|              null|              null|                F|                  null|               null|               null|                         TL|             null|          null|          null|                  null|           null|             null|           null|              M|            null|                  null|                   null|                  null|                  null|                  null|                 null|                  null|                null|                 null|                null|                null|                null|               null|                null|\n",
      "|                     null|                  null|                   null|                    null|              null|              null|                F|                  null|               null|               null|                         TL|             null|          null|          null|                  null|           null|             null|           null|              M|            null|                  null|                   null|                  null|                  null|                  null|                 null|                  null|                null|                 null|                null|                null|                null|               null|                null|\n",
      "|                     null|                  null|                   null|                    null|              null|                 F|             null|                  null|               null|               null|                         TL|                F|          null|          null|                  null|           null|             null|           null|              M|            null|                  null|                   null|                  null|                  null|                  null|                 null|                  null|                null|                 null|                null|                null|                null|               null|                null|\n",
      "|                     null|                  null|                   null|                    null|              null|              null|                F|                  null|               null|               null|                         TR|             null|          null|          null|                  null|           null|             null|           null|              M|            null|                  null|                   null|                  null|                  null|                  null|                 null|                  null|                null|                 null|                null|                null|                null|               null|                null|\n",
      "|                     null|                  null|                   null|                    null|              null|              null|                F|                  null|               null|               null|                         TL|             null|          null|          null|                  null|           null|             null|           null|              M|            null|                  null|                   null|                  null|                  null|                  null|                 null|                  null|                null|                 null|                null|                null|                null|               null|                null|\n",
      "|                     null|                  null|                   null|                    null|              null|              null|                F|                  null|               null|               null|                         TL|             null|          null|          null|                  null|           null|             null|           null|              M|            null|                  null|                   null|                  null|                  null|                  null|                 null|                  null|                null|                 null|                null|                null|                null|               null|                null|\n",
      "|                     null|                  null|                   null|                    null|              null|              null|             null|                  null|               null|               null|                         TR|             null|          null|          null|                     C|           null|             null|           null|              M|            null|                  null|                   null|                  null|                  null|                  null|                 null|                  null|                null|                 null|                null|                null|                null|               null|                null|\n",
      "+-------------------------+----------------------+-----------------------+------------------------+------------------+------------------+-----------------+----------------------+-------------------+-------------------+---------------------------+-----------------+--------------+--------------+----------------------+---------------+-----------------+---------------+---------------+----------------+----------------------+-----------------------+----------------------+----------------------+----------------------+---------------------+----------------------+--------------------+---------------------+--------------------+--------------------+--------------------+-------------------+--------------------+\n",
      "only showing top 20 rows\n",
      "\n"
     ]
    }
   ],
   "source": [
    " df_final = (df_flights.join(df_planes, df_planes.tailnum_planes == df_flights.tailnum_flights\n",
    "                             ,\"left\" ).select(df_flights.tailnum_flights\n",
    "                                             ,df_flights.origin_flights\n",
    "                                             ,df_flights.dest_flights\n",
    "                                             ,df_flights.qa_year_month_day_flights\n",
    "                                             ,df_flights.qa_hour_minute_flights\n",
    "                                             ,df_flights.qa_dep_arr_time_flights\n",
    "                                             ,df_flights.qa_dep_arr_delay_flights\n",
    "                                             ,df_flights.qa_carrier_flights\n",
    "                                             ,df_flights.qa_tailnum_flights\n",
    "                                             ,df_flights.qa_flight_flights\n",
    "                                             ,df_flights.qa_origin_dest_flights\n",
    "                                             ,df_flights.qa_air_time_flights\n",
    "                                             ,df_flights.qa_distance_flights\n",
    "                                             ,df_flights.qa_distance_airtime_flights\n",
    "                                             ,df_planes.qa_tailnum_planes\n",
    "                                             ,df_planes.qa_year_planes\n",
    "                                             ,df_planes.qa_type_planes\n",
    "                                             ,df_planes.qa_manufacturer_planes\n",
    "                                             ,df_planes.qa_model_planes\n",
    "                                             ,df_planes.qa_engines_planes\n",
    "                                             ,df_planes.qa_seats_planes\n",
    "                                             ,df_planes.qa_speed_planes\n",
    "                                             ,df_planes.qa_engine_planes\n",
    "                                             )\n",
    "                       .join(df_airports_origin, df_airports_origin.faa_airports_origin == df_flights.origin_flights\n",
    "                             ,\"left\").drop(\"faa_airports_origin\"\n",
    "                                             ,\"name_airports_origin\"\n",
    "                                             ,\"lat_airports_origin\"\n",
    "                                             ,\"lon_airports_origin\"\n",
    "                                             ,\"alt_airports_origin\"\n",
    "                                             ,\"tz_airports_origin\"\n",
    "                                             ,\"dst_airports_origin\"\n",
    "                                          )\n",
    "                       .join(df_airports_dest, df_airports_dest.faa_airports_dest == df_flights.dest_flights\n",
    "                             ,\"left\").drop(\"faa_airports_dest\"\n",
    "                                             ,\"name_airports_dest\"\n",
    "                                             ,\"lat_airports_dest\"\n",
    "                                             ,\"lon_airports_dest\"\n",
    "                                             ,\"alt_airports_dest\"\n",
    "                                             ,\"tz_airports_dest\"\n",
    "                                             ,\"dst_airports_dest\"\n",
    "                                             ,\"tailnum_flights\"\n",
    "                                             ,\"origin_flights\"\n",
    "                                             ,\"dest_flights\"\n",
    "                                          )          \n",
    "            )\n",
    "\n",
    "df_final.printSchema()\n",
    "\n",
    "print(df_final.count())\n",
    "\n",
    "df_final.show()"
   ]
  },
  {
   "cell_type": "markdown",
   "metadata": {},
   "source": [
    "## Pergunta 2"
   ]
  },
  {
   "cell_type": "code",
   "execution_count": 9,
   "metadata": {},
   "outputs": [],
   "source": [
    "columns = ['Var', 'F', 'I', 'M', 'S', 'T']\n",
    "Vals = [(\"Col1\", 0, 0, 0, 0, 0)]\n",
    "\n",
    "df_transposed = spark.getOrCreate().createDataFrame(Vals, columns)\n",
    "df_transposed = df_transposed.filter(F.col(\"Var\") != \"Col1\")\n",
    "\n",
    "names = df_final.schema.names\n",
    "\n",
    "for c in names:\n",
    "    df_final = df_final.withColumn(c, (F.when((F.col(c).startswith(\"M\")) ,\"M\")\n",
    "                                                                .when((F.col(c).startswith(\"F\")) ,\"F\")\n",
    "                                                                .when((F.col(c).startswith(\"I\")) ,\"I\")\n",
    "                                                                .when((F.col(c).startswith(\"S\")) ,\"S\")\n",
    "                                                                .when((F.col(c).startswith(\"T\")) ,\"T\")\n",
    "                                                                .otherwise(F.col(c))\n",
    "                                      )\n",
    "                                  )\n",
    "    df = df_final.filter((F.col(c).isNotNull()) & (F.col(c).isin(\"M\",\"F\",\"I\",\"S\",\"T\"))).select(F.col(c)).groupBy(F.col(c).alias(\"Issues_\")).agg(F.count(F.col(c)).cast('int').alias(c)).orderBy(F.col(c))\n",
    "    df = (df.withColumn(\"F\", (F.when((F.col(\"Issues_\").startswith(\"F\")), F.col(c)+0).otherwise(0)))\n",
    "            .withColumn(\"I\", (F.when((F.col(\"Issues_\").startswith(\"I\")), F.col(c)+0).otherwise(0)))\n",
    "            .withColumn(\"M\", (F.when((F.col(\"Issues_\").startswith(\"M\")), F.col(c)+0).otherwise(0)))\n",
    "            .withColumn(\"S\", (F.when((F.col(\"Issues_\").startswith(\"S\")), F.col(c)+0).otherwise(0)))\n",
    "            .withColumn(\"T\", (F.when((F.col(\"Issues_\").startswith(\"T\")), F.col(c)+0).otherwise(0)))\n",
    "            .withColumn(\"Var\", (F.when((F.col(\"Issues_\").isNotNull()), c)))\n",
    "         )\n",
    "    \n",
    "    df = df.select(\"Var\", \"F\", \"I\", \"M\", \"S\", \"T\")\n",
    "    \n",
    "    df_transposed = df_transposed.union(df)"
   ]
  },
  {
   "cell_type": "code",
   "execution_count": 22,
   "metadata": {},
   "outputs": [
    {
     "name": "stdout",
     "output_type": "stream",
     "text": [
      "+--------------------+----+---+----+---+----+\n",
      "|                 Var|   F|  I|   M|  S|   T|\n",
      "+--------------------+----+---+----+---+----+\n",
      "|qa_hour_minute_fl...|   0|  1|   0|  0|   0|\n",
      "|qa_hour_minute_fl...|   0|  0|  48|  0|   0|\n",
      "|qa_dep_arr_time_f...|   0|  0|  55|  0|   0|\n",
      "|qa_dep_arr_time_f...| 241|  0|   0|  0|   0|\n",
      "|qa_dep_arr_delay_...|   0|  0|  75|  0|   0|\n",
      "|  qa_tailnum_flights|   0|  0|   0| 14|   0|\n",
      "|  qa_tailnum_flights| 989|  0|   0|  0|   0|\n",
      "|   qa_flight_flights|6158|  0|   0|  0|   0|\n",
      "| qa_air_time_flights|   0|  0|  75|  0|   0|\n",
      "|qa_distance_airti...|   0|  0|  75|  0|   0|\n",
      "|qa_distance_airti...|   0|  0|   0|  0|9925|\n",
      "|   qa_tailnum_planes| 552|  0|   0|  0|   0|\n",
      "|      qa_year_planes|   0|  8|   0|  0|   0|\n",
      "|      qa_year_planes|   0|  0|  94|  0|   0|\n",
      "|     qa_model_planes|   9|  0|   0|  0|   0|\n",
      "|     qa_speed_planes|   0|  0|9443|  0|   0|\n",
      "+--------------------+----+---+----+---+----+\n",
      "\n"
     ]
    }
   ],
   "source": [
    "df_transposed.show()"
   ]
  },
  {
   "cell_type": "markdown",
   "metadata": {},
   "source": [
    "## Pergunta 3"
   ]
  },
  {
   "cell_type": "code",
   "execution_count": 19,
   "metadata": {},
   "outputs": [
    {
     "name": "stdout",
     "output_type": "stream",
     "text": [
      "+---------------+-----+\n",
      "|            Var|Max_M|\n",
      "+---------------+-----+\n",
      "|qa_speed_planes| 9443|\n",
      "+---------------+-----+\n",
      "\n"
     ]
    }
   ],
   "source": [
    "(df_transposed.groupBy(\"Var\")\n",
    "              .agg(F.max('M').alias('Max_M'))\n",
    "              .agg(F.max(F.struct(F.col('Max_M'), F.col('Var'))).alias('Max_Var'))\n",
    "              .select('Max_Var.Var', 'Max_Var.Max_M').show())"
   ]
  },
  {
   "cell_type": "markdown",
   "metadata": {},
   "source": [
    "## Pergunta 4"
   ]
  },
  {
   "cell_type": "code",
   "execution_count": 20,
   "metadata": {},
   "outputs": [
    {
     "name": "stdout",
     "output_type": "stream",
     "text": [
      "+-----------------+-----+\n",
      "|              Var|Max_F|\n",
      "+-----------------+-----+\n",
      "|qa_flight_flights| 6158|\n",
      "+-----------------+-----+\n",
      "\n"
     ]
    }
   ],
   "source": [
    "(df_transposed.groupBy(\"Var\")\n",
    "              .agg(F.max('F').alias('Max_F'))\n",
    "              .agg(F.max(F.struct(F.col('Max_F'), F.col('Var'))).alias('Max_Var'))\n",
    "              .select('Max_Var.Var', 'Max_Var.Max_F').show())"
   ]
  },
  {
   "cell_type": "markdown",
   "metadata": {},
   "source": [
    "## Pergunta 5"
   ]
  },
  {
   "cell_type": "code",
   "execution_count": 21,
   "metadata": {},
   "outputs": [
    {
     "name": "stdout",
     "output_type": "stream",
     "text": [
      "+--------------+-----+\n",
      "|           Var|Max_I|\n",
      "+--------------+-----+\n",
      "|qa_year_planes|    8|\n",
      "+--------------+-----+\n",
      "\n"
     ]
    }
   ],
   "source": [
    "(df_transposed.groupBy(\"Var\")\n",
    "              .agg(F.max('I').alias('Max_I'))\n",
    "              .agg(F.max(F.struct(F.col('Max_I'), F.col('Var'))).alias('Max_Var'))\n",
    "              .select('Max_Var.Var', 'Max_Var.Max_I').show())"
   ]
  },
  {
   "cell_type": "code",
   "execution_count": null,
   "metadata": {},
   "outputs": [],
   "source": []
  }
 ],
 "metadata": {
  "kernelspec": {
   "display_name": "Python 3 (ipykernel)",
   "language": "python",
   "name": "python3"
  },
  "language_info": {
   "codemirror_mode": {
    "name": "ipython",
    "version": 3
   },
   "file_extension": ".py",
   "mimetype": "text/x-python",
   "name": "python",
   "nbconvert_exporter": "python",
   "pygments_lexer": "ipython3",
   "version": "3.9.7"
  }
 },
 "nbformat": 4,
 "nbformat_minor": 4
}
